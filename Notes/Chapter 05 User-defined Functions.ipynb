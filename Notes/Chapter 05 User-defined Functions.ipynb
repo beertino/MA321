{
 "cells": [
  {
   "cell_type": "markdown",
   "id": "cb6829be",
   "metadata": {},
   "source": [
    "# User-defined Functions"
   ]
  },
  {
   "cell_type": "markdown",
   "id": "96db2593",
   "metadata": {},
   "source": [
    "Besides those pre-defined functions or methods, we can define functions according to our need.\n",
    "* In Python, a user-defined function's declaration begins with the keyword **def** and followed by the function name.\n",
    "* The function *may* take **arguments(s)** for its **parameter(s)** as input within the opening and closing parentheses, just after the function name followed by a colon.\n",
    "* After defining the function name and arguments(s) a block of program statement(s) start at the next line and these statement(s) must be indented.\n",
    "* A function *may* have a **return value**."
   ]
  },
  {
   "cell_type": "markdown",
   "id": "aa585166",
   "metadata": {},
   "source": [
    "***Syntax***\n",
    "```python\n",
    "def function_name(argument1, argument2, ...):\n",
    "    statement1\n",
    "    statement2\n",
    "    ...\n",
    "```"
   ]
  },
  {
   "cell_type": "markdown",
   "id": "a095e51b",
   "metadata": {},
   "source": [
    "The following is a simple user define function **without any argument or return value**. Copy-paste and run the code:"
   ]
  },
  {
   "cell_type": "markdown",
   "id": "b04d4fe5",
   "metadata": {},
   "source": [
    "```python\n",
    "def simple_function():\n",
    "    print(\"This function does nothing!\")\n",
    "```"
   ]
  },
  {
   "cell_type": "code",
   "execution_count": 6,
   "id": "ad5c6a45",
   "metadata": {},
   "outputs": [
    {
     "name": "stdout",
     "output_type": "stream",
     "text": [
      "This function does nothing!\n"
     ]
    }
   ],
   "source": [
    "# test the code here\n",
    "def simple_function():\n",
    "    print(\"This function does nothing!\")\n",
    "\n",
    "simple_function()"
   ]
  },
  {
   "cell_type": "markdown",
   "id": "c28ede5a",
   "metadata": {},
   "source": [
    "You will not see any output after running the code because you have not **called** this function yet. To call it, copy-paste and run the code:\n",
    "```python\n",
    "simple_function()\n",
    "```"
   ]
  },
  {
   "cell_type": "code",
   "execution_count": 5,
   "id": "e973103c",
   "metadata": {},
   "outputs": [
    {
     "name": "stdout",
     "output_type": "stream",
     "text": [
      "This function does nothing!\n"
     ]
    }
   ],
   "source": [
    "# call the function here\n",
    "simple_function()"
   ]
  },
  {
   "cell_type": "markdown",
   "id": "786009d4",
   "metadata": {},
   "source": [
    "**Example 5.1 (*Function without argument or return value*)**\n",
    "\n",
    "Create a function `print_root2()` that output the value of $\\sqrt{2}$ , correct to 4 decimal places.\n",
    "\n",
    "Check whether your function works by calling it."
   ]
  },
  {
   "cell_type": "code",
   "execution_count": 8,
   "id": "1955ac35",
   "metadata": {},
   "outputs": [
    {
     "name": "stdout",
     "output_type": "stream",
     "text": [
      "The value of sqrt(2) is 1.4142\n"
     ]
    }
   ],
   "source": [
    "# Code here\n",
    "def print_root2():\n",
    "    print(f'The value of sqrt(2) is {round(2**0.5, 4)}')\n",
    "\n",
    "print_root2()"
   ]
  },
  {
   "cell_type": "markdown",
   "id": "0ca40f70",
   "metadata": {},
   "source": [
    "More often, we would like a function to take in some arguments (just like Mathematics) then act accordingly. Run the following code:\n",
    "```python\n",
    "def print_stars(n):\n",
    "    print(f\"I am printing {n} stars in a row.\")\n",
    "    print(\"*\" * n)\n",
    "```"
   ]
  },
  {
   "cell_type": "code",
   "execution_count": 11,
   "id": "26b86208",
   "metadata": {},
   "outputs": [
    {
     "name": "stdout",
     "output_type": "stream",
     "text": [
      "I am printing 10 stars in a row.\n",
      "**********\n"
     ]
    }
   ],
   "source": [
    "# test the code\n",
    "def print_stars(n):\n",
    "    print(f\"I am printing {n} stars in a row.\")\n",
    "    print(\"*\" * n)\n",
    "\n",
    "print_stars(10)"
   ]
  },
  {
   "cell_type": "markdown",
   "id": "a3df2233",
   "metadata": {},
   "source": [
    "To call this function, we must pass a value (argument) to the parameter `n`. We may call a function multiple times. Run the code:\n",
    "```python\n",
    "print_stars(5)\n",
    "\n",
    "a = 10\n",
    "print_stars(a)\n",
    "\n",
    "b = int(input(\"How many stars would you like to print?\")\n",
    "print_stars(b)\n",
    "\n",
    "print_stars()\n",
    "```"
   ]
  },
  {
   "cell_type": "code",
   "execution_count": 13,
   "id": "933bcc07",
   "metadata": {},
   "outputs": [
    {
     "name": "stdout",
     "output_type": "stream",
     "text": [
      "I am printing 5 stars in a row.\n",
      "*****\n",
      "I am printing 10 stars in a row.\n",
      "**********\n",
      "I am printing 8 stars in a row.\n",
      "********\n"
     ]
    },
    {
     "ename": "TypeError",
     "evalue": "print_stars() missing 1 required positional argument: 'n'",
     "output_type": "error",
     "traceback": [
      "\u001b[1;31m---------------------------------------------------------------------------\u001b[0m",
      "\u001b[1;31mTypeError\u001b[0m                                 Traceback (most recent call last)",
      "\u001b[1;32m<ipython-input-13-701b48e2940a>\u001b[0m in \u001b[0;36m<module>\u001b[1;34m()\u001b[0m\n\u001b[0;32m      8\u001b[0m \u001b[0mprint_stars\u001b[0m\u001b[1;33m(\u001b[0m\u001b[0mb\u001b[0m\u001b[1;33m)\u001b[0m\u001b[1;33m\u001b[0m\u001b[0m\n\u001b[0;32m      9\u001b[0m \u001b[1;33m\u001b[0m\u001b[0m\n\u001b[1;32m---> 10\u001b[1;33m \u001b[0mprint_stars\u001b[0m\u001b[1;33m(\u001b[0m\u001b[1;33m)\u001b[0m\u001b[1;33m\u001b[0m\u001b[0m\n\u001b[0m",
      "\u001b[1;31mTypeError\u001b[0m: print_stars() missing 1 required positional argument: 'n'"
     ]
    }
   ],
   "source": [
    "# test the code\n",
    "print_stars(5)\n",
    "\n",
    "a = 10\n",
    "print_stars(a)\n",
    "\n",
    "b = int(input(\"How many stars would you like to print?\"))\n",
    "print_stars(b)\n",
    "\n",
    "print_stars()"
   ]
  },
  {
   "cell_type": "markdown",
   "id": "75f58fc6",
   "metadata": {},
   "source": [
    "An error occurs when no value is passed to the parameter, unless we give a default value to the parameter in defining a function. Adjust the code as follows.\n",
    "```python\n",
    "def print_stars(n = 0):\n",
    "    print(f\"I am printing {n} stars in a row.\")\n",
    "    print(\"*\" * n)\n",
    "\n",
    "#main\n",
    "print_stars(3)\n",
    "\n",
    "print_stars()\n",
    "```"
   ]
  },
  {
   "cell_type": "code",
   "execution_count": 14,
   "id": "048fe492",
   "metadata": {},
   "outputs": [
    {
     "name": "stdout",
     "output_type": "stream",
     "text": [
      "I am printing 3 stars in a row.\n",
      "***\n",
      "I am printing 0 stars in a row.\n",
      "\n"
     ]
    }
   ],
   "source": [
    "# test the code\n",
    "def print_stars(n = 0):\n",
    "    print(f\"I am printing {n} stars in a row.\")\n",
    "    print(\"*\" * n)\n",
    "\n",
    "#main\n",
    "print_stars(3)\n",
    "\n",
    "print_stars()"
   ]
  },
  {
   "cell_type": "code",
   "execution_count": 17,
   "id": "3af7bd51",
   "metadata": {},
   "outputs": [
    {
     "name": "stdout",
     "output_type": "stream",
     "text": [
      "I am printing nothing\n"
     ]
    }
   ],
   "source": [
    "def print_string(s = 'nothing'):\n",
    "    print(f'I am printing {s}')\n",
    "\n",
    "print_string()"
   ]
  },
  {
   "cell_type": "markdown",
   "id": "36ce9830",
   "metadata": {},
   "source": [
    "**Example 5.2 (*Function with arguments*)**\n",
    "\n",
    "Create a function `print_matrix(char, n)` which takes in the value of two parameters `char` and `n`. This function should print the `char` in a `n`-by-`n` matrix.\n",
    "\n",
    "*Sample test 1:*\n",
    "```python\n",
    "print_matrix(\"X\", 4)\n",
    "```\n",
    "*Expected output 1:*\n",
    "```python\n",
    "XXXX\n",
    "XXXX\n",
    "XXXX\n",
    "XXXX\n",
    "```\n",
    "\n",
    "*Sample test 2:*\n",
    "```python\n",
    "print_matrix(\"?\", 2)\n",
    "```\n",
    "*Expected output 2:*\n",
    "```python\n",
    "??\n",
    "??\n",
    "```\n",
    "\n",
    "(Hint: adding a `\"\\n\"` where appropriate)"
   ]
  },
  {
   "cell_type": "code",
   "execution_count": 21,
   "id": "71d6a048",
   "metadata": {},
   "outputs": [
    {
     "name": "stdout",
     "output_type": "stream",
     "text": [
      "XXXX\n",
      "XXXX\n",
      "XXXX\n",
      "XXXX\n",
      "\n",
      "??\n",
      "??\n",
      "\n"
     ]
    }
   ],
   "source": [
    "# define the function\n",
    "def print_matrix(char, n):\n",
    "    print((char * n + '\\n')*n)\n",
    "\n",
    "# main with test cases\n",
    "print_matrix(\"X\", 4)\n",
    "print_matrix(\"?\", 2)"
   ]
  },
  {
   "cell_type": "markdown",
   "id": "ce482c2c",
   "metadata": {},
   "source": [
    "## Return Value"
   ]
  },
  {
   "cell_type": "markdown",
   "id": "c44e4897",
   "metadata": {},
   "source": [
    "In Python the **return** statement is used to return a value from a function, return statement without an expression argument returns ```None```."
   ]
  },
  {
   "cell_type": "markdown",
   "id": "5511e836",
   "metadata": {},
   "source": [
    "***Syntax***\n",
    "```python\n",
    "def function_name(argument1, argument2, ...) :\n",
    "    statement_1\n",
    "    statement_2\n",
    "    ....\n",
    "    return expression\n",
    "```"
   ]
  },
  {
   "cell_type": "markdown",
   "id": "7bac0166",
   "metadata": {},
   "source": [
    "For example, we can define a `greater()` function to take in two `floats` and **return** the greater one. Run the following code:\n",
    "```python\n",
    "def greater(a, b):\n",
    "    \n",
    "    return (a + b + abs(a - b)) / 2\n",
    "```"
   ]
  },
  {
   "cell_type": "code",
   "execution_count": 5,
   "id": "3d91dc71",
   "metadata": {},
   "outputs": [
    {
     "name": "stdout",
     "output_type": "stream",
     "text": [
      "10.0\n"
     ]
    }
   ],
   "source": [
    "# test the code\n",
    "def greater(a, b):\n",
    "    return (a + b + abs(a - b)) / 2\n",
    "\n",
    "print(greater(5,10))"
   ]
  },
  {
   "cell_type": "markdown",
   "id": "8311a898",
   "metadata": {},
   "source": [
    "Calling this function **does not print** the greater number, we should **assign the returned value to a variable**. Run the following code:\n",
    "```python\n",
    "x = greater(3.14, 2.72)\n",
    "print(x)\n",
    "\n",
    "y = greater(-1000, 999)\n",
    "print(y)\n",
    "\n",
    "print(greater(1, 2))\n",
    "```"
   ]
  },
  {
   "cell_type": "code",
   "execution_count": 7,
   "id": "768bae93",
   "metadata": {},
   "outputs": [
    {
     "name": "stdout",
     "output_type": "stream",
     "text": [
      "999.0\n",
      "2.0\n"
     ]
    }
   ],
   "source": [
    "x = greater(3.14, 2.72)\n",
    "# print(x)\n",
    "\n",
    "y = greater(-1000, 999)\n",
    "print(y)\n",
    "\n",
    "print(greater(1, 2))"
   ]
  },
  {
   "cell_type": "markdown",
   "id": "95cfec19",
   "metadata": {},
   "source": [
    "**Example 5.3 (*Function with return value*)**\n",
    "\n",
    "Create a function `rectangle_area(length, breadth)`, which takes in the `length` and `breadth` of a rectangle as `floats` and **returns** its area.\n",
    "\n",
    "*Sample test 1:*\n",
    "```python\n",
    "area_1 = rectangle_area(10.4, 6.25)\n",
    "print(area_1)\n",
    "```\n",
    "*Expected output 1:*\n",
    "```\n",
    "65.0\n",
    "```\n",
    "\n",
    "*Sample test 2:*\n",
    "```python\n",
    "l = 10\n",
    "b = 6\n",
    "print(f\"The area of a {l} by {b} rectangle is {rectangle_area(l, b)}.\")\n",
    "\n",
    "```\n",
    "*Expected output 2:*\n",
    "```\n",
    "The area of a 10 by 6 rectangle is 60.\n",
    "```"
   ]
  },
  {
   "cell_type": "code",
   "execution_count": 13,
   "id": "a57f3882",
   "metadata": {},
   "outputs": [
    {
     "name": "stdout",
     "output_type": "stream",
     "text": [
      "65.0\n",
      "The area of a 10 by 6 rectangle is 60.\n"
     ]
    }
   ],
   "source": [
    "# define the function\n",
    "def rectangle_area(length, breath):\n",
    "    area = length*breath\n",
    "    return area\n",
    "\n",
    "\n",
    "# main with test cases\n",
    "area_1 = rectangle_area(10.4, 6.25)\n",
    "print(area_1)\n",
    "\n",
    "l = 10\n",
    "b = 6\n",
    "print(f\"The area of a {l} by {b} rectangle is {rectangle_area(l, b)}.\")"
   ]
  },
  {
   "cell_type": "markdown",
   "id": "73727489",
   "metadata": {},
   "source": [
    "A function may return multiple values as a `tuple`. Run the following code:\n",
    "```python\n",
    "import math\n",
    "\n",
    "def circle_calculations(r):\n",
    "\n",
    "    d = r * 2\n",
    "    c = 2 * math.pi * r\n",
    "    a = math.pi * r * r\n",
    "    return d, c, a\n",
    "\n",
    "\n",
    "radius = 3\n",
    "diameter, circumference, area = circle_calculations(radius)\n",
    "print(f\"The cirlce with radius {radius} has diameter {diameter}, circumference {circumference:.2f} and area {area:.2f}.\")\n",
    "```"
   ]
  },
  {
   "cell_type": "code",
   "execution_count": 12,
   "id": "bd1d727e",
   "metadata": {},
   "outputs": [
    {
     "name": "stdout",
     "output_type": "stream",
     "text": [
      "The cirlce with radius 3 has diameter 6, circumference 18.85 and area 28.27.\n"
     ]
    }
   ],
   "source": [
    "# test the code\n",
    "import math\n",
    "\n",
    "def circle_calculations(r):\n",
    "\n",
    "    d = r * 2\n",
    "    c = 2 * math.pi * r\n",
    "    a = math.pi * r * r\n",
    "    return d, c, a\n",
    "\n",
    "\n",
    "radius = 3\n",
    "diameter, circumference, area = circle_calculations(radius)\n",
    "print(f\"The cirlce with radius {radius} has diameter {diameter}, circumference {circumference:.2f} and area {area:.2f}.\")"
   ]
  },
  {
   "cell_type": "markdown",
   "id": "7d3bb78a",
   "metadata": {},
   "source": [
    "**Note:**\n",
    "\n",
    "Statements after the `return` statement will NOT be executed. Run the following code:\n",
    "```python\n",
    "def too_late():\n",
    "    \n",
    "    print(\"I have a test tomorrow.\")\n",
    "    return \"I am going to fail it!\"\n",
    "    print(\"If I work hard tonight,\")\n",
    "    return \"I will pass it!\"\n",
    "\n",
    "message = too_late()\n",
    "print(message)\n",
    "```"
   ]
  },
  {
   "cell_type": "code",
   "execution_count": 9,
   "id": "c4f91167",
   "metadata": {},
   "outputs": [
    {
     "name": "stdout",
     "output_type": "stream",
     "text": [
      "I have a test tomorrow.\n",
      "I am going to fail it!\n"
     ]
    }
   ],
   "source": [
    "# test the code\n",
    "def too_late():\n",
    "    \n",
    "    print(\"I have a test tomorrow.\")\n",
    "    return \"I am going to fail it!\"\n",
    "    print(\"If I work hard tonight,\")\n",
    "    return \"I will pass it!\"\n",
    "\n",
    "message = too_late()\n",
    "print(message)"
   ]
  },
  {
   "cell_type": "markdown",
   "id": "a10fb824",
   "metadata": {},
   "source": [
    "## Call a Function in Another Function"
   ]
  },
  {
   "cell_type": "markdown",
   "id": "34e84b6e",
   "metadata": {},
   "source": [
    "The following function `greatest()` **returns** the greatest number of the 3 `floats` arguments. Run the code below and explain why it works. *Make sure you have run the code cell for defining the funection `greater()` prior to testing the code.*\n",
    "```python\n",
    "def greatest(x, y, z):\n",
    "    \n",
    "    g = greater(x, y)\n",
    "    return greater(g, z)\n",
    "\n",
    "print(greatest(6, 10, 9))\n",
    "```"
   ]
  },
  {
   "cell_type": "code",
   "execution_count": 10,
   "id": "8179f4a0",
   "metadata": {},
   "outputs": [
    {
     "name": "stdout",
     "output_type": "stream",
     "text": [
      "10.0\n"
     ]
    }
   ],
   "source": [
    "# test the code\n",
    "def greatest(x, y, z):\n",
    "    \n",
    "    g = greater(x, y)\n",
    "    return greater(g, z)\n",
    "\n",
    "print(greatest(6, 10, 9))"
   ]
  },
  {
   "cell_type": "markdown",
   "id": "278a4100",
   "metadata": {},
   "source": [
    "**Example 5.4 (*Call in function in another function*)**\n",
    "\n",
    "Make use the functions `rectangle_area()` defined in **Example 3.3** and `circle_calculations()` to create a function `cylinder_area(radius, height)`  which takes in the `radius` and `height` of a solid cylinder as `floats` and **returns** its total surface area.\n",
    "\n",
    "*Sample test:*\n",
    "```python\n",
    "print(cylinder_area(3, 5))\n",
    "```\n",
    "*Expected output:*\n",
    "```\n",
    "150.79644737231007\n",
    "```"
   ]
  },
  {
   "cell_type": "code",
   "execution_count": 15,
   "id": "3fe04a15",
   "metadata": {},
   "outputs": [
    {
     "name": "stdout",
     "output_type": "stream",
     "text": [
      "150.79644737231007\n"
     ]
    }
   ],
   "source": [
    "# define the function\n",
    "def cylinder_area(radius, height):\n",
    "    diameter, circumference, area_of_circle = circle_calculations(radius)\n",
    "    curved_surface_area = rectangle_area(height, circumference)\n",
    "    surface_area = curved_surface_area + area_of_circle * 2\n",
    "    return surface_area\n",
    "\n",
    "# main with test case\n",
    "print(cylinder_area(3, 5))"
   ]
  },
  {
   "cell_type": "markdown",
   "id": "350dc871",
   "metadata": {},
   "source": [
    "# Local Variables and Global Variables"
   ]
  },
  {
   "cell_type": "markdown",
   "id": "bd3441ee",
   "metadata": {},
   "source": [
    "In Python,\n",
    "\n",
    "1.   A variable declared outside of the function is **global**.\n",
    "2.   A variable that is *only referenced* inside a function are implicitly **global**.\n",
    "3.   A variable is *assigned* a value *anywhere within* the function’s body, it’s assumed to be a **local** unless *explicitly declared* as **global**.\n",
    "\n",
    "Let us try out some examples! (I know the statements can be challenging to understand).\n",
    "\n",
    "***Try to predict the output before running each block of code.***"
   ]
  },
  {
   "cell_type": "markdown",
   "id": "0f2ea497",
   "metadata": {},
   "source": [
    "**[block 1]**\n",
    "```python\n",
    "def func1():\n",
    "    y = x * 2 \n",
    "    print(\"Inside the function x =\", x) \n",
    "    print(\"Inside the function y =\", y)\n",
    "\n",
    "x = 4\n",
    "y = 5\n",
    "func1()\n",
    "print(\"Outside the function x =\", x)\n",
    "print(\"Outside the function y =\", y) \n",
    "```"
   ]
  },
  {
   "cell_type": "code",
   "execution_count": 21,
   "id": "e2f809aa",
   "metadata": {},
   "outputs": [
    {
     "name": "stdout",
     "output_type": "stream",
     "text": [
      "Inside the function x = 4\n",
      "Inside the function y = 8\n",
      "Outside the function x = 4\n",
      "Outside the function y = 5\n"
     ]
    }
   ],
   "source": [
    "# test the code\n",
    "def func1():\n",
    "    # x:  A variable that is *only referenced* inside a function are implicitly **global**.\n",
    "    # y:  A variable is *assigned* a value *anywhere within* the function’s body, it’s assumed to be a **local** unless *explicitly declared* as **global**.\n",
    "    y = x * 2 \n",
    "    print(\"Inside the function x =\", x) \n",
    "    print(\"Inside the function y =\", y)\n",
    "\n",
    "# A variable declared outside of the function is **global**.\n",
    "x = 4\n",
    "y = 5\n",
    "func1()\n",
    "print(\"Outside the function x =\", x)\n",
    "print(\"Outside the function y =\", y) "
   ]
  },
  {
   "cell_type": "markdown",
   "id": "e697b1eb",
   "metadata": {},
   "source": [
    "**Explanation for [block 1]**\n",
    "```python\n",
    "def func1():\n",
    "    y = x * 2 \n",
    "    # In this line, x is only being referenced, y is being assigned with a value. \n",
    "    # So the global x is still 4, y is 8 but it is a local variable working inside this function only.\n",
    "    print(\"Inside the function x =\", y) \n",
    "    print(\"Inside the function y =\", y)\n",
    "\n",
    "x = 4 # x is a global variable\n",
    "y = 5 # y is a global variable\n",
    "func1()\n",
    "print(\"Outside the function x =\", x)\n",
    "print(\"Outside the function y =\", y) \n",
    "```"
   ]
  },
  {
   "cell_type": "markdown",
   "id": "d6056e21",
   "metadata": {},
   "source": [
    "**[block 2]**\n",
    "```python\n",
    "def func2():\n",
    "    print(\"Inside the function, first x =\", x)\n",
    "    x = 5\n",
    "    print(\"Inside the function, second x =\", x)\n",
    "    \n",
    "x = 4\n",
    "func2()\n",
    "print(\"Outside the function x =\", x)\n",
    "```"
   ]
  },
  {
   "cell_type": "code",
   "execution_count": 25,
   "id": "f9ac1c14",
   "metadata": {},
   "outputs": [
    {
     "name": "stdout",
     "output_type": "stream",
     "text": [
      "Inside the function, first x = 4\n",
      "Inside the function, second x = 4\n",
      "Outside the function x = 4\n"
     ]
    }
   ],
   "source": [
    "# test the code\n",
    "def func2():\n",
    "    # y = x + 2\n",
    "    # print(y)\n",
    "    print(\"Inside the function, first x =\", x)\n",
    "    # x = 5\n",
    "    print(\"Inside the function, second x =\", x)\n",
    "    \n",
    "x = 4\n",
    "func2()\n",
    "print(\"Outside the function x =\", x)"
   ]
  },
  {
   "cell_type": "markdown",
   "id": "70e4761c",
   "metadata": {},
   "source": [
    "Running **[block 2]** results in an error:\n",
    "\n",
    "Referring to Point 3, since there is an assignment to `x` (though only at a later part of the code) inside the function, `x` inside `func2()` becomes a local variable, so it does not have a value yet when the first `print` line is executed. The error can be resolved if `x = 5` is brought forward before the first `print` line."
   ]
  },
  {
   "cell_type": "markdown",
   "id": "0e25a78c",
   "metadata": {},
   "source": [
    "**[block 3]**\n",
    "```python\n",
    "def func3(x):\n",
    "    a = 5\n",
    "    print(\"Inside the function, x =\", x)\n",
    "    print(\"Inside the function, a =\", a)\n",
    "\n",
    "x = 3\n",
    "a = 0 \n",
    "func3(a)\n",
    "print(\"Outside the function, x =\", x)\n",
    "print(\"Outside the function, a =\", a)\n",
    "```"
   ]
  },
  {
   "cell_type": "code",
   "execution_count": 26,
   "id": "9b99b9c3",
   "metadata": {},
   "outputs": [
    {
     "name": "stdout",
     "output_type": "stream",
     "text": [
      "Inside the function, x = 0\n",
      "Inside the function, a = 5\n",
      "Outside the function, x = 3\n",
      "Outside the function, a = 0\n"
     ]
    }
   ],
   "source": [
    "# test the code\n",
    "def func3(x):\n",
    "    a = 5\n",
    "    print(\"Inside the function, x =\", x)\n",
    "    print(\"Inside the function, a =\", a)\n",
    "\n",
    "x = 3\n",
    "a = 0 \n",
    "func3(a)\n",
    "print(\"Outside the function, x =\", x)\n",
    "print(\"Outside the function, a =\", a)"
   ]
  },
  {
   "cell_type": "markdown",
   "id": "f743f056",
   "metadata": {},
   "source": [
    "**Explanation for [block 3]**\n",
    "```python\n",
    "def func3(x): #x in func3 () is a local variable as x is assigned with the value 0\n",
    "    a = 5 #a in func3() is a local variable\n",
    "    print(\"Inside the function, x =\", x) #printing the local x\n",
    "    print(\"Inside the function, a =\", a) #printing the local a\n",
    "\n",
    "x = 3 # this x is a global variable\n",
    "a = 0 # this a is a global variable\n",
    "func3(a) # the function is taking in 0, the value of a\n",
    "print(\"Outside the function, x =\", x) #not affected by the local x inside func3()\n",
    "print(\"Outside the function, a =\", a) #not affected by the local a inside func3()\n",
    "```"
   ]
  },
  {
   "cell_type": "markdown",
   "id": "78d0a330",
   "metadata": {},
   "source": [
    "**Example 5.5 (*Local/Global variables*)**\n",
    "\n",
    "Write down the output of the following code without running it."
   ]
  },
  {
   "cell_type": "markdown",
   "id": "0f57d28a",
   "metadata": {},
   "source": [
    "```python\n",
    "def func4(x):\n",
    "    print(x)\n",
    "    return func5(x + 1)\n",
    "\n",
    "def func5(x):\n",
    "    x = x + 1\n",
    "    print(x)\n",
    "    return x\n",
    "\n",
    "x = 0\n",
    "x = func5(x)\n",
    "print(x)\n",
    "x = func4(x)\n",
    "print(x)\n",
    "```"
   ]
  },
  {
   "cell_type": "markdown",
   "id": "75591236",
   "metadata": {},
   "source": [
    "Run the code below to view a visual explanation for this example."
   ]
  },
  {
   "cell_type": "code",
   "execution_count": 3,
   "id": "b66de595",
   "metadata": {},
   "outputs": [
    {
     "data": {
      "image/jpeg": "[encoded data removed]",
      "text/html": [
       "\n",
       "        <iframe\n",
       "            width=\"600\"\n",
       "            height=\"450\"\n",
       "            src=\"https://www.youtube.com/embed/hWcavoVERZo\"\n",
       "            frameborder=\"0\"\n",
       "            allowfullscreen\n",
       "        ></iframe>\n",
       "        "
      ],
      "text/plain": [
       "<IPython.lib.display.YouTubeVideo at 0x2ab98d7fbe0>"
      ]
     },
     "metadata": {},
     "output_type": "display_data"
    }
   ],
   "source": [
    "from IPython.lib.display import YouTubeVideo\n",
    "vid = YouTubeVideo('hWcavoVERZo', width = 600, height =450)\n",
    "display(vid)"
   ]
  },
  {
   "cell_type": "markdown",
   "id": "8febfd32",
   "metadata": {},
   "source": [
    "**[block 4]**\n",
    "```python\n",
    "def funcg():\n",
    "    global y\n",
    "    x = 1\n",
    "    y = 1\n",
    "    return\n",
    "\n",
    "x = 0\n",
    "y = 0\n",
    "funcg()\n",
    "print(\"x = \", x)\n",
    "print(\"y = \", y)\n",
    "```"
   ]
  },
  {
   "cell_type": "code",
   "execution_count": 27,
   "id": "5e204f79",
   "metadata": {},
   "outputs": [
    {
     "name": "stdout",
     "output_type": "stream",
     "text": [
      "x =  0\n",
      "y =  1\n"
     ]
    }
   ],
   "source": [
    "# test the code\n",
    "def funcg():\n",
    "    global y\n",
    "    x = 1\n",
    "    y = 1\n",
    "    return\n",
    "\n",
    "x = 0\n",
    "y = 0 # this is the y-value before calling funcg\n",
    "funcg() # inside this function, global y is assigned 1. y=1 after this line.\n",
    "print(\"x = \", x)\n",
    "print(\"y = \", y)"
   ]
  },
  {
   "cell_type": "markdown",
   "id": "bf77d268",
   "metadata": {},
   "source": [
    "In **[block 4]**, `global y` specifies that `y` in `funcg()` is referring to the global variable `y`. Therefore the value of the global `y` is changed inside the function."
   ]
  },
  {
   "cell_type": "markdown",
   "id": "b00780ef",
   "metadata": {},
   "source": [
    "<p><img alt=\"Python Cartoon\" src=\"https://drive.google.com/uc?id=17qx7WNiRa-JOtgCgHWPtDZ7RkmwaaUDu\" width = \"100\" align=\"left\" vspace=\"0px\"></p>\n",
    "\n",
    "# *Go to Assignment 05*"
   ]
  },
  {
   "cell_type": "markdown",
   "id": "241214e4",
   "metadata": {},
   "source": [
    "***\n",
    "</br>\n",
    "</br>\n",
    "</br>\n",
    "</br>\n",
    "</br>\n",
    "</br>\n",
    "</br>\n",
    "</br>\n",
    "</br>\n",
    "</br>\n",
    "</br>\n",
    "</br>\n",
    "</br>\n",
    "</br>\n",
    "</br>\n",
    "</br>\n",
    "</br>\n",
    "</br>\n",
    "</br>\n",
    "</br>\n",
    "</br>\n",
    "</br>\n",
    "</br>\n",
    "</br>\n",
    "</br>\n",
    "</br>\n",
    "</br>\n",
    "</br>\n",
    "</br>\n",
    "</br>\n",
    "</br>\n",
    "</br>\n",
    "</br>\n",
    "</br>\n",
    "</br>\n",
    "</br>\n",
    "</br>\n",
    "</br>\n",
    "</br>\n",
    "</br>\n",
    "</br>\n",
    "</br>\n",
    "</br>\n",
    "</br>\n",
    "</br>\n",
    "</br>\n",
    "</br>\n",
    "</br>\n",
    "</br>\n",
    "</br>\n",
    "</br>\n",
    "</br>\n",
    "</br>\n",
    "</br>\n",
    "</br>\n",
    "</br>\n",
    "</br>\n",
    "</br>\n",
    "</br>\n",
    "</br>\n",
    "</br>\n",
    "</br>\n",
    "</br>\n",
    "</br>"
   ]
  },
  {
   "cell_type": "markdown",
   "id": "53a1fdcf",
   "metadata": {},
   "source": [
    "# Solutions to Examples"
   ]
  },
  {
   "cell_type": "markdown",
   "id": "cac18d0f",
   "metadata": {},
   "source": [
    "**Example 5.1 Solution**"
   ]
  },
  {
   "cell_type": "code",
   "execution_count": null,
   "id": "6e381e19",
   "metadata": {},
   "outputs": [],
   "source": [
    "def print_root2():\n",
    "    print(round(2 ** 0.5, 4))\n",
    "\n",
    "# main\n",
    "print_root2()"
   ]
  },
  {
   "cell_type": "markdown",
   "id": "5d3cf0f3",
   "metadata": {},
   "source": [
    "**Example 5.2 Solution**"
   ]
  },
  {
   "cell_type": "code",
   "execution_count": null,
   "id": "0612ea33",
   "metadata": {},
   "outputs": [],
   "source": [
    "def print_matrix(char, n):\n",
    "    \n",
    "    print((char * n + \"\\n\") * n)\n",
    "\n",
    "# main\n",
    "print_matrix(\"X\", 4)\n",
    "print_matrix(\"?\", 2)"
   ]
  },
  {
   "cell_type": "markdown",
   "id": "dd8bc3f2",
   "metadata": {},
   "source": [
    "**Example 5.3 Solution**"
   ]
  },
  {
   "cell_type": "code",
   "execution_count": null,
   "id": "7382e3eb",
   "metadata": {},
   "outputs": [],
   "source": [
    "def rectangle_area(length, breadth):\n",
    "    \n",
    "    return length * breadth\n",
    "\n",
    "# main\n",
    "area_1 = rectangle_area(10.4, 6.25)\n",
    "print(area_1)\n",
    "\n",
    "l = 10\n",
    "b = 6\n",
    "print(f\"The area of a {l} by {b} rectangle is {rectangle_area(l, b)}.\")"
   ]
  },
  {
   "cell_type": "markdown",
   "id": "6c0b6d40",
   "metadata": {},
   "source": [
    "**Example 5.4 Solution**"
   ]
  },
  {
   "cell_type": "code",
   "execution_count": null,
   "id": "68a6be6b",
   "metadata": {},
   "outputs": [],
   "source": [
    "def cylinder_area(radius, height):\n",
    "    \n",
    "    diameter, circumference, area = circle_calculations(radius)\n",
    "    return 2 * area + rectangle_area(circumference, height)\n",
    "\n",
    "# main\n",
    "print(cylinder_area(3, 5))"
   ]
  },
  {
   "cell_type": "markdown",
   "id": "5ca725f0",
   "metadata": {},
   "source": [
    "**Example 5.5 Solution**"
   ]
  },
  {
   "cell_type": "markdown",
   "id": "3d7cd70a",
   "metadata": {},
   "source": [
    "```\n",
    "1\n",
    "1\n",
    "1\n",
    "3\n",
    "3\n",
    "```"
   ]
  }
 ],
 "metadata": {
  "kernelspec": {
   "display_name": "Python 3 (ipykernel)",
   "language": "python",
   "name": "python3"
  },
  "language_info": {
   "codemirror_mode": {
    "name": "ipython",
    "version": 3
   },
   "file_extension": ".py",
   "mimetype": "text/x-python",
   "name": "python",
   "nbconvert_exporter": "python",
   "pygments_lexer": "ipython3",
   "version": "3.6.4"
  }
 },
 "nbformat": 4,
 "nbformat_minor": 5
}
