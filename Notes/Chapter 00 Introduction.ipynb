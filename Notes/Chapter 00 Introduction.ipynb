{
 "cells": [
  {
   "cell_type": "markdown",
   "id": "894d81c9",
   "metadata": {},
   "source": [
    "# Introduction to the Module"
   ]
  },
  {
   "cell_type": "markdown",
   "id": "285f4058",
   "metadata": {},
   "source": [
    "**Module Name:  Enrichment Mathematics** (official name to be printed on your progress report)\n",
    "\n",
    "**Module Duration:  1.5 years** (JH3 Semester 1 and 2 + JH4 Semester 1)\n",
    "\n",
    "**Module Code:  MA321** (JH3) and **MA421** (JH4)\n",
    "\n",
    "**Module Grading:  DI (distinction) / ME (merit) / PA (pass) / U (ungraded)**\n",
    "\n",
    "**Module Objective:**  The module is designed to develop students' problem-solving and computational thinking skills through programming.\n",
    "\n",
    "**Module Learning Outcome:**\n",
    "\n",
    "At the end of the 1.5-year module, students should be able to\n",
    "- write code in Python to solve relevant problems in mathematics or in real-world context,\n",
    "- design games with simple AI.\n",
    "\n",
    "**MA321 Topics and Assessments:**\n",
    "| **Term 1**                       | **Term 2**                 | **Term 3**               | **Term 4**         |\n",
    "| :-                               | :-                         | :-                       | :-                 |\n",
    "|- Introduction                   | - Flow-control: WHILE Loop | - **Project Submission** | - AI formulation   |    \n",
    "|- Integer and Integer Operations  | - String and FOR Loop      | - *CT Competition (DrCT)*| **Quiz 4 (25%)**   |\n",
    "|- Input and Output                | - List                     | - **Quiz 2 (25%)**       |                    \n",
    "|- Float and Float Operations      |                            | - AI formulation         |                    \n",
    "|- Libraries and Built-in Functions|                                 \n",
    "|- User-defined Functions          |\n",
    "|- Boolean and Boolean Operations  |\n",
    "|- Flow-control: IF Statement      |\n",
    "|- **Quiz 1 (25%)**                |\n",
    "| - **Project Dissemination (25%)**|\n",
    "\n",
    "**Materials**\n",
    "- Chapter notes - to be filled up during the lesson\n",
    "- Assignment - to be completed during the lesson and to be submitted on time\n",
    "- Assignment solutions - to be used for self-marking\n",
    "\n",
    "**Expectation on Students:**\n",
    "- Students should take the initative to set up the computer, download and open the materials at the start of each lesson.\n",
    "- Students are strongly encouraged to further extend their learning beyond the module materials.\n",
    "- Students are strongly encouraged to take part in enrichment opportunities in programming."
   ]
  },
  {
   "cell_type": "markdown",
   "id": "ebef05aa",
   "metadata": {},
   "source": [
    "# Introduction to Python"
   ]
  },
  {
   "cell_type": "markdown",
   "id": "f1d29517",
   "metadata": {},
   "source": [
    "<p><img alt=\"Python\" src=\"https://www.python.org/static/community_logos/python-logo-master-v3-TM.png\" width = \"500\" align=\"left\"></p>\n",
    "<p><img alt=\"Python Cartoon\" src=\"https://drive.google.com/uc?id=17qx7WNiRa-JOtgCgHWPtDZ7RkmwaaUDu\" width = \"150\" align=\"right\"></p>"
   ]
  },
  {
   "cell_type": "markdown",
   "id": "81a4250f",
   "metadata": {},
   "source": [
    "Python is an interpreted, high-level and general-purpose programming language. Created by Guido van Rossum and first released in 1991, Python's design philosophy emphasizes code readability with its notable use of significant whitespace. Its language constructs and object-oriented approach aim to help programmers write clear, logical code for small and large-scale projects.\n",
    "\n",
    "Official Website: https://www.python.org"
   ]
  },
  {
   "cell_type": "markdown",
   "id": "0ef3fdf8",
   "metadata": {},
   "source": [
    " **Interpreter**                        | **Compiler**                    \n",
    " :-                                     | :-                              \n",
    " Translates program one statement at a time. |Scans the entire program and translates it as a whole into machine code.\n",
    " Interpreters usually take less amount of time to analyze the source code. However, the overall execution time is comparatively slower than compilers.\t| Compilers usually take a large amount of time to analyze the source code. However, the overall execution time is comparatively faster than interpreters.\n",
    " No Object Code is generated, hence are memory efficient.| Generates Object Code which further requires linking, hence requires more memory.\n",
    " Programming languages like JavaScript, Python, Ruby use interpreters.\t| Programming languages like C, C++, Java use compilers."
   ]
  },
  {
   "cell_type": "markdown",
   "id": "ac8b235b",
   "metadata": {},
   "source": [
    "# Introduction to Jupyter"
   ]
  },
  {
   "cell_type": "markdown",
   "id": "a6c90991",
   "metadata": {},
   "source": [
    "The Jupyter Notebook is an open-source web application that allows you to create and share documents that contain live code, equations, visualizations and narrative text. It supports over 40 programming languages, including Python, R, Julia, and Scala."
   ]
  },
  {
   "cell_type": "markdown",
   "id": "d1bac8f5",
   "metadata": {},
   "source": [
    "The **notebook** you are reading is not a static web page, but an interactive environment that lets you write and execute code. For example, here is a **code cell** with a short Python script that computes a value, stores it in a variable, and prints the result. A code cell has \"In [ ]: in front\".\n",
    "\n",
    "Select the cell and press **Run** (or shortcut key Ctrl+Enter)."
   ]
  },
  {
   "cell_type": "code",
   "execution_count": null,
   "id": "5fc98810",
   "metadata": {
    "scrolled": true
   },
   "outputs": [],
   "source": [
    "seconds_in_a_day = 24 * 60 * 60\n",
    "print(seconds_in_a_day)"
   ]
  },
  {
   "cell_type": "markdown",
   "id": "5e887785",
   "metadata": {},
   "source": [
    "Cells used to store and display texts, tables, images and videos are called **markdown cells**. To convert a code cell to a markdown cell, select the cell the choose **Markdown** in the drop-down menu (or shortcut key Fn + M). To learn more shortcut keys, open the command palette next to the drop-down menu."
   ]
  },
  {
   "cell_type": "markdown",
   "id": "f92e38be",
   "metadata": {},
   "source": [
    "**Example 0.1**\n",
    "\n",
    "Convert the following markdown cell to a code cell, then run it."
   ]
  },
  {
   "cell_type": "markdown",
   "id": "2854c199",
   "metadata": {},
   "source": [
    "seconds_in_a_week = 7 * seconds_in_a_day\n",
    "print(seconds_in_a_day)\n",
    "print(seconds_in_a_week)\n",
    "print(\"Mr Wang says that it is too early to teach this concept.\")"
   ]
  },
  {
   "cell_type": "markdown",
   "id": "0cde7b47",
   "metadata": {},
   "source": [
    "In this example, we can use `seconds_in_a_day` from a previous cell.\n",
    "\n",
    "The `print()` function prints the specified message to the screen, or other standard output device."
   ]
  },
  {
   "cell_type": "markdown",
   "id": "8ce1cf00",
   "metadata": {},
   "source": [
    "**Example 0.2**\n",
    "\n",
    "Convert the following code cell to a markdown cell, then run it."
   ]
  },
  {
   "cell_type": "code",
   "execution_count": null,
   "id": "7387ebc3",
   "metadata": {},
   "outputs": [],
   "source": [
    "Below is an *introductory* video to the use of **markdown** cells in Jupyter.\n",
    "\n",
    "Here is the link to the video [Introduction to Markdown in Jupyter](https://www.youtube.com/watch?v=jBCB23pQeIA)"
   ]
  },
  {
   "cell_type": "markdown",
   "id": "d65de896",
   "metadata": {},
   "source": [
    "You might encounter an error message sometimes (quite often in fact) when you accidentally enter invalid statements or key in the wrong syntax etc."
   ]
  },
  {
   "cell_type": "markdown",
   "id": "38bb079e",
   "metadata": {},
   "source": [
    "**Example 0.3**\n",
    "\n",
    "Run each of the coding cells below and read the error messages."
   ]
  },
  {
   "cell_type": "code",
   "execution_count": null,
   "id": "1823a47c",
   "metadata": {},
   "outputs": [],
   "source": [
    "# Error Code 1\n",
    "2 / 0"
   ]
  },
  {
   "cell_type": "code",
   "execution_count": null,
   "id": "75c4d9b5",
   "metadata": {},
   "outputs": [],
   "source": [
    "# Error Code 2\n",
    "print(x)\n",
    "x = 2"
   ]
  },
  {
   "cell_type": "code",
   "execution_count": null,
   "id": "13b85e3d",
   "metadata": {},
   "outputs": [],
   "source": [
    "# Error Code 3\n",
    "2 = 2"
   ]
  },
  {
   "cell_type": "markdown",
   "id": "a7deee46",
   "metadata": {},
   "source": [
    "# Get Started - Python Identifiers, Variables and Keywords"
   ]
  },
  {
   "cell_type": "markdown",
   "id": "80b33089",
   "metadata": {},
   "source": [
    "Python Identifiers are user-defined names to represent a **variable**, **function**, **class**, **module** or any other object.\n",
    "\n",
    "A **variable** represents an entity which holds a **value**.\n",
    "* Variables in python **do not** require **declaration** (unlike other languages like C++).\n",
    "* Variables must be **initialised** (i.e. assigned with a value) before use."
   ]
  },
  {
   "cell_type": "markdown",
   "id": "c9b76e87",
   "metadata": {},
   "source": [
    "## Assignment Statement"
   ]
  },
  {
   "cell_type": "markdown",
   "id": "7cba995a",
   "metadata": {},
   "source": [
    "In computer programming, an **assignment statement** sets and/or re-sets the **value** stored in the storage location(s) denoted by a **variable** name; in other words, it copies a **value** into the **variable**.\n",
    "\n",
    "An assignment statement in python has the *syntax* of **variable** = **expression** for assigning the value of the right-hand-side to left-hand-side."
   ]
  },
  {
   "cell_type": "markdown",
   "id": "5a1061b3",
   "metadata": {},
   "source": [
    "**Example 0.4**\n",
    "\n",
    "Run the code cell below."
   ]
  },
  {
   "cell_type": "code",
   "execution_count": 1,
   "id": "f5cda116",
   "metadata": {},
   "outputs": [
    {
     "name": "stdout",
     "output_type": "stream",
     "text": [
      "2 - 3 = -1\n"
     ]
    }
   ],
   "source": [
    "a = 2\n",
    "m = '-'\n",
    "b = 3\n",
    "e = '='\n",
    "result = a - b\n",
    "print(a , m , b , e , result)"
   ]
  },
  {
   "cell_type": "markdown",
   "id": "77380697",
   "metadata": {},
   "source": [
    "**Example 0.5**\n",
    "\n",
    "Run each of the code cells below."
   ]
  },
  {
   "cell_type": "code",
   "execution_count": null,
   "id": "609c1d39",
   "metadata": {},
   "outputs": [],
   "source": [
    "x = 2\n",
    "print(x)\n",
    "\n",
    "x = x + 1\n",
    "print(x)"
   ]
  },
  {
   "cell_type": "code",
   "execution_count": null,
   "id": "6eb0bf78",
   "metadata": {},
   "outputs": [],
   "source": [
    "teacher1 = \"Mr Tan\"\n",
    "teacher2 = \"Mr Kwek\"\n",
    "\n",
    "teacher1 = teacher2\n",
    "teacher2 = teacher1\n",
    "\n",
    "print(teacher1)\n",
    "print(teacher2)"
   ]
  },
  {
   "cell_type": "markdown",
   "id": "7f796815",
   "metadata": {},
   "source": [
    "Values stored in variables are reset in **Example 0.5**.\n"
   ]
  },
  {
   "cell_type": "markdown",
   "id": "ca9bba82",
   "metadata": {},
   "source": [
    "## Rules of Naming Identifiers"
   ]
  },
  {
   "cell_type": "markdown",
   "id": "162a0ad3",
   "metadata": {},
   "source": [
    "1. Identifiers name can **only** contain following characters:\n",
    "> * letters either in lowercase (a to z) or uppercase (A to Z)\n",
    "> * digits (0 to 9)\n",
    "> * underscore (_)\n",
    "2. Identifiers name **cannot** begin with digits.\n",
    "3. Python **keywords** are reserved thus shall not be used."
   ]
  },
  {
   "cell_type": "markdown",
   "id": "01c3901a",
   "metadata": {},
   "source": [
    "**Example 0.6**\n",
    "\n",
    "Determine which of the following statements are acceptable. Test your guesses by running **each line** in the code cell below.\n",
    "\n",
    "message = 'hello'\n",
    "\n",
    "_message1 = 'again'\n",
    "\n",
    "1message = 'failed'\n",
    "\n",
    "message@ = 'not allowed'\n",
    "\n",
    "pass = 60"
   ]
  },
  {
   "cell_type": "code",
   "execution_count": 6,
   "id": "8cb4ac3e",
   "metadata": {},
   "outputs": [],
   "source": [
    "# Test your guesses here\n"
   ]
  },
  {
   "cell_type": "markdown",
   "id": "0ec3c4b1",
   "metadata": {},
   "source": [
    "Run the following code cell to see the list of keywords in Python:"
   ]
  },
  {
   "cell_type": "code",
   "execution_count": null,
   "id": "ef4f1cd8",
   "metadata": {},
   "outputs": [],
   "source": [
    "import keyword\n",
    "print(keyword.kwlist)"
   ]
  },
  {
   "cell_type": "markdown",
   "id": "de377273",
   "metadata": {},
   "source": [
    "# Making Your Codes More Readable"
   ]
  },
  {
   "cell_type": "markdown",
   "id": "88fe1d19",
   "metadata": {},
   "source": [
    "**Example 0.7**\n",
    "\n",
    "Without running the code, guess what each of the code cells is doing."
   ]
  },
  {
   "cell_type": "code",
   "execution_count": null,
   "id": "66ebf1ea",
   "metadata": {},
   "outputs": [],
   "source": [
    "a = 120\n",
    "b = []\n",
    "for c in range(1, a+1):\n",
    "    if a % c == 0:\n",
    "        b.append(c)\n",
    "print(b)"
   ]
  },
  {
   "cell_type": "code",
   "execution_count": null,
   "id": "7bd8774a",
   "metadata": {},
   "outputs": [],
   "source": [
    "number = 120\n",
    "factors = []\n",
    "\n",
    "# testing all the possible factors from 1 to number\n",
    "for a_possible_factor in range(1, number + 1):\n",
    "\n",
    "    # testing whether the remainder is 0 when the number is divided by a possible factor\n",
    "    if number % a_possible_factor == 0:\n",
    "        factors.append(a_possible_factor)\n",
    "\n",
    "print(factors)"
   ]
  },
  {
   "cell_type": "markdown",
   "id": "8d079298",
   "metadata": {},
   "source": [
    "## Convention of Naming Identifiers"
   ]
  },
  {
   "cell_type": "markdown",
   "id": "e42412ce",
   "metadata": {},
   "source": [
    "1. **Class** (won't be covered) names should start with a capital letter. All other identifiers should begin with a lowercase letter.\n",
    "2. Declare **private** identifiers (identifiers that are visible only to the class to which they belong) by using the single-underscore _ as their first letter.(won't be covered too)\n",
    "3. Do not use double-underscores __ as the leading and trailing character in an identifier (Python built-in types already use this notation).\n",
    "4. Use underscore _ to join multiple words to form a sensible name."
   ]
  },
  {
   "cell_type": "markdown",
   "id": "a2d1deab",
   "metadata": {},
   "source": [
    "**Example 0.8**\n",
    "\n",
    "Rename the variables `a`, `b` and `c` in the code cell below.\n",
    "\n",
    "```python\n",
    "a = 178 #height of a person in cm\n",
    "b = \"National Junior College\"\n",
    "c = 36.5 #body temperature in degree celcius\n",
    "```"
   ]
  },
  {
   "cell_type": "code",
   "execution_count": null,
   "id": "2ae71ec4",
   "metadata": {},
   "outputs": [],
   "source": [
    "a = 178 #height of a person in cm\n",
    "b = \"National Junior College\"\n",
    "c = 36.5 #body temperature in degree celcius"
   ]
  },
  {
   "cell_type": "markdown",
   "id": "d9efc12b",
   "metadata": {},
   "source": [
    "## Comments"
   ]
  },
  {
   "cell_type": "markdown",
   "id": "f6f7ac09",
   "metadata": {},
   "source": [
    "Comments are non-executable part of the code.\n",
    "* They are commonly used in codes for documentation.\n",
    "* Writing comments is a good programming practice.\n",
    "* Every line of comment in Python must begin with a `#` character.\n",
    "* Comment must be at the same indent level as the code beneath it.\n",
    "* In-line comments are comments behind a statement."
   ]
  },
  {
   "cell_type": "markdown",
   "id": "f9d44415",
   "metadata": {},
   "source": [
    "**Example 0.9**\n",
    "\n",
    "Run the code cell below."
   ]
  },
  {
   "cell_type": "code",
   "execution_count": null,
   "id": "a82b8732",
   "metadata": {},
   "outputs": [],
   "source": [
    "pi = 3.1416 # corrected to 4 decimal places\n",
    "\n",
    "radius = 2\n",
    "# the next line is a comment\n",
    "# radius = 1\n",
    "\n",
    "# finding area of circle\n",
    "area_circle = pi * radius * radius\n",
    "\n",
    "print(area_circle)"
   ]
  },
  {
   "cell_type": "markdown",
   "id": "59b1bdd8",
   "metadata": {},
   "source": [
    "## Line Continuation"
   ]
  },
  {
   "cell_type": "markdown",
   "id": "3be735ff",
   "metadata": {},
   "source": [
    "Run the code cell below."
   ]
  },
  {
   "cell_type": "code",
   "execution_count": null,
   "id": "2a5006f6",
   "metadata": {},
   "outputs": [],
   "source": [
    "radius = 2\n",
    "pi = 3.1416\n",
    "msg = \"A circle of radius \" + str(radius) + \" has a circumference \" + str(2 * pi * radius) + \" and an area \" + str(pi * radius * radius) + \".\"\n",
    "print(msg)"
   ]
  },
  {
   "cell_type": "markdown",
   "id": "720bc40b",
   "metadata": {},
   "source": [
    "To make such code more readable, we may extend the statement over to multiple lines."
   ]
  },
  {
   "cell_type": "markdown",
   "id": "0e4a6466",
   "metadata": {},
   "source": [
    "### Explicit Line Continuation"
   ]
  },
  {
   "cell_type": "markdown",
   "id": "cb124c6c",
   "metadata": {},
   "source": [
    "**Example 0.10**\n",
    "\n",
    "Run each of the code cells below."
   ]
  },
  {
   "cell_type": "code",
   "execution_count": null,
   "id": "4f125744",
   "metadata": {},
   "outputs": [],
   "source": [
    "radius = 2\n",
    "pi = 3.1416\n",
    "msg = \"A circle of radius \" + \n",
    "    str(radius) +\n",
    "    \" has a circumference \" +\n",
    "    str(2 * pi * radius) +\n",
    "    \" and an area \" +\n",
    "    str(pi * radius * radius) + \".\"\n",
    "print(msg)"
   ]
  },
  {
   "cell_type": "code",
   "execution_count": null,
   "id": "f3d51dfa",
   "metadata": {},
   "outputs": [],
   "source": [
    "radius = 2\n",
    "pi = 3.1416\n",
    "msg = \"A circle of radius \" + \\\n",
    "    str(radius) + \\\n",
    "    \" has a circumference \" + \\\n",
    "    str(2 * pi * radius) + \\\n",
    "    \" and an area \" + \\\n",
    "    str(pi * radius * radius) + \".\"\n",
    "print(msg)"
   ]
  },
  {
   "cell_type": "markdown",
   "id": "c5a9fa48",
   "metadata": {},
   "source": [
    "A statement can be extended over to multiple lines using the line continuation character `\\`."
   ]
  },
  {
   "cell_type": "markdown",
   "id": "c46b182e",
   "metadata": {},
   "source": [
    "### Implicit Line Continuation"
   ]
  },
  {
   "cell_type": "markdown",
   "id": "35ef5e7a",
   "metadata": {},
   "source": [
    "**Example 0.11**\n",
    "\n",
    "Run the code cell below."
   ]
  },
  {
   "cell_type": "code",
   "execution_count": null,
   "id": "f9310331",
   "metadata": {},
   "outputs": [],
   "source": [
    "radius = 2\n",
    "pi = 3.1416\n",
    "msg = (\"A circle of radius \" + \n",
    "    str(radius) +\n",
    "    \" has a circumference \" +\n",
    "    str(2 * pi * radius) +\n",
    "    \" and an area \" +\n",
    "    str(pi * radius * radius) + \".\")\n",
    "print(msg)"
   ]
  },
  {
   "cell_type": "markdown",
   "id": "d608b1d3",
   "metadata": {},
   "source": [
    "If a statement contains either of parentheses `( )` , brackets `[ ]` and braces `{ }` , Python interpreter will automatically detect the line continuation."
   ]
  },
  {
   "cell_type": "markdown",
   "id": "47d36f16",
   "metadata": {},
   "source": [
    "## Zen of Python Programming"
   ]
  },
  {
   "cell_type": "code",
   "execution_count": null,
   "id": "7d64b4df",
   "metadata": {},
   "outputs": [],
   "source": [
    "# Run this code\n",
    "import this"
   ]
  },
  {
   "cell_type": "markdown",
   "id": "85e0ba0e",
   "metadata": {},
   "source": [
    "<p><img alt=\"Python Cartoon\" src=\"https://drive.google.com/uc?id=17qx7WNiRa-JOtgCgHWPtDZ7RkmwaaUDu\" width = \"100\" align=\"left\" vspace=\"0px\"></p>\n",
    "\n",
    "# *Go to Assignment 00*"
   ]
  }
 ],
 "metadata": {
  "kernelspec": {
   "display_name": "Python 3 (ipykernel)",
   "language": "python",
   "name": "python3"
  },
  "language_info": {
   "codemirror_mode": {
    "name": "ipython",
    "version": 3
   },
   "file_extension": ".py",
   "mimetype": "text/x-python",
   "name": "python",
   "nbconvert_exporter": "python",
   "pygments_lexer": "ipython3",
   "version": "3.6.4"
  }
 },
 "nbformat": 4,
 "nbformat_minor": 5
}
