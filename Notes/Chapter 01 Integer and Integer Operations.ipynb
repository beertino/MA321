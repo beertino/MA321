{
 "cells": [
  {
   "cell_type": "markdown",
   "id": "fc13497b",
   "metadata": {},
   "source": [
    "# Integer (`int`) as a Data Type"
   ]
  },
  {
   "cell_type": "markdown",
   "id": "bb460340",
   "metadata": {},
   "source": [
    "In programming, data type is an important concept. Variables can store data of different types, and different types can do different things.\n",
    "\n",
    "Python has the following data types built-in by default, in these categories:\n",
    "\n",
    "- Text Type:\t`str`\n",
    "- Numeric Types:\t`int`, `float`, `complex`\n",
    "- Sequence Types:\t`list`, `tuple`, `range`\n",
    "- Mapping Type:\t`dict`\n",
    "- Set Types:\t`set`, `frozenset`\n",
    "- Boolean Type:\t`bool`\n",
    "- Binary Types:\t`bytes`, `bytearray`, `memoryview`\n",
    "\n",
    "we can find out the type of an object in Python using the function `type()`.\n",
    "\n",
    "Run the code cell below."
   ]
  },
  {
   "cell_type": "code",
   "execution_count": null,
   "id": "456d6eae",
   "metadata": {},
   "outputs": [],
   "source": [
    "type(2)"
   ]
  },
  {
   "cell_type": "markdown",
   "id": "80807377",
   "metadata": {},
   "source": [
    "**Example 1.1**\n",
    "\n",
    "In the code cell below, use `type()` to find out the data type of the following variables.\n",
    "```python\n",
    "var1 = 2021\n",
    "var2 = -21\n",
    "var3 = 123.45\n",
    "var4 = 3.0\n",
    "var5 = \"100\"\n",
    "var6 = (1, 2)\n",
    "var7 = [1, 2]\n",
    "var8 = {1, 2}\n",
    "var9 = 0b101\n",
    "```"
   ]
  },
  {
   "cell_type": "code",
   "execution_count": null,
   "id": "f75ef74b",
   "metadata": {},
   "outputs": [],
   "source": [
    "# Code here"
   ]
  },
  {
   "cell_type": "markdown",
   "id": "df2be08a",
   "metadata": {},
   "source": [
    "# Arithmetic Operations"
   ]
  },
  {
   "cell_type": "markdown",
   "id": "b7c0405d",
   "metadata": {},
   "source": [
    "## Operators"
   ]
  },
  {
   "cell_type": "markdown",
   "id": "ebd046bc",
   "metadata": {},
   "source": [
    "The arithmetical operators used to code Python programs are listed in the table below, together with the operation they perform:\n",
    "\n",
    ">**Operator** | **Operation**\n",
    "> - | -\n",
    ">|\n",
    ">+ | Addition\n",
    ">- | Subtraction\n",
    ">* | Multiplication\n",
    ">/ | Division\n",
    ">% | Remainder\n",
    ">//| Floor division\n",
    ">**| Exponent"
   ]
  },
  {
   "cell_type": "markdown",
   "id": "fdd2dbfa",
   "metadata": {},
   "source": [
    "Run the code cell below to better understand these operators."
   ]
  },
  {
   "cell_type": "code",
   "execution_count": null,
   "id": "52611285",
   "metadata": {},
   "outputs": [],
   "source": [
    "a = 9\n",
    "b = 2\n",
    "\n",
    "print('Addition:\\t', a, '+', b, '=', a + b)\n",
    "\n",
    "print('Subtraction:\\t', a, \"-\", b, '=', a - b)\n",
    "\n",
    "print('Multiplication:\\t', a, \"*\", b, '=', a * b)\n",
    "\n",
    "print('Division:\\t', a, \"/\", b, '=', a / b)\n",
    "\n",
    "# when we floor divide the first number by the second number, we perform normal division but truncate the decimal point.\n",
    "print('Floor Division:\\t', a, '//', b, '=', a // b)\n",
    "\n",
    "# the remainder operator divides the first number by the second number and returns the remainder of the operation.\n",
    "# this is useful to determine if a number has an odd or even value.\n",
    "print('Remainder:\\t', a, '%', b, '=', a % b)\n",
    "\n",
    "# the exponent operator returns the result of the first number raised to the power of the second number.\n",
    "print('Exponent:\\t', a, '**', b, '=', a ** b)\n"
   ]
  },
  {
   "cell_type": "markdown",
   "id": "6d6c8ac5",
   "metadata": {},
   "source": [
    "Note:\n",
    "- Division `/` of integers returns a `float` regardless of the divisibility.\n",
    "- Floor division `//` performs usual division, then **round down** the result to an integer (`int`).\n",
    "- Exponent operator `a ** b` returns an `int` only if `a` is an integer and `b` is a non-negative integer."
   ]
  },
  {
   "cell_type": "markdown",
   "id": "2903407d",
   "metadata": {},
   "source": [
    "**Example 1.2**\n",
    "\n",
    "Write code to find the quotient and reminder when 2021 is divided by 9. You may copy-paste and edit the code below.\n",
    "```python\n",
    "dividend = 2021\n",
    "divisor = 9\n",
    "\n",
    "quotient = # find the quotient here\n",
    "remainder = # find the reminder here\n",
    "\n",
    "print('When', dividend, 'is divided by', divisor, ':')\n",
    "print('quotient is', quotient)\n",
    "print('remainder is', remainder)\n",
    "```"
   ]
  },
  {
   "cell_type": "code",
   "execution_count": null,
   "id": "bfd29273",
   "metadata": {},
   "outputs": [],
   "source": [
    "# Code here"
   ]
  },
  {
   "cell_type": "markdown",
   "id": "9c0fd147",
   "metadata": {},
   "source": [
    "## Precedence"
   ]
  },
  {
   "cell_type": "markdown",
   "id": "b857c7ba",
   "metadata": {},
   "source": [
    "When more than one operator appears in an expression, the order of evaluation depends on the rules of precedence. For mathematical operators, Python follows mathematical convention. The acronym **PEMDAS** (or its synonym *BODMAS* standing for Bracket, Order, Division, Multiplication, Division, Addition and Subtraction) is a useful way to remember the rules:\n",
    "- **P**arentheses have the highest precedence and can be used to force an expression to evaluate in the order you want. You can also use parentheses to make an expression easier to read, even if it doesn't change the result.\n",
    "- **E**xponentiation has the highest precedence. What are the results for `2 ** 1 + 1` and `3 * 1 ** 3`?\n",
    "- **M**ultiplication and **D**ivision have the same precedence, which is higher than **A**ddition and **S**ubtraction, which also have the same precedence.\n",
    "- Operators with the **same precedence** are evaluated from **left to right**. So how is the expression `base * height / 2` evaluated?"
   ]
  },
  {
   "cell_type": "markdown",
   "id": "7e04a54e",
   "metadata": {},
   "source": [
    "Note:\n",
    "- In Python and many other programming languages, only `()` is used as parentheses. `[]` and `{}` have other applications in different programming languages."
   ]
  },
  {
   "cell_type": "markdown",
   "id": "067295c1",
   "metadata": {},
   "source": [
    "**Example 1.3**\n",
    "\n",
    "Write code below to find the ones digit and tens digit of a positive integer `num`.\n",
    "```python\n",
    "num = 123456789\n",
    "\n",
    "ones_digit =\n",
    "tens_digit =\n",
    "\n",
    "print(\"Ones digit of\", num, \"is\", ones_digit)\n",
    "print(\"Tens digit of\", num, \"is\", tens_digit)\n",
    "```\n",
    "The expected output are\n",
    "\n",
    "``` text\n",
    "Ones digit of 123456789 is 9\n",
    "Tens digit of 123456789 is 8\n",
    "```\n",
    "\n",
    "Your code should work for any positive integer. For example, when `num = 123`, the `ones_digit` and `tens_digit` should be `3` and `2` respectively."
   ]
  },
  {
   "cell_type": "code",
   "execution_count": null,
   "id": "0903e49f",
   "metadata": {},
   "outputs": [],
   "source": [
    "# Code here"
   ]
  },
  {
   "cell_type": "markdown",
   "id": "6cbb1b24",
   "metadata": {},
   "source": [
    "<p><img alt=\"Python Cartoon\" src=\"https://drive.google.com/uc?id=17qx7WNiRa-JOtgCgHWPtDZ7RkmwaaUDu\" width = \"100\" align=\"left\" vspace=\"0px\"></p>\n",
    "\n",
    "# *Go to Assignment 01*"
   ]
  },
  {
   "cell_type": "markdown",
   "id": "14e31595",
   "metadata": {},
   "source": [
    "# Solutions to Examples"
   ]
  },
  {
   "cell_type": "markdown",
   "id": "fc82a2bc",
   "metadata": {},
   "source": [
    "**Example 1.1 Solution**"
   ]
  },
  {
   "cell_type": "code",
   "execution_count": null,
   "id": "fd853aa4",
   "metadata": {},
   "outputs": [],
   "source": [
    "var1 = 2021\n",
    "print(type(var1))\n",
    "\n",
    "var2 = -21\n",
    "print(type(var2))\n",
    "\n",
    "var3 = 123.45\n",
    "print(type(var3))\n",
    "\n",
    "var4 = 3.0\n",
    "print(type(var4))\n",
    "\n",
    "var5 = \"100\"\n",
    "print(type(var5))\n",
    "\n",
    "var6 = (1, 2)\n",
    "print(type(var6))\n",
    "\n",
    "var7 = [1, 2]\n",
    "print(type(var7))\n",
    "\n",
    "var8 = {1, 2}\n",
    "print(type(var8))\n",
    "\n",
    "var9 = 0b101\n",
    "print(type(var9))"
   ]
  },
  {
   "cell_type": "markdown",
   "id": "c82747e0",
   "metadata": {},
   "source": [
    "**Example 1.2 Solution**"
   ]
  },
  {
   "cell_type": "code",
   "execution_count": 24,
   "id": "ca4bf1f4",
   "metadata": {},
   "outputs": [
    {
     "name": "stdout",
     "output_type": "stream",
     "text": [
      "when 2021 is divided by 9 :\n",
      "quotient is 224\n",
      "remainder is 5\n"
     ]
    }
   ],
   "source": [
    "dividend = 2021\n",
    "divisor = 9\n",
    "\n",
    "quotient = dividend // divisor\n",
    "remainder = dividend % divisor \n",
    "\n",
    "print('When', dividend, 'is divided by', divisor, ':')\n",
    "print('quotient is', quotient)\n",
    "print('remainder is', remainder)"
   ]
  },
  {
   "cell_type": "markdown",
   "id": "1cb7d2ad",
   "metadata": {},
   "source": [
    "**Example 1.3 Solution**"
   ]
  },
  {
   "cell_type": "code",
   "execution_count": 25,
   "id": "e639d0dc",
   "metadata": {},
   "outputs": [
    {
     "name": "stdout",
     "output_type": "stream",
     "text": [
      "Ones digit of 123456789 is 9\n",
      "Tens digit of 123456789 is 8\n"
     ]
    }
   ],
   "source": [
    "num = 123456789\n",
    "       \n",
    "ones_digit = num % 10\n",
    "tens_digit = (num // 10) % 10\n",
    "\n",
    "print(\"Ones digit of\", num, \"is\", ones_digit)\n",
    "print(\"Tens digit of\", num, \"is\", tens_digit)"
   ]
  }
 ],
 "metadata": {
  "kernelspec": {
   "display_name": "Python 3 (ipykernel)",
   "language": "python",
   "name": "python3"
  },
  "language_info": {
   "codemirror_mode": {
    "name": "ipython",
    "version": 3
   },
   "file_extension": ".py",
   "mimetype": "text/x-python",
   "name": "python",
   "nbconvert_exporter": "python",
   "pygments_lexer": "ipython3",
   "version": "3.10.2"
  }
 },
 "nbformat": 4,
 "nbformat_minor": 5
}
