{
 "cells": [
  {
   "cell_type": "markdown",
   "id": "7770d8ed",
   "metadata": {},
   "source": [
    "# Boolean Data Type"
   ]
  },
  {
   "cell_type": "markdown",
   "id": "33d07195",
   "metadata": {},
   "source": [
    "**Boolean** (`bool`) is a data type can be either `True` or `False`. Try the codes in the cell below."
   ]
  },
  {
   "cell_type": "code",
   "execution_count": 4,
   "id": "47aa6319",
   "metadata": {},
   "outputs": [
    {
     "name": "stdout",
     "output_type": "stream",
     "text": [
      "<class 'bool'>\n",
      "<class 'bool'>\n",
      "<class 'int'>\n",
      "<class 'float'>\n"
     ]
    }
   ],
   "source": [
    "print(type(False))\n",
    "\n",
    "t = True\n",
    "print(type(t))\n",
    "\n",
    "print(type(5))\n",
    "print(type(5.0))"
   ]
  },
  {
   "cell_type": "markdown",
   "id": "a9ffd2e6",
   "metadata": {},
   "source": [
    "`True` and `False` are case-sensitive.\n",
    "\n",
    "Try the codes in the cell below."
   ]
  },
  {
   "cell_type": "code",
   "execution_count": 5,
   "id": "905482ef",
   "metadata": {},
   "outputs": [
    {
     "ename": "NameError",
     "evalue": "name 'false' is not defined",
     "output_type": "error",
     "traceback": [
      "\u001b[1;31m---------------------------------------------------------------------------\u001b[0m",
      "\u001b[1;31mNameError\u001b[0m                                 Traceback (most recent call last)",
      "\u001b[1;32m<ipython-input-5-44fdb7d772b0>\u001b[0m in \u001b[0;36m<module>\u001b[1;34m()\u001b[0m\n\u001b[1;32m----> 1\u001b[1;33m \u001b[0mf\u001b[0m \u001b[1;33m=\u001b[0m \u001b[0mfalse\u001b[0m\u001b[1;33m\u001b[0m\u001b[0m\n\u001b[0m\u001b[0;32m      2\u001b[0m \u001b[0mprint\u001b[0m\u001b[1;33m(\u001b[0m\u001b[0mtype\u001b[0m\u001b[1;33m(\u001b[0m\u001b[0mf\u001b[0m\u001b[1;33m)\u001b[0m\u001b[1;33m)\u001b[0m\u001b[1;33m\u001b[0m\u001b[0m\n",
      "\u001b[1;31mNameError\u001b[0m: name 'false' is not defined"
     ]
    }
   ],
   "source": [
    "f = false\n",
    "print(type(f))"
   ]
  },
  {
   "cell_type": "markdown",
   "id": "cc126221",
   "metadata": {},
   "source": [
    "**Boolean expressions** are expressions which can be evaluated to be either True or False.\n",
    "Some of the common **comparison operators** used in boolean expressions can be found below.\n",
    "\n",
    "<center>\n",
    "\n",
    "|**Comparison operator** | **Operation** | **Example** | **Value of Example**\n",
    "| :-: | :-: | :-: | :-:\n",
    "| >| greater than | 5 > 4 | True\n",
    "| <| less than | 5 < 4 | False\n",
    "| == | equal to | 1 == 0 | False\n",
    "| >= | greater than or equal to |  3 >= -3 | True\n",
    "| <= | less than or equal to | 3 <= 3 | True\n",
    "| != | not equal to | 0.1 != 1/10 | False\n",
    "\n",
    "</center>"
   ]
  },
  {
   "cell_type": "markdown",
   "id": "09197351",
   "metadata": {},
   "source": [
    "**Example 6.1**\n",
    "\n",
    "Predict the output of the following codes.\n",
    "\n",
    "```python\n",
    "print(1.0000001 > 1)\n",
    "\n",
    "print(3 < round(3.14)) # is 3 == round(3.14)?\n",
    "\n",
    "print(5 / 2 == 5 // 2) # is 5/2 > 5//2?, is -5/2 > -5//2?\n",
    "\n",
    "print(abs(-1) >= -1)\n",
    "\n",
    "print(1 * 2 * 3 <= 1 + 2 + 3)\n",
    "\n",
    "b= (4 % 2 != 0)\n",
    "print(b)\n",
    "```\n",
    "Verify your prediction in the cell below.\n"
   ]
  },
  {
   "cell_type": "code",
   "execution_count": 6,
   "id": "ff180056",
   "metadata": {},
   "outputs": [
    {
     "name": "stdout",
     "output_type": "stream",
     "text": [
      "True\n",
      "False\n",
      "False\n",
      "True\n",
      "True\n",
      "False\n"
     ]
    }
   ],
   "source": [
    "# verify here\n",
    "print(1.0000001 > 1)\n",
    "\n",
    "print(3 < round(3.14)) # is 3 == round(3.14)?\n",
    "\n",
    "print(5 / 2 == 5 // 2) # is 5/2 > 5//2?, is -5/2 > -5//2?\n",
    "\n",
    "print(abs(-1) >= -1)\n",
    "\n",
    "print(1 * 2 * 3 <= 1 + 2 + 3)\n",
    "\n",
    "b= (4 % 2 != 0)\n",
    "print(b)"
   ]
  },
  {
   "cell_type": "markdown",
   "id": "e431c476",
   "metadata": {},
   "source": [
    "**Example 6.2**\n",
    "\n",
    "Create a function `is_even()` which takes in one integer argument. This function should **return** `True` if the argument is an even number; `False` otherwise."
   ]
  },
  {
   "cell_type": "code",
   "execution_count": 8,
   "id": "7abe0d31",
   "metadata": {},
   "outputs": [
    {
     "name": "stdout",
     "output_type": "stream",
     "text": [
      "True\n",
      "False\n"
     ]
    }
   ],
   "source": [
    "# define the function here\n",
    "def is_even(n):\n",
    "    return (n % 2 == 0)\n",
    "    # is_e = (n % 2 == 0)\n",
    "    # return is_e \n",
    "# some test cases\n",
    "\n",
    "b = is_even(2022)\n",
    "print(b)\n",
    "\n",
    "print(is_even(-3))"
   ]
  },
  {
   "cell_type": "markdown",
   "id": "b8fe784f",
   "metadata": {},
   "source": [
    "**Example 6.3**\n",
    "\n",
    "It is given that the Body Mass Index (BMI) of a person is calculated as $$\\frac{w}{h^2}$$ where $w$ is the mass of the person in kilograms and $h$ is the height in metres.\n",
    "\n",
    "1. Write a function `calculate_bmi()` which takes in two `float` arguments for the mass (in kg) and height (in m) of a person. This function should **return** the BMI of this person.\n",
    "\n",
    "2. Write a function `overweight()` which takes in two `float` arguments for the mass (in kg) and height (in m) of a person. This function should **return** `True` if his BMI is 23 or above; `False` otherwise. You are **expected to call `calculate_bmi()` in defining this function**."
   ]
  },
  {
   "cell_type": "code",
   "execution_count": 10,
   "id": "41038f53",
   "metadata": {},
   "outputs": [
    {
     "name": "stdout",
     "output_type": "stream",
     "text": [
      "False\n",
      "True\n",
      "True\n"
     ]
    }
   ],
   "source": [
    "# define calculate_bmi()\n",
    "def calculate_bmi(mass, height):\n",
    "    bmi = mass / (height**2)\n",
    "    return bmi\n",
    "\n",
    "# define overweight()\n",
    "def overweight(mass, height):\n",
    "    # is_overweight = (calculate_bmi(mass, height) >= 23)\n",
    "    # return is_overweight\n",
    "    return (calculate_bmi(mass, height) >= 23)\n",
    "\n",
    "# main with some test cases\n",
    "print(overweight(44.3, 1.52)) # False\n",
    "print(overweight(85.5, 1.83)) # True\n",
    "print(overweight(92.0, 2.0))  # True"
   ]
  },
  {
   "cell_type": "markdown",
   "id": "3177ec0b",
   "metadata": {},
   "source": [
    "# Boolean Operators"
   ]
  },
  {
   "cell_type": "markdown",
   "id": "4153c073",
   "metadata": {},
   "source": [
    "Sometimes we need to make decisions based on multiple conditions. Boolean operators are used to combine conditional statements.\n",
    "\n",
    "**Operands shall be boolean values or statements which each can result in a boolean value**. The outcome of such an operation is either `True` or `False` too.\n",
    "\n",
    "Python has three logical operators: `and`, `or` and `not`."
   ]
  },
  {
   "cell_type": "markdown",
   "id": "84450932",
   "metadata": {},
   "source": [
    "| Operator   | Result                                          \n",
    "|:----------:|:-------------------------------------------------------------|\n",
    "| `and`      | `True` if and only if both statements are `True`              |\n",
    "| `or`       | `True` if and only if either (or both) statement(s) is `True` |\n",
    "| `not`      | `True` if and only if statement is `False`                    |"
   ]
  },
  {
   "cell_type": "markdown",
   "id": "73e6993d",
   "metadata": {},
   "source": [
    "Test the code below\n",
    "```python\n",
    "print(True and True)\n",
    "print(True and False)\n",
    "print(False and True)\n",
    "print(False and False)\n",
    "\n",
    "print(True or True)\n",
    "print(True or False)\n",
    "print(False or True)\n",
    "print(False or False)\n",
    "\n",
    "print(not(True))\n",
    "print(not(False))\n",
    "```"
   ]
  },
  {
   "cell_type": "code",
   "execution_count": null,
   "id": "17274343",
   "metadata": {},
   "outputs": [],
   "source": [
    "## test the code here"
   ]
  },
  {
   "cell_type": "markdown",
   "id": "a72e8bc1",
   "metadata": {},
   "source": [
    "**Example 6.4**\n",
    "\n",
    "Create a function `in_between()` which\n",
    "* takes in 3 positive integers `x`, `a`, `b` in order,\n",
    "* returns `True` if `x` is between `a` and `b` inclusive; otherwise `False`.\n",
    "\n",
    "*Sample test 1:*\n",
    "`in_between(1, 2, 3)` should return `False`.\n",
    "\n",
    "*Sample test 2:*\n",
    "`in_between(2, 2, 3)` should return `True`.\n",
    "\n",
    "*Sample test 3:*\n",
    "`in_between(2, 3, 2)` should return `True`.\n",
    "\n",
    "*Sample test 4:*\n",
    "`in_between(4, 3, 2)` should return `False`. "
   ]
  },
  {
   "cell_type": "code",
   "execution_count": 12,
   "id": "d2d66b74",
   "metadata": {},
   "outputs": [
    {
     "data": {
      "text/plain": [
       "True"
      ]
     },
     "execution_count": 12,
     "metadata": {},
     "output_type": "execute_result"
    }
   ],
   "source": [
    "#code here\n",
    "def in_between(x, a, b):\n",
    "    return (x>=a and x<=b) or (x<=a and x>=b)\n",
    "\n",
    "in_between(2,3,2)\n"
   ]
  },
  {
   "cell_type": "markdown",
   "id": "b30b2692",
   "metadata": {},
   "source": [
    "**Example 6.5**\n",
    "\n",
    "A primary student takes 4 core subjects: English, Maths, Science and Mother Tongue.\n",
    "\n",
    "To be considered as passing the year-end examinations, the student must\n",
    "* either passes (obtaining at least 60 marks) all the 4 subjects,\n",
    "* or passes English and score a total of at least 250 marks.\n",
    "\n",
    "Write a function `pass_exam()` which\n",
    "* takes in 4 positive integers as the marks for English, Maths, Science and Mother Tongue respective,\n",
    "* returns `True` if the student passes the year-end examinations; `False` otherwise.\n",
    "\n",
    "*A better coding habit: how to make your code more versatile (e.g. in case there is a change in the passing mark for individual subject or total)?*\n",
    "\n",
    "*Sample test 1:*\n",
    "`pass_exam(60, 61, 62, 63)` should return `True`.\n",
    "\n",
    "*Sample test 2:*\n",
    "`pass_exam(50, 90, 90, 90)` should return `False`.\n",
    "\n",
    "*Sample test 3:*\n",
    "`pass_exam(60, 90, 80, 30)` should return `True`.\n",
    "\n",
    "*Sample test 4:*\n",
    "`pass_exam(70, 60, 55, 60)` should return `False`. "
   ]
  },
  {
   "cell_type": "code",
   "execution_count": 15,
   "id": "c70e4f99",
   "metadata": {},
   "outputs": [
    {
     "data": {
      "text/plain": [
       "True"
      ]
     },
     "execution_count": 15,
     "metadata": {},
     "output_type": "execute_result"
    }
   ],
   "source": [
    "#code here\n",
    "# condition1: * either passes (obtaining at least 60 marks) all the 4 subjects,\n",
    "# condition2: * or passes English and score a total of at least 250 marks.\n",
    "def pass_exam(english, psle_math, science, mt):\n",
    "    condition1 = english>=60 and psle_math>=60 and science>=60 and mt>=60\n",
    "    total_score = english + psle_math + science + mt\n",
    "    condition2 = english >=60 and total_score >=250\n",
    "    return condition1 or condition2\n",
    "\n",
    "pass_exam(60, 61, 62, 63)"
   ]
  },
  {
   "cell_type": "markdown",
   "id": "0bc37ca8",
   "metadata": {},
   "source": [
    "**Example 6.6**\n",
    "\n",
    "In mathematics, the triangle inequalty states that for any triangle, the sum of the lengths of any two sides must be greater than the length of the remaining side.\n",
    "\n",
    "Write a function `is_triangle()` which\n",
    "* takes in 3 positive integers,\n",
    "* returns `True` if the integers can be used to form the side length of a triangle; `False` otherwise.\n",
    "\n",
    "*Sample test 1:*\n",
    "`is_triangle(2, 3, 4)` should return `True`.\n",
    "\n",
    "*Sample test 2:*\n",
    "`is_triangle(8, 5, 2)` should return `False`.\n",
    "\n",
    "*Sample test 3:*\n",
    "`is_triangle(1, 2, 1)` should return `False`."
   ]
  },
  {
   "cell_type": "code",
   "execution_count": null,
   "id": "6f5c4859",
   "metadata": {},
   "outputs": [],
   "source": [
    "# code here"
   ]
  },
  {
   "cell_type": "markdown",
   "id": "8292a778",
   "metadata": {},
   "source": [
    "**Example 6.7 (*quadratic equation?*)**\n",
    "\n",
    "The equation $$ax^2 + bx + c = 0$$ may not always have real solution(s).\n",
    "\n",
    "Write a function `realroot_exist()` which\n",
    "* takes in three floats `a`, `b` and `c`,\n",
    "* returns `True` if the above equation has at least one real solution; otherwise `False`.\n",
    "\n",
    "*Warning: this problem is not as simple as you think!*\n",
    "\n",
    "*Some test cases:*\n",
    "```python\n",
    "print(realroot_exist(3, 4, 5))\n",
    "print(realroot_exist(1, -2, 1))\n",
    "print(realroot_exist(5, 3, -1))\n",
    "# some special cases\n",
    "print(realroot_exist(0, 1, 2))\n",
    "print(realroot_exist(0, 0, -1))\n",
    "print(realroot_exist(0, 0, 0))\n",
    "```"
   ]
  },
  {
   "cell_type": "code",
   "execution_count": null,
   "id": "3e2a0fe4",
   "metadata": {},
   "outputs": [],
   "source": [
    "# code here"
   ]
  },
  {
   "cell_type": "markdown",
   "id": "e5dc22af",
   "metadata": {},
   "source": [
    "<p><img alt=\"Python Cartoon\" src=\"https://drive.google.com/uc?id=17qx7WNiRa-JOtgCgHWPtDZ7RkmwaaUDu\" width = \"100\" align=\"left\" vspace=\"0px\"></p>\n",
    "\n",
    "# *Go to Assignment 06*"
   ]
  },
  {
   "cell_type": "markdown",
   "id": "403a806e",
   "metadata": {},
   "source": [
    "***\n",
    "</br>\n",
    "</br>\n",
    "</br>\n",
    "</br>\n",
    "</br>\n",
    "</br>\n",
    "</br>\n",
    "</br>\n",
    "</br>\n",
    "</br>\n",
    "</br>\n",
    "</br>\n",
    "</br>\n",
    "</br>\n",
    "</br>\n",
    "</br>\n",
    "</br>\n",
    "</br>\n",
    "</br>\n",
    "</br>\n",
    "</br>\n",
    "</br>\n",
    "</br>\n",
    "</br>\n",
    "</br>\n",
    "</br>\n",
    "</br>\n",
    "</br>\n",
    "</br>\n",
    "</br>\n",
    "</br>\n",
    "</br>\n",
    "</br>\n",
    "</br>\n",
    "</br>\n",
    "</br>\n",
    "</br>\n",
    "</br>\n",
    "</br>\n",
    "</br>\n",
    "</br>\n",
    "</br>\n",
    "</br>\n",
    "</br>\n",
    "</br>\n",
    "</br>\n",
    "</br>\n",
    "</br>\n",
    "</br>\n",
    "</br>\n",
    "</br>\n",
    "</br>\n",
    "</br>\n",
    "</br>\n",
    "</br>\n",
    "</br>\n",
    "</br>\n",
    "</br>\n",
    "</br>\n",
    "</br>\n",
    "</br>\n",
    "</br>\n",
    "</br>\n",
    "</br>"
   ]
  },
  {
   "cell_type": "markdown",
   "id": "f4ff080a",
   "metadata": {},
   "source": [
    "**Example 6.1 Solution**"
   ]
  },
  {
   "cell_type": "markdown",
   "id": "bd1417b6",
   "metadata": {},
   "source": [
    "```\n",
    "True\n",
    "False\n",
    "False\n",
    "True\n",
    "True\n",
    "False\n",
    "```"
   ]
  },
  {
   "cell_type": "markdown",
   "id": "eefcaa07",
   "metadata": {},
   "source": [
    "**Example 6.2 Solution**"
   ]
  },
  {
   "cell_type": "code",
   "execution_count": null,
   "id": "3d2b8a40",
   "metadata": {},
   "outputs": [],
   "source": [
    "# define the function here\n",
    "def is_even(x):\n",
    "    \n",
    "    return (x % 2 == 0)\n",
    "\n",
    "# some test cases\n",
    "\n",
    "b = is_even(2022)\n",
    "print(b)\n",
    "\n",
    "print(is_even(-3))"
   ]
  },
  {
   "cell_type": "markdown",
   "id": "0054195c",
   "metadata": {},
   "source": [
    "**Example 6.3 Solution**"
   ]
  },
  {
   "cell_type": "code",
   "execution_count": null,
   "id": "481e9c4c",
   "metadata": {},
   "outputs": [],
   "source": [
    "def calculate_bmi(w, h):\n",
    "    \n",
    "    return w / (h ** 2)\n",
    "\n",
    "def overweight(w, h):\n",
    "    \n",
    "    return calculate_bmi(w, h) >= 23\n",
    "\n",
    "# main with some test cases\n",
    "print(overweight(44.3, 1.52))\n",
    "print(overweight(85.5, 1.83))\n",
    "print(overweight(92.0, 2.0))"
   ]
  },
  {
   "cell_type": "markdown",
   "id": "8b9d8e9c",
   "metadata": {},
   "source": [
    "**Example 6.4 Solution**"
   ]
  },
  {
   "cell_type": "code",
   "execution_count": 1,
   "id": "a3780728",
   "metadata": {},
   "outputs": [],
   "source": [
    "#code here\n",
    "def in_between(x, a, b):\n",
    "    \n",
    "    return (x >= a and x <= b) or (x >= b and x <= a)"
   ]
  },
  {
   "cell_type": "code",
   "execution_count": 4,
   "id": "910da3f7",
   "metadata": {},
   "outputs": [
    {
     "data": {
      "text/plain": [
       "False"
      ]
     },
     "execution_count": 4,
     "metadata": {},
     "output_type": "execute_result"
    }
   ],
   "source": [
    "# alternative solution unique for Python\n",
    "def in_between(x, a, b):\n",
    "    \n",
    "    return (a <= x <= b) or (b <= x <= a)"
   ]
  },
  {
   "cell_type": "markdown",
   "id": "90ff3331",
   "metadata": {},
   "source": [
    "**Example 6.5 Solution**"
   ]
  },
  {
   "cell_type": "code",
   "execution_count": null,
   "id": "5af66002",
   "metadata": {},
   "outputs": [],
   "source": [
    "#code here\n",
    "\n",
    "def pass_exam(en, ma, sc, mt):\n",
    "    \n",
    "    # save these marks in variables for easier adjustment later\n",
    "    p_mark = 60 \n",
    "    p_total = 250\n",
    "    \n",
    "    condition1 = (en >= p_mark) and (ma >= p_mark) and (sc >= p_mark) and (mt >= p_mark)\n",
    "    condition2 = (en >= p_mark) and (en + ma + sc + mt >= p_total)\n",
    "    \n",
    "    return condition1 or condition2"
   ]
  },
  {
   "cell_type": "markdown",
   "id": "6bb8d453",
   "metadata": {},
   "source": [
    "**Example 6.6 Solution**"
   ]
  },
  {
   "cell_type": "code",
   "execution_count": null,
   "id": "525227df",
   "metadata": {},
   "outputs": [],
   "source": [
    "def is_triange(x, y, z):\n",
    "    \n",
    "    return (x + y > z) and (x + z > y) and (y + z > x)"
   ]
  },
  {
   "cell_type": "markdown",
   "id": "f8aad1d7",
   "metadata": {},
   "source": [
    "**Example 6.7 Solution**"
   ]
  },
  {
   "cell_type": "code",
   "execution_count": null,
   "id": "f0a634d2",
   "metadata": {},
   "outputs": [],
   "source": [
    "def realroot_exist(a, b, c):\n",
    "    \n",
    "    d = b ** 2 - 4 * a * c\n",
    "    \n",
    "    return (a != 0 and d >= 0) or (a == 0 and b != 0) or (a == 0 and b == 0 and c == 0)\n",
    "\n",
    "print(realroot_exist(3, 4, 5))\n",
    "print(realroot_exist(1, -2, 1))\n",
    "print(realroot_exist(5, 3, -1))\n",
    "\n",
    "print(realroot_exist(0, 1, 2))\n",
    "print(realroot_exist(0, 0, -1))\n",
    "print(realroot_exist(0, 0, 0))"
   ]
  }
 ],
 "metadata": {
  "kernelspec": {
   "display_name": "Python 3 (ipykernel)",
   "language": "python",
   "name": "python3"
  },
  "language_info": {
   "codemirror_mode": {
    "name": "ipython",
    "version": 3
   },
   "file_extension": ".py",
   "mimetype": "text/x-python",
   "name": "python",
   "nbconvert_exporter": "python",
   "pygments_lexer": "ipython3",
   "version": "3.6.4"
  }
 },
 "nbformat": 4,
 "nbformat_minor": 5
}
