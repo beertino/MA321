{
 "cells": [
  {
   "cell_type": "markdown",
   "id": "32c1259b",
   "metadata": {},
   "source": [
    "# List (`list`) as a Data Type"
   ]
  },
  {
   "cell_type": "markdown",
   "id": "bd3a75bc",
   "metadata": {},
   "source": [
    "Lists are used to store multiple items in a single variable.\n",
    "\n",
    "Lists are one of 4 built-in data types in Python used to store collections of data, the other 3 are **Tuple**, **Set**, and **Dictionary**, all with different qualities and usage.\n",
    "\n",
    "Lists are created using square brackets. Run the code cells below."
   ]
  },
  {
   "cell_type": "code",
   "execution_count": null,
   "id": "7fdd7060",
   "metadata": {},
   "outputs": [],
   "source": [
    "fruitlist = [\"apple\", \"banana\", \"cherry\", \"durian\"]\n",
    "print(fruitlist)\n",
    "print(type(fruitlist))"
   ]
  },
  {
   "cell_type": "code",
   "execution_count": null,
   "id": "73b69dac",
   "metadata": {},
   "outputs": [],
   "source": [
    "primelist = [2, 3, 5, 7, 11, 13, 17, 19]\n",
    "print(primelist)\n",
    "print(type(primelist))"
   ]
  },
  {
   "cell_type": "markdown",
   "id": "79fb2ab3",
   "metadata": {},
   "source": [
    "There are four collection data types in the Python programming language:\n",
    "\n",
    "- **List** is a collection which is **ordered** and **mutable**. It **allows duplicate** members.\n",
    "- **Tuple** is a collection which is **ordered** and **immutable**. It **allows duplicate** members.\n",
    "- **Set** is a collection which is **unordered** and **immutable**. **No duplicate** members are allowed.\n",
    "- **Dictionary** is a collection which is **ordered** and **mutable**. **No duplicate** members are allowed."
   ]
  },
  {
   "cell_type": "markdown",
   "id": "f16a7381",
   "metadata": {},
   "source": [
    "# List Items are Ordered"
   ]
  },
  {
   "cell_type": "markdown",
   "id": "c1a3cc1a",
   "metadata": {},
   "source": [
    "List items are **ordered (indexed)**, similar to the characters in a string.\n",
    "\n",
    "The first item has index `[0]`, the second item has index `[1]` etc. Alternatively, the last item has index `[-1]`, the second last item has index `[-2]` etc.\n",
    "\n",
    "Run the code cells below."
   ]
  },
  {
   "cell_type": "code",
   "execution_count": null,
   "id": "5b4bce61",
   "metadata": {},
   "outputs": [],
   "source": [
    "print(fruitlist[0], fruitlist[2])"
   ]
  },
  {
   "cell_type": "code",
   "execution_count": null,
   "id": "2041567c",
   "metadata": {},
   "outputs": [],
   "source": [
    "print(primelist[-1], primelist[-7])"
   ]
  },
  {
   "cell_type": "markdown",
   "id": "7d41d9d9",
   "metadata": {},
   "source": [
    "We may also apply *slicing* on lists just like strings. Run the code cells below."
   ]
  },
  {
   "cell_type": "code",
   "execution_count": null,
   "id": "e8abc306",
   "metadata": {},
   "outputs": [],
   "source": [
    "print(primelist[1:5]) # from the 2nd item to the 6th item, excluding the 6th item\n",
    "print(primelist[0:-1]) # from the 1st item to the last item, excluding the last item\n",
    "print(primelist[:3]) # the first 3 items\n",
    "print(primelist[-4:]) # the last 4 items"
   ]
  },
  {
   "cell_type": "markdown",
   "id": "262984f8",
   "metadata": {},
   "source": [
    "# Lists are Mutable"
   ]
  },
  {
   "cell_type": "markdown",
   "id": "859acd91",
   "metadata": {},
   "source": [
    "Unlike strings, list are **mutable**. In other words, we are able to modify, add or remove items.\n",
    "\n",
    "Run the code cells to observe the difference."
   ]
  },
  {
   "cell_type": "code",
   "execution_count": null,
   "id": "b804c9f9",
   "metadata": {},
   "outputs": [],
   "source": [
    "mutable_list = [\"a\", \"b\", \"c\"]\n",
    "mutable_list[0] = \"d\"\n",
    "print(mutable_list)"
   ]
  },
  {
   "cell_type": "code",
   "execution_count": null,
   "id": "64db6463",
   "metadata": {},
   "outputs": [],
   "source": [
    "immutable_string = \"abc\"\n",
    "immutable_string[0] = \"d\"\n",
    "print(immutable_string)"
   ]
  },
  {
   "cell_type": "markdown",
   "id": "23862d5a",
   "metadata": {},
   "source": [
    "**Example 10.1**\n",
    "\n",
    "Write a function `swap_first_last()`, which\n",
    "- takes in a list\n",
    "- returns the list after swapping its first and last items.\n",
    "\n",
    "*Test Cases:*\n",
    "```python\n",
    "swap_first_last([1, 3, 5, 7, 9]) should return [9, 3, 5, 7, 1]\n",
    "swap_first_last([\"apple\", \"banana\"]) should return ['banana', 'apple']\n",
    "swap_first_last([\"single item\"]) should return ['single item']\n",
    "```\n"
   ]
  },
  {
   "cell_type": "code",
   "execution_count": null,
   "id": "6fe30d99",
   "metadata": {},
   "outputs": [],
   "source": [
    "# code here"
   ]
  },
  {
   "cell_type": "markdown",
   "id": "9b333a94",
   "metadata": {},
   "source": [
    "Unlike string methods, most of the list methods will change the list when used. The list of built-in methods for lists are as follows. To display this list in Python, simply run `help(str)`."
   ]
  },
  {
   "cell_type": "markdown",
   "id": "4766070b",
   "metadata": {},
   "source": [
    "**Method**| **Description**\n",
    ":---------| :-|\n",
    "append()  | Adds an element at the end of the list, returns `None`\n",
    "clear()   | Removes all the elements from the list, returns `None`\n",
    "copy()\t  | Does not change the list, returns a copy of the list\n",
    "count()   | Does not change the list, returns the number of elements with the specified value\n",
    "extend()  | Add the elements of a list (or any iterable) to the end of the current list, returns `None`\n",
    "index()\t  | Does not change the list, returns the index of the first element with the specified value\n",
    "insert()  | Adds an element at the specified position, returns `None`\n",
    "pop()     | Removes the element at the specified position, returns the element removed\n",
    "remove()  | Removes the first item with the specified value, returns `None`\n",
    "reverse() | Reverses the order of the list, returns `None`\n",
    "sort()    | Sorts the list, returns `None`\n"
   ]
  },
  {
   "cell_type": "markdown",
   "id": "1dcd592e",
   "metadata": {},
   "source": [
    "If you need to view the details of a particular method, for example `append()`, you may simply run `help(list.append)`. We will explore how to use some of these list methods soon."
   ]
  },
  {
   "cell_type": "markdown",
   "id": "499c9b5f",
   "metadata": {},
   "source": [
    "# Number of Items in a List, `len()`"
   ]
  },
  {
   "cell_type": "markdown",
   "id": "c2e1faeb",
   "metadata": {},
   "source": [
    "The **build-in function (not a method) `len()`** returns the number of itemsin a list as an integer. Run the following test code."
   ]
  },
  {
   "cell_type": "code",
   "execution_count": null,
   "id": "5520292a",
   "metadata": {},
   "outputs": [],
   "source": [
    "print(len([11, 22, 33]))\n",
    "\n",
    "fruitlist = [\"apple\", \"banana\", \"cherry\", \"durian\"]\n",
    "print(len(fruitlist))\n",
    "\n",
    "elist = []\n",
    "n = len(elist)\n",
    "print(n)"
   ]
  },
  {
   "cell_type": "code",
   "execution_count": null,
   "id": "e3b6155b",
   "metadata": {},
   "outputs": [],
   "source": []
  },
  {
   "cell_type": "markdown",
   "id": "1ec447f8",
   "metadata": {},
   "source": [
    "**Example 10.2**\n",
    "\n",
    "Write a function `shorterlist()` which\n",
    "- takes in two lists,\n",
    "- returns the list which has fewer number of items between the two (if the two lists have the same number of items, you may return either one).\n",
    "\n",
    "*Test Cases:*\n",
    "```python\n",
    "shorterlist([\"a\",\"b\",\"c\"], [\"abc\"]) should return ['abc']\n",
    "shorterlist([], [0]) should return []\n",
    "```"
   ]
  },
  {
   "cell_type": "code",
   "execution_count": null,
   "id": "9bd570ae",
   "metadata": {},
   "outputs": [],
   "source": [
    "# code here"
   ]
  },
  {
   "cell_type": "markdown",
   "id": "74a17169",
   "metadata": {},
   "source": [
    "**Example 10.3**\n",
    "\n",
    "Write a function `shortestlist()` which\n",
    "- takes in four lists,\n",
    "- returns the list which has least number of items among them (if one or more lists have the fewest, you may return any of them).\n",
    "\n",
    "You are expected to use the function `shorterlist()` in your code.\n",
    "\n",
    "*Test Cases:*\n",
    "```python\n",
    "shortestlist([1], [2, 3, 4, 5], [6, 7], [8, 9, 10]) should return [1]\n",
    "shortestlist([\"AB\"], [\"A\"], [\"\"], []) should return []\n",
    "```"
   ]
  },
  {
   "cell_type": "markdown",
   "id": "28345ae7",
   "metadata": {},
   "source": [
    "# Adding Items to a List"
   ]
  },
  {
   "cell_type": "markdown",
   "id": "d704db84",
   "metadata": {},
   "source": [
    "**Method**| **Description**\n",
    ":---------| :-|\n",
    "append()  | Adds an element at the end of the list, returns `None`\n",
    "extend()  | Add the elements of a list (or any iterable) to the end of the current list, returns `None`\n",
    "insert()  | Adds an element at the specified position, returns `None`"
   ]
  },
  {
   "cell_type": "markdown",
   "id": "ec6be418",
   "metadata": {},
   "source": [
    "Run the following code cells to observe how these list methods work."
   ]
  },
  {
   "cell_type": "code",
   "execution_count": null,
   "id": "3a0eec7c",
   "metadata": {},
   "outputs": [],
   "source": [
    "# list.append()\n",
    "primelist = [2, 3, 5, 7]\n",
    "primelist.append(11)\n",
    "\n",
    "print(primelist)"
   ]
  },
  {
   "cell_type": "code",
   "execution_count": null,
   "id": "332727c4",
   "metadata": {},
   "outputs": [],
   "source": [
    "# list.extend()\n",
    "primelist = [2, 3, 5, 7]\n",
    "moreprimes = [11, 13, 17, 19]\n",
    "primelist.extend(moreprimes)\n",
    "\n",
    "print(primelist)"
   ]
  },
  {
   "cell_type": "code",
   "execution_count": null,
   "id": "654ea045",
   "metadata": {},
   "outputs": [],
   "source": [
    "# list.insert()\n",
    "fruitlist = [\"apple\", \"banana\", \"cherry\", \"durian\", \"fig\"]\n",
    "fruitlist.insert(4, \"elderberry\") #inserting BEFORE index 4\n",
    "\n",
    "print(fruitlist)"
   ]
  },
  {
   "cell_type": "markdown",
   "id": "b4dc9182",
   "metadata": {},
   "source": [
    "Be aware of difference in using `list.append` and `list.extend` on strings. Run the code cells and observe the difference."
   ]
  },
  {
   "cell_type": "code",
   "execution_count": null,
   "id": "490ccec4",
   "metadata": {},
   "outputs": [],
   "source": [
    "fruitlist1 = [\"apple\", \"banana\", \"cherry\", \"durian\", \"elderberry\"]\n",
    "fruitlist1.append(\"fig\")\n",
    "print(fruitlist1)"
   ]
  },
  {
   "cell_type": "code",
   "execution_count": null,
   "id": "8b222514",
   "metadata": {},
   "outputs": [],
   "source": [
    "fruitlist2 = [\"apple\", \"banana\", \"cherry\", \"durian\", \"elderberry\"]\n",
    "fruitlist2.extend(\"fig\")\n",
    "print(fruitlist2)"
   ]
  },
  {
   "cell_type": "markdown",
   "id": "660878e6",
   "metadata": {},
   "source": [
    "**Example 10.4**\n",
    "\n",
    "Write a program which\n",
    "- continuously prompts the user to input his/her top few choices of food until the user input an empty string,\n",
    "- print the list containing all the entries.\n",
    "\n",
    "*Sample Test:*\n",
    "```python\n",
    "Food choice: Beef noodle\n",
    "Food choice: Steam boat\n",
    "Food choice: Fried Rice\n",
    "Food choice: BBQ\n",
    "Food choice: \n",
    "['Beef noodle', 'Steam boat', 'Fried Rice', 'BBQ']\n",
    "```"
   ]
  },
  {
   "cell_type": "code",
   "execution_count": null,
   "id": "93dc3563",
   "metadata": {},
   "outputs": [],
   "source": [
    "# code here"
   ]
  },
  {
   "cell_type": "markdown",
   "id": "1e088629",
   "metadata": {},
   "source": [
    "<p><img alt=\"Python Cartoon\" src=\"https://drive.google.com/uc?id=17qx7WNiRa-JOtgCgHWPtDZ7RkmwaaUDu\" width = \"100\" align=\"left\" vspace=\"0px\"></p>\n",
    "\n",
    "# *Go to Assignment 10A*"
   ]
  },
  {
   "cell_type": "markdown",
   "id": "026e22a6",
   "metadata": {},
   "source": [
    "# Removing Items from a List"
   ]
  },
  {
   "cell_type": "markdown",
   "id": "20350dc5",
   "metadata": {},
   "source": [
    "**Method**| **Description**\n",
    ":---------| :-|\n",
    "pop()     | Removes the element at the specified position, returns the element removed\n",
    "remove()  | Removes the first item with the specified value, returns `None`"
   ]
  },
  {
   "cell_type": "markdown",
   "id": "d840d829",
   "metadata": {},
   "source": [
    "Run the following code cells to observe how these list methods work."
   ]
  },
  {
   "cell_type": "code",
   "execution_count": null,
   "id": "3d2ff891",
   "metadata": {},
   "outputs": [],
   "source": [
    "#list.pop()\n",
    "fruitlist = [\"apple\", \"banana\", \"cherry\", \"durian\"]\n",
    "\n",
    "fruitlist.pop(2)\n",
    "print(fruitlist)"
   ]
  },
  {
   "cell_type": "code",
   "execution_count": null,
   "id": "a90f686e",
   "metadata": {},
   "outputs": [],
   "source": [
    "#list.remove\n",
    "fruitlist = [\"apple\", \"banana\", \"cherry\", \"durian\"]\n",
    "\n",
    "fruitlist.remove(\"banana\")\n",
    "print(fruitlist)"
   ]
  },
  {
   "cell_type": "markdown",
   "id": "aefcabc2",
   "metadata": {},
   "source": [
    "Unlike many other list methods, `list.pop()` has a return value for the item removed. Try the code below."
   ]
  },
  {
   "cell_type": "code",
   "execution_count": null,
   "id": "5da727ab",
   "metadata": {},
   "outputs": [],
   "source": [
    "fruitlist = [\"apple\", \"banana\", \"cherry\", \"durian\"]\n",
    "\n",
    "removed = fruitlist.pop(2)\n",
    "print(removed, fruitlist)"
   ]
  },
  {
   "cell_type": "markdown",
   "id": "f06e980e",
   "metadata": {},
   "source": [
    "In contrast, `list.remove()` has no (`None`) return value."
   ]
  },
  {
   "cell_type": "code",
   "execution_count": null,
   "id": "d893d0f9",
   "metadata": {},
   "outputs": [],
   "source": [
    "fruitlist = [\"apple\", \"banana\", \"cherry\", \"durian\"]\n",
    "\n",
    "x = fruitlist.remove(\"banana\")\n",
    "print(x, fruitlist)"
   ]
  },
  {
   "cell_type": "markdown",
   "id": "eb7e6a77",
   "metadata": {},
   "source": [
    "`list.remove()` only removes the **first** item with the specified value. For example,"
   ]
  },
  {
   "cell_type": "code",
   "execution_count": null,
   "id": "e6534a45",
   "metadata": {},
   "outputs": [],
   "source": [
    "banana_list = list(\"banana\")\n",
    "print(banana_list)\n",
    "\n",
    "banana_list.remove(\"a\")\n",
    "print(banana_list)"
   ]
  },
  {
   "cell_type": "markdown",
   "id": "5dc61ae1",
   "metadata": {},
   "source": [
    "**Example 10.5**\n",
    "\n",
    "The following code can be used to generate a random integer between 1 and 6 (inclusive).\n",
    "```python\n",
    "import random\n",
    "x = random.randint(1,6)\n",
    "```\n",
    "**Part (i)**\n",
    "\n",
    "Write a function `init()` which\n",
    "- takes in a positive integer `n`,\n",
    "- generates a list of `n` random integers between 1 and 6 (inclusive) and returns this list. The list may contain duplicate values.\n",
    "\n",
    "*Sample Tests:*\n",
    "```python\n",
    "init(20) may return [2, 3, 1, 3, 5, 3, 5, 5, 2, 6, 2, 3, 4, 6, 2, 4, 3, 1, 5, 1]\n",
    "init(6) may return [2, 3, 4, 3, 2, 6]\n",
    "init(1) may return [5]\n",
    "```\n",
    "**Part (ii)**\n",
    "\n",
    "Write a function `delete()` which\n",
    "- takes in a list of integers between 1 and 6 (may contain duplicate), and an integer `x` between 1 and 6 inclusive,\n",
    "- removes all the `x`s from the list and returns the resultant list.\n",
    "\n",
    "*Sample Tests:*\n",
    "```python\n",
    "delete([1, 2, 3, 1, 2], 1) should return [2, 3, 2]\n",
    "delete([4, 5, 6, 5, 3, 4, 1], 6) should return [4, 5, 5, 3, 4, 1]\n",
    "delete([4, 3, 1, 6, 3, 2, 2], 5) should return [4, 3, 1, 6, 3, 2, 2]\n",
    "detele(init(20), 3) may return [2, 4, 4, 6, 4, 1, 6, 2, 5, 6, 6, 6, 5, 1, 6, 5, 5]\n",
    "```"
   ]
  },
  {
   "cell_type": "code",
   "execution_count": null,
   "id": "c3432f3f",
   "metadata": {},
   "outputs": [],
   "source": [
    "# code (i)"
   ]
  },
  {
   "cell_type": "code",
   "execution_count": null,
   "id": "492d75eb",
   "metadata": {},
   "outputs": [],
   "source": [
    "# code (ii)"
   ]
  },
  {
   "cell_type": "markdown",
   "id": "e154b529",
   "metadata": {},
   "source": [
    "# `for`-loop for Lists"
   ]
  },
  {
   "cell_type": "markdown",
   "id": "6f48029e",
   "metadata": {},
   "source": [
    "Similar to `str`, `list` is also an iterable data type which we may apply `for`-loop on it. Recall its syntax and visual representation."
   ]
  },
  {
   "cell_type": "markdown",
   "id": "6807a078",
   "metadata": {},
   "source": [
    "***Syntax***\n",
    "```python\n",
    "for an_iterating_variable in an_iterable :\n",
    "    \n",
    "    <statements in the body of the for-loop until the entire iterable is exhausted>\n",
    "    \n",
    "<statements after the loop>\n",
    "```\n",
    "<p><img alt=\"Flowchart_FOR_Loop\" src=\"https://drive.google.com/uc?id=1aTcdz9ofa-UiOyUANuHVQlxgKYGcFx1O\" width = \"500\" align=\"centre\" vspace=\"0px\"></p>"
   ]
  },
  {
   "cell_type": "markdown",
   "id": "db7b2ff8",
   "metadata": {},
   "source": [
    "Run the following code cells to see some examples."
   ]
  },
  {
   "cell_type": "code",
   "execution_count": null,
   "id": "d0ffafeb",
   "metadata": {},
   "outputs": [],
   "source": [
    "fruitlist = [\"apple\", \"banana\", \"cherry\", \"durian\"]\n",
    "\n",
    "for fruit in fruitlist:\n",
    "    print(f\"I like {fruit}.\")\n",
    "    "
   ]
  },
  {
   "cell_type": "code",
   "execution_count": null,
   "id": "ab9cac82",
   "metadata": {},
   "outputs": [],
   "source": [
    "marks = [67, 81, 45, 91, 62, 73, 77, 58]\n",
    "\n",
    "total = 0\n",
    "\n",
    "for m in marks:\n",
    "    total = total + m\n",
    "\n",
    "print(sum)"
   ]
  },
  {
   "cell_type": "markdown",
   "id": "3f012090",
   "metadata": {},
   "source": [
    "**Example 10.6**\n",
    "\n",
    "Write a function `int_list()` which\n",
    "- takes in a list,\n",
    "- return the list containing only the `int` data type items.\n",
    "\n",
    "*Test Cases:*\n",
    "```python\n",
    "int_list([1, \"2\", 3.0]) should return [1]\n",
    "int_list([-1, 2022, 2]) should return [-1, 2022, 2]\n",
    "int_list([\"\", \"b\", \"2022\", 0.1]) should return []\n",
    "```"
   ]
  },
  {
   "cell_type": "code",
   "execution_count": null,
   "id": "2af2365a",
   "metadata": {},
   "outputs": [],
   "source": [
    "# code here"
   ]
  },
  {
   "cell_type": "markdown",
   "id": "97ec664a",
   "metadata": {},
   "source": [
    "**Example 10.6** has a shorter solution using **list comprehension**. Refer to the code below."
   ]
  },
  {
   "cell_type": "code",
   "execution_count": null,
   "id": "609f330b",
   "metadata": {},
   "outputs": [],
   "source": [
    "def int_list(thislist):\n",
    "    \n",
    "    return [x for x in thislist if type(x) is int]"
   ]
  },
  {
   "cell_type": "markdown",
   "id": "97111d7f",
   "metadata": {},
   "source": [
    "**Example 10.7**\n",
    "\n",
    "Write a function `longest_str()` which\n",
    "- takes a non-empty list of strings,\n",
    "- return the longest string (you may return any of the longest strings if the answer is not unique).\n",
    "\n",
    "*Test Cases:*\n",
    "```python\n",
    "longest_str([\"a c\", \"de\", \"f\"]) should return 'a c'\n",
    "longest_str([\"long\", \"longer\", \"longest\"]) should return 'longest'\n",
    "```"
   ]
  },
  {
   "cell_type": "code",
   "execution_count": null,
   "id": "a38c584a",
   "metadata": {},
   "outputs": [],
   "source": [
    "# code here"
   ]
  },
  {
   "cell_type": "markdown",
   "id": "e2f3fea8",
   "metadata": {},
   "source": [
    "## `range()`"
   ]
  },
  {
   "cell_type": "markdown",
   "id": "5d9ca276",
   "metadata": {},
   "source": [
    "**`range()`** is an important function which creates a sequence of numbers."
   ]
  },
  {
   "cell_type": "markdown",
   "id": "5560d8ee",
   "metadata": {},
   "source": [
    "***Syntax***\n",
    "```python\n",
    "range(start = 0, stop, step = 1)\n",
    "```\n",
    "**Method**| **Description**\n",
    ":---------| :-|\n",
    "start     | optional, default starting value is 0\n",
    "stop      | required, the ending value **not inclusive**\n",
    "step      | optional, default step size is 1"
   ]
  },
  {
   "cell_type": "markdown",
   "id": "175be28e",
   "metadata": {},
   "source": [
    "For example, `range(10)` will create a sequence of consecutive numbers **from 0 to 9**."
   ]
  },
  {
   "cell_type": "code",
   "execution_count": null,
   "id": "3f1e9bc7",
   "metadata": {},
   "outputs": [],
   "source": [
    "x = range(10)\n",
    "print(x)\n",
    "print(type(x))"
   ]
  },
  {
   "cell_type": "markdown",
   "id": "debe4089",
   "metadata": {},
   "source": [
    "A `range` data type can be casted to a `list` using `list()`. For example,"
   ]
  },
  {
   "cell_type": "code",
   "execution_count": null,
   "id": "412bef6d",
   "metadata": {},
   "outputs": [],
   "source": [
    "x = range(10)\n",
    "l = list(x)\n",
    "print(l)"
   ]
  },
  {
   "cell_type": "markdown",
   "id": "1546eb42",
   "metadata": {},
   "source": [
    "Use the coding cell below to observe the sequence of numbers generated by each of the following `range()` functions, by converting them to lists.\n",
    "\n",
    "```python\n",
    "range(1, 5)\n",
    "range(1, 11, 2)\n",
    "range(50, 40, -1)\n",
    "```"
   ]
  },
  {
   "cell_type": "code",
   "execution_count": null,
   "id": "c6698a94",
   "metadata": {},
   "outputs": [],
   "source": [
    "# try here"
   ]
  },
  {
   "cell_type": "markdown",
   "id": "ccb7ec69",
   "metadata": {},
   "source": [
    "**Example 10.8**\n",
    "\n",
    "Write a program to generate the list of positive integers below 100 that are multiples of 7. Print this list.\n"
   ]
  },
  {
   "cell_type": "code",
   "execution_count": null,
   "id": "3c068d31",
   "metadata": {},
   "outputs": [],
   "source": [
    "# code here"
   ]
  },
  {
   "cell_type": "markdown",
   "id": "2b182299",
   "metadata": {},
   "source": [
    "A `range` type is also an iterable. Thus, we may use `for`-loop on it without converting it to a list. Try the code below."
   ]
  },
  {
   "cell_type": "code",
   "execution_count": null,
   "id": "22a1284f",
   "metadata": {},
   "outputs": [],
   "source": [
    "fruitlist = [\"apple\", \"banana\", \"cherry\", \"durian\"]\n",
    "\n",
    "l = len(fruitlist)\n",
    "\n",
    "for i in range(l):\n",
    "    \n",
    "    print(\"I like\", fruitlist[i])"
   ]
  },
  {
   "cell_type": "markdown",
   "id": "061b862c",
   "metadata": {},
   "source": [
    "**Example 10.9**\n",
    "\n",
    "Write a function `compare_list()` which\n",
    "- takes in two lists `l1` and `l2` of integers,\n",
    "- creates and returns a new list based on the following rules.\n",
    "-- the first item will be 1, if the first item in `l1` is greater than the first item in `l2`;\n",
    "-- the first item will be -1, if the first item in `l1` is less than the first item in `l2`;\n",
    "-- the first item will be 0, if the first items in the two lists are equal.\n",
    "-- repeats for the second item, third item, ... until the end of the shorter list between `l1` and `l2`.\n",
    "-- ignore the remaining items in the longer list.\n",
    "\n",
    "*Sample Tests:*\n",
    "```python\n",
    "compare_list([1, 2, 3], [3, 2, 1, 0]) should return [-1, 0, 1]\n",
    "compare_list([1, 3, 5, 7, 9], [-1, -3]) should return [1, 1]\n",
    "compare_list([5, 5], [5]) should return [0] \n",
    "```"
   ]
  },
  {
   "cell_type": "code",
   "execution_count": null,
   "id": "bc2b1c8a",
   "metadata": {},
   "outputs": [],
   "source": [
    "# code here"
   ]
  },
  {
   "cell_type": "markdown",
   "id": "6191cd50",
   "metadata": {},
   "source": [
    "<p><img alt=\"Python Cartoon\" src=\"https://drive.google.com/uc?id=17qx7WNiRa-JOtgCgHWPtDZ7RkmwaaUDu\" width = \"100\" align=\"left\" vspace=\"0px\"></p>\n",
    "\n",
    "# *Go to Assignment 10B*"
   ]
  },
  {
   "cell_type": "markdown",
   "id": "86c624d6",
   "metadata": {},
   "source": [
    "# Sorting a List"
   ]
  },
  {
   "cell_type": "markdown",
   "id": "63c774f1",
   "metadata": {},
   "source": [
    "Python provides two differnt ways to sort a list, in ascending order by default."
   ]
  },
  {
   "cell_type": "markdown",
   "id": "cce0dd98",
   "metadata": {},
   "source": [
    "## Built-in Method `list.sort()`"
   ]
  },
  {
   "cell_type": "markdown",
   "id": "125bc766",
   "metadata": {},
   "source": [
    "***Syntax:***\n",
    "```python\n",
    "list.sort(key = None, reverse = False)\n",
    "```"
   ]
  },
  {
   "cell_type": "markdown",
   "id": "f8e20f1a",
   "metadata": {},
   "source": [
    "Run the code cells below."
   ]
  },
  {
   "cell_type": "code",
   "execution_count": null,
   "id": "0b8e92e0",
   "metadata": {},
   "outputs": [],
   "source": [
    "num_list = [2, -1, 0, -3, 4]\n",
    "\n",
    "num_list.sort()\n",
    "print(num_list)"
   ]
  },
  {
   "cell_type": "code",
   "execution_count": null,
   "id": "39c25439",
   "metadata": {},
   "outputs": [],
   "source": [
    "str_list = [\"A\", \"B\", \"a\", \"AB\", \"ABC\"]\n",
    "\n",
    "str_list.sort()\n",
    "print(str_list)"
   ]
  },
  {
   "cell_type": "markdown",
   "id": "f0e84558",
   "metadata": {},
   "source": [
    "By setting the value of `reverse` to `True`, the list will be sorted in descending order."
   ]
  },
  {
   "cell_type": "code",
   "execution_count": null,
   "id": "2736dbee",
   "metadata": {},
   "outputs": [],
   "source": [
    "float_list = [0.1, 0.01, 0.09, 0.9]\n",
    "\n",
    "float_list.sort(reverse = True)\n",
    "print(float_list)"
   ]
  },
  {
   "cell_type": "markdown",
   "id": "57b83b8a",
   "metadata": {},
   "source": [
    "Use the `key` parameter to set the **built-in** or **user-defined** function to compare each element of a list and sort it. For example, the following uses the built-in `len()` function that returns the length of each element and sorts based on the length of each element.\n",
    "\n",
    "Run the code below."
   ]
  },
  {
   "cell_type": "code",
   "execution_count": null,
   "id": "6a07bddc",
   "metadata": {},
   "outputs": [],
   "source": [
    "fruit_list = [\"apple\", \"banana\", \"cherry\", \"durian\", \"elderberry\", \"grape\"]\n",
    "\n",
    "fruit_list.sort(key = len)\n",
    "print(fruit_list)"
   ]
  },
  {
   "cell_type": "markdown",
   "id": "471b537e",
   "metadata": {},
   "source": [
    "**Example 10.10**\n",
    "\n",
    "Write a function `distance`, which\n",
    "- takes in the coordinates of a point on the xy-plane,\n",
    "- returns the distance between the point and the origin.\n",
    "\n",
    "Then use the function `distance` to sort the following list of points in *descending* order of distance from the origin.\n",
    "```python\n",
    "points = [(2, 5), (-1, -6), (-3, 4), (0, -7)]\n",
    "```\n",
    "\n",
    "Note: `(2, 5)` is a **tuple** which is similar to a list except it is **immutable**.\n",
    "\n",
    "After sorting, the expected output should be `[(0, -7), (-1, -6), (2, 5), (-3, 4)]`."
   ]
  },
  {
   "cell_type": "code",
   "execution_count": null,
   "id": "11690b64",
   "metadata": {},
   "outputs": [],
   "source": [
    "def distance(point):\n",
    "    # calculate and return the distance\n",
    "\n",
    "points = [(2, 5), (-1, -6), (-3, 4), (0, -7)]\n",
    "\n",
    "# sort the points in the list\n",
    "print(points)"
   ]
  },
  {
   "cell_type": "markdown",
   "id": "f09a67ff",
   "metadata": {},
   "source": [
    "## Built-in Function `sorted()`"
   ]
  },
  {
   "cell_type": "markdown",
   "id": "aee6e139",
   "metadata": {},
   "source": [
    "***Syntax:***\n",
    "```python\n",
    "sorted(iterable, key = None, reverse = False)\n",
    "```"
   ]
  },
  {
   "cell_type": "markdown",
   "id": "94dd43a7",
   "metadata": {},
   "source": [
    "The built-in function `sorted` works in a similar way, except that **it will not modify the original list**. Instead, the sorted list will be generated as its returned value.\n",
    "\n",
    "Try the code cells below."
   ]
  },
  {
   "cell_type": "code",
   "execution_count": null,
   "id": "408c7da6",
   "metadata": {},
   "outputs": [],
   "source": [
    "num_list = [2, -1, 0, -3, 4]\n",
    "\n",
    "new_list = sorted(num_list)\n",
    "print(num_list)\n",
    "print(new_list)"
   ]
  },
  {
   "cell_type": "code",
   "execution_count": null,
   "id": "34c97701",
   "metadata": {},
   "outputs": [],
   "source": [
    "str_list = [\"A\", \"B\", \"a\", \"AB\", \"ABC\"]\n",
    "\n",
    "new_list = sorted(str_list)\n",
    "\n",
    "print(str_list)\n",
    "print(new_list)"
   ]
  },
  {
   "cell_type": "code",
   "execution_count": null,
   "id": "f0c0055b",
   "metadata": {},
   "outputs": [],
   "source": [
    "float_list = [0.1, 0.01, 0.09, 0.9]\n",
    "\n",
    "new_list = sorted(float_list, reverse = True)\n",
    "\n",
    "print(float_list)\n",
    "print(new_list)"
   ]
  },
  {
   "cell_type": "code",
   "execution_count": null,
   "id": "c392d97f",
   "metadata": {},
   "outputs": [],
   "source": [
    "fruit_list = [\"apple\", \"banana\", \"cherry\", \"durian\", \"elderberry\", \"grape\"]\n",
    "\n",
    "new_list = sorted(fruit_list, key = len)\n",
    "\n",
    "print(fruit_list)\n",
    "print(new_list)"
   ]
  },
  {
   "cell_type": "markdown",
   "id": "34c87eec",
   "metadata": {},
   "source": [
    "**Example 10.11**\n",
    "\n",
    "Write a function `sum_digit()` which returns the sum of digits of the positive integers taken in.\n",
    "\n",
    "Then write a function `sum_digit_sort()` which\n",
    "- takes in a list of positive integers, and a boolean value `rev` with default value `False`.\n",
    "- returns the sorted list in ascending (when `rev` is `False`) or descending (when `rev` is `True`) order of sum of digits.\n",
    "\n",
    "*Test Cases:*\n",
    "```Python\n",
    "sort_sum_digit([456, 89, 1000], True) should return [89, 456, 1000]\n",
    "sort_sum_digit([456, 89, 1000], False) should return [1000, 456, 89]\n",
    "sort_sum_digit([123, 45, 7]) should return [123, 7, 45]\n",
    "```\n"
   ]
  },
  {
   "cell_type": "code",
   "execution_count": null,
   "id": "bf7d11aa",
   "metadata": {},
   "outputs": [],
   "source": [
    "# code here"
   ]
  },
  {
   "cell_type": "markdown",
   "id": "b897447d",
   "metadata": {},
   "source": [
    "# Nested List"
   ]
  },
  {
   "cell_type": "markdown",
   "id": "3d063909",
   "metadata": {},
   "source": [
    "Items in a list can also be lists, making the list a nested list. For example,\n",
    "```python\n",
    "nested_list = [[1, 2], [3, 4, 5], [6]]\n",
    "```\n",
    "Run the code cells below."
   ]
  },
  {
   "cell_type": "code",
   "execution_count": null,
   "id": "0c2271e1",
   "metadata": {},
   "outputs": [],
   "source": [
    "nested_list = [[1, 2], [3, 4, 5], [6]]\n",
    "print(nested_list[0])\n",
    "print(nested_list[1])\n",
    "print(nested_list[2])\n",
    "print(len(nested_list))"
   ]
  },
  {
   "cell_type": "code",
   "execution_count": null,
   "id": "ae883002",
   "metadata": {},
   "outputs": [],
   "source": [
    "print(nested_list[0][0])\n",
    "print(nested_list[0][1])\n",
    "print(nested_list[1][0])\n",
    "print(nested_list[1][1])\n",
    "print(nested_list[1][2])\n",
    "print(nested_list[2][0])"
   ]
  },
  {
   "cell_type": "markdown",
   "id": "ad95aed7",
   "metadata": {},
   "source": [
    "Recall that the data types of the items in a list need not be the same, so lists like the following example are acceptable though not often in use.\n",
    "```python\n",
    "not_so_common_list = [1, 2.34, [5, 6, 7], True, \"890A\"]\n",
    "```"
   ]
  },
  {
   "cell_type": "markdown",
   "id": "edf958aa",
   "metadata": {},
   "source": [
    "Nested lists can be helpful if we want to represent matrices (in mathematics), tables of data and chessboard status."
   ]
  },
  {
   "cell_type": "markdown",
   "id": "2f489b73",
   "metadata": {},
   "source": [
    "In the following code cell, the nested list `name_height_mass` stores the names, heights (in metres) and mass (in kilograms) of some students. Run it before attempting the example."
   ]
  },
  {
   "cell_type": "code",
   "execution_count": null,
   "id": "9aab9494",
   "metadata": {},
   "outputs": [],
   "source": [
    "name_height_mass = [\n",
    "    [\"Alex\", 1.78, 76.2],\n",
    "    [\"Bob\", 1.71, 62.9],\n",
    "    [\"Charmaine\", 1.59, 41.1],\n",
    "    [\"Deon\", 1.64, 49.8],\n",
    "    [\"Elizabeth\", 1.55, 42.2],\n",
    "    [\"Felix\", 1.88, 94.1],\n",
    "    [\"Grace\", 1.58, 39.5],\n",
    "    [\"Harrison\", 1.77, 72.1],\n",
    "    [\"Isabella\", 1.6, 47.8],\n",
    "    [\"Joshua\", 1.66, 51.2]\n",
    "]"
   ]
  },
  {
   "cell_type": "markdown",
   "id": "b0cd45e0",
   "metadata": {},
   "source": [
    "**Example 10.12 (a)**\n",
    "\n",
    "Write a function `search()` which\n",
    "- takes in the list `name_height_mass` and a string representing a name,\n",
    "- returns the list containing the name, height and mass of the student if the name (case-sensitive) can be found; returns `False` otherwise.\n",
    "\n",
    "*Test Cases:*\n",
    "```Python\n",
    "search(name_height_mass, \"Bob\") should return ['Bob', 1.71, 62.9]\n",
    "search(name_height_mass, \"James\") should return False\n",
    "search(name_height_mass, \"deon\") should return False\n",
    "```\n"
   ]
  },
  {
   "cell_type": "code",
   "execution_count": null,
   "id": "e0e6f169",
   "metadata": {},
   "outputs": [],
   "source": [
    "# code here"
   ]
  },
  {
   "cell_type": "markdown",
   "id": "4edef65d",
   "metadata": {},
   "source": [
    "**Example 10.12 (b)**\n",
    "\n",
    "Write a function `sort_height()` which\n",
    "- takes in the list `name_height_mass`,\n",
    "- returns the sorted list in ascending order of heights.\n",
    "\n",
    "Hint: you may need to write another function to help you.\n",
    "\n",
    "The expected return value is\n",
    "```python\n",
    "[['Elizabeth', 1.55, 42.2],\n",
    " ['Grace', 1.58, 39.5],\n",
    " ['Charmaine', 1.59, 41.1],\n",
    " ['Isabella', 1.6, 47.8],\n",
    " ['Deon', 1.64, 49.8],\n",
    " ['Joshua', 1.66, 51.2],\n",
    " ['Bob', 1.71, 62.9],\n",
    " ['Harrison', 1.77, 72.1],\n",
    " ['Alex', 1.78, 76.2],\n",
    " ['Felix', 1.88, 94.1]]\n",
    "```"
   ]
  },
  {
   "cell_type": "code",
   "execution_count": null,
   "id": "9b3aaf72",
   "metadata": {},
   "outputs": [],
   "source": [
    "# code here"
   ]
  },
  {
   "cell_type": "markdown",
   "id": "5e948aed",
   "metadata": {},
   "source": [
    "**Example 10.12 (c)**\n",
    "\n",
    "Write a function `overweight()` which\n",
    "- takes in the list name_height_mass\n",
    "- calculates the body mass index (BMI) of each student in the list, then returns the list of names of overweight students (i.e. BMI higher than 25).\n",
    "\n",
    "The formula to calculate BMI is $$BMI = \\frac{mass}{height \\times height}. $$\n",
    "\n",
    "The expected return value of `overweight(name_height_mass)` is `['Felix']`.\n"
   ]
  },
  {
   "cell_type": "code",
   "execution_count": null,
   "id": "119a4eea",
   "metadata": {},
   "outputs": [],
   "source": [
    "# code here"
   ]
  },
  {
   "cell_type": "markdown",
   "id": "0a1cebef",
   "metadata": {},
   "source": [
    "<p><img alt=\"Python Cartoon\" src=\"https://drive.google.com/uc?id=17qx7WNiRa-JOtgCgHWPtDZ7RkmwaaUDu\" width = \"100\" align=\"left\" vspace=\"0px\"></p>\n",
    "\n",
    "# *Go to Assignment 10C*"
   ]
  },
  {
   "cell_type": "markdown",
   "id": "f357f3fb",
   "metadata": {},
   "source": [
    "Another example is in a Tic-Tac-Toe game (https://en.wikipedia.org/wiki/Tic-tac-toe), we need to find a good representation of the chessboard at any stage of the game.\n",
    "\n",
    "A nested list is one of the possible choices. We may assign the values in the nested list as follows."
   ]
  },
  {
   "cell_type": "markdown",
   "id": "b8f808de",
   "metadata": {},
   "source": [
    "<p><img alt=\"TTT_000000000\" src=\"https://drive.google.com/uc?id=1V-4OGlf0EsaKwcpEFS9xne3dXg0M3vkb\" width = \"90\" align=\"left\" vspace=\"0px\"></p>\n",
    "\n",
    "```python\n",
    "chessboard = [[0, 0, 0],\n",
    "              [0, 0, 0],\n",
    "              [0, 0, 0]\n",
    "             ]\n",
    "```\n",
    "\n",
    "<p><img alt=\"TTT_001122000\" src=\"https://drive.google.com/uc?id=15Dm3va7gZ84OqgctpRT3EU3m1WQeLJrQ\" width = \"90\" align=\"left\" vspace=\"0px\"></p>\n",
    "\n",
    "```python\n",
    "chessboard = [[0, 0, 1],\n",
    "              [1, 2, 2],\n",
    "              [0, 0, 0]\n",
    "             ]\n",
    "\n",
    "```\n",
    "\n",
    "<p><img alt=\"TTT_221122211\" src=\"https://drive.google.com/uc?id=1wM2ljpFsNCU1wcvSOC_Gmwpuw9Z20ixK\" width = \"90\" align=\"left\" vspace=\"0px\"></p>\n",
    "\n",
    "```python\n",
    "chessboard = [[2, 2, 1],\n",
    "              [1, 2, 2],\n",
    "              [2, 1, 1]\n",
    "             ]\n",
    "```"
   ]
  },
  {
   "cell_type": "markdown",
   "id": "46eac7a9",
   "metadata": {},
   "source": [
    "**Example 10.13 (a)**\n",
    "\n",
    "Using this approach, assign the values of the nested list `chessboard` for the following stage.\n",
    "<p><img alt=\"TTT_100010221\" src=\"https://drive.google.com/uc?id=1Dz-rSSsnGM49C2Y4VYaY9aQXNuXQCeTc\" width = \"90\" align=\"center\" vspace=\"0px\"></p>"
   ]
  },
  {
   "cell_type": "code",
   "execution_count": null,
   "id": "89cfc21b",
   "metadata": {},
   "outputs": [],
   "source": [
    "# code here"
   ]
  },
  {
   "cell_type": "markdown",
   "id": "2f3bc4ca",
   "metadata": {},
   "source": [
    "**Example 10.13 (b)**\n",
    "\n",
    "Write a function `determine_winner()` which\n",
    "- takes in the nested list representing a stage of the Tic-Tac-Toe game,\n",
    "- determines the winner and returns the corresponding value,\n",
    "-- if O has won, returns 1;\n",
    "-- if X has won, returns 2;\n",
    "-- if the chessboard has been filled up but it is a tie, returns -1;\n",
    "-- otherwise, the game is still ongoing, returns 0.\n",
    "\n",
    "*Sample Tests:*\n",
    "```Python\n",
    "determine_winner([[1, 0, 0], [0, 1, 0], [2, 2, 1]]) should return 1\n",
    "determine_winner([[2, 2, 1], [1, 2, 2], [2, 1, 1]]) should return -1\n",
    "determine_winner([[0, 0, 1], [1, 2, 2], [0, 0, 0]]) should return 0\n",
    "determine_winner([[2, 1, 0], [2, 0, 1], [2, 1, 0]]) should return 2\n",
    "determine_winner([[2, 1, 2], [1, 1, 1], [2, 2, 0]]) should return 1\n",
    "```"
   ]
  },
  {
   "cell_type": "code",
   "execution_count": null,
   "id": "034dc7c3",
   "metadata": {},
   "outputs": [],
   "source": [
    "# code here"
   ]
  },
  {
   "cell_type": "markdown",
   "id": "1f0bc42b",
   "metadata": {},
   "source": [
    "# Copying a List is Special"
   ]
  },
  {
   "cell_type": "markdown",
   "id": "8cf3eb14",
   "metadata": {},
   "source": [
    "Most of the data types pass values in assignment statements.\n",
    "\n",
    "Run the following code cells."
   ]
  },
  {
   "cell_type": "code",
   "execution_count": null,
   "id": "dcb3e0b9",
   "metadata": {},
   "outputs": [],
   "source": [
    "# integers and floats\n",
    "n1 = 3\n",
    "n2 = n1\n",
    "n1 = 5\n",
    "print(n1, n2)\n",
    "\n",
    "f1 = 3.14\n",
    "f2 = f1\n",
    "f2 = 4.14\n",
    "print(f1, f2)"
   ]
  },
  {
   "cell_type": "code",
   "execution_count": null,
   "id": "103c4d6a",
   "metadata": {},
   "outputs": [],
   "source": [
    "# strings and booleans\n",
    "s1 = \"abc\"\n",
    "s2 = s1\n",
    "s1 = \"ABC\"\n",
    "print(s1, s2)\n",
    "\n",
    "b1 = True\n",
    "b2 = b1\n",
    "b2 = False\n",
    "print(b1, b2)"
   ]
  },
  {
   "cell_type": "markdown",
   "id": "b7190b68",
   "metadata": {},
   "source": [
    "Unlike the above data types, lists behave very differently because reference is being passed in assignment statement.\n",
    "\n",
    "Run the code below."
   ]
  },
  {
   "cell_type": "code",
   "execution_count": null,
   "id": "e0b85d64",
   "metadata": {},
   "outputs": [],
   "source": [
    "s1 = [1, 2, 3]\n",
    "s2 = s1\n",
    "s1.append(4)\n",
    "print(s1, s2)"
   ]
  },
  {
   "cell_type": "code",
   "execution_count": null,
   "id": "9c067358",
   "metadata": {},
   "outputs": [],
   "source": [
    "s1 = [\"a\", \"b\", \"c\"]\n",
    "s2 = s1\n",
    "s2.remove(\"b\")\n",
    "print(s1, s2)"
   ]
  },
  {
   "cell_type": "markdown",
   "id": "7138d89f",
   "metadata": {},
   "source": [
    "This issue can be resolved by using the list method `copy()`."
   ]
  },
  {
   "cell_type": "markdown",
   "id": "6071e032",
   "metadata": {},
   "source": [
    "**Method**| **Description**\n",
    ":---------| :-|\n",
    "copy()\t  | Does not change the list, returns a copy of the list"
   ]
  },
  {
   "cell_type": "markdown",
   "id": "46ad0bc6",
   "metadata": {},
   "source": [
    "Run the code below."
   ]
  },
  {
   "cell_type": "code",
   "execution_count": null,
   "id": "1077291b",
   "metadata": {},
   "outputs": [],
   "source": [
    "s1 = [1, 2, 3]\n",
    "s2 = s1.copy()\n",
    "s1.append(4)\n",
    "print(s1, s2)"
   ]
  },
  {
   "cell_type": "code",
   "execution_count": null,
   "id": "3cfa4159",
   "metadata": {},
   "outputs": [],
   "source": [
    "s1 = [\"a\", \"b\", \"c\"]\n",
    "s2 = s1.copy()\n",
    "s2.remove(\"b\")\n",
    "print(s1, s2)"
   ]
  },
  {
   "cell_type": "markdown",
   "id": "d9d697aa",
   "metadata": {},
   "source": [
    "**Example 10.14 (Revisit Assignment 10B Q1)**\n",
    "\n",
    "Write a function `replace()` which\n",
    "- takes in 3 arguments, a list `str_list` of strings, and two strings `old` and `new`.\n",
    "- replaces all items having the same value as `old` with the `new` in `str_list`, and returns the resultant list.\n",
    "\n",
    "Below are two possible ways to code the function.\n",
    "\n",
    "Insert the following sample test in each of the coding cells, then determine which method will modify the original string after calling the function.\n",
    "```python\n",
    "old_string = [\"1\", \"2\", \"3\"]\n",
    "new_string = replace(old_string, \"1\", \"0\")\n",
    "```\n",
    "For the method that will alter the original string, use the list method `copy()` to resolve the issue."
   ]
  },
  {
   "cell_type": "code",
   "execution_count": null,
   "id": "add05e55",
   "metadata": {},
   "outputs": [],
   "source": [
    "# Method 1\n",
    "def replace(str_list, old, new):\n",
    "    \n",
    "    for i in range(len(str_list)):\n",
    "        \n",
    "        if str_list[i] == old:\n",
    "            str_list[i] = new\n",
    "    \n",
    "    return str_list"
   ]
  },
  {
   "cell_type": "code",
   "execution_count": null,
   "id": "bc083387",
   "metadata": {},
   "outputs": [],
   "source": [
    "#Method 2\n",
    "def replace(str_list, old, new):\n",
    "    \n",
    "    new_list = []\n",
    "    \n",
    "    for s in str_list:\n",
    "        \n",
    "        if s == old:\n",
    "            new_list.append(new)\n",
    "        else:\n",
    "            new_list.append(s)\n",
    "            \n",
    "    return new_list"
   ]
  },
  {
   "cell_type": "code",
   "execution_count": null,
   "id": "00cef378",
   "metadata": {},
   "outputs": [],
   "source": [
    "# Improved version for the method identified"
   ]
  },
  {
   "cell_type": "markdown",
   "id": "6d5b71d2",
   "metadata": {},
   "source": [
    "<p><img alt=\"Python Cartoon\" src=\"https://drive.google.com/uc?id=17qx7WNiRa-JOtgCgHWPtDZ7RkmwaaUDu\" width = \"100\" align=\"left\" vspace=\"0px\"></p>\n",
    "\n",
    "# *Go to Assignment 10D*"
   ]
  },
  {
   "cell_type": "markdown",
   "id": "bd0a1181",
   "metadata": {},
   "source": [
    "# Solution #"
   ]
  },
  {
   "cell_type": "markdown",
   "id": "6f3a75cb",
   "metadata": {},
   "source": [
    "**Example 10.1**"
   ]
  },
  {
   "cell_type": "code",
   "execution_count": null,
   "id": "ce8964c8",
   "metadata": {},
   "outputs": [],
   "source": [
    "def swap_first_last(thislist):\n",
    "    \n",
    "    first_item = thislist[0]\n",
    "    thislist[0] = thislist[-1]\n",
    "    thislist[-1] = first_item\n",
    "    \n",
    "    return thislist"
   ]
  },
  {
   "cell_type": "markdown",
   "id": "1c5d9c3e",
   "metadata": {},
   "source": [
    "**Example 10.2**"
   ]
  },
  {
   "cell_type": "code",
   "execution_count": null,
   "id": "e25509e6",
   "metadata": {},
   "outputs": [],
   "source": [
    "def shorterlist(list1, list2):'\n",
    "    \n",
    "    if len(list1) < len(list2):\n",
    "        return list1\n",
    "    else:\n",
    "        return list2"
   ]
  },
  {
   "cell_type": "markdown",
   "id": "df95b870",
   "metadata": {},
   "source": [
    "**Example 10.3**"
   ]
  },
  {
   "cell_type": "code",
   "execution_count": null,
   "id": "86e7ee0f",
   "metadata": {},
   "outputs": [],
   "source": [
    "def shortestlist(list1, list2, list3, list4):\n",
    "    \n",
    "    return shorterlist(shorterlist(list1, list2), shorterlist(list3, list4))\n"
   ]
  },
  {
   "cell_type": "markdown",
   "id": "fa53b095",
   "metadata": {},
   "source": [
    "**Example 10.4**"
   ]
  },
  {
   "cell_type": "code",
   "execution_count": null,
   "id": "fa0eeca8",
   "metadata": {},
   "outputs": [],
   "source": [
    "food_list = []\n",
    "keepgoing = True\n",
    "\n",
    "while keepgoing:\n",
    "    \n",
    "    choice = input(\"Food choice: \")\n",
    "    \n",
    "    if choice != \"\":\n",
    "        food_list.append(choice)\n",
    "    \n",
    "    else:\n",
    "        keepgoing = False\n",
    "    \n",
    "print(food_list)"
   ]
  },
  {
   "cell_type": "markdown",
   "id": "279e6217",
   "metadata": {},
   "source": [
    "**Example 10.5**"
   ]
  },
  {
   "cell_type": "code",
   "execution_count": null,
   "id": "fe420e49",
   "metadata": {},
   "outputs": [],
   "source": [
    "# Part (i)\n",
    "def init(n):\n",
    "    \n",
    "    import random\n",
    "    num_list = []\n",
    "    \n",
    "    while len(num_list) < n: \n",
    "        num_list.append(random.randint(1, 6))\n",
    "        \n",
    "    return num_list"
   ]
  },
  {
   "cell_type": "code",
   "execution_count": null,
   "id": "1f25c1e2",
   "metadata": {},
   "outputs": [],
   "source": [
    "# Part (ii)\n",
    "def delete(num_list, x):\n",
    "    \n",
    "    while (x in num_list):\n",
    "        \n",
    "        num_list.remove(x)\n",
    "    \n",
    "    return num_list"
   ]
  },
  {
   "cell_type": "markdown",
   "id": "14acf122",
   "metadata": {},
   "source": [
    "**Example 10.6**"
   ]
  },
  {
   "cell_type": "code",
   "execution_count": null,
   "id": "fc5660f8",
   "metadata": {},
   "outputs": [],
   "source": [
    "def int_list(thislist):\n",
    "    \n",
    "    integers = []\n",
    "    \n",
    "    for item in thislist:\n",
    "        \n",
    "        if type(item) is int:\n",
    "            integers.append(item)\n",
    "    \n",
    "    return integers"
   ]
  },
  {
   "cell_type": "markdown",
   "id": "3203cb70",
   "metadata": {},
   "source": [
    "**Example 10.7**"
   ]
  },
  {
   "cell_type": "code",
   "execution_count": null,
   "id": "5baf6270",
   "metadata": {},
   "outputs": [],
   "source": [
    "def longest_str(str_list):\n",
    "   \n",
    "    longest = str_list[0]\n",
    "    \n",
    "    for string in str_list:\n",
    "        \n",
    "        if len(string) > len(longest):\n",
    "            longest = string\n",
    "            \n",
    "    return longest"
   ]
  },
  {
   "cell_type": "markdown",
   "id": "59dfaf23",
   "metadata": {},
   "source": [
    "**Example 10.8**"
   ]
  },
  {
   "cell_type": "code",
   "execution_count": null,
   "id": "c29974d4",
   "metadata": {},
   "outputs": [],
   "source": [
    "multiple_7 = list(range(7, 100, 7))\n",
    "print(multiple_7)"
   ]
  },
  {
   "cell_type": "markdown",
   "id": "06f2bd64",
   "metadata": {},
   "source": [
    "**Example 10.9**"
   ]
  },
  {
   "cell_type": "code",
   "execution_count": null,
   "id": "1d11d09b",
   "metadata": {},
   "outputs": [],
   "source": [
    "def compare_list(l1, l2):\n",
    "    \n",
    "    result = []\n",
    "    \n",
    "    if len(l1) >= len(l2):\n",
    "        shorter = len(l2)\n",
    "    else:\n",
    "        shorter = len(l1)\n",
    "        \n",
    "    for i in range(shorter):\n",
    "        \n",
    "        if l1[i] > l2[i]:\n",
    "            result.append(1)\n",
    "        elif l1[i] < l2[i]:\n",
    "            result.append(-1)\n",
    "        else:\n",
    "            result.append(0)\n",
    "    \n",
    "    return result\n",
    "\n",
    "compare_list([1, 3, 5, 7, 9], [-1, -3])"
   ]
  },
  {
   "cell_type": "markdown",
   "id": "6bcfbf4a",
   "metadata": {},
   "source": [
    "**Example 10.10**"
   ]
  },
  {
   "cell_type": "code",
   "execution_count": null,
   "id": "b93ab56a",
   "metadata": {},
   "outputs": [],
   "source": [
    "def distance(point):\n",
    "    \n",
    "    return (point[0] ** 2 + point[1] ** 2) ** 0.5\n",
    "\n",
    "points = [(2, 5), (-1, -6), (-3, 4), (0, -7)]\n",
    "\n",
    "points.sort(key = distance, reverse = True)\n",
    "print(points)"
   ]
  },
  {
   "cell_type": "markdown",
   "id": "bc38f7a7",
   "metadata": {},
   "source": [
    "**Example 10.11**"
   ]
  },
  {
   "cell_type": "code",
   "execution_count": null,
   "id": "7813bae5",
   "metadata": {},
   "outputs": [],
   "source": [
    "def sum_digit(n):\n",
    "    \n",
    "    digit_sum = 0\n",
    "    \n",
    "    while n > 0:\n",
    "        \n",
    "        digit_sum = digit_sum + (n % 10)\n",
    "        n = n // 10\n",
    "    \n",
    "    return digit_sum\n",
    "\n",
    "def sort_sum_digit(num_list, rev = False):\n",
    "    \n",
    "    sorted_list = sorted(num_list, key = sum_digit, reverse = rev)\n",
    "    \n",
    "    return sorted_list"
   ]
  },
  {
   "cell_type": "markdown",
   "id": "932a004e",
   "metadata": {},
   "source": [
    "**Example 10.12 (a)**"
   ]
  },
  {
   "cell_type": "code",
   "execution_count": null,
   "id": "5b71c9ed",
   "metadata": {},
   "outputs": [],
   "source": [
    "def search(class_list, name):\n",
    "    \n",
    "    for student in class_list:\n",
    "        \n",
    "        if student[0] == name:\n",
    "            return student\n",
    "        \n",
    "    return False"
   ]
  },
  {
   "cell_type": "markdown",
   "id": "1db4880f",
   "metadata": {},
   "source": [
    "**Example 10.12 (b)**"
   ]
  },
  {
   "cell_type": "code",
   "execution_count": null,
   "id": "ea8a1e65",
   "metadata": {},
   "outputs": [],
   "source": [
    "def height(student):\n",
    "    \n",
    "    return student[1]\n",
    "\n",
    "def sort_height(class_list):\n",
    "\n",
    "    sorted_list = sorted(class_list, key = height)\n",
    "    \n",
    "    return sorted_list\n",
    "\n",
    "sort_height(name_height_mass)"
   ]
  },
  {
   "cell_type": "markdown",
   "id": "53b0cf3d",
   "metadata": {},
   "source": [
    "**Example 10.13 (c)**"
   ]
  },
  {
   "cell_type": "code",
   "execution_count": null,
   "id": "9f3fd984",
   "metadata": {},
   "outputs": [],
   "source": [
    "def overweight(class_list):\n",
    "    \n",
    "    overweight_list = []\n",
    "    \n",
    "    for student in class_list:\n",
    "        \n",
    "        bmi = student[2] / (student[1] * student[1]) \n",
    "        if bmi > 25:\n",
    "            overweight_list.append(student[0])    \n",
    "    return overweight_list\n",
    "\n",
    "overweight(name_height_mass)"
   ]
  },
  {
   "cell_type": "markdown",
   "id": "7fc2880b",
   "metadata": {},
   "source": [
    "**Example 10.14 (a)**"
   ]
  },
  {
   "cell_type": "code",
   "execution_count": null,
   "id": "c8047b14",
   "metadata": {},
   "outputs": [],
   "source": [
    "chessboard = [[1, 0, 0],\n",
    "              [0, 1, 0],\n",
    "              [2, 2, 1]\n",
    "             ]"
   ]
  },
  {
   "cell_type": "markdown",
   "id": "e60ea2b7",
   "metadata": {},
   "source": [
    "**Example 10.14 (b)**"
   ]
  },
  {
   "cell_type": "code",
   "execution_count": null,
   "id": "a1fd346a",
   "metadata": {},
   "outputs": [],
   "source": [
    "def determine_winner(cb):\n",
    "    \n",
    "    if \\\n",
    "    cb[0][0] * cb[0][1] * cb[0][2] == 1 or \\\n",
    "    cb[1][0] * cb[1][1] * cb[1][2] == 1 or \\\n",
    "    cb[2][0] * cb[2][1] * cb[2][2] == 1 or \\\n",
    "    cb[0][0] * cb[1][0] * cb[2][0] == 1 or \\\n",
    "    cb[0][1] * cb[1][1] * cb[2][1] == 1 or \\\n",
    "    cb[0][2] * cb[1][2] * cb[2][2] == 1 or \\\n",
    "    cb[0][0] * cb[1][1] * cb[2][2] == 1 or \\\n",
    "    cb[0][2] * cb[1][1] * cb[2][0] == 1:\n",
    "        return 1\n",
    "    \n",
    "    if \\\n",
    "    cb[0][0] * cb[0][1] * cb[0][2] == 8 or \\\n",
    "    cb[1][0] * cb[1][1] * cb[1][2] == 8 or \\\n",
    "    cb[2][0] * cb[2][1] * cb[2][2] == 8 or \\\n",
    "    cb[0][0] * cb[1][0] * cb[2][0] == 8 or \\\n",
    "    cb[0][1] * cb[1][1] * cb[2][1] == 8 or \\\n",
    "    cb[0][2] * cb[1][2] * cb[2][2] == 8 or \\\n",
    "    cb[0][0] * cb[1][1] * cb[2][2] == 8 or \\\n",
    "    cb[0][2] * cb[1][1] * cb[2][0] == 8:\n",
    "        return 2\n",
    "    \n",
    "    if cb[0][0] * cb[0][1] * cb[0][2] \\\n",
    "     * cb[1][0] * cb[1][1] * cb[1][2] \\\n",
    "     * cb[2][0] * cb[2][1] * cb[2][2] > 0:\n",
    "        return -1\n",
    "    \n",
    "    else:\n",
    "        return 0"
   ]
  },
  {
   "cell_type": "markdown",
   "id": "a51faf5b",
   "metadata": {},
   "source": [
    "**Example 10.15**"
   ]
  },
  {
   "cell_type": "code",
   "execution_count": null,
   "id": "5ae52fa7",
   "metadata": {},
   "outputs": [],
   "source": [
    "# Method 1 will modify the orignal string\n",
    "def replace(str_list, old, new):\n",
    "    \n",
    "    for i in range(len(str_list)):\n",
    "        \n",
    "        if str_list[i] == old:\n",
    "            str_list[i] = new\n",
    "    \n",
    "    return str_list\n",
    "\n",
    "old_string = [\"1\", \"2\", \"3\"]\n",
    "new_string = replace(old_string, \"1\", \"0\")\n",
    "\n",
    "print(old_string, new_string)"
   ]
  },
  {
   "cell_type": "code",
   "execution_count": null,
   "id": "2cad7e32",
   "metadata": {},
   "outputs": [],
   "source": [
    "#Method 2 will NOT modify the original string\n",
    "def replace(str_list, old, new):\n",
    "    \n",
    "    new_list = []\n",
    "    \n",
    "    for s in str_list:\n",
    "        \n",
    "        if s == old:\n",
    "            new_list.append(new)\n",
    "        else:\n",
    "            new_list.append(s)\n",
    "            \n",
    "    return new_list\n",
    "\n",
    "old_string = [\"1\", \"2\", \"3\"]\n",
    "new_string = replace(old_string, \"1\", \"0\")\n",
    "\n",
    "print(old_string, new_string)"
   ]
  },
  {
   "cell_type": "code",
   "execution_count": null,
   "id": "9a54f526",
   "metadata": {},
   "outputs": [],
   "source": [
    "#Improved Method 1 that will no longer modify the orignal string\n",
    "\n",
    "def replace(s_list, old, new):\n",
    "    \n",
    "    str_list = s_list.copy() # make a copy\n",
    "    \n",
    "    for i in range(len(str_list)):\n",
    "        \n",
    "        if str_list[i] == old:\n",
    "            str_list[i] = new\n",
    "    \n",
    "    return str_list\n",
    "\n",
    "old_string = [\"1\", \"2\", \"3\"]\n",
    "new_string = replace(old_string, \"1\", \"0\")\n",
    "\n",
    "print(old_string, new_string)"
   ]
  }
 ],
 "metadata": {
  "kernelspec": {
   "display_name": "Python 3 (ipykernel)",
   "language": "python",
   "name": "python3"
  },
  "language_info": {
   "codemirror_mode": {
    "name": "ipython",
    "version": 3
   },
   "file_extension": ".py",
   "mimetype": "text/x-python",
   "name": "python",
   "nbconvert_exporter": "python",
   "pygments_lexer": "ipython3",
   "version": "3.10.2"
  }
 },
 "nbformat": 4,
 "nbformat_minor": 5
}
