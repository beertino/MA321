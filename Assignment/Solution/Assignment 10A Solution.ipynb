{
 "cells": [
  {
   "cell_type": "markdown",
   "id": "f50cba70",
   "metadata": {},
   "source": [
    "**Question 10A.1**\n",
    "\n",
    "Write a function `decompose_int()` which\n",
    "- takes in a positive integer,\n",
    "- decomposes it into digits and returns a list containing these digits in order.\n",
    "\n",
    "*Sample Tests:*\n",
    "```python\n",
    "decompose_int(123) should return [1, 2, 3]\n",
    "decompose_int(2022) should return [2, 0, 2, 2]\n",
    "decompose_int(9) should return [9]\n",
    "```"
   ]
  },
  {
   "cell_type": "code",
   "execution_count": null,
   "id": "e9640b88",
   "metadata": {},
   "outputs": [],
   "source": [
    "#method 1 - adding items from the back\n",
    "\n",
    "def decompose_int(n):\n",
    "    \n",
    "    dlist = []\n",
    "    s = str(n)\n",
    "    \n",
    "    for char in s:\n",
    "        \n",
    "        dlist.append(int(char))\n",
    "        \n",
    "    return dlist\n"
   ]
  },
  {
   "cell_type": "code",
   "execution_count": null,
   "id": "02c10308",
   "metadata": {},
   "outputs": [],
   "source": [
    "#method 2 - adding items from the front\n",
    "\n",
    "def decompose_int(n):\n",
    "    \n",
    "    dlist = []\n",
    "    while (n >= 1):\n",
    "        \n",
    "        dlist.insert(0, n % 10)\n",
    "        \n",
    "        n = n // 10\n",
    "    \n",
    "    return dlist"
   ]
  },
  {
   "cell_type": "markdown",
   "id": "a9c12c56",
   "metadata": {},
   "source": [
    "**Question 10A.2**"
   ]
  },
  {
   "cell_type": "markdown",
   "id": "fea935a7",
   "metadata": {
    "scrolled": true
   },
   "source": [
    "Write a function `num_letters()` which\n",
    "- takes in a string that only contains English alphabets,\n",
    "- returns the number of distinct letters (not case-sensitive) in it.\n",
    "\n",
    "*Test Cases:*\n",
    "```Python\n",
    "num_letters(\"Python\") should return 6\n",
    "num_letters(\"College\") should return 5\n",
    "num_letters(\"banana\") should return 3\n",
    "```"
   ]
  },
  {
   "cell_type": "code",
   "execution_count": null,
   "id": "57577a84",
   "metadata": {},
   "outputs": [],
   "source": [
    "def num_letters(word):\n",
    "    \n",
    "    word = word.lower()\n",
    "    dist_letters = []\n",
    "    \n",
    "    for char in word:\n",
    "        if char in dist_letters:\n",
    "            pass\n",
    "        else:\n",
    "            dist_letters.append(char)\n",
    "    \n",
    "    return len(dist_letters)"
   ]
  },
  {
   "cell_type": "code",
   "execution_count": null,
   "id": "d4b053e2",
   "metadata": {},
   "outputs": [],
   "source": [
    "# Hint for Question 10A.2\n",
    "print(\"a\" in [\"a\", \"b\", \"c\"])\n",
    "print(\"d\" in [\"a\", \"b\", \"c\"])"
   ]
  }
 ],
 "metadata": {
  "kernelspec": {
   "display_name": "Python 3 (ipykernel)",
   "language": "python",
   "name": "python3"
  },
  "language_info": {
   "codemirror_mode": {
    "name": "ipython",
    "version": 3
   },
   "file_extension": ".py",
   "mimetype": "text/x-python",
   "name": "python",
   "nbconvert_exporter": "python",
   "pygments_lexer": "ipython3",
   "version": "3.10.2"
  }
 },
 "nbformat": 4,
 "nbformat_minor": 5
}
