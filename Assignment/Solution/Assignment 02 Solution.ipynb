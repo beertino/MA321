{
 "cells": [
  {
   "cell_type": "markdown",
   "id": "7986ecbe",
   "metadata": {},
   "source": [
    "**Question 2.1 (*input and output*)**\n",
    "\n",
    "Prompt the user to key in integers for the `length`, `breadth` and `height` of a cuboid, then find and print its `total_surface_area` and `volume`. You may work on the following code:\n",
    "\n",
    "```python\n",
    "# prompt the user to input\n",
    "\n",
    "# calculations\n",
    "total_surface_area = \n",
    "volume =\n",
    "\n",
    "# print the results\n",
    "```"
   ]
  },
  {
   "cell_type": "code",
   "execution_count": 2,
   "id": "af74c2f4",
   "metadata": {},
   "outputs": [
    {
     "name": "stdout",
     "output_type": "stream",
     "text": [
      "Length = 5\n",
      "Breadth = 3\n",
      "Height = 2\n",
      "Total surface area = 62\n",
      "Volume = 30\n"
     ]
    }
   ],
   "source": [
    "length = int(input(\"Length = \"))\n",
    "breadth = int(input(\"Breadth = \"))\n",
    "height = int(input(\"Height = \"))\n",
    "\n",
    "total_surface_area = (length * breadth + length * height + breadth * height) * 2\n",
    "volume = length * breadth * height\n",
    "\n",
    "print(\"Total surface area =\", total_surface_area)\n",
    "print(\"Volume =\", volume)"
   ]
  },
  {
   "cell_type": "markdown",
   "id": "29b006cb",
   "metadata": {},
   "source": [
    "**Question 2.2 (*handling exceptions*)**\n",
    "\n",
    "Improve your code for **Question 2.1** by handling the possible exceptions from data type casting."
   ]
  },
  {
   "cell_type": "code",
   "execution_count": 3,
   "id": "533fdae3",
   "metadata": {},
   "outputs": [
    {
     "name": "stdout",
     "output_type": "stream",
     "text": [
      "Length = 2\n",
      "Breadth = a\n",
      "The input is not an integer! Try again.\n",
      "Breadth = 34\n",
      "Height = 1\n",
      "Total surface area = 208\n",
      "Volume = 68\n"
     ]
    }
   ],
   "source": [
    "while True:\n",
    "\n",
    "    try:\n",
    "        length = int(input(\"Length = \"))\n",
    "        break\n",
    "    \n",
    "    except:\n",
    "        print(\"The input is not an integer! Try again.\")\n",
    "\n",
    "while True:\n",
    "\n",
    "    try:\n",
    "        breadth = int(input(\"Breadth = \"))\n",
    "        break\n",
    "    \n",
    "    except:\n",
    "        print(\"The input is not an integer! Try again.\")\n",
    "\n",
    "while True:\n",
    "\n",
    "    try:\n",
    "        height = int(input(\"Height = \"))\n",
    "        break\n",
    "    \n",
    "    except:\n",
    "        print(\"The input is not an integer! Try again.\")\n",
    "\n",
    "total_surface_area = (length * breadth + length * height + breadth * height) * 2\n",
    "volume = length * breadth * height\n",
    "\n",
    "print(\"Total surface area =\", total_surface_area)\n",
    "print(\"Volume =\", volume)"
   ]
  },
  {
   "cell_type": "markdown",
   "id": "f6cf94b4",
   "metadata": {},
   "source": [
    "**Question 2.3 (*output formatting*)**\n",
    "\n",
    "Prompt the user to input the number of sides `n` between 3 and 10 inclusive, then print the information about this n-side polygon in the following format:\n",
    "\n",
    "*Sample input:*\n",
    "```\n",
    "Number of sides (between 3 and 10 inclusive): 7\n",
    "```\n",
    "*Sample output:*\n",
    "```\n",
    "A 7-side polygon is called a heptagon, the sum of its interior angles is 900 degrees.\n",
    "```\n",
    "\n",
    "You do not need to worry about how to retrieve the name of the polygon, the relevant code (using a `dictionary`) is provided in the cell below."
   ]
  },
  {
   "cell_type": "code",
   "execution_count": 5,
   "id": "001ab11a",
   "metadata": {
    "scrolled": false
   },
   "outputs": [
    {
     "name": "stdout",
     "output_type": "stream",
     "text": [
      "Number of sides (between 3 and 10 inclusive):7\n",
      "A 7-side polygon is called a heptagon, the sum of its interior angles is 900 degrees.\n"
     ]
    }
   ],
   "source": [
    "# Code here\n",
    "# Promopt the user to input n, the number of sides.\n",
    "\n",
    "n = int(input(\"Number of sides (between 3 and 10 inclusive):\"))\n",
    "\n",
    "# The following code gives the polygon name for an integer n \n",
    "\n",
    "all_polygon = {3: \"triangle\", 4: \"quadrilateral\", 5: \"pentagon\", 6: \"hexagon\",\n",
    "               7: \"heptagon\", 8: \"octagon\", 9: \"nonagon\", 10: \"decagon\"}\n",
    "\n",
    "polygon_name = all_polygon[n]\n",
    "\n",
    "# Calculation(s)\n",
    "sum_angles = 180 * (n - 2)\n",
    "\n",
    "print(f\"A {n}-side polygon is called a {polygon_name}, the sum of its interior angles is {sum_angles} degrees.\")\n"
   ]
  }
 ],
 "metadata": {
  "kernelspec": {
   "display_name": "Python 3 (ipykernel)",
   "language": "python",
   "name": "python3"
  },
  "language_info": {
   "codemirror_mode": {
    "name": "ipython",
    "version": 3
   },
   "file_extension": ".py",
   "mimetype": "text/x-python",
   "name": "python",
   "nbconvert_exporter": "python",
   "pygments_lexer": "ipython3",
   "version": "3.10.2"
  }
 },
 "nbformat": 4,
 "nbformat_minor": 5
}
