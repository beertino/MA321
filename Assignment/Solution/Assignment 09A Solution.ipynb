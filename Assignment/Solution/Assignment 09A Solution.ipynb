{
 "cells": [
  {
   "cell_type": "markdown",
   "id": "f50cba70",
   "metadata": {},
   "source": [
    "**Question 9.1 (single alphabet test)**\n",
    "\n",
    "Write a function `single_alphabet()` which\n",
    "- takes in a string;\n",
    "- returns `True` if it is a single alphebet (from \"A\" to \"Z\" or from \"a\" to \"z\"); returns `False` otherwise."
   ]
  },
  {
   "cell_type": "code",
   "execution_count": null,
   "id": "02c10308",
   "metadata": {},
   "outputs": [],
   "source": [
    "def single_alphabet(s):\n",
    "    \n",
    "    return (len(s) == 1 and s.isalpha())\n",
    "    # alternatively\n",
    "    # return len(s) == 1 and (s.upper() in \"ABCDEFGHIJKLMNOPQRSTUVWXYZ\")"
   ]
  },
  {
   "cell_type": "markdown",
   "id": "a9c12c56",
   "metadata": {},
   "source": [
    "**Question 9.2 (*the Math behind NRIC*)**\n",
    "\n",
    "The last letter in a NRIC is called a *checksum*. This is to help check whether the actual IC numbers are valid and not just random numbers.\n",
    "\n",
    "The math goes like this:\n",
    "\n",
    "1. Take for example I want to test the NRIC number S1234567. The first digit you multiply by 2, second multiply by 7, third by 6, fourth by 5, fifth by 4, sixth by 3, seventh by 2. Then you add the totals together. So $1×2+2×7+3×6+4×5+5×4+6×3+7×2=106$.\n",
    "\n",
    "\n",
    "2. If the first letter of the NRIC starts with T or G, add 4 to the total.\n",
    "\n",
    "\n",
    "3. Then you divide the number by 11 and get the remainder. When 106 is divided by 11, the remainder is 7.\n",
    "\n",
    "\n",
    "4. You can get the alphabet depending on the IC type (the first letter in the IC) using the code below:\n",
    "- If the IC starts with S or T: 0=J, 1=Z, 2=I, 3=H, 4=G, 5=F, 6=E, 7=D, 8=C, 9=B, 10=A\n",
    "- If the IC starts with F or G: 0=X, 1=W, 2=U, 3=T, 4=R, 5=Q, 6=P, 7=N, 8=M, 9=L, 10=K\n",
    "\n",
    "5. Thus its `checksum` should be \"D\"\n",
    "\n",
    "Write a function `valid_NRIC()` which\n",
    "- takes in a string `nric`;\n",
    "- returns `True` if `nric` satisfies all the following conditions; returns `False` otherwise.\n",
    "- a. Its length is 9.\n",
    "- b. Its first character is \"S\", \"T\", \"F\", \"G\", accepting lower case. \n",
    "- c. Its next 7 characters are all digits from 0 to 9.\n",
    "- d. Its last character, *checksum*, is correct, accepting lower case.\n",
    "\n",
    "*Test cases:*\n",
    "```python\n",
    "valid_NRIC(\"A3512356X\") should return False\n",
    "valid_NRIC(\"S123456D\") should return False\n",
    "valid_NRIC(\"T1a34672E\") should return False\n",
    "valid_NRIC(\"S1234567D\") should return True\n",
    "valid_NRIC(\"g8212567t\") should return True\n",
    "valid_NRIC(your/your parent NRIC) should return True\n",
    "valid_NRIC(\"F8182603M\") should return False\n",
    "```"
   ]
  },
  {
   "cell_type": "code",
   "execution_count": 4,
   "id": "83dbf9d3",
   "metadata": {
    "scrolled": true
   },
   "outputs": [
    {
     "data": {
      "text/plain": [
       "False"
      ]
     },
     "execution_count": 4,
     "metadata": {},
     "output_type": "execute_result"
    }
   ],
   "source": [
    "def valid_NRIC(nric):\n",
    "    \n",
    "    length_test = (len(nric) == 9)\n",
    "    if length_test:\n",
    "        pass\n",
    "    else:\n",
    "        return False\n",
    "        \n",
    "    first_char = nric[0].upper()\n",
    "    first_char_test = (first_char in \"STFG\")\n",
    "    if first_char_test:\n",
    "        pass\n",
    "    else:\n",
    "        return False\n",
    "    \n",
    "    next_7 = nric[1:8]\n",
    "    next_7_test = next_7.isdecimal()\n",
    "    if next_7_test:\n",
    "        pass\n",
    "    else:\n",
    "        return False\n",
    "    \n",
    "    checksum = nric[8].upper()\n",
    "    \n",
    "    v = (int(nric[1]) * 2 + \n",
    "         int(nric[2]) * 7 + \n",
    "         int(nric[3]) * 6 + \n",
    "         int(nric[4]) * 5 + \n",
    "         int(nric[5]) * 4 + \n",
    "         int(nric[6]) * 3 + \n",
    "         int(nric[7]) * 2)    \n",
    "    if first_char in \"TG\":\n",
    "        v = v + 4\n",
    "    v = v % 11\n",
    "\n",
    "    if first_char in \"ST\":\n",
    "        checksum_test = ((v == 0 and checksum == \"J\") or\n",
    "                         (v == 1 and checksum == \"Z\") or\n",
    "                         (v == 2 and checksum == \"I\") or\n",
    "                         (v == 3 and checksum == \"H\") or\n",
    "                         (v == 4 and checksum == \"G\") or\n",
    "                         (v == 5 and checksum == \"F\") or\n",
    "                         (v == 6 and checksum == \"E\") or\n",
    "                         (v == 7 and checksum == \"D\") or\n",
    "                         (v == 8 and checksum == \"C\") or\n",
    "                         (v == 9 and checksum == \"B\") or\n",
    "                         (v == 10 and checksum == \"A\"))\n",
    "    # this block can be replaced with a shorter statement\n",
    "    # checksum_test = (\"JZIHGFEDCBA\"[v] == checksum)\n",
    "    else:\n",
    "        checksum_test = ((v == 0 and checksum == \"X\") or\n",
    "                         (v == 1 and checksum == \"W\") or\n",
    "                         (v == 2 and checksum == \"U\") or\n",
    "                         (v == 3 and checksum == \"T\") or\n",
    "                         (v == 4 and checksum == \"R\") or\n",
    "                         (v == 5 and checksum == \"Q\") or\n",
    "                         (v == 6 and checksum == \"P\") or\n",
    "                         (v == 7 and checksum == \"N\") or\n",
    "                         (v == 8 and checksum == \"M\") or\n",
    "                         (v == 9 and checksum == \"L\") or\n",
    "                         (v == 10 and checksum == \"K\"))\n",
    "    # this block can be replaced with a shorter statement\n",
    "    # checksum_test = (\"XWUTRQPNMLK\"[v] == checksum)\n",
    "    return checksum_test"
   ]
  }
 ],
 "metadata": {
  "kernelspec": {
   "display_name": "Python 3 (ipykernel)",
   "language": "python",
   "name": "python3"
  },
  "language_info": {
   "codemirror_mode": {
    "name": "ipython",
    "version": 3
   },
   "file_extension": ".py",
   "mimetype": "text/x-python",
   "name": "python",
   "nbconvert_exporter": "python",
   "pygments_lexer": "ipython3",
   "version": "3.10.2"
  }
 },
 "nbformat": 4,
 "nbformat_minor": 5
}
