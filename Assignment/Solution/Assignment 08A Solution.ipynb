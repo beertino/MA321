{
 "cells": [
  {
   "cell_type": "markdown",
   "id": "0404ccb9",
   "metadata": {},
   "source": [
    "**Question 8.1**\n",
    "\n",
    "Write a programe (using **`while`-loop**) to **count the number** of positive integers less than 2022 which are either multiples of 3, 5 or 7. Then print the result (correct answer is 1097)."
   ]
  },
  {
   "cell_type": "code",
   "execution_count": null,
   "id": "4f2cdd37",
   "metadata": {},
   "outputs": [],
   "source": [
    "n = 1\n",
    "count = 0\n",
    "keepgoing = True\n",
    "\n",
    "while keepgoing:\n",
    "    \n",
    "    if n % 3 == 0 or n % 5 == 0 or n % 7 == 0:\n",
    "        count = count + 1\n",
    "    \n",
    "    n = n + 1\n",
    "    keepgoing = (n < 2022)\n",
    "\n",
    "print(count)"
   ]
  },
  {
   "cell_type": "markdown",
   "id": "ef83fc8c",
   "metadata": {},
   "source": [
    "**Question 8.2**\n",
    "\n",
    "A **Diophantine equation** in two variables\n",
    "$$ ax + by = n$$\n",
    "where $a$, $b$ and $n$ are integers may have some **integer** solutions $(x,y)$.\n",
    "\n",
    "For example, (55, 16) is one of the integer solutions to the equation\n",
    "$$ 26x + 37y = 2022$$\n",
    "since $ 26(55) + 37(16) = 2022$.\n",
    "\n",
    "Write a program to find and print all the **positive integer solutions** to this equation in the form $(x, y)$. "
   ]
  },
  {
   "cell_type": "code",
   "execution_count": null,
   "id": "c25d237f",
   "metadata": {},
   "outputs": [],
   "source": [
    "a = 26\n",
    "b = 37\n",
    "n = 2022\n",
    "\n",
    "x = 1\n",
    "keepgoing = (a * x < n)\n",
    "\n",
    "while keepgoing:\n",
    "    \n",
    "    if (n - a * x) % b == 0:\n",
    "        y = (n - a * x) // b\n",
    "        print(f\"({x},{y})\")\n",
    "    \n",
    "    x = x + 1\n",
    "    keepgoing = (a * x < n)"
   ]
  },
  {
   "cell_type": "markdown",
   "id": "5b5fcc65",
   "metadata": {},
   "source": [
    "**Question 8.3**\n",
    "\n",
    "***Goldbach's conjecture*** is one of the oldest and best-known unsolved problems in number theory and all of mathematics. It states that every even whole number greater than 2 is the sum of two prime numbers.\n",
    "\n",
    "Write a function `goldbach_pair()` which\n",
    "- takes in one even number `m` greater than 2,\n",
    "- among all the pair of primes `(p, q)` such that $p + q = m$, return the pair where `p` and `q` are the **closest** to each other.\n",
    "\n",
    "You are expected to call the function `is_prime()` from **Example 8.3**.\n",
    "\n",
    "*Sample tests: (you may insert more)*\n",
    "```python\n",
    "goldbach_pair(4) should return (2, 2)\n",
    "goldbach_pair(6) should return (3, 3)\n",
    "goldbach_pair(8) should return (3, 5) (or (5, 3))\n",
    "goldbach_pair(10) should return (5, 5)\n",
    "goldbach_pair(98) should return (37, 61) (or (61, 37))\n",
    "goldbach_pair(2022) should return (1009, 1013) (or (1013, 1009))\n",
    "```"
   ]
  },
  {
   "cell_type": "code",
   "execution_count": null,
   "id": "7861ad9d",
   "metadata": {},
   "outputs": [],
   "source": [
    "def is_prime(p):\n",
    "    \n",
    "    if p == 1:\n",
    "        return False\n",
    "    \n",
    "    factors = 2\n",
    "    keepgoing = (factors ** 2 <= p)\n",
    "    \n",
    "    while keepgoing:\n",
    "        \n",
    "        if p % factors == 0:\n",
    "            return False\n",
    "        \n",
    "        factors = factors + 1\n",
    "        keepgoing = (factors ** 2 <= p)\n",
    "    \n",
    "    return True\n",
    "\n",
    "\n",
    "def goldbach_pair(m):\n",
    "    \n",
    "    p = m // 2\n",
    "    keepgoing = not(is_prime(p) and is_prime(m - p))\n",
    "    \n",
    "    while keepgoing:\n",
    "        p = p - 1\n",
    "        keepgoing = not(is_prime(p) and is_prime(m - p))\n",
    "    \n",
    "    return (p, m - p)"
   ]
  }
 ],
 "metadata": {
  "kernelspec": {
   "display_name": "Python 3 (ipykernel)",
   "language": "python",
   "name": "python3"
  },
  "language_info": {
   "codemirror_mode": {
    "name": "ipython",
    "version": 3
   },
   "file_extension": ".py",
   "mimetype": "text/x-python",
   "name": "python",
   "nbconvert_exporter": "python",
   "pygments_lexer": "ipython3",
   "version": "3.10.2"
  }
 },
 "nbformat": 4,
 "nbformat_minor": 5
}
