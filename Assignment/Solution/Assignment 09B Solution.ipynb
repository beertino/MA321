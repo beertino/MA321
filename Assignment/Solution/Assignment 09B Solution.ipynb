{
 "cells": [
  {
   "cell_type": "markdown",
   "id": "f50cba70",
   "metadata": {},
   "source": [
    "**Question 9B.1 (greatest digit)**\n",
    "\n",
    "Write a function `greatest_digit()` which\n",
    "- takes in a string;\n",
    "- returns the greatest digit as an **integer** in the string, or -1 if there is no digit found in the string.\n",
    "\n",
    "*Test cases:*\n",
    "```python\n",
    "greatest_digit(\"1 + 2 = 3\") should return 3\n",
    "greatest_digit(\"Dial 995 for emergency medical services\") should return 9\n",
    "greatest_digit(\"0 is an even number\") should return 0\n",
    "greatest_digit(\"I love Python!\") should return -1\n",
    "```"
   ]
  },
  {
   "cell_type": "code",
   "execution_count": 3,
   "id": "02c10308",
   "metadata": {},
   "outputs": [
    {
     "data": {
      "text/plain": [
       "9"
      ]
     },
     "execution_count": 3,
     "metadata": {},
     "output_type": "execute_result"
    }
   ],
   "source": [
    "def greatest_digit(s):\n",
    "    \n",
    "    g_digit = -1\n",
    "    \n",
    "    for c in s:\n",
    "        \n",
    "        if c.isdigit():\n",
    "            if int(c) > g_digit:\n",
    "                g_digit = int(c)\n",
    "                \n",
    "    return g_digit"
   ]
  }
 ],
 "metadata": {
  "kernelspec": {
   "display_name": "Python 3 (ipykernel)",
   "language": "python",
   "name": "python3"
  },
  "language_info": {
   "codemirror_mode": {
    "name": "ipython",
    "version": 3
   },
   "file_extension": ".py",
   "mimetype": "text/x-python",
   "name": "python",
   "nbconvert_exporter": "python",
   "pygments_lexer": "ipython3",
   "version": "3.10.2"
  }
 },
 "nbformat": 4,
 "nbformat_minor": 5
}
