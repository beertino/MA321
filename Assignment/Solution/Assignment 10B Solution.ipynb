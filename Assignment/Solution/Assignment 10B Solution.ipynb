{
 "cells": [
  {
   "cell_type": "markdown",
   "id": "f50cba70",
   "metadata": {},
   "source": [
    "**Question 10B.1**\n",
    "\n",
    "Write a function `replace()` which\n",
    "- takes in 3 arguments, a list `str_list` of strings, and two strings `old` and `new`.\n",
    "- replaces all items having the same value as `old` with the `new` in `str_list`, and returns the resultant list.\n",
    "\n",
    "*Sample Tests:*\n",
    "```python\n",
    "replace([\"A\", \"a\", \"b\"], \"a\", \"r\") shoud return ['A', 'r', 'b']\n",
    "replace([\"repeat\", \"unique\", \"repeat\", \"distinct\"], \"repeat\", \"x\") should return ['x', 'unique', 'x', 'distinct']\n",
    "replace([\"A\", \"B\"], \"a\", \"b\") should return ['A', 'B']\n",
    "```"
   ]
  },
  {
   "cell_type": "code",
   "execution_count": null,
   "id": "e9640b88",
   "metadata": {
    "scrolled": true
   },
   "outputs": [],
   "source": [
    "#method 1 - replacing the original list\n",
    "\n",
    "def replace(str_list, old, new):\n",
    "    \n",
    "    for i in range(len(str_list)):\n",
    "        \n",
    "        if str_list[i] == old:\n",
    "            str_list[i] = new\n",
    "    \n",
    "    return str_list"
   ]
  },
  {
   "cell_type": "code",
   "execution_count": null,
   "id": "02c10308",
   "metadata": {},
   "outputs": [],
   "source": [
    "#method 2 - creating a new list\n",
    "\n",
    "def replace(str_list, old, new):\n",
    "    \n",
    "    new_list = []\n",
    "    \n",
    "    for s in str_list:\n",
    "        \n",
    "        if s == old:\n",
    "            new_list.append(new)\n",
    "        else:\n",
    "            new_list.append(s)\n",
    "            \n",
    "    return new_list"
   ]
  },
  {
   "cell_type": "markdown",
   "id": "ac0d5147",
   "metadata": {},
   "source": [
    "Use the following test code for each of the two methods, do you see any difference?\n",
    "```python\n",
    "old_string = [\"1\", \"2\", \"3\"]\n",
    "\n",
    "new_string = replace(old_string, \"1\", \"0\")\n",
    "print(new_string)\n",
    "\n",
    "print(old_string)\n",
    "```\n",
    "We will explore the difference in the next lesson."
   ]
  },
  {
   "cell_type": "markdown",
   "id": "a9c12c56",
   "metadata": {},
   "source": [
    "**Question 10B.2 (Sieve of Eratosthenes)**"
   ]
  },
  {
   "cell_type": "markdown",
   "id": "fea935a7",
   "metadata": {
    "scrolled": true
   },
   "source": [
    "In mathematics, the *Sieve of Eratosthenes* is an ancient algorithm for finding all prime numbers up to any given limit.\n",
    "\n",
    "<p><img alt=\"Python Cartoon\" src=\"https://drive.google.com/uc?id=1dEiCyQqJTPCc3fj6xh3esvNMlwBl8Vg0\" width = \"200\" align=\"right\" vspace=\"0px\"></p>\n",
    "\n",
    "Take the following actions on a list of positive integers from 1 to n.\n",
    "\n",
    "(a) Cross out 1.\n",
    "\n",
    "(b) Circle 2. Cross out all the other multiples of 2.\n",
    "\n",
    "(c) Circle the number that is not crossed out (3 in this case). Cross out all the other mutiples of this number.\n",
    "\n",
    "(d) Continue doing this until all the numbers have either been circled or crossed out. The circled numbers are the prime numbers.\n",
    "\n",
    "Write a function `primes()` which\n",
    "- takes a positive integer `n`,\n",
    "- returns the list of prime numbers less or equal to `n`.\n",
    "\n",
    "Hint: you may create a list of integers from 1 to n by using `list(range())`.\n",
    "\n",
    "*Test Cases:*\n",
    "```python\n",
    "primes(7) should return [2, 3, 5, 7]\n",
    "primes(100) should return [2, 3, 5, 7, 11, 13, 17, 19, 23, 29, 31, 37, 41, 43, 47, 53, 59, 61, 67, 71, 73, 79, 83, 89, 97]\n",
    "primes(1) should return []\n",
    "```"
   ]
  },
  {
   "cell_type": "code",
   "execution_count": null,
   "id": "57577a84",
   "metadata": {},
   "outputs": [],
   "source": [
    "def primes(n):\n",
    "    \n",
    "    full_list = list(range(1, n + 1))\n",
    "    circled = []\n",
    "    \n",
    "    full_list.remove(1)\n",
    "    \n",
    "    while full_list != []:\n",
    "        \n",
    "        a_prime = full_list.pop(0)\n",
    "    \n",
    "        circled.append(a_prime)\n",
    "        \n",
    "        for num in full_list:\n",
    "            \n",
    "            if num % a_prime == 0:\n",
    "                full_list.remove(num)\n",
    "                \n",
    "    return circled\n",
    "\n",
    "print(primes(7))"
   ]
  },
  {
   "cell_type": "code",
   "execution_count": null,
   "id": "d4b053e2",
   "metadata": {},
   "outputs": [],
   "source": []
  }
 ],
 "metadata": {
  "kernelspec": {
   "display_name": "Python 3 (ipykernel)",
   "language": "python",
   "name": "python3"
  },
  "language_info": {
   "codemirror_mode": {
    "name": "ipython",
    "version": 3
   },
   "file_extension": ".py",
   "mimetype": "text/x-python",
   "name": "python",
   "nbconvert_exporter": "python",
   "pygments_lexer": "ipython3",
   "version": "3.10.2"
  }
 },
 "nbformat": 4,
 "nbformat_minor": 5
}
