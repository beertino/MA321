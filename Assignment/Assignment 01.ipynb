{
 "cells": [
  {
   "cell_type": "markdown",
   "id": "26bcc353",
   "metadata": {},
   "source": [
    "**Question 1.1 (*last 3 digits*)**\n",
    "\n",
    "Code below to find the last 3 digits of a positive integer `num`.\n",
    "\n",
    "Expected output:\n",
    "```\n",
    "321     when num = 12321\n",
    "0       when num = 1000\n",
    "99      when num = 99\n",
    "```"
   ]
  },
  {
   "cell_type": "code",
   "execution_count": null,
   "id": "2a12a39c",
   "metadata": {},
   "outputs": [],
   "source": [
    "#num = 12321\n",
    "\n",
    "#last_3_digits = \n",
    "\n",
    "#print(last_3_digits) ="
   ]
  },
  {
   "cell_type": "markdown",
   "id": "47c763ea",
   "metadata": {},
   "source": [
    "**Question 1.2 (*form an integer knowing its digits*)**\n",
    "\n",
    "Each positive integer can be calculated by its digits and powers of 10. For example:\n",
    "\n",
    "$$123456789 = 1 \\times 10^8 + 2 \\times 10^7 + 3 \\times 10^6 + 4 \\times 10^5 + 5 \\times 10^4 + 6 \\times 10^3 + 7 \\times 10^2 + 8 \\times 10^1 + 9 \\times 10^0 $$.\n",
    "\n",
    "Code below to find the 4-digit number `four_digit` knowing each of its digits `thousands_digit`, `hundreds_digit`, `tens_digit` and `ones_digit`.\n",
    "\n",
    "Expected output:\n",
    "```\n",
    "2021     when thousands_digit = 2, hundreds_digit = 0, tens_digit = 2 and ones_digit = 1\n",
    "9753     when thousands_digit = 9, hundreds_digit = 7, tens_digit = 5 and ones_digit = 3\n",
    "```"
   ]
  },
  {
   "cell_type": "code",
   "execution_count": null,
   "id": "12f23567",
   "metadata": {},
   "outputs": [],
   "source": [
    "#thousands_digit = 2\n",
    "#hundreds_digit = 0\n",
    "#tens_digit = 2\n",
    "#ones_digit = 1\n",
    "\n",
    "#four_digit = \n",
    "\n",
    "#print(four_digit)"
   ]
  },
  {
   "cell_type": "markdown",
   "id": "1ab893f8",
   "metadata": {},
   "source": [
    "**Question 1.3 (*insert `()`*)**\n",
    "```python\n",
    "current = 100 // 7 + 2 ** 4 - 2 * 2\n",
    "```\n",
    "The value of `current` is 26. This value can be altered by inserting pair(s) of `()`.\n",
    "\n",
    "You task is to obtain the maximum and minimum possible values by doing so."
   ]
  },
  {
   "cell_type": "code",
   "execution_count": null,
   "id": "08f7278b",
   "metadata": {},
   "outputs": [],
   "source": [
    "current = 100 // 7 + 2 ** 4 - 2 * 2\n",
    "\n",
    "maximum = 100 // 7 + 2 ** 4 - 2 * 2 #<- insert ()s here\n",
    "minimum = 100 // 7 + 2 ** 4 - 2 * 2 #<- insert ()s here\n",
    "\n",
    "print(maximum)\n",
    "print(minimum)"
   ]
  },
  {
   "cell_type": "markdown",
   "id": "a447fca8",
   "metadata": {},
   "source": [
    "**Question 1.4 (*power of `abs()`*)**\n",
    "\n",
    "In python, we can use `abs()` to find the absolute value of a number (`int`, `float` or `complex`), e.g. the value of `abs(-2)` is 2.\n",
    "\n",
    "Making use of `abs()`, find the larger number `larger` between two integers `num1` and `num2`.\n",
    "\n",
    "```\n",
    "Test Case 1:\n",
    "num1 = 15\n",
    "num2 = 17\n",
    "\n",
    "Expected output: 17\n",
    "-------------------\n",
    "Test Case 2:\n",
    "num1 = 18\n",
    "num2 = 17\n",
    "\n",
    "Expected output: 18\n",
    "```"
   ]
  },
  {
   "cell_type": "code",
   "execution_count": null,
   "id": "6a57571a",
   "metadata": {},
   "outputs": [],
   "source": [
    "#num1 = 15\n",
    "#num2 = 17\n",
    "\n",
    "#code to find the larger number here\n",
    "\n",
    "#print(larger)"
   ]
  },
  {
   "cell_type": "markdown",
   "id": "d22b1d1e",
   "metadata": {},
   "source": [
    "*Hint: recall you do you find two numbers given their sum and difference in Primary School.*"
   ]
  }
 ],
 "metadata": {
  "kernelspec": {
   "display_name": "Python 3 (ipykernel)",
   "language": "python",
   "name": "python3"
  },
  "language_info": {
   "codemirror_mode": {
    "name": "ipython",
    "version": 3
   },
   "file_extension": ".py",
   "mimetype": "text/x-python",
   "name": "python",
   "nbconvert_exporter": "python",
   "pygments_lexer": "ipython3",
   "version": "3.10.2"
  }
 },
 "nbformat": 4,
 "nbformat_minor": 5
}
