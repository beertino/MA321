{
 "cells": [
  {
   "cell_type": "markdown",
   "id": "f50cba70",
   "metadata": {},
   "source": [
    "**Question 10C.1**\n",
    "\n",
    "A string `\"a/b\"` where `a` and `b` are positive integers is used to represent the fraction \"`a` over `b`\". Write a function `sort_frac()` which\n",
    "- takes in a list of such strings, and a boolean value `rev` with default value `False`,\n",
    "- returns the sorted list ascending (when `rev` is `False`) or descending (when `rev` is `True`) order of these fractions.\n",
    "\n",
    "*Sample Test:*\n",
    "```Python\n",
    "sort_frac([\"1/3\", \"2/3\", \"1/2\", \"12/19\", \"34/71\"]) should return ['1/3', '34/71', '1/2', '12/19', '2/3']\n",
    "sort_frac([\"1/3\", \"2/3\", \"1/2\", \"12/19\", \"34/71\"], True) should return ['2/3', '12/19', '1/2', '34/71', '1/3']\n",
    "```"
   ]
  },
  {
   "cell_type": "code",
   "execution_count": 1,
   "id": "e9640b88",
   "metadata": {},
   "outputs": [],
   "source": [
    "# code here"
   ]
  },
  {
   "cell_type": "markdown",
   "id": "a9c12c56",
   "metadata": {},
   "source": [
    "**Question 10C.2**"
   ]
  },
  {
   "cell_type": "markdown",
   "id": "fea935a7",
   "metadata": {
    "scrolled": true
   },
   "source": [
    "The **gross domestic product (or GDP)** is the total value of goods produced and services provided in a country during one year. \n",
    "\n",
    "The nested list `gdp_2017` stores the country names, GDP (in billion US dollars) and population (in millions) for the year 2017. Run the code cell before attempting the example.\n",
    "(Data source: https://www.worldometers.info/gdp/gdp-by-country/)"
   ]
  },
  {
   "cell_type": "code",
   "execution_count": null,
   "id": "c29554b2",
   "metadata": {},
   "outputs": [],
   "source": [
    "gdp_2017 = [\n",
    "    [\"United States\", 19485, 325],\n",
    "    [\"China\", 12238, 1421],\n",
    "    [\"Japan\", 4872, 128],\n",
    "    [\"Germany\", 3693, 83],\n",
    "    [\"India\", 2651, 1339],\n",
    "    [\"United Kingdom\", 2638, 67],\n",
    "    [\"France\", 2583, 65],\n",
    "    [\"Brazil\", 2054, 208],\n",
    "    [\"Italy\", 1944, 61],\n",
    "    [\"Canada\", 1647, 37],\n",
    "    [\"Singapore\", 324, 5.7]\n",
    "]"
   ]
  },
  {
   "cell_type": "markdown",
   "id": "1e516e97",
   "metadata": {},
   "source": [
    "**Part (a)**\n",
    "\n",
    "Write a function `search()` which\n",
    "- takes in the list `gdp_2017` and a string representing a country name,\n",
    "- returns the list containing the name, GDP and population size if the name (case-sensitive) can be found; returns `False` otherwise.\n",
    "\n",
    "*Sample Tests:*:\n",
    "```Python\n",
    "search(gdp_2017, \"Singapore\") should return ['Singapore', 324, 5.7]\n",
    "search(gdp_2017, \"US\") should return False\n",
    "search(gdp_2017, \"china\") should return False\n",
    "```"
   ]
  },
  {
   "cell_type": "code",
   "execution_count": 2,
   "id": "437378aa",
   "metadata": {},
   "outputs": [],
   "source": [
    "# code part (a) here"
   ]
  },
  {
   "cell_type": "markdown",
   "id": "258f779f",
   "metadata": {},
   "source": [
    "**Part (b)**\n",
    "\n",
    "Write a function `sort_population()` which\n",
    "- takes in the list `gdp_2017`,\n",
    "- returns the sorted list in descending order of population.\n",
    "\n",
    "Expected returned value of `sort_population(gdp_2017)` is*\n",
    "```python\n",
    "[['China', 12238, 1421],\n",
    " ['India', 2651, 1339],\n",
    " ['United States', 19485, 325],\n",
    " ['Brazil', 2054, 208],\n",
    " ['Japan', 4872, 128],\n",
    " ['Germany', 3693, 83],\n",
    " ['United Kingdom', 2638, 67],\n",
    " ['France', 2583, 65],\n",
    " ['Italy', 1944, 61],\n",
    " ['Canada', 1647, 37],\n",
    " ['Singapore', 324, 5.7]]\n",
    "```"
   ]
  },
  {
   "cell_type": "code",
   "execution_count": 3,
   "id": "1469c2f2",
   "metadata": {},
   "outputs": [],
   "source": [
    "# code part (b) here"
   ]
  },
  {
   "cell_type": "markdown",
   "id": "5ac4f2ea",
   "metadata": {},
   "source": [
    "**Part (c)**\n",
    "\n",
    "One of the criteria to define *developed countries* is the **GDP per Capital**. The threshold is commonly set to be above US $25,000. Using this criterion only, write a function `developed()`, which\n",
    "- takes in the list `gdp_2017`,\n",
    "- returns the list of the developed country names.\n",
    "\n",
    "Expected returned value of `developed(gdp_2017)` is\n",
    "```Python\n",
    "['United States',\n",
    " 'Japan',\n",
    " 'Germany',\n",
    " 'United Kingdom',\n",
    " 'France',\n",
    " 'Italy',\n",
    " 'Canada',\n",
    " 'Singapore']\n",
    "```"
   ]
  },
  {
   "cell_type": "code",
   "execution_count": 4,
   "id": "0b19b5a3",
   "metadata": {},
   "outputs": [],
   "source": [
    "# code part (c) here"
   ]
  }
 ],
 "metadata": {
  "kernelspec": {
   "display_name": "Python 3 (ipykernel)",
   "language": "python",
   "name": "python3"
  },
  "language_info": {
   "codemirror_mode": {
    "name": "ipython",
    "version": 3
   },
   "file_extension": ".py",
   "mimetype": "text/x-python",
   "name": "python",
   "nbconvert_exporter": "python",
   "pygments_lexer": "ipython3",
   "version": "3.10.2"
  }
 },
 "nbformat": 4,
 "nbformat_minor": 5
}
