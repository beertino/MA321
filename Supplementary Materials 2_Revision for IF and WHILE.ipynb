{
 "cells": [
  {
   "cell_type": "markdown",
   "id": "82ee988a",
   "metadata": {},
   "source": [
    "**Question 1**\n",
    "\n",
    "In solving a linear inequality\n",
    "$$ ax < b, $$\n",
    "we need to be careful when dividing both sides by $a$.\n",
    "\n",
    "Write a **function** `inequality_l()` which\n",
    "- takes in two integer arguments `a` and `b`,\n",
    "- prints (not returns) its solution to the inequality `ax < b`.\n",
    "\n",
    "Rounding is not required.\n",
    "\n",
    "*Test Cases:*\n",
    "```python\n",
    "inequality_L(3, 6) should print \"x < 2.0\"\n",
    "inequality_L(-3, 2) should print \"x > -0.6666666666666666\"\n",
    "inequality_L(0, 1) should print \"x can be any real number\"\n",
    "inequality_L(0, -3) should print \"No solution\"\n",
    "inequality_L(0, 0) should print \"No solution\"\n",
    "```"
   ]
  },
  {
   "cell_type": "code",
   "execution_count": null,
   "id": "1af1e754",
   "metadata": {},
   "outputs": [],
   "source": [
    "# code here"
   ]
  },
  {
   "cell_type": "markdown",
   "id": "ed58ffe0",
   "metadata": {},
   "source": [
    "**Question 2(i)**\n",
    "\n",
    "*You are not allowed to import any libraries in answering this part.*\n",
    "\n",
    "Write a **function** `hcf()` which\n",
    "- takes in two positive integer arguments `a` and `b`,\n",
    "- returns the highest common factor of `a` and `b`.\n",
    "\n",
    "*Test Cases:*\n",
    "```python\n",
    "hcf(12, 24) should return 12\n",
    "hcf(25, 10) should return 5\n",
    "hcf(1, 2022) should return 1\n",
    "hcf(2022, 2022) should return 2022\n",
    "```\n",
    "Use **two different** methods with the hints given."
   ]
  },
  {
   "cell_type": "code",
   "execution_count": null,
   "id": "a9fa97e8",
   "metadata": {},
   "outputs": [],
   "source": [
    "# Method 1\n",
    "def hcf(a, b):\n",
    "    \n",
    "    h = 1\n",
    "    factor = 2\n",
    "    keepgoing = (factor <= a) and (factor <= b)\n",
    "    \n",
    "    # code here\n",
    "    \n",
    "    \n",
    "    return h"
   ]
  },
  {
   "cell_type": "code",
   "execution_count": null,
   "id": "05ffbf5d",
   "metadata": {},
   "outputs": [],
   "source": [
    "# Method 2\n",
    "def hcf(a, b):\n",
    "    \n",
    "    if a <= b:\n",
    "        h = a\n",
    "    else:\n",
    "        h = b\n",
    "        \n",
    "    # code here"
   ]
  },
  {
   "cell_type": "markdown",
   "id": "6c9dfe88",
   "metadata": {},
   "source": [
    "**Question 2(ii)**\n",
    "\n",
    "*You are not allowed to import any libraries in answering this part.*\n",
    "\n",
    "Write a **function** `lcm()` which\n",
    "- takes in two positive integer arguments `a` and `b`,\n",
    "- returns the lowest common multiple of `a` and `b` as an **integer**.\n",
    "\n",
    "Hint:\n",
    "$$ a\\times b = hcf(a, b) \\times lcm (a, b)$$\n",
    "\n",
    "*Test Cases:*\n",
    "```python\n",
    "lcm(12, 24) should return 24\n",
    "lcm(25, 10) should return 50\n",
    "lcm(1, 2022) should return 2022\n",
    "lcm(2022, 2022) should return 2022\n",
    "```"
   ]
  },
  {
   "cell_type": "code",
   "execution_count": null,
   "id": "f2f3a418",
   "metadata": {},
   "outputs": [],
   "source": [
    "# code here"
   ]
  },
  {
   "cell_type": "markdown",
   "id": "7a17119f",
   "metadata": {},
   "source": [
    "**Question 2(iii)**\n",
    "\n",
    "*You are not allowed to import any libraries in answering this part.*\n",
    "\n",
    "Write a **function** `hcf3()` which\n",
    "- takes in three positive integer arguments `a`, `b` and `c`,\n",
    "- returns the highest common factor of `a`, `b` and `c`.\n",
    "\n",
    "Hint: you may find the highest common factor of two numbers first, then find the highest common factor of this result and the remaining number.\n",
    "\n",
    "*Test Cases:*\n",
    "```python\n",
    "hcf3(4, 6, 9) should return 1\n",
    "hcf3(10, 15, 20) should return 5\n",
    "hcf3(9, 99, 999) should return 9\n",
    "hcf3(2022, 1011, 2022) should return 1011\n",
    "```"
   ]
  },
  {
   "cell_type": "code",
   "execution_count": null,
   "id": "833a036f",
   "metadata": {},
   "outputs": [],
   "source": [
    "# code here"
   ]
  },
  {
   "cell_type": "markdown",
   "id": "0030a3cb",
   "metadata": {},
   "source": [
    "**Question 3**\n",
    "\n",
    "An integer **lattice** point (or a **lattice** point) on the *xy*-plane is a point whose coordinates are both integers. For example, the point $(3, -5)$ is a lattice point but the point $(0.5, 0)$ is not.\n",
    "\n",
    "A triangular region **R** is bounded bu three lines with the following equations:\n",
    "\n",
    "$$x + y = 200, x + 3y = 0 \\text{ and } 3x + y = 0.$$"
   ]
  },
  {
   "cell_type": "markdown",
   "id": "967e7a72",
   "metadata": {},
   "source": [
    "**Part 3(a)**\n",
    "\n",
    "Write a **function** `on_boundary` which\n",
    "- takes in two integers `x` and `y` in order,\n",
    "- returns `True` if the lattice point (`x`, `y`) is on the boundaries of **R**; return `False` otherwise.\n",
    "\n",
    "*Test Cases:*\n",
    "```python\n",
    "on_boundary(30, -10) should return True\n",
    "on_boundary(60, 140) should return True\n",
    "on_boundary(0, 0) should return True\n",
    "on_boundary(1, 3) should return False\n",
    "```"
   ]
  },
  {
   "cell_type": "code",
   "execution_count": null,
   "id": "2b9b3e72",
   "metadata": {},
   "outputs": [],
   "source": [
    "# code here"
   ]
  },
  {
   "cell_type": "markdown",
   "id": "1cc9a86c",
   "metadata": {},
   "source": [
    "**Part 3(b)**\n",
    "\n",
    "It is given that any lattice points $(x,y)$ inside **R** must satisfy all the following inequalities:\n",
    "\n",
    "$$x+y<200, x+3y>0\\text{ and } 3x+y >0.$$\n",
    "\n",
    "Write a **program** to count the total number of lattice points inside **R** using nested loops, then print this number."
   ]
  },
  {
   "cell_type": "code",
   "execution_count": 5,
   "id": "acc368b6",
   "metadata": {},
   "outputs": [],
   "source": [
    "# code here"
   ]
  },
  {
   "cell_type": "markdown",
   "id": "e9198394",
   "metadata": {},
   "source": [
    "# Sample Solutions"
   ]
  },
  {
   "cell_type": "markdown",
   "id": "2167da2e",
   "metadata": {},
   "source": [
    "**Question 1**"
   ]
  },
  {
   "cell_type": "code",
   "execution_count": null,
   "id": "4baa5bee",
   "metadata": {},
   "outputs": [],
   "source": [
    "def inequality_L(a, b):\n",
    "    \n",
    "    if a == 0:\n",
    "        \n",
    "        if b > 0:\n",
    "            print(\"x can be any real number\")\n",
    "            \n",
    "        if b < 0:\n",
    "            print(\"No solution\")\n",
    "    \n",
    "    else:\n",
    "        \n",
    "        if a > 0:\n",
    "            print(\"x <\", b / a)\n",
    "        \n",
    "        else:\n",
    "            print(\"x >\", b / a)"
   ]
  },
  {
   "cell_type": "markdown",
   "id": "238ee8bb",
   "metadata": {},
   "source": [
    "**Question 2(i)**"
   ]
  },
  {
   "cell_type": "code",
   "execution_count": null,
   "id": "c787755b",
   "metadata": {},
   "outputs": [],
   "source": [
    "# Method 1\n",
    "\n",
    "def hcf(a, b):\n",
    "    \n",
    "    h = 1\n",
    "    factor = 2\n",
    "    keepgoing = (factor <= a) and (factor <= b)\n",
    "    \n",
    "    while keepgoing:\n",
    "        \n",
    "        if a % factor == 0 and b % factor == 0:\n",
    "            h = h * factor\n",
    "            a = a // factor\n",
    "            b = b // factor\n",
    "        \n",
    "        else:\n",
    "            factor = factor + 1\n",
    "        \n",
    "        keepgoing = (factor <= a) and (factor <= b)\n",
    "    \n",
    "    return h"
   ]
  },
  {
   "cell_type": "code",
   "execution_count": null,
   "id": "365f9bf7",
   "metadata": {},
   "outputs": [],
   "source": [
    "# Method 2\n",
    "\n",
    "def hcf(a, b):\n",
    "    \n",
    "    if a <= b:\n",
    "        h = a\n",
    "    else:\n",
    "        h = b\n",
    "    \n",
    "    while True:\n",
    "        \n",
    "        if a % h == 0 and b % h == 0:\n",
    "            return h\n",
    "        \n",
    "        h = h - 1"
   ]
  },
  {
   "cell_type": "markdown",
   "id": "ab53b6b4",
   "metadata": {},
   "source": [
    "**Question 2(ii)**"
   ]
  },
  {
   "cell_type": "code",
   "execution_count": null,
   "id": "50ca8875",
   "metadata": {},
   "outputs": [],
   "source": [
    "def lcm(a, b):\n",
    "    \n",
    "    return a * b // hcf(a, b)"
   ]
  },
  {
   "cell_type": "markdown",
   "id": "b866d2b4",
   "metadata": {},
   "source": [
    "**Question 2(iii)**"
   ]
  },
  {
   "cell_type": "code",
   "execution_count": null,
   "id": "5f9f3cba",
   "metadata": {},
   "outputs": [],
   "source": [
    "def hcf3(a, b, c):\n",
    "    \n",
    "    h = hcf(a, b)\n",
    "    \n",
    "    return hcf(h, c)"
   ]
  },
  {
   "cell_type": "markdown",
   "id": "3d29c32c",
   "metadata": {},
   "source": [
    "**Question 3(a)**"
   ]
  },
  {
   "cell_type": "code",
   "execution_count": 3,
   "id": "c12d916c",
   "metadata": {},
   "outputs": [],
   "source": [
    "def on_boundary(x, y):\n",
    "    \n",
    "    b1 = (x + y == 200)\n",
    "    b2 = (x + 3 * y == 0)\n",
    "    b3 = (3 * x + y == 0)\n",
    "    \n",
    "    return b1 or b2 or b3"
   ]
  },
  {
   "cell_type": "markdown",
   "id": "07858750",
   "metadata": {},
   "source": [
    "**Question 3(b)**"
   ]
  },
  {
   "cell_type": "code",
   "execution_count": 4,
   "id": "f111b920",
   "metadata": {},
   "outputs": [
    {
     "name": "stdout",
     "output_type": "stream",
     "text": [
      "39701\n"
     ]
    }
   ],
   "source": [
    "counter = 0\n",
    "x = -100            # by sketching, we know x and y must be between -100 and 300.\n",
    "keepgoing_x = True\n",
    "\n",
    "while keepgoing_x:\n",
    "    \n",
    "    y = -100        # by sketching, we know x and y must be between -100 and 300.\n",
    "    keepgoing_y = True\n",
    "    \n",
    "    while keepgoing_y:\n",
    "    \n",
    "        if (x + y < 200) and (x + 3 * y > 0) and (3 * x + y > 0):\n",
    "             counter = counter + 1\n",
    "                \n",
    "        y = y + 1\n",
    "        keepgoing_y = (y <= 300)\n",
    "    \n",
    "    x = x + 1\n",
    "    keepgoing_x = (x <= 300)\n",
    "\n",
    "print(counter)"
   ]
  }
 ],
 "metadata": {
  "kernelspec": {
   "display_name": "Python 3 (ipykernel)",
   "language": "python",
   "name": "python3"
  },
  "language_info": {
   "codemirror_mode": {
    "name": "ipython",
    "version": 3
   },
   "file_extension": ".py",
   "mimetype": "text/x-python",
   "name": "python",
   "nbconvert_exporter": "python",
   "pygments_lexer": "ipython3",
   "version": "3.10.2"
  }
 },
 "nbformat": 4,
 "nbformat_minor": 5
}
