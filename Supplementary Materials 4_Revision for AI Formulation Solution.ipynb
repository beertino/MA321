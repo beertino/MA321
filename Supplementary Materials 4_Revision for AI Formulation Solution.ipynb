{
 "cells": [
  {
   "cell_type": "markdown",
   "id": "200f8faf",
   "metadata": {},
   "source": [
    "**Question (Sort Ball Puzzle)**\n",
    "\n",
    "\n",
    "Ball Sort Puzzle is a fun and addictive puzzle game! Try to sort the colored balls in the tubes **until all balls with the same color stay in the same tube**. A challenging yet relaxing game to exercise your brain!\n",
    "\n",
    "HOW TO PLAY:\n",
    "\n",
    "- The rule is that you can only move a ball on top of another ball if both of them have the same color.\n",
    "- You can always move a ball to an empty tube.\n",
    "\n",
    "The diagrams below shows the initial state of a game and a possible goal state.\n",
    "\n",
    "<p><img alt=\"colour ball puzzle initial\" src=\"https://drive.google.com/uc?id=15mQNRC3cXvhLNbBCjkGVQfLA12X7hjyI\" width = \"400\" align=\"left\" vspace=\"0px\"></p>\n",
    "\n",
    "<p><img alt=\"colour ball puzzle goal\" src=\"https://drive.google.com/uc?id=1EGXzQ8kMe045oFLvwughkXefmVespjtW\" width = \"400\" align=\"right\" vspace=\"0px\"></p>"
   ]
  },
  {
   "cell_type": "markdown",
   "id": "9778c15d",
   "metadata": {},
   "source": [
    "Your task is to formulate this problem into a standard AI searching problem.\n",
    "\n",
    "**State** ($s$): an **abstraction/representation** of the environment.\n",
    "\n",
    "**State space** ($S$): the set of all the possible states. $S=\\{s_0, s_1, s_2, s_3, ..., s_n\\}$.\n",
    "\n",
    "**Initial state** ($s_0$): starting state of the environment.\n",
    "\n",
    "**Goal state**: the state or the set of states that satisfies the environment conditions that we wish the agent to achieve.\n",
    "\n",
    "**Goal test** ($G$): a function $G$, such that $G(s_i)$ allows us to determine if $s_i$ is a goal state.\n",
    "\n",
    "**Actions** ($A$): a function $A$, such that $A(s_i)$ returns the actions that may be taken at state $s_i$.\n",
    "\n",
    "**Transition** ($T$): a function $T$, such that $T(s_i, a_k)\\rightarrow s_j$, where $s_j$ corresponds to the resultant state when applying action $a_k$ at the state $s_i$.\n",
    "\n",
    "**Action Cost** ($C$): a function $C$, such that $C(s_i, a_k, s_j)\\rightarrow cost$, which is the numeric cost of applying action $a_k$ in state $s_i$ to reach $s_j$.\n",
    "\n",
    "Formulate the puzzle to a search problem, given its `intial_state`.\n",
    "1. Define the goal test function the `goal_test(s)`. As the goal_state is not unique, it may not be convenient to set a single value for `goal_state`.\n",
    "2. Define the actions function `get_actions(s)`. The representation of an action should be **reader friendly**.\n",
    "3. Define the transition function `transition(s, a)`.\n",
    "\n",
    "The variables\n",
    "- `cap` stores the capacity of the tube (4 in this problem).\n",
    "- `no_of_colours` stores the number of different ball colours (3 in this problem).\n",
    "- `no_of_balls` stores the number of balls for each colour (4 in this problem).\n",
    "\n",
    "You are encouraged to test your functions with your own test cases. If all your functions are working fine, the solution can be found by running the searching alogrithm below."
   ]
  },
  {
   "cell_type": "code",
   "execution_count": 14,
   "id": "587616d8",
   "metadata": {},
   "outputs": [
    {
     "name": "stdout",
     "output_type": "stream",
     "text": [
      "[]\n"
     ]
    },
    {
     "data": {
      "text/plain": [
       "['122', '123', '313', '312']"
      ]
     },
     "execution_count": 14,
     "metadata": {},
     "output_type": "execute_result"
    }
   ],
   "source": [
    "initial_state = [\"\", \"14\", \"31\", \"23\", \"24\", \"\"]\n",
    "cap = 2 # capacity of the tube\n",
    "no_of_colours = 4 # number of colours\n",
    "no_of_balls = 2 # number of balls for each colour\n",
    "\n",
    "def goal_test(s):\n",
    "    \n",
    "    for col in range(1, no_of_colours + 1):\n",
    "        if str(col) * no_of_balls not in s: #\"1\"*4 in s?\n",
    "            return False\n",
    "    return True\n",
    "\n",
    "def action_cost(old_s, a, new_s):\n",
    "    return 1\n",
    "\n",
    "def get_actions(s):\n",
    "    actions = []\n",
    "    no_of_tubes = len(s)\n",
    "    for i in range(no_of_tubes):\n",
    "    \n",
    "        if s[i] != \"\":\n",
    "            for j in range(no_of_tubes):\n",
    "                \n",
    "                if j != i:\n",
    "                    if s[j] == \"\":\n",
    "                        actions.append(str(i)+\"->\"+str(j))\n",
    "                    else:\n",
    "                        if s[i][-1] == s[j][-1] and len(s[j]) < cap:\n",
    "                            actions.append(str(i)+\"->\"+str(j))\n",
    "    return actions\n",
    "\n",
    "print(get_actions([\"12\", \"123\", \"3132\", \"312\"]))\n",
    "\n",
    "def transition(state, a):\n",
    "   \n",
    "    s = state.copy()\n",
    "    arrow = a.find(\"->\")\n",
    "    i = int(a[:arrow])\n",
    "    j = int(a[arrow+2:])\n",
    "    s[j] = s[j] + s[i][-1]\n",
    "    s[i] = s[i][:-1]\n",
    "    return s\n",
    "transition([\"12\", \"123\", \"3132\", \"312\"], \"2->0\")"
   ]
  },
  {
   "cell_type": "code",
   "execution_count": 15,
   "id": "48e11da0",
   "metadata": {},
   "outputs": [
    {
     "name": "stdout",
     "output_type": "stream",
     "text": [
      "Goal ['44', '11', '33', '', '22', ''] reached with cost 5! Path taken is ['1->0', '2->1', '3->2', '4->0', '3->4']\n"
     ]
    }
   ],
   "source": [
    "def play0p(init_s):\n",
    "\n",
    "    path = []\n",
    "    history = []\n",
    "    cost = 0\n",
    "    frontier = [(init_s, path, history, cost)]\n",
    "    optimal = ([], [], [], 99999999)\n",
    "\n",
    "    while len(frontier) > 0:\n",
    "        \n",
    "        node = frontier.pop(0)\n",
    "        if goal_test(node[0]):\n",
    "            return node\n",
    "            if node[3] < optimal[3]:\n",
    "                optimal = node\n",
    "\n",
    "        else:\n",
    " \n",
    "            state = node[0]\n",
    "            \n",
    "            for action in get_actions(state):\n",
    "                new_state = transition(state, action)\n",
    "\n",
    "                if new_state not in node[2]:\n",
    "                \n",
    "                    new_path = node[1].copy()\n",
    "                    new_path.append(action)\n",
    "                    \n",
    "                    new_history = node[2].copy()\n",
    "                    new_history.append(state)\n",
    "                    \n",
    "                    new_cost = node[3] + action_cost(state, action, new_state)\n",
    "                    if new_cost < optimal[3]:\n",
    "                        frontier.append((new_state, new_path, new_history, new_cost))\n",
    "    \n",
    "    if optimal[2] == []:\n",
    "        return None\n",
    "    else:\n",
    "        return optimal\n",
    "    \n",
    "solution = play0p(initial_state)\n",
    "\n",
    "if solution == None:\n",
    "    print(\"no solution!\")\n",
    "else:\n",
    "    print(f'Goal {solution[0]} reached with cost {solution[3]}! Path taken is {solution[1]}')"
   ]
  }
 ],
 "metadata": {
  "kernelspec": {
   "display_name": "Python 3 (ipykernel)",
   "language": "python",
   "name": "python3"
  },
  "language_info": {
   "codemirror_mode": {
    "name": "ipython",
    "version": 3
   },
   "file_extension": ".py",
   "mimetype": "text/x-python",
   "name": "python",
   "nbconvert_exporter": "python",
   "pygments_lexer": "ipython3",
   "version": "3.10.2"
  }
 },
 "nbformat": 4,
 "nbformat_minor": 5
}
