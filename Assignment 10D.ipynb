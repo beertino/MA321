{
 "cells": [
  {
   "cell_type": "markdown",
   "id": "f50cba70",
   "metadata": {},
   "source": [
    "**Question 10D.1**\n",
    "\n",
    "We can use a nested list to represent a maze. For example, the nested list\n",
    "<p><img alt=\"Maze\" src=\"https://drive.google.com/uc?id=1Nqt0j_T2Y5qXM5KnS2D93EDdVWZgrpgQ\" width = \"150\" align=\"right\" vspace=\"0px\"></p>\n",
    "\n",
    "```python\n",
    "maze = [\n",
    "    [0, 0, 0, 0, 0, 0, 0],\n",
    "    [0, 1, 1, 1, 0, 1, 0],\n",
    "    [0, 1, 0, 0, 0, 1, 0],\n",
    "    [0, 1, 1, 0, 0, 1, 0],\n",
    "    [0, 0, 0, 1, 0, 1, 0],\n",
    "    [0, 1, 1, 1, 1, 1, 0],\n",
    "    [0, 0, 0, 0, 0, 0, 0]\n",
    "]\n",
    "```\n",
    "is a possible represenation of the given maze, where 0 represents the wall, 1 represents the path.\n",
    "\n",
    "```loc = [3, 3]``` represents the current location (row 3, column 3 counting from 0) of the object."
   ]
  },
  {
   "cell_type": "markdown",
   "id": "40c6bb70",
   "metadata": {},
   "source": [
    "Run the code below before proceeding to the next part."
   ]
  },
  {
   "cell_type": "code",
   "execution_count": null,
   "id": "604b99df",
   "metadata": {},
   "outputs": [],
   "source": [
    "maze = [\n",
    "    [0, 0, 0, 0, 0, 0, 0],\n",
    "    [0, 1, 1, 1, 0, 1, 0],\n",
    "    [0, 1, 0, 0, 0, 1, 0],\n",
    "    [0, 1, 1, 0, 0, 1, 0],\n",
    "    [0, 0, 0, 1, 0, 1, 0],\n",
    "    [0, 1, 1, 1, 1, 1, 0],\n",
    "    [0, 0, 0, 0, 0, 0, 0]\n",
    "]\n",
    "\n",
    "loc = [3, 3]"
   ]
  },
  {
   "cell_type": "markdown",
   "id": "57c89949",
   "metadata": {},
   "source": [
    "**Part (a)**\n",
    "\n",
    "Write a function `get_actions()`, which\n",
    "- takes in the location of the object\n",
    "- returns the list of directions (\"L\", \"R\", \"U\", \"D\"), if the object is able to move by one unit in the direction.\n",
    "\n",
    "*Sample Test:*\n",
    "```python\n",
    "get_actions([3, 3]) should return ['D', 'L']\n",
    "get_actions([1, 2]) should return ['L', 'R']\n",
    "get_actions([5, 3]) should return ['U', 'L', 'R']\n",
    "get_actions([5, 1]) should return ['R']\n",
    "```"
   ]
  },
  {
   "cell_type": "code",
   "execution_count": null,
   "id": "e9640b88",
   "metadata": {},
   "outputs": [],
   "source": [
    "# code here"
   ]
  },
  {
   "cell_type": "markdown",
   "id": "262a8c27",
   "metadata": {},
   "source": [
    "**Part (b)**\n",
    "\n",
    "Write a function `transition()`, which\n",
    "- takes in `loc, a`, which `loc` represents the location of the object, `a` represents a feasible movement \"L\", \"R\", \"U\" or \"D\" for the current location. \n",
    "- returns the new position `new_loc` after the movement.\n",
    "\n",
    "*The expected output of the test below*\n",
    "```python\n",
    "new_loc = transition(loc, \"D\")\n",
    "print(new_loc)\n",
    "print(loc)\n",
    "```\n",
    "*is*\n",
    "```python\n",
    "[4, 3]\n",
    "[3, 3]\n",
    "```"
   ]
  },
  {
   "cell_type": "code",
   "execution_count": null,
   "id": "979161af",
   "metadata": {},
   "outputs": [],
   "source": [
    "#code here\n",
    "\n",
    "\n",
    "\n",
    "#test code\n",
    "new_loc = transition(loc, \"D\")\n",
    "print(new_loc)\n",
    "print(loc)"
   ]
  }
 ],
 "metadata": {
  "kernelspec": {
   "display_name": "Python 3 (ipykernel)",
   "language": "python",
   "name": "python3"
  },
  "language_info": {
   "codemirror_mode": {
    "name": "ipython",
    "version": 3
   },
   "file_extension": ".py",
   "mimetype": "text/x-python",
   "name": "python",
   "nbconvert_exporter": "python",
   "pygments_lexer": "ipython3",
   "version": "3.10.2"
  }
 },
 "nbformat": 4,
 "nbformat_minor": 5
}
