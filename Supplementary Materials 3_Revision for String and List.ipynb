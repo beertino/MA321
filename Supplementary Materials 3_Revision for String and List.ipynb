{
 "cells": [
  {
   "cell_type": "markdown",
   "id": "c6037dc4",
   "metadata": {},
   "source": [
    "# Make Use of `help` Function"
   ]
  },
  {
   "cell_type": "code",
   "execution_count": null,
   "id": "f2f3a418",
   "metadata": {},
   "outputs": [],
   "source": [
    "help(str)"
   ]
  },
  {
   "cell_type": "code",
   "execution_count": null,
   "id": "833a036f",
   "metadata": {},
   "outputs": [],
   "source": [
    "help(str.index)"
   ]
  },
  {
   "cell_type": "code",
   "execution_count": null,
   "id": "2b9b3e72",
   "metadata": {},
   "outputs": [],
   "source": [
    "help(list)"
   ]
  },
  {
   "cell_type": "code",
   "execution_count": null,
   "id": "acc368b6",
   "metadata": {},
   "outputs": [],
   "source": [
    "help(list.pop)"
   ]
  },
  {
   "cell_type": "markdown",
   "id": "a7786303",
   "metadata": {},
   "source": [
    "# Important Built-in Functions"
   ]
  },
  {
   "cell_type": "code",
   "execution_count": null,
   "id": "d52e93cb",
   "metadata": {},
   "outputs": [],
   "source": [
    "help(len)"
   ]
  },
  {
   "cell_type": "code",
   "execution_count": null,
   "id": "9afdddb0",
   "metadata": {},
   "outputs": [],
   "source": [
    "help(range)"
   ]
  },
  {
   "cell_type": "code",
   "execution_count": null,
   "id": "0835afbb",
   "metadata": {},
   "outputs": [],
   "source": [
    "help(sorted)"
   ]
  },
  {
   "cell_type": "markdown",
   "id": "2881f9e2",
   "metadata": {},
   "source": [
    "## Practice Questions"
   ]
  },
  {
   "cell_type": "markdown",
   "id": "ff14a5da",
   "metadata": {},
   "source": [
    "**Question 1**\n",
    "\n",
    "**You are not allowed to import any libraries in answering this question.**\n",
    "\n",
    "Implement a function `get_mean_median()` which\n",
    "- takes in a list of integers,\n",
    "- returns the mean value and median value of the list. (If the list has an odd number of integers, its median value is the middle value of the sorted list; otherwise is average of the middle 2 values.)\n",
    "\n",
    "*Test cases:*\n",
    "```python\n",
    "get_mean_median([1, 6, 5]) should return (4.0, 5)\n",
    "get_mean_median([1, 6, 5, 9]) should return (5.25, 5.5)\n",
    "get_mean_median([2022]) should return (2022.0, 2022)\n",
    "get_mean_median([2, 1]) should return (1.5, 1.5)\n",
    "```"
   ]
  },
  {
   "cell_type": "code",
   "execution_count": null,
   "id": "4558095f",
   "metadata": {},
   "outputs": [],
   "source": [
    "# code here"
   ]
  },
  {
   "cell_type": "markdown",
   "id": "60ae3f65",
   "metadata": {},
   "source": [
    "**Question 2**\n",
    "\n",
    "Implement a function `string_list()` which\n",
    "- takes in a string,\n",
    "- returns a list containing its first character, its first 2 characters, its first 3 characters, and so on (the last element of the list is the original string).\n",
    "\n",
    "*Test cases:*\n",
    "```python\n",
    "string_list(\"ABCD\") should return ['A', 'AB', 'ABC', 'ABCD']\n",
    "string_list(\"Good Day\") should return ['G', 'Go', 'Goo', 'Good', 'Good ', 'Good D', 'Good Da', 'Good Day']\n",
    "string_list(\"1\") should return ['1']\n",
    "string_list(\"\") should return []\n",
    "```"
   ]
  },
  {
   "cell_type": "code",
   "execution_count": null,
   "id": "15aa0305",
   "metadata": {},
   "outputs": [],
   "source": [
    "# code here"
   ]
  },
  {
   "cell_type": "markdown",
   "id": "62af9ab2",
   "metadata": {},
   "source": [
    "**Question 3**\n",
    "\n",
    "The list `olympics_gold_medals` gives the total number of Olympic gold medals won by some of the participating countries from 1896 to 2020 of the Summer Olympic Games. Each element is a list containing a country's IOC code, name and gold medal count.\n",
    "```python\n",
    "olympics_gold_medals = [\n",
    "    ['AUS', 'Australia', 164],\n",
    "    ['AUT', 'Austria', 19],\n",
    "    ['BEL', 'Belgium', 43],\n",
    "    ['BRA', 'Brazil', 37],\n",
    "    ['CAN', 'Canada', 71],\n",
    "    ['CHN', 'China', 262],\n",
    "    ['DEN', 'Denmark', 48],\n",
    "    ['EGY', 'Egypt', 8],\n",
    "    ['FRA', 'France', 226],\n",
    "    ['GBR', 'Great Britain', 285],\n",
    "    ['IND', 'India', 10],\n",
    "    ['PHI', 'Philippines', 1]]\n",
    "```"
   ]
  },
  {
   "cell_type": "markdown",
   "id": "630cdb13",
   "metadata": {},
   "source": [
    "**Part (i)**\n",
    "\n",
    "Write a function `append_record()` which\n",
    "- takes in the `olympics_gold_medals` list, a country's IOC code, name and gold medal count,\n",
    "- appends the new record (at the end of the list) and returns the updated list.\n",
    "\n",
    "*Sample test:*\n",
    "```python\n",
    "append_record(olympics_gold_medals, \"POL\", \"Poland\", 72) should return\n",
    "[['AUS', 'Australia', 164],\n",
    " ['AUT', 'Austria', 19],\n",
    " ['BEL', 'Belgium', 43],\n",
    " ['BRA', 'Brazil', 37],\n",
    " ['CAN', 'Canada', 71],\n",
    " ['CHN', 'China', 262],\n",
    " ['DEN', 'Denmark', 48],\n",
    " ['EGY', 'Egypt', 8],\n",
    " ['FRA', 'France', 226],\n",
    " ['GBR', 'Great Britain', 285],\n",
    " ['IND', 'India', 10],\n",
    " ['PHI', 'Philippines', 1],\n",
    " ['POL', 'Poland', 72]]\n",
    "```"
   ]
  },
  {
   "cell_type": "code",
   "execution_count": null,
   "id": "144207ca",
   "metadata": {},
   "outputs": [],
   "source": [
    "olympics_gold_medals = [\n",
    "    ['AUS', 'Australia', 164],\n",
    "    ['AUT', 'Austria', 19],\n",
    "    ['BEL', 'Belgium', 43],\n",
    "    ['BRA', 'Brazil', 37],\n",
    "    ['CAN', 'Canada', 71],\n",
    "    ['CHN', 'China', 262],\n",
    "    ['DEN', 'Denmark', 48],\n",
    "    ['EGY', 'Egypt', 8],\n",
    "    ['FRA', 'France', 226],\n",
    "    ['GBR', 'Great Britain', 285],\n",
    "    ['IND', 'India', 10],\n",
    "    ['PHI', 'Philippines', 1]]\n",
    "# Part (i) code here"
   ]
  },
  {
   "cell_type": "markdown",
   "id": "f462e772",
   "metadata": {},
   "source": [
    "**Part (ii)**\n",
    "\n",
    "Write a function `remove_country()` to remove a record from the `olympics_gold_medals` list. The function\n",
    "- takes in the `olympics_gold_medals` list and the country's IOC code,\n",
    "- returns the removed country's record (a list) or `None` if the country cannot be found.\n",
    "\n",
    "*Sample test 1:*\n",
    "```python\n",
    "remove_record(olympics_gold_medals, \"EGY\") should return ['EGY', 'Egypt', 8]\n",
    "```\n",
    "You **may print** the `olympics_gold_medals` list afterwards.\n",
    "\n",
    "The expected output, assuming you have completed part (i),  is ```[['AUS', 'Australia', 164], ['AUT', 'Austria', 19], ['BEL', 'Belgium', 43], ['BRA', 'Brazil', 37], ['CAN', 'Canada', 71], ['CHN', 'China', 262], ['DEN', 'Denmark', 48], ['FRA', 'France', 226], ['GBR', 'Great Britain', 285], ['IND', 'India', 10], ['PHI', 'Philippines', 1]]```\n",
    "\n",
    "*Sample test 2:*\n",
    "```python\n",
    "remove_record(olympics_gold_medals, \"SGP\") should return None\n",
    "```"
   ]
  },
  {
   "cell_type": "code",
   "execution_count": null,
   "id": "9bb9ad08",
   "metadata": {},
   "outputs": [],
   "source": [
    "# Part (ii) code here"
   ]
  },
  {
   "cell_type": "markdown",
   "id": "94c305b1",
   "metadata": {},
   "source": [
    "**Part (iii)**\n",
    "\n",
    "Write a function `most_gold()` to find the country with the highest gold medal count. The function\n",
    "- takes in the `olympics_gold_medals` list,\n",
    "- returns the record list containing the highest gold medal count.\n",
    "\n",
    "*Sample test:*\n",
    "```python\n",
    "most_gold(olympics_gold_medals) should return ['GBR', 'Great Britain', 285]\n",
    "```\n"
   ]
  },
  {
   "cell_type": "code",
   "execution_count": null,
   "id": "6889f945",
   "metadata": {},
   "outputs": [],
   "source": [
    "olympics_gold_medals = [\n",
    "    ['AUS', 'Australia', 164],\n",
    "    ['AUT', 'Austria', 19],\n",
    "    ['BEL', 'Belgium', 43],\n",
    "    ['BRA', 'Brazil', 37],\n",
    "    ['CAN', 'Canada', 71],\n",
    "    ['CHN', 'China', 262],\n",
    "    ['DEN', 'Denmark', 48],\n",
    "    ['EGY', 'Egypt', 8],\n",
    "    ['FRA', 'France', 226],\n",
    "    ['GBR', 'Great Britain', 285],\n",
    "    ['IND', 'India', 10],\n",
    "    ['PHI', 'Philippines', 1],\n",
    "    ['POL', 'Poland', 72]]\n",
    "# Part (iii) code here"
   ]
  },
  {
   "cell_type": "markdown",
   "id": "8c5371c6",
   "metadata": {},
   "source": [
    "**Part (iv)**\n",
    "\n",
    "Write a function `descend()` to sort the records according in descending order of the gold medal count. The function\n",
    "- takes in the `olympics_gold_medals` list,\n",
    "- returns the sorted list in descending order of the gold count.\n",
    "\n",
    "You are required to provide two different solutions to this part.\n",
    "- Solution 1: Use `sort` or `sorted`.\n",
    "- Solution 2: Use part(iii) function.\n",
    "\n",
    "*Sample test:*\n",
    "```python\n",
    "descend(olympics_gold_medals) should return\n",
    "    [['GBR', 'Great Britain', 285],\n",
    "     ['CHN', 'China', 262],\n",
    "     ['FRA', 'France', 226],\n",
    "     ['AUS', 'Australia', 164],\n",
    "     ['POL', 'Poland', 72],\n",
    "     ['CAN', 'Canada', 71],\n",
    "     ['DEN', 'Denmark', 48],\n",
    "     ['BEL', 'Belgium', 43],\n",
    "     ['BRA', 'Brazil', 37],\n",
    "     ['AUT', 'Austria', 19],\n",
    "     ['IND', 'India', 10],\n",
    "     ['EGY', 'Egypt', 8],\n",
    "     ['PHI', 'Philippines', 1]]\n",
    "```"
   ]
  },
  {
   "cell_type": "code",
   "execution_count": null,
   "id": "4dd4355a",
   "metadata": {},
   "outputs": [],
   "source": [
    "# Part (iv) method 1"
   ]
  },
  {
   "cell_type": "code",
   "execution_count": null,
   "id": "a37691f7",
   "metadata": {},
   "outputs": [],
   "source": [
    "# Part (iv) method 2"
   ]
  },
  {
   "cell_type": "markdown",
   "id": "c05cdd41",
   "metadata": {},
   "source": [
    "# Solutions"
   ]
  },
  {
   "cell_type": "markdown",
   "id": "4cf897d9",
   "metadata": {},
   "source": [
    "**Question 1**"
   ]
  },
  {
   "cell_type": "code",
   "execution_count": null,
   "id": "c87723b0",
   "metadata": {},
   "outputs": [],
   "source": [
    "def get_mean_median(int_list):\n",
    "    \n",
    "    mean = sum(int_list) / len(int_list)\n",
    "    \n",
    "    sorted_list = sorted(int_list)\n",
    "    l = len(sorted_list)\n",
    "\n",
    "    if l % 2 == 1:\n",
    "        mode = sorted_list[l // 2]\n",
    "    else:\n",
    "        mode = (sorted_list[l // 2] + sorted_list[l // 2 - 1]) / 2\n",
    "        \n",
    "    return (mean, mode)\n"
   ]
  },
  {
   "cell_type": "markdown",
   "id": "40fae279",
   "metadata": {},
   "source": [
    "**Question 2**"
   ]
  },
  {
   "cell_type": "code",
   "execution_count": null,
   "id": "569fce8d",
   "metadata": {},
   "outputs": [],
   "source": [
    "def string_list(s):\n",
    "    \n",
    "    char_list = []\n",
    "    l = len(s)\n",
    "    \n",
    "    for i in range(l):\n",
    "        char_list.append(s[:i+1])\n",
    "    \n",
    "    return char_list"
   ]
  },
  {
   "cell_type": "markdown",
   "id": "2d9d8071",
   "metadata": {},
   "source": [
    "**Question 3 Part (i)**"
   ]
  },
  {
   "cell_type": "code",
   "execution_count": null,
   "id": "d8e724ae",
   "metadata": {},
   "outputs": [],
   "source": [
    "olympics_gold_medals = [\n",
    "    ['AUS', 'Australia', 164],\n",
    "    ['AUT', 'Austria', 19],\n",
    "    ['BEL', 'Belgium', 43],\n",
    "    ['BRA', 'Brazil', 37],\n",
    "    ['CAN', 'Canada', 71],\n",
    "    ['CHN', 'China', 262],\n",
    "    ['DEN', 'Denmark', 48],\n",
    "    ['EGY', 'Egypt', 8],\n",
    "    ['FRA', 'France', 226],\n",
    "    ['GBR', 'Great Britain', 285],\n",
    "    ['IND', 'India', 10],\n",
    "    ['PHI', 'Philippines', 1]]\n",
    "\n",
    "def append_record(ogm, ioc, name, gm_count):\n",
    "    \n",
    "    ogm.append([ioc, name, gm_count])\n",
    "    return ogm"
   ]
  },
  {
   "cell_type": "markdown",
   "id": "307162b6",
   "metadata": {},
   "source": [
    "**Question 3 Part (ii)**"
   ]
  },
  {
   "cell_type": "code",
   "execution_count": null,
   "id": "bca9eae7",
   "metadata": {
    "scrolled": true
   },
   "outputs": [],
   "source": [
    "def remove_record(ogm, ioc):\n",
    "    \n",
    "    for record in ogm:\n",
    "        if record[0] == ioc:\n",
    "            ogm.remove(record)\n",
    "            return record\n",
    "    return None"
   ]
  },
  {
   "cell_type": "markdown",
   "id": "613132ee",
   "metadata": {},
   "source": [
    "**Question 3 Part (iii)**"
   ]
  },
  {
   "cell_type": "code",
   "execution_count": null,
   "id": "db72c77c",
   "metadata": {},
   "outputs": [],
   "source": [
    "olympics_gold_medals = [\n",
    "    ['AUS', 'Australia', 164],\n",
    "    ['AUT', 'Austria', 19],\n",
    "    ['BEL', 'Belgium', 43],\n",
    "    ['BRA', 'Brazil', 37],\n",
    "    ['CAN', 'Canada', 71],\n",
    "    ['CHN', 'China', 262],\n",
    "    ['DEN', 'Denmark', 48],\n",
    "    ['EGY', 'Egypt', 8],\n",
    "    ['FRA', 'France', 226],\n",
    "    ['GBR', 'Great Britain', 285],\n",
    "    ['IND', 'India', 10],\n",
    "    ['PHI', 'Philippines', 1],\n",
    "    ['POL', 'Poland', 72]]\n",
    "\n",
    "def most_gold(ogm):\n",
    "    \n",
    "    highest = 0\n",
    "    \n",
    "    for record in ogm:\n",
    "        if record[2] > highest:\n",
    "            highest_record = record\n",
    "            highest = record[2]\n",
    "        \n",
    "    return highest_record"
   ]
  },
  {
   "cell_type": "markdown",
   "id": "baed8779",
   "metadata": {},
   "source": [
    "**Question 3 Part (iv)**"
   ]
  },
  {
   "cell_type": "code",
   "execution_count": null,
   "id": "29ae0358",
   "metadata": {},
   "outputs": [],
   "source": [
    "# Method 1 - sorting with a customised key\n",
    "\n",
    "def gold_count(r):\n",
    "    \n",
    "    return r[2]\n",
    "\n",
    "def descend(ogm):\n",
    "    \n",
    "    sorted_list = sorted(ogm, key = gold_count, reverse = True)\n",
    "    \n",
    "    return sorted_list\n",
    "\n",
    "descend(olympics_gold_medals)"
   ]
  },
  {
   "cell_type": "code",
   "execution_count": null,
   "id": "fca337d3",
   "metadata": {},
   "outputs": [],
   "source": [
    "# Method 2 - creating a new list\n",
    "def descend(ogm):\n",
    "    \n",
    "    sorted_list = []\n",
    "    \n",
    "    while len(ogm) > 0:\n",
    "        \n",
    "        record = most_gold(ogm)\n",
    "        sorted_list.append(record)\n",
    "        ogm.remove(record)\n",
    "        \n",
    "    return sorted_list\n",
    "\n",
    "descend(olympics_gold_medals)"
   ]
  }
 ],
 "metadata": {
  "kernelspec": {
   "display_name": "Python 3 (ipykernel)",
   "language": "python",
   "name": "python3"
  },
  "language_info": {
   "codemirror_mode": {
    "name": "ipython",
    "version": 3
   },
   "file_extension": ".py",
   "mimetype": "text/x-python",
   "name": "python",
   "nbconvert_exporter": "python",
   "pygments_lexer": "ipython3",
   "version": "3.10.2"
  }
 },
 "nbformat": 4,
 "nbformat_minor": 5
}
