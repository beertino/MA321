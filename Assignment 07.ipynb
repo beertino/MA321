{
 "cells": [
  {
   "cell_type": "markdown",
   "id": "f58725da",
   "metadata": {},
   "source": [
    "**Question 7.1 (*Number Guessing Game*)**\n",
    "\n",
    "In a number guessing game, the host picks a \"secret number\" between two values inclusive (e.g. 1 and 100), and asks the player to make a guess within the range in each turn. If the guess is wrong, the host will tell the player an updated range for the \"secret number\" based on the player's guess.\n",
    "\n",
    "Write a function `guess_number()` which takes in 4 integer arguments in order\n",
    "- `l_bound`, the lower bound of the range for guessing,\n",
    "- `u_bound`, the upper bound of the range for guessing,\n",
    "- `secret`, the secret number,\n",
    "- `guess`, the number guessed by user.\n",
    "\n",
    "The function should return 3 values in the order\n",
    "- a boolean value, which has a value `True` if the guess is correct, `False` otherwise.\n",
    "- the new lower and upper bounds which suggest the new range for guessing.\n",
    " * In the case that `guess` is not within the range, the new range should be the same as the orginal one. An error message \"Out of Range!\" should be printed.\n",
    " * In the case that the guess is correct, both bounds should be set to be `guess`.\n",
    "\n",
    "*Some test cases:*\n",
    "\n",
    "`guess_number(1, 100, 36, 50)` should return `(False, 1, 49)`.\n",
    "\n",
    "`guess_number(1, 100, 36, 20)` should return `(False, 21, 100)`.\n",
    "\n",
    "`guess_number(1, 49, 36, 50)` should print \"Out of Range\" and return `(False, 1, 49)`.\n",
    "\n",
    "`guess_number(21, 100, 36, 36)` should return `(True, 36, 36)`.\n",
    "\n",
    "**Save this solution for future use:)**"
   ]
  },
  {
   "cell_type": "code",
   "execution_count": null,
   "id": "766080e8",
   "metadata": {},
   "outputs": [],
   "source": [
    "#code here"
   ]
  },
  {
   "cell_type": "markdown",
   "id": "6734160e",
   "metadata": {},
   "source": [
    "**Question 7.2 (*Individual Income Tax*)**\n",
    "\n",
    "Refer to the table of **resident tax rate from AY2024** on the IRAS page:\n",
    "\n",
    "https://www.iras.gov.sg/taxes/individual-income-tax/basics-of-individual-income-tax/tax-residency-and-tax-rates/individual-income-tax-rates\n",
    "\n",
    "Before writing the code, make sure you understand how to interpret the table.\n",
    "\n",
    "Write a function `income_tax_calculator()` which\n",
    "- takes in one `float` argument for the chargable_income in dollars,\n",
    "- calculates and returns the gross tax payable in dollars to at most two decimal places.\n",
    "\n",
    "*Some test cases:*\n",
    "\n",
    "`income_tax_calculator(15000)` should return `0`.\n",
    "\n",
    "`income_tax_calculator(50000)` should return `1250.0`\n",
    "\n",
    "`income_tax_calculator(100000)` should return `5650.0`\n",
    "\n",
    "`income_tax_calculator(888888)` should return `173594.24`"
   ]
  },
  {
   "cell_type": "code",
   "execution_count": null,
   "id": "95cc6013",
   "metadata": {},
   "outputs": [],
   "source": [
    "# code here"
   ]
  }
 ],
 "metadata": {
  "kernelspec": {
   "display_name": "Python 3 (ipykernel)",
   "language": "python",
   "name": "python3"
  },
  "language_info": {
   "codemirror_mode": {
    "name": "ipython",
    "version": 3
   },
   "file_extension": ".py",
   "mimetype": "text/x-python",
   "name": "python",
   "nbconvert_exporter": "python",
   "pygments_lexer": "ipython3",
   "version": "3.10.2"
  }
 },
 "nbformat": 4,
 "nbformat_minor": 5
}
