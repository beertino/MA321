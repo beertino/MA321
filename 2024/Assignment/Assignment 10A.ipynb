{
 "cells": [
  {
   "cell_type": "markdown",
   "id": "f50cba70",
   "metadata": {},
   "source": [
    "**Question 10A.1**\n",
    "\n",
    "Write a function `decompose_int()` which\n",
    "- takes in a positive integer,\n",
    "- decomposes it into digits and returns a list containing these digits in order.\n",
    "\n",
    "*Sample Tests:*\n",
    "```python\n",
    "decompose_int(123) should return [1, 2, 3]\n",
    "decompose_int(2022) should return [2, 0, 2, 2]\n",
    "decompose_int(9) should return [9]\n",
    "```"
   ]
  },
  {
   "cell_type": "code",
   "execution_count": null,
   "id": "d6b94566",
   "metadata": {},
   "outputs": [],
   "source": [
    "#hint:\n",
    "print(123 % 10)\n",
    "print(123 // 10)"
   ]
  },
  {
   "cell_type": "code",
   "execution_count": null,
   "id": "e9640b88",
   "metadata": {},
   "outputs": [],
   "source": [
    "#method 1 - adding items from the back\n"
   ]
  },
  {
   "cell_type": "code",
   "execution_count": null,
   "id": "02c10308",
   "metadata": {},
   "outputs": [],
   "source": [
    "#method 2 - adding items from the front\n"
   ]
  },
  {
   "cell_type": "markdown",
   "id": "a9c12c56",
   "metadata": {},
   "source": [
    "**Question 10A.2**"
   ]
  },
  {
   "cell_type": "markdown",
   "id": "fea935a7",
   "metadata": {
    "scrolled": true
   },
   "source": [
    "Write a function `num_letters()` which\n",
    "- takes in a string that only contains English alphabets,\n",
    "- returns the number of distinct letters (not case-sensitive) in it.\n",
    "\n",
    "*Test Cases:*\n",
    "```Python\n",
    "num_letters(\"Python\") should return 6\n",
    "num_letters(\"College\") should return 5\n",
    "num_letters(\"banana\") should return 3\n",
    "```"
   ]
  },
  {
   "cell_type": "code",
   "execution_count": null,
   "id": "57577a84",
   "metadata": {},
   "outputs": [],
   "source": [
    "# code here"
   ]
  },
  {
   "cell_type": "code",
   "execution_count": null,
   "id": "d4b053e2",
   "metadata": {},
   "outputs": [],
   "source": [
    "# Hint for Question 10A.2\n",
    "print(\"a\" in [\"a\", \"b\", \"c\"])\n",
    "print(\"d\" in [\"a\", \"b\", \"c\"])"
   ]
  }
 ],
 "metadata": {
  "kernelspec": {
   "display_name": "Python 3 (ipykernel)",
   "language": "python",
   "name": "python3"
  },
  "language_info": {
   "codemirror_mode": {
    "name": "ipython",
    "version": 3
   },
   "file_extension": ".py",
   "mimetype": "text/x-python",
   "name": "python",
   "nbconvert_exporter": "python",
   "pygments_lexer": "ipython3",
   "version": "3.10.2"
  }
 },
 "nbformat": 4,
 "nbformat_minor": 5
}
