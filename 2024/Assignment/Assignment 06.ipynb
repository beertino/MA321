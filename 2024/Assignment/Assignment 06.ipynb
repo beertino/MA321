{
 "cells": [
  {
   "cell_type": "markdown",
   "id": "e9402151",
   "metadata": {},
   "source": [
    "# Assignment 06\n",
    "\n",
    "[![Open In Colab](https://colab.research.google.com/assets/colab-badge.svg)](https://colab.research.google.com/github/beertino/MA321/blob/main/2025/Assignment/Assignment%2005.ipynb)  "
   ]
  },
  {
   "cell_type": "markdown",
   "id": "cd443087",
   "metadata": {},
   "source": [
    "#### Question 6.1 Perfect Square\n",
    "\n",
    "In mathematics, a square number or perfect square is an integer that is the square of an integer; in other words, it is the product of some integer with itself. E.g., the integers $1$, $4$, $49$ are perfect squares as they can be written as $1\\times 1$, $2 \\times 2$ and $7\\times 7$, but $5$, $6$, $10$ are not perfect squares.\n",
    "\n",
    "Create a function `is_perfect_square()` which\n",
    "- takes in one positive integer `n` as a parameter,\n",
    "- returns the Boolean `True` if the number is a perfect square; `False` otherwise.\n",
    "\n",
    "*Sample test 1:*\n",
    "`is_perfect_square(8)` should return `False`.\n",
    "\n",
    "*Sample test 2:*\n",
    "`is_perfect_square(81)` should return `True`.\n",
    "\n",
    "*Sample test 3:*\n",
    "`is_pefect_square(10001)` should return `False`."
   ]
  },
  {
   "cell_type": "code",
   "execution_count": null,
   "id": "ca1df279",
   "metadata": {},
   "outputs": [],
   "source": [
    "#code here"
   ]
  },
  {
   "cell_type": "markdown",
   "id": "b113d607",
   "metadata": {},
   "source": [
    "#### Question 6.2 XOR Operator\n",
    "\n",
    "XOR (pronounced as \"exclusive or\") is a commonly used logic operator between two **boolean values**, the result is `True` if and only if **exactly** one of the boolean values is `True`; otherwise `False`.\n",
    "\n",
    "[Wikipedia Reference here](https://en.wikipedia.org/wiki/XOR_gate)\n",
    "\n",
    "Create a function `xor()` which\n",
    "* takes in two boolean `b1` and `b2` as parameters,\n",
    "* returns the Boolean value of (`b1` xor `b2`).\n",
    "\n",
    "*Tests:*\n",
    "\n",
    "The expected output for\n",
    "\n",
    "```python\n",
    "print(xor(True, True), xor(True, False), xor(False, True), xor(False, False))\n",
    "```\n",
    "is\n",
    "```\n",
    "False True True False\n",
    "```"
   ]
  },
  {
   "cell_type": "code",
   "execution_count": null,
   "id": "b150d0ba",
   "metadata": {},
   "outputs": [],
   "source": [
    "# code here\n"
   ]
  },
  {
   "cell_type": "markdown",
   "id": "008ef734",
   "metadata": {},
   "source": [
    "#### Question 6.3 Pythagorean Triples\n",
    "\n",
    "A Pythagorean triple consists of three positive integers $a$, $b$, and $c$, which can form a right-angle triangle as its side lengths.\n",
    "\n",
    "Create a function `is_right_triangle()` which\n",
    "* takes in three positive integers `a`, `b` and `c` as parameters,\n",
    "* returns `True` if these numbers are the side lengths of a right-angle triangle; `False` otherwise.\n",
    "\n",
    "*Sample test 1:*\n",
    "`is_right_triangle(7, 24, 25)` should return `True`.\n",
    "\n",
    "*Sample test 2:*\n",
    "`is_right_triangle(3, 2, 1)` should return `False`.\n",
    "\n",
    "*Sample test 3:*\n",
    "`is_right_triangle(6, 10, 8)` should return `True`."
   ]
  },
  {
   "cell_type": "code",
   "execution_count": null,
   "id": "3d15f974",
   "metadata": {},
   "outputs": [],
   "source": [
    "# code here\n"
   ]
  }
 ],
 "metadata": {
  "kernelspec": {
   "display_name": "Python 3 (ipykernel)",
   "language": "python",
   "name": "python3"
  },
  "language_info": {
   "codemirror_mode": {
    "name": "ipython",
    "version": 3
   },
   "file_extension": ".py",
   "mimetype": "text/x-python",
   "name": "python",
   "nbconvert_exporter": "python",
   "pygments_lexer": "ipython3",
   "version": "3.10.2"
  }
 },
 "nbformat": 4,
 "nbformat_minor": 5
}
