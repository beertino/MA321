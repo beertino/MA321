{
 "cells": [
  {
   "cell_type": "markdown",
   "id": "91024dcd",
   "metadata": {},
   "source": [
    "# Learning Objectives\n",
    "\n",
    "- declaring variable assignment\n",
    "- use `print()` statement for output\n",
    "\n",
    "Fix Link\n",
    "[![Open In Colab](https://colab.research.google.com/assets/colab-badge.svg)](https://colab.research.google.com/github/beertino/MA321/blob/main/2025/Notes/Chapter%2000%20Introduction.ipynb)"
   ]
  },
  {
   "cell_type": "markdown",
   "metadata": {},
   "source": [
    "# 8 Loop\n",
    "In computer programming, a Loop is used to execute a group of instructions or a block of code multiple times, without writing it repeatedly. The block of code is executed based on a certain condition. Loops are the control structures of a program. Using Loops in computer programs simplifies rather optimizes the process of coding.\n",
    "\n",
    "## 8.1 `while`-loop\n",
    "***Syntax***\n",
    "```python\n",
    "while <a boolean condition>:\n",
    "    \n",
    "    <statements in the body of loop while the boolean condition is True>\n",
    "    \n",
    "<statements after the loop>\n",
    "```\n",
    "\n",
    "Below is a visual representation of the `while`-loop in flowchart.\n",
    "\n",
    "<center>\n",
    "<img alt=\"Flowchart_WHILE_Loop\" src=\"../src/while_loop.jpeg\" width = \"500\" align=\"centre\" vspace=\"0px\">\n",
    "</center>\n",
    "\n",
    "Below are two examples. Run each of them and observe the results.\n",
    "\n",
    "*While-loop 1*\n",
    "```Python\n",
    "while False:\n",
    "    print(\"This is inside the loop body\")\n",
    "\n",
    "print(\"This is outside the loop body\")\n",
    "```\n",
    "*While-loop 2*\n",
    "```Python\n",
    "while True:\n",
    "    print(\"This is inside the loop body\")\n",
    "\n",
    "print(\"This is outside the loop body\")\n",
    "```\n",
    "In the event that we accidentally execute an *infinite* loop, we may **interrupt** the kernal to stop it from running, then **restart & clear output** if necessary."
   ]
  },
  {
   "cell_type": "code",
   "execution_count": null,
   "metadata": {},
   "outputs": [],
   "source": [
    "# try the code here"
   ]
  },
  {
   "cell_type": "markdown",
   "metadata": {},
   "source": [
    "Most of the time, we would like use a **boolean** variable or expression instead of a constant value `True` or `False` behind `while`, so that we can terminate the loop according to our needs."
   ]
  },
  {
   "cell_type": "markdown",
   "metadata": {},
   "source": [
    "## 8.2 Sentry Variable in `while`-loop\n",
    "A popular approach to control loops in any programming languages is to use a **sentry variable** (or a **loop variable**).\n",
    "\n",
    "With a sentry variable, we may follow the structure below to construct every loop.\n",
    "\n",
    "* Step 1: Initialise the sentry variable (done before the `while`-statement).\n",
    "* Step 2: Check the sentry variable (the `while` condition).\n",
    "* Step 3: Update the sentry variable (done inside the loop).\n",
    "\n",
    "For a `while`-loop, a popular name for the sentry variable is `keepgoing`.\n",
    "\n",
    "Below is an example of **printing** all the positive integers less than 100 that are multiples of 7. **Try to understand the code and answer the following questions before testing the code.**\n",
    "1. How and where is the sentry variable `keepgoing` initialised?\n",
    "2. How and where is the sentry variable `keepgoing` updated?\n",
    "3. How and where is the variable `num` initialised?\n",
    "4. How and where is the variable `num` updated?\n",
    "5. Why is the order of Line 6, Line 7 and Line 8 important?"
   ]
  },
  {
   "cell_type": "code",
   "execution_count": null,
   "metadata": {},
   "outputs": [],
   "source": [
    "# printing positive multiples of 7 less than 100\n",
    "num = 7\n",
    "keepgoing = True\n",
    "\n",
    "while keepgoing:\n",
    "    print(num, end = \" \")\n",
    "    num = num + 7\n",
    "    keepgoing = (num < 100)"
   ]
  },
  {
   "cell_type": "markdown",
   "metadata": {},
   "source": [
    "#### Example 8.1 (testing your understanding)\n",
    "\n",
    "Repeat the same task (i.e. printing all the positive integers less than 100 that are multiple of 7) by using a **`while`-loop**. This time the `num` variable is initialised to be 0. **You are only allowed to modify the code inside the loop.** The same output must be seen."
   ]
  },
  {
   "cell_type": "code",
   "execution_count": null,
   "metadata": {},
   "outputs": [],
   "source": [
    "# printing the positive multiples of 7 less than 100\n",
    "num = 0          # do not modify\n",
    "keepgoing = True # do not modify\n",
    "\n",
    "while keepgoing: # do not modify\n",
    "    # code here\n"
   ]
  },
  {
   "cell_type": "markdown",
   "metadata": {},
   "source": [
    "#### Example 8.2\n",
    "\n",
    "Use a **`while`-loop** to print all the positive cube numbers (1, 8, 27, ...) less than 2022, separated by the blank space \" \"."
   ]
  },
  {
   "cell_type": "code",
   "execution_count": null,
   "metadata": {},
   "outputs": [],
   "source": [
    "# code here"
   ]
  },
  {
   "cell_type": "markdown",
   "metadata": {},
   "source": [
    "#### Example 8.3 (prime number)\n",
    "\n",
    "A **prime** number is a natural number greater than 1 that only have two factors 1 and itself. Write a **function** `is_prime()` which\n",
    "- takes in one positive integer argument `p`,\n",
    "- returns `True` if `p` is prime, or `False` otherwise."
   ]
  },
  {
   "cell_type": "markdown",
   "metadata": {},
   "source": [
    "This can be a challenging problem without proper planning. Try to answer the following guiding questions before coding the function.\n",
    "1. What are the factors we need to test (i.e. from which value to which value)?\n",
    "2. How to initialise and update the sentry variable?\n",
    "3. What are the special cases?\n",
    "4. Is our function able to handle those special cases correctly? If not, what improvement is needed?"
   ]
  },
  {
   "cell_type": "markdown",
   "metadata": {},
   "source": [
    "*Sample tests: (you may insert more)*\n",
    "```python\n",
    "is_prime(2021) should return False\n",
    "is_prime(2017) should return True\n",
    "is_prime(4) should return False\n",
    "is_prime(3) should return True\n",
    "is_prime(2) should return True\n",
    "is_prime(1) should return False\n",
    "```"
   ]
  },
  {
   "cell_type": "code",
   "execution_count": null,
   "metadata": {},
   "outputs": [],
   "source": [
    "# code here"
   ]
  },
  {
   "cell_type": "markdown",
   "metadata": {},
   "source": [
    "#### Example 8.4\n",
    "\n",
    "Write a **program** to **print** all the prime numbers less than 2022, separated by \" \". You are expected to **call** the function `is_prime()` in the code.,"
   ]
  },
  {
   "cell_type": "code",
   "execution_count": null,
   "metadata": {},
   "outputs": [],
   "source": [
    "# code here"
   ]
  },
  {
   "cell_type": "markdown",
   "metadata": {},
   "source": [
    "## 8.3 Counter Variable\n",
    "In simple words, a **counter variable** is a variable that keeps track of the number of times a specific piece of code is executed. Typically, a counter variable\n",
    "* is initialised before a loop (often set as 0), and\n",
    "* is updated inside a loop **when a certain condition is met.**\n",
    "\n",
    "Suppose that we want to **count the number** of prime numbers less than 2022 instead of printing each of them. **Try to understand the code and answer the following questions before testing the code.**\n",
    "1. How and where is the counter variable initialised?\n",
    "2. Where is the counter variable updated?\n",
    "3. What is the condition for updating the counter variable?\n",
    "4. Take note that the treatments on the sentry variable are not affected."
   ]
  },
  {
   "cell_type": "code",
   "execution_count": null,
   "metadata": {},
   "outputs": [],
   "source": [
    "n = 2\n",
    "counter = 0\n",
    "keepgoing = True\n",
    "\n",
    "while keepgoing:\n",
    "    \n",
    "    if is_prime(n):\n",
    "        counter = counter + 1\n",
    "    \n",
    "    n = n + 1\n",
    "    keepgoing = (n < 2022)\n",
    "    \n",
    "print(f\"There are {counter} prime numbers less than 2022.\")"
   ]
  },
  {
   "cell_type": "markdown",
   "metadata": {},
   "source": [
    "#### Example 8.5 (counting prime numbers)\n",
    "\n",
    "Write a **function** `count_primes()` which\n",
    "- takes in one positive integer argument `x`,\n",
    "- returns the number of prime numbers not exceeding `x`.\n",
    "\n",
    "You are expected to call `is_prime()` in coding this function.\n",
    "\n",
    "*Sample tests: (you may insert more)*\n",
    "```python\n",
    "count_primes(1) should return 0\n",
    "count_primes(2) should return 1\n",
    "count_primes(3) should return 2\n",
    "count_primes(4) should return 2\n",
    "count_primes(100) should return 25\n",
    "count_primes(2022) should return 306\n",
    "```"
   ]
  },
  {
   "cell_type": "code",
   "execution_count": null,
   "metadata": {},
   "outputs": [],
   "source": [
    "# code here"
   ]
  },
  {
   "cell_type": "markdown",
   "metadata": {},
   "source": [
    "#### Example 8.6 (using counter in another way)\n",
    "\n",
    "Write a **function** `kth_prime()` which\n",
    "- takes in one positive integer argument `k`,\n",
    "- returns the kth prime number.\n",
    "\n",
    "You are expected to call `is_prime()` in coding this function.\n",
    "\n",
    "Hint: the sentry variable in this example is different from the one in the previous example.\n",
    "\n",
    "*Sample tests: (you may insert more)*\n",
    "```python\n",
    "kth_prime(1) should return 2\n",
    "kth_prime(2) should return 3\n",
    "kth_prime(3) should return 5\n",
    "kth_prime(5) should return 11\n",
    "kth_prime(25) should return 97\n",
    "kth_prime(306) should return 2017\n",
    "```"
   ]
  },
  {
   "cell_type": "code",
   "execution_count": null,
   "metadata": {},
   "outputs": [],
   "source": [
    "# code here"
   ]
  },
  {
   "cell_type": "markdown",
   "metadata": {},
   "source": [
    "## 8.3 `break` Statement"
   ]
  },
  {
   "cell_type": "markdown",
   "metadata": {},
   "source": [
    "The `break` statement in Python terminates the current loop and resumes execution at the next statement. The most common use for break is when some external condition is triggered requiring a hasty exit from a loop. The break statement can be used in both `while` and `for` loops.\n",
    "\n",
    "For example, we can re-write a **`while`-loop** to print all the positive cube numbers (1, 8, 27, ...) less than 2022 (**Example 8.2**)"
   ]
  },
  {
   "cell_type": "code",
   "execution_count": null,
   "metadata": {},
   "outputs": [],
   "source": [
    "n = 1\n",
    "\n",
    "while True:\n",
    "    \n",
    "    print(n ** 3, end = \" \")\n",
    "    n = n + 1\n",
    "    if (n ** 3 < 2022):\n",
    "        pass # this statment does nothing\n",
    "    else:\n",
    "        break"
   ]
  },
  {
   "cell_type": "markdown",
   "metadata": {},
   "source": [
    "#### Example 8.7\n",
    "An integer between 1 and 6 is randomly generalised. The player is allowed to make at most 3 guesses of this number.\n",
    "\n",
    "Write a program to:\n",
    "- display the current trial number for each guess,\n",
    "- prompt the user to make a guess,\n",
    "- if the guess is correct, display `\"You are lucky!\"` and terminate the game.\n",
    "- if the guess is incorrect, display `\"Wrong guess!\"`\n",
    "- if the player fails to guess the number within 3 trials, display \"You have used up the 3 guesses.\" and terminate the game.\n",
    "\n",
    "*Sample run 1:*\n",
    "```python\n",
    "Trial No. 1\n",
    "Guess a number between 1 and 6: 1\n",
    "Wrong guess!\n",
    "Trial No. 2\n",
    "Guess a number between 1 and 6: 6\n",
    "You are lucky!\n",
    "```\n",
    "*Sample run 2:*\n",
    "```python\n",
    "Trial No. 1\n",
    "Guess a number between 1 and 6: 2\n",
    "Wrong guess!\n",
    "Trial No. 2\n",
    "Guess a number between 1 and 6: 4\n",
    "Wrong guess!\n",
    "Trial No. 3\n",
    "Guess a number between 1 and 6: 6\n",
    "Wrong guess!\n",
    "You have used up the 3 guesses.\n",
    "```"
   ]
  },
  {
   "cell_type": "code",
   "execution_count": null,
   "metadata": {},
   "outputs": [],
   "source": [
    "# code here"
   ]
  },
  {
   "cell_type": "markdown",
   "metadata": {},
   "source": [
    "Let us revisit the handling of errors caused by data type casting. It makes use of the `break` statement in a `while` loop."
   ]
  },
  {
   "cell_type": "code",
   "execution_count": null,
   "metadata": {},
   "outputs": [],
   "source": [
    "while True:\n",
    "\n",
    "    try:\n",
    "        x = int(input(\"Key in an integer x: \"))\n",
    "        break\n",
    "    \n",
    "    except:\n",
    "        print(\"The input is not an integer! Try again.\")\n",
    "\n",
    "print(\"You have keyed in an integer\", x)"
   ]
  },
  {
   "cell_type": "markdown",
   "metadata": {},
   "source": [
    "## 8.4 Nested Loop\n",
    "We may need to include a loop block inside another sometimes. For example, suppose we want to print a n-by-n multiplication chart like below (`n = 9`)\n",
    "\n",
    "<center>\n",
    "<img alt=\"9-by-9 multiplication chart\" src=\"../src/9x9mult.jpeg\" width = \"300\" align=\"centre\" vspace=\"0px\">\n",
    "</center>\n",
    "\n",
    "The task can be complicated to code directly. Let us do some planning first. Here are the steps.\n",
    "* Step 1: Use a loop (Loop A) to print the header (i.e. `X, 1, 2, ..., n`) in the first row.\n",
    "* Step 2: Use a loop (Loop B) to print each of the following rows, starting with (`1, 2, 3, ..., n`).\n",
    "* Step 3: Use a loop (Loop C) inside Loop B to print each of the products in a row.\n",
    "\n",
    "Notes to take:\n",
    "* `f\"{*something*:>5}\"` will help us to fix the width to be 5 for the numbers for better alignment.\n",
    "* Change a line after each row."
   ]
  },
  {
   "cell_type": "markdown",
   "metadata": {},
   "source": [
    "Step 1: (understand the code and run it to see the outcome)"
   ]
  },
  {
   "cell_type": "code",
   "execution_count": null,
   "metadata": {},
   "outputs": [],
   "source": [
    "print(f\"{'X' :<5}\", end = \"\") # printing the X on the top left corner, not changing a line\n",
    "\n",
    "n = 9 # assuming a 9 * 9 chart, we may change this number later\n",
    "a = 1 # number to be printed in Loop A\n",
    "keepgoing_A = True # sentry variable for Loop A\n",
    "\n",
    "while keepgoing_A:\n",
    "    print(f\"{a :<5}\", end = \"\") # not changing a line, fixed \n",
    "    a = a + 1\n",
    "    keepgoing_A = (a <= n) \n",
    "\n",
    "print() # changing to a new line"
   ]
  },
  {
   "cell_type": "markdown",
   "metadata": {},
   "source": [
    "Step 2: (understand the code and run it to see the outcome)"
   ]
  },
  {
   "cell_type": "code",
   "execution_count": null,
   "metadata": {},
   "outputs": [],
   "source": [
    "print(f\"{'X' :<5}\", end = \"\")\n",
    "\n",
    "n = 9\n",
    "a = 1\n",
    "keepgoing_A = True\n",
    "\n",
    "while keepgoing_A:\n",
    "    print(f\"{a :<5}\", end = \"\")\n",
    "    a = a + 1\n",
    "    keepgoing_A = (a <= n) \n",
    "\n",
    "print()\n",
    "\n",
    "b = 1 # multiplier to be printed at the start of each row in Loop B \n",
    "keepgoing_B = True # sentry variable for Loop B\n",
    "\n",
    "while keepgoing_B:\n",
    "    print(f\"{b :<5}\", end = \"\") # not changing a line\n",
    "    \n",
    "    # Step 3 Code\n",
    "    \n",
    "    print() # changing to a new line\n",
    "    b = b + 1\n",
    "    keepgoing_B = (b <= n)"
   ]
  },
  {
   "cell_type": "markdown",
   "metadata": {},
   "source": [
    "#### Example 8.8\n",
    "\n",
    "Complete the code in Step 3 to generate the complete multiplication chart. (You may copy-paste the code in step 2 to continue)"
   ]
  },
  {
   "cell_type": "code",
   "execution_count": null,
   "metadata": {},
   "outputs": [],
   "source": [
    "# code here"
   ]
  },
  {
   "cell_type": "markdown",
   "metadata": {},
   "source": [
    "#### Example 8.9 (pythagorean triples)\n",
    "\n",
    "Pythagorean triples $(a, b, c)$ are positive integers satisfying $a^2 + b^2 = c^2$. Print all the pythagorean triples in which all numbers are less than 30.\n",
    "\n",
    "A \"brainless\" way to solve the problem is as follows (using 3 layers of loops). However the code is not working."
   ]
  },
  {
   "cell_type": "code",
   "execution_count": null,
   "metadata": {},
   "outputs": [],
   "source": [
    "n = 30\n",
    "a = 1\n",
    "b = 1\n",
    "c = 1\n",
    "keepgoing_A = True\n",
    "keepgoing_B = True\n",
    "keepgoing_C = True\n",
    "\n",
    "while keepgoing_C:\n",
    "    \n",
    "    while keepgoing_B:\n",
    "        \n",
    "        while keepgoing_A:\n",
    "            \n",
    "            if (a ** 2 + b ** 2 == c ** 2):\n",
    "                print(f\"({a}, {b}, {c})\", end =\"\\t\")\n",
    "            \n",
    "            a = a + 1\n",
    "            keepgoing_A = (a <= n)\n",
    "        \n",
    "        b = b + 1\n",
    "        keepgoing_B = (b < n\n",
    "    \n",
    "    c = c + 1\n",
    "    keepgoing_C = (c < n)"
   ]
  },
  {
   "cell_type": "markdown",
   "metadata": {},
   "source": [
    "**(a)** Identify the mistakes in the code above, then make it work by **shifting some of lines only**. (20 triples in total)"
   ]
  },
  {
   "cell_type": "code",
   "execution_count": null,
   "metadata": {},
   "outputs": [],
   "source": [
    "# do the correction below.\n",
    "\n",
    "n = 30\n",
    "a = 1\n",
    "b = 1\n",
    "c = 1\n",
    "keepgoing_A = True\n",
    "keepgoing_B = True\n",
    "keepgoing_C = True\n",
    "\n",
    "while keepgoing_C:\n",
    "    \n",
    "    while keepgoing_B:\n",
    "        \n",
    "        while keepgoing_A:\n",
    "            \n",
    "            if (a ** 2 + b ** 2 == c ** 2):\n",
    "                print(f\"({a}, {b}, {c})\", end = \"\\t\")\n",
    "            \n",
    "            a = a + 1\n",
    "            keepgoing_A = (a < n)\n",
    "        \n",
    "        b = b + 1\n",
    "        keepgoing_B = (b < n)\n",
    "    \n",
    "    c = c + 1\n",
    "    keepgoing_C = (c < n)"
   ]
  },
  {
   "cell_type": "markdown",
   "metadata": {},
   "source": [
    "The total number of iterations in the above code is $29^3$. The time taken is significantly longer when $n$ increases.\n",
    "You may adjust the value of $n$ to 300 to see the impact. Therefore, it is important to figure out a **more efficient** solution whenever possible.\n",
    "\n",
    "**(b)** Find a more efficient solution to the problem involving only two layers of loops. You may make use of the `is_square()` function (testing whether a number is a perfect square) below."
   ]
  },
  {
   "cell_type": "code",
   "execution_count": null,
   "metadata": {},
   "outputs": [],
   "source": [
    "def is_square(x):\n",
    "    \n",
    "    return (x ** 0.5 == round (x ** 0.5))\n",
    "\n",
    "# code here"
   ]
  }
 ],
 "metadata": {
  "kernelspec": {
   "display_name": "Python 3",
   "language": "python",
   "name": "python3"
  },
  "language_info": {
   "codemirror_mode": {
    "name": "ipython",
    "version": 3
   },
   "file_extension": ".py",
   "mimetype": "text/x-python",
   "name": "python",
   "nbconvert_exporter": "python",
   "pygments_lexer": "ipython3",
   "version": "3.6.4"
  }
 },
 "nbformat": 4,
 "nbformat_minor": 5
}
