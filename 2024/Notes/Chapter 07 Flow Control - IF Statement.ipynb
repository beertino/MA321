{
 "cells": [
  {
   "cell_type": "markdown",
   "id": "2204612a",
   "metadata": {},
   "source": [
    "# Learning Objectives\n",
    "\n",
    "- declaring variable assignment\n",
    "- use `print()` statement for output\n",
    "\n",
    "(FIX the link)\n",
    "[![Open In Colab](https://colab.research.google.com/assets/colab-badge.svg)](https://colab.research.google.com/github/njc-cz2-2021/Materials/blob/main/Notes/Chapter_02_Programming_Constructs.ipynb)  "
   ]
  },
  {
   "cell_type": "markdown",
   "id": "2e165195",
   "metadata": {},
   "source": [
    "# Control Flow"
   ]
  },
  {
   "cell_type": "markdown",
   "id": "b2081011",
   "metadata": {},
   "source": [
    "Instead of running statements in top-down sequence, you can change the flow of your program. \n",
    "\n",
    "Python provides following control flow statements:\n",
    "\n",
    "* `if` statement\n",
    "* `for` loop\n",
    "* `while` loop\n",
    "\n",
    "We shall look at the `if` statement in this lesson.\n"
   ]
  },
  {
   "cell_type": "markdown",
   "id": "2cfcc44f",
   "metadata": {},
   "source": [
    "# `if ` Statement"
   ]
  },
  {
   "cell_type": "markdown",
   "id": "b7235650",
   "metadata": {},
   "source": [
    "To make a choice in Python, you write an `if` statement. An `if` statement may take several forms. It may be just an `if` statement. In this case, `if` the condition evaluates to true then it will evaluate the then statements. If the condition is not true, the computer will skip to the statements after the `if` statement.\n",
    "\n",
    "To execute depending on a condition:"
   ]
  },
  {
   "cell_type": "markdown",
   "id": "e95fc936",
   "metadata": {},
   "source": [
    "***Syntax***\n",
    "```python\n",
    "if <a boolean condition>:\n",
    "    \n",
    "    <block of statements when the boolean condition is True>\n",
    "    \n",
    "<statements after if statement>\n",
    "```"
   ]
  },
  {
   "cell_type": "markdown",
   "id": "b36d793a",
   "metadata": {},
   "source": [
    "Try out the code below:\n",
    "```Python\n",
    "b = True\n",
    "\n",
    "if b:    \n",
    "    print(\"You see this line because b is True.\")\n",
    "\n",
    "print(\"You will always see this line.\")\n",
    "```"
   ]
  },
  {
   "cell_type": "code",
   "execution_count": null,
   "id": "00e6fc47",
   "metadata": {},
   "outputs": [],
   "source": [
    "# try the code here"
   ]
  },
  {
   "cell_type": "markdown",
   "id": "f26e1355",
   "metadata": {},
   "source": [
    "Change `b = True` to `b = False`, then run the code again."
   ]
  },
  {
   "cell_type": "markdown",
   "id": "73386a3c",
   "metadata": {},
   "source": [
    "More often, we use a boolean statement instead of a boolean variable behind `if`. Try out the code below:\n",
    "```python\n",
    "x = 3\n",
    "\n",
    "if x > 2:\n",
    "    print(\"You see this line because x is greater than 2.\")\n",
    "\n",
    "print(\"You will always see this line.\")\n",
    "```"
   ]
  },
  {
   "cell_type": "code",
   "execution_count": null,
   "id": "39e29992",
   "metadata": {},
   "outputs": [],
   "source": [
    "# try the code here"
   ]
  },
  {
   "cell_type": "markdown",
   "id": "86156417",
   "metadata": {},
   "source": [
    "Change `x = 3` to `x = 1`, then run the code again."
   ]
  },
  {
   "cell_type": "markdown",
   "id": "9345ff69",
   "metadata": {},
   "source": [
    "**Example 7.1**\n",
    "\n",
    "Write a program to prompt the user to key in an integer, then **print**\n",
    "```\n",
    "You got a lucky 7!\n",
    "```\n",
    "if the integer is divisible by 7."
   ]
  },
  {
   "cell_type": "code",
   "execution_count": null,
   "id": "4ce7c4ff",
   "metadata": {},
   "outputs": [],
   "source": [
    "# code here"
   ]
  },
  {
   "cell_type": "markdown",
   "id": "565316dc",
   "metadata": {},
   "source": [
    "# `if`-`else` Statement"
   ]
  },
  {
   "cell_type": "markdown",
   "id": "cb6003ce",
   "metadata": {},
   "source": [
    "More often, you may want your program to do one thing if a condition is `True` and something else if a condition is `False`. In this case, you need to use an `if`-`else` statement."
   ]
  },
  {
   "cell_type": "markdown",
   "id": "b09edb86",
   "metadata": {},
   "source": [
    "***Syntax***\n",
    "```python\n",
    "if <a boolean condition>:\n",
    "    \n",
    "    <block of statements when the boolean condition is True>\n",
    "\n",
    "else:\n",
    "    \n",
    "    <block of statements when the boolean condition is False>\n",
    "    \n",
    "<statements after if statement>\n",
    "```"
   ]
  },
  {
   "cell_type": "markdown",
   "id": "d179b523",
   "metadata": {},
   "source": [
    "We can visualise the above in a flowchart.\n",
    "<p><img alt=\"Flowchart_IF_ELSE\" src=\"https://drive.google.com/uc?id=1xRXgRuZAepMUvEjZKyJ2_Sukbieelwfo\" width = \"350\" align=\"centre\" vspace=\"0px\"></p>"
   ]
  },
  {
   "cell_type": "markdown",
   "id": "48cf7f20",
   "metadata": {},
   "source": [
    "For example,\n",
    "```python\n",
    "x = 2\n",
    "\n",
    "if x > 2:\n",
    "    print(\"You see this line because x is greater than 2.\")\n",
    "\n",
    "else:\n",
    "    print(\"You see this line because x is not greater than 2.\")\n",
    "    \n",
    "print(\"You will always see this line.\")\n",
    "```"
   ]
  },
  {
   "cell_type": "code",
   "execution_count": null,
   "id": "6b6d662a",
   "metadata": {},
   "outputs": [],
   "source": [
    "# try the code here"
   ]
  },
  {
   "cell_type": "markdown",
   "id": "7cfb4b1d",
   "metadata": {},
   "source": [
    "**Example 7.2**\n",
    "\n",
    "Write a program which\n",
    "- randomly generates an integer between 1 and 6 inclusive,\n",
    "- prompts the user to guess the number,\n",
    "- then prints \"Correct guess!\" for a correct guess and \"Wrong guess!\" otherwise.\n",
    "\n",
    "You may start with the code below:\n",
    "\n",
    "```python\n",
    "import random\n",
    "num = random.randint(1, 6) #num stores a randomly generated integer between 1 and 6 inclusive.\n",
    "```"
   ]
  },
  {
   "cell_type": "code",
   "execution_count": null,
   "id": "fc0257f6",
   "metadata": {},
   "outputs": [],
   "source": [
    "# code here"
   ]
  },
  {
   "cell_type": "markdown",
   "id": "494c3de5",
   "metadata": {},
   "source": [
    "# Nested `if` Statement"
   ]
  },
  {
   "cell_type": "markdown",
   "id": "375c7f88",
   "metadata": {},
   "source": [
    "Any statement may be placed within an `if` or `else` statement, including other `if` statements. When you want to check multiple conditions, there may be a need to put one `if` statement inside another.\n",
    "\n",
    "Try out the code below, **note how the identations work in this example.**\n",
    "\n",
    "```python\n",
    "\n",
    "x = int(input(\"x = \"))\n",
    "\n",
    "if x > 0:\n",
    "        print(x, \"is positive.\")\n",
    "\n",
    "else:\n",
    "    if x < 0:\n",
    "        print(x, \"is negative.\")\n",
    "    \n",
    "    else:\n",
    "        print(x, \"is neither positive nor negative.\")\n",
    "```"
   ]
  },
  {
   "cell_type": "code",
   "execution_count": null,
   "id": "b93334c2",
   "metadata": {},
   "outputs": [],
   "source": [
    "# try the code here"
   ]
  },
  {
   "cell_type": "markdown",
   "id": "ea4301a1",
   "metadata": {},
   "source": [
    "The above program can be visualised in a flowchart.\n",
    "<p><img alt=\"Flowchart_Nested_IF_Example\" src=\"https://drive.google.com/uc?id=1uUHOSN7pWhJddFcDejnidzhtL0MwaCVw\" width = \"600\" align=\"centre\" vspace=\"0px\"></p>"
   ]
  },
  {
   "cell_type": "markdown",
   "id": "627eb476",
   "metadata": {},
   "source": [
    "**Example 7.3**\n",
    "\n",
    "Jerry has 10 dollars and wants to buy some apples priced at 70 cents/pc.\n",
    "\n",
    "Write a programt to prompt the user to key in `n`, the number of apples, then **print**\n",
    "* the amount left if `n` is positive and Jerry can afford to buy `n` apples,\n",
    "* \"Jerry cannot afford it!\"* if `n` is positive but Jerry cannot afford to buy `n` apples,\n",
    "* \"The value of n is not meaningful!\"* if `n` is 0 or negative.\n",
    "\n",
    "*Sample test 1:*\n",
    "```\n",
    "Number of apples n = 14\n",
    "Jerry has $0.20 left after buying 14 apples.\n",
    "```\n",
    "*Sample test 2:*\n",
    "```\n",
    "Number of apples n = 15\n",
    "Jerry cannot afford it!\n",
    "```\n",
    "*Sample test 3:*\n",
    "```\n",
    "Number of apples n = -1\n",
    "The value of n is not meaningful!\n",
    "```"
   ]
  },
  {
   "cell_type": "code",
   "execution_count": null,
   "id": "38602dc6",
   "metadata": {},
   "outputs": [],
   "source": [
    "# code here"
   ]
  },
  {
   "cell_type": "markdown",
   "id": "0df8aec9",
   "metadata": {},
   "source": [
    "# `if`-`elif`-`else` Statement"
   ]
  },
  {
   "cell_type": "markdown",
   "id": "96c458e4",
   "metadata": {},
   "source": [
    "The need to select between several choices presents itself often enough that Python has a special form of the `if` statement to handle this. It is the `if-elif-else` statement.\n",
    "\n",
    "In this statement, one, and only one, alternative is chosen. When a condition evaluates to `True`, the corresponding code block will be execuated, and the remaining conditions will be ignored. The general form of the `if-elif-else` statement is given here."
   ]
  },
  {
   "cell_type": "markdown",
   "id": "d7fd4ae5",
   "metadata": {},
   "source": [
    "***Syntax***\n",
    "```python\n",
    "if <first condition>:\n",
    "    <first alternative statements>\n",
    "\n",
    "elif <second condition>:    \n",
    "    <second alternative statements>\n",
    "\n",
    "elif <third alternative>:\n",
    "    <third alternative statements>\n",
    "\n",
    "...\n",
    "\n",
    "else:\n",
    "    <catch-all alternatives>\n",
    "```\n",
    "<p><img alt=\"Flowchart_IF_ELIF_ELSE\" src=\"https://drive.google.com/uc?id=1v46FdtPNidKxgH6H52q3KTBz1QlYzOt7\" width = \"720\" align=\"centre\" vspace=\"0px\"></p>"
   ]
  },
  {
   "cell_type": "markdown",
   "id": "e7db80f8",
   "metadata": {},
   "source": [
    "The function `a_level_grade()` below takes in one argument `marks` (assumed to be 0 to 100) and `return` the corresponding `grade` in GCE-A Level grading system. Try out this function by calling it with different marks.\n",
    "```python\n",
    "def a_level_grade(marks):\n",
    "    \n",
    "    if marks >= 70:\n",
    "        grade = \"A\"\n",
    "    \n",
    "    elif m >= 60: #why don't we test marks < 70 here?\n",
    "        grade = \"B\"\n",
    "    \n",
    "    elif m >= 55:\n",
    "        grade = \"C\"\n",
    "    \n",
    "    elif m >= 50:\n",
    "        grade = \"D\"\n",
    "    \n",
    "    elif m >= 45:\n",
    "        grade = \"E\"\n",
    "    \n",
    "    elif m >= 40:\n",
    "        grade = \"S\"\n",
    "    \n",
    "    else:\n",
    "        grade = \"U\"\n",
    "    \n",
    "    return grade\n",
    "```"
   ]
  },
  {
   "cell_type": "code",
   "execution_count": null,
   "id": "7625972e",
   "metadata": {},
   "outputs": [],
   "source": [
    "# try the code here\n",
    "\n",
    "# some testing call can be like print(a_level_grade(69))"
   ]
  },
  {
   "cell_type": "markdown",
   "id": "43f6121c",
   "metadata": {},
   "source": [
    "**Example 7.4**\n",
    "\n",
    "One of the age classification methods is illustrated in the table below.\n",
    "\n",
    ">**Age Group Name** | **Age Range** |\n",
    "> :- | :- |\n",
    "> Infant    | 0 to 2\n",
    "> Preschool | 3 to 6\n",
    "> Children  | 7 to 12\n",
    "> Teenager  | 13 to 18\n",
    "> Adult     | 19 to 44\n",
    "> Middle Age| 45 to 60\n",
    "> Senior    | 61 to 120\n",
    "> Alien     | other integers (e.g. -1, 2000, etc)\n",
    "\n",
    "Write a **function** `age_group()` which\n",
    "* takes in an integer argument `age`,\n",
    "* `returns` the corresponding age group name based on the table as a string.\n",
    "\n",
    "Remember to test your function, e.g. print(age_group(-1)), print(age_group(22)) etc"
   ]
  },
  {
   "cell_type": "code",
   "execution_count": null,
   "id": "17edac6f",
   "metadata": {},
   "outputs": [],
   "source": [
    "# code here"
   ]
  },
  {
   "cell_type": "markdown",
   "id": "5af0ce21",
   "metadata": {},
   "source": [
    "<p><img alt=\"Python Cartoon\" src=\"https://drive.google.com/uc?id=17qx7WNiRa-JOtgCgHWPtDZ7RkmwaaUDu\" width = \"100\" align=\"left\" vspace=\"0px\"></p>\n",
    "\n",
    "# *Go to Assignment 07*"
   ]
  },
  {
   "cell_type": "markdown",
   "id": "7cb1ca5f",
   "metadata": {},
   "source": [
    "# Solutions to Examples"
   ]
  },
  {
   "cell_type": "markdown",
   "id": "e8c5c61b",
   "metadata": {},
   "source": [
    "**Example 7.1**"
   ]
  },
  {
   "cell_type": "code",
   "execution_count": null,
   "id": "083ef5ff",
   "metadata": {},
   "outputs": [],
   "source": [
    "n = int(input(\"Key in an integer: \"))\n",
    "\n",
    "if n % 7 == 0:\n",
    "    \n",
    "    print(\"You got a lucky 7!\")"
   ]
  },
  {
   "cell_type": "markdown",
   "id": "f40e0871",
   "metadata": {},
   "source": [
    "**Example 7.2**"
   ]
  },
  {
   "cell_type": "code",
   "execution_count": null,
   "id": "0a0738fe",
   "metadata": {},
   "outputs": [],
   "source": [
    "import random\n",
    "num = random.randint(1, 6) #num stores a randomly generated integer between 1 and 6 inclusive.\n",
    "\n",
    "guess = int(input(\"Your Guess (1 to 6): \"))\n",
    "\n",
    "if guess == num:\n",
    "    print(\"Correct Guess!\")\n",
    "\n",
    "else:\n",
    "    print(\"Wrong Guess!\")"
   ]
  },
  {
   "cell_type": "markdown",
   "id": "1feba32f",
   "metadata": {},
   "source": [
    "**Example 7.3**"
   ]
  },
  {
   "cell_type": "code",
   "execution_count": null,
   "id": "3f4b2552",
   "metadata": {},
   "outputs": [],
   "source": [
    "initial_amount = 10\n",
    "unit_price = 0.70\n",
    "\n",
    "n = int(input(\"Number of apples n = \"))\n",
    "\n",
    "if n <= 0:\n",
    "    \n",
    "    print(\"The value of n is not meaningful!\")\n",
    "    \n",
    "else:\n",
    "    \n",
    "    if unit_price * n > initial_amount:\n",
    "        \n",
    "        print(\"Jerry cannot afford it!\")\n",
    "    \n",
    "    else:\n",
    "        \n",
    "        amount_left = initial_amount - unit_price * n\n",
    "        print(f\"Jerry has ${amount_left:.2f} left after buying {n} apples.\")"
   ]
  },
  {
   "cell_type": "markdown",
   "id": "398e9289",
   "metadata": {},
   "source": [
    "**Example 7.4**"
   ]
  },
  {
   "cell_type": "code",
   "execution_count": null,
   "id": "cd7c13ce",
   "metadata": {},
   "outputs": [],
   "source": [
    "def age_group(age):\n",
    "    \n",
    "    if age < 0:\n",
    "        return \"Alien\" \n",
    "    \n",
    "    elif age <= 2:\n",
    "        return \"Infant\"\n",
    "    \n",
    "    elif age <= 6:\n",
    "        return \"Preschool\"\n",
    "    \n",
    "    elif age <= 12:\n",
    "        return \"Children\"\n",
    "    \n",
    "    elif age <= 18:\n",
    "        return \"Teenager\"\n",
    "    \n",
    "    elif age <= 44:\n",
    "        return \"Adult\"\n",
    "    \n",
    "    elif age <= 60:\n",
    "        return \"Middle Age\"\n",
    "    \n",
    "    elif age <= 120:\n",
    "        return \"Senior\"\n",
    "    \n",
    "    else:\n",
    "        return \"Alien\""
   ]
  }
 ],
 "metadata": {
  "kernelspec": {
   "display_name": "Python 3 (ipykernel)",
   "language": "python",
   "name": "python3"
  },
  "language_info": {
   "codemirror_mode": {
    "name": "ipython",
    "version": 3
   },
   "file_extension": ".py",
   "mimetype": "text/x-python",
   "name": "python",
   "nbconvert_exporter": "python",
   "pygments_lexer": "ipython3",
   "version": "3.10.2"
  }
 },
 "nbformat": 4,
 "nbformat_minor": 5
}
