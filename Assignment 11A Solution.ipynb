{
 "cells": [
  {
   "cell_type": "markdown",
   "id": "f50cba70",
   "metadata": {},
   "source": [
    "**Question 11A.1 (Formulation of 5-puzzle Problem)**\n",
    "\n",
    "Another type of grid world is the **sokoban puzzle**, in which the agent’s goal is to push a number of boxes, scattered about the grid, to designated storage locations. There can be at most one box per cell. When an agent moves forward into a cell containing a box and there is an empty cell on the other side of the box, then both the box and the agent move forward. The agent can’t push a box into another box or a wall.\n",
    "\n",
    "In a **sliding-tile puzzle**, a number of tiles (sometimes called blocks or pieces) are arranged in a grid with one or more blank spaces so that some of the tiles can slide into the blank space.\n",
    "\n",
    "One of the simplest variants is the **5-puzzle** (see Figure), which consists of a grid with five numbered tiles and one blank space. The object is to reach a specified goal state, such as the one shown on the right of the figure. \n",
    "\n",
    "<p><img alt=\"5-puzzle\" src=\"https://drive.google.com/uc?id=1hz6FITLmnScYVaRBhmkM3DXkmxW9ybVb\" width = \"400\" align=\"center\" vspace=\"0px\"></p>\n",
    "\n",
    "Your task is to formulate this problem into a standard AI searching problem.\n",
    "\n",
    "**State** ($s$): an **abstraction/representation** of the environment.\n",
    "\n",
    "**State space** ($S$): the set of all the possible states. $S=\\{s_0, s_1, s_2, s_3, ..., s_n\\}$.\n",
    "\n",
    "**Initial state** ($s_0$): starting state of the environment.\n",
    "\n",
    "**Goal state**: the state or the set of states that satisfies the environment conditions that we wish the agent to achieve.\n",
    "\n",
    "**Goal test** ($G$): a function $G$, such that $G(s_i)$ allows us to determine if $s_i$ is a goal state.\n",
    "\n",
    "**Actions** ($A$): a function $A$, such that $A(s_i)$ returns the actions that may be taken at state $s_i$.\n",
    "\n",
    "**Transition** ($T$): a function $T$, such that $T(s_i, a_k)\\rightarrow s_j$, where $s_j$ corresponds to the resultant state when applying action $a_k$ at the state $s_i$.\n",
    "\n",
    "**Action Cost** ($C$): a function $C$, such that $C(s_i, a_k, s_j)\\rightarrow cost$, which is the numeric cost of applying action $a_k$ in state $s_i$ to reach $s_j$."
   ]
  },
  {
   "cell_type": "markdown",
   "id": "40c6bb70",
   "metadata": {},
   "source": [
    "**Part (i) - State, state space, initial state, goal state**\n",
    "\n",
    "We may choose a list of numbers to represent the state of the game,\n",
    "$[n_0, n_1, n_2, ...]$, ordered by their positions (first left-right then top-down) in the grids.\n",
    "\n",
    "In particular, the blank space in the grids is represented by number 0.\n",
    "\n",
    "```python\n",
    "goal_state = [0, 1, 2, 3, 4, 5]\n",
    "```\n",
    "Write down the list representing the initial state given in the figure. Run the code cell before proceeding to the next part."
   ]
  },
  {
   "cell_type": "code",
   "execution_count": null,
   "id": "604b99df",
   "metadata": {},
   "outputs": [],
   "source": [
    "max_r = 2\n",
    "max_c = 3\n",
    "no_grids = max_r * max_c\n",
    "\n",
    "goal_state = list(range(n_grids)) # in this example, goal_state = [0, 1, 2, 3, 4, 5]\n",
    "initial_state = [5, 0, 2, 4, 3, 1]"
   ]
  },
  {
   "cell_type": "markdown",
   "id": "57c89949",
   "metadata": {},
   "source": [
    "**Part (ii) - Goal Test**\n",
    "\n",
    "Write a function `goal_test()` which\n",
    "- takes in a state,\n",
    "- returns `True` if the state is the `goal_state`; `False` otherwise.\n",
    "\n",
    "*Test cases:*\n",
    "```python\n",
    "goal_test(initial_state) should return False\n",
    "goal_test(goal_state) should return True\n",
    "```"
   ]
  },
  {
   "cell_type": "code",
   "execution_count": null,
   "id": "e9640b88",
   "metadata": {},
   "outputs": [],
   "source": [
    "def goal_test(s):\n",
    "    \n",
    "    return s == goal_state"
   ]
  },
  {
   "cell_type": "markdown",
   "id": "d2561ca9",
   "metadata": {},
   "source": [
    "**Part (iii) - Actions**\n",
    "\n",
    "Write the actions function for the game. The simplest way of describing an action is to think of the blank space moving `\"Left\"`,`\"Right\"`, `\"Up\"` or `\"Down\"`. If the blank is at an edge or corner then not all actions will be applicable.\n",
    "\n",
    "Write a function `get_actions()` which\n",
    "- takes in a state,\n",
    "- returns the list of possible actions from `\"Left\"`,`\"Right\"`, `\"Up\"` and `\"Down\"`.\n",
    "\n",
    "*Test cases:*\n",
    "```python\n",
    "get_actions(initial_state) should return ['Left', 'Right', 'Down']\n",
    "get_actions(goal_state) should return ['Right', 'Down']\n",
    "get_actions([5, 3, 1, 4, 2, 0]) should return ['Left', 'Up']\n",
    "```\n"
   ]
  },
  {
   "cell_type": "code",
   "execution_count": null,
   "id": "9dda46ca",
   "metadata": {},
   "outputs": [],
   "source": [
    "def get_actions(s):\n",
    "    \n",
    "    possible_actions = [\"Left\", \"Right\", \"Up\", \"Down\"]\n",
    "    \n",
    "    x = s.index(0)\n",
    "    if x < max_c: # in this example x < 3\n",
    "        possible_actions.remove(\"Up\")\n",
    "    \n",
    "    if x >= no_grids - max_c: #in this example x >= 2\n",
    "        possible_actions.remove(\"Down\")\n",
    "    \n",
    "    if x % max_c == 0: # in this example x == 0 or x == 3\n",
    "        possible_actions.remove(\"Left\")\n",
    "        \n",
    "    if (x + 1) % max_c == 0: # in this example x == 2 or x == 5\n",
    "        possible_actions.remove(\"Right\")\n",
    "    \n",
    "    return possible_actions"
   ]
  },
  {
   "cell_type": "markdown",
   "id": "66f9a43b",
   "metadata": {},
   "source": [
    "**Part (iv) - Transition**\n",
    "\n",
    "Write the transition function for the game. The function `transition()` should\n",
    "- take in a state and one feasible action (`\"Left\"`, `\"Right\"`, `\"Up\"`, `\"Down\"`),\n",
    "- return the resultant state after taking the action on the blank space.\n",
    "\n",
    "**Important:** Use `list.copy()` to create a copy inside the function before modifying it.\n",
    "\n",
    "*Test cases:*\n",
    "```python\n",
    "transition(initial_state, \"Left\") should return [0, 5, 2, 4, 3, 1]\n",
    "transition([5, 3, 1, 4, 2, 0], \"Up\") should return [5, 3, 0, 4, 2, 1]\n",
    "transition(goal_state, \"Right\") should return [1, 0, 2, 3, 4, 5]\n",
    "transition(goal_state, \"Down\") should return [3, 1, 2, 0, 4, 5]\n",
    "```"
   ]
  },
  {
   "cell_type": "code",
   "execution_count": null,
   "id": "abe03612",
   "metadata": {},
   "outputs": [],
   "source": [
    "def transition(s, a):\n",
    "    \n",
    "    s_new = s.copy()\n",
    "    x = s.index(0)\n",
    "    \n",
    "    if a == \"Up\":\n",
    "        \n",
    "        s_new[x] = s[x-max_c] # in this case [x-3]\n",
    "        s_new[x-max_c] = s[x]\n",
    "        \n",
    "    if a == \"Down\":\n",
    "        s_new[x] = s[x+max_c]\n",
    "        s_new[x+max_c] = s[x]\n",
    "        \n",
    "    if a == \"Left\":\n",
    "        s_new[x] = s[x-1]\n",
    "        s_new[x-1] = s[x]\n",
    "        \n",
    "    if a == \"Right\":\n",
    "        s_new[x] = s[x+1]\n",
    "        s_new[x+1] = s[x]    \n",
    "    \n",
    "    return s_new"
   ]
  },
  {
   "cell_type": "markdown",
   "id": "634bb654",
   "metadata": {},
   "source": [
    "**Part (v) - Action Cost**\n",
    "\n",
    "We may assume each action costs 1 in this game. The `action_cost()` function is given below."
   ]
  },
  {
   "cell_type": "code",
   "execution_count": null,
   "id": "b54a96d5",
   "metadata": {},
   "outputs": [],
   "source": [
    "def action_cost(s, a, new_s):\n",
    "    \n",
    "    return 1"
   ]
  },
  {
   "cell_type": "markdown",
   "id": "3d24ab21",
   "metadata": {},
   "source": [
    "The searchign algorithm below give a solution to the problem if all your previous code cells work well. You must run all the cells before running the algorithm."
   ]
  },
  {
   "cell_type": "code",
   "execution_count": null,
   "id": "3f18ccf7",
   "metadata": {},
   "outputs": [],
   "source": [
    "def play0p(init_s):\n",
    "\n",
    "    path = []\n",
    "    history = []\n",
    "    cost = 0\n",
    "    frontier = [(init_s, path, history, cost)]\n",
    "    optimal = ([], [], [], 99999999)\n",
    "\n",
    "    while len(frontier) > 0:\n",
    "        \n",
    "        node = frontier.pop(0)\n",
    "        if goal_test(node[0]):\n",
    "            if node[3] < optimal[3]:\n",
    "                optimal = node\n",
    "\n",
    "        else:\n",
    " \n",
    "            state = node[0]\n",
    "            \n",
    "            for action in get_actions(state):\n",
    "                new_state = transition(state, action)\n",
    "\n",
    "                if new_state not in node[2]:\n",
    "                \n",
    "                    new_path = node[1].copy()\n",
    "                    new_path.append(action)\n",
    "                    \n",
    "                    new_history = node[2].copy()\n",
    "                    new_history.append(state)\n",
    "                    \n",
    "                    new_cost = node[3] + action_cost(state, action, new_state)\n",
    "                    if new_cost < optimal[3]:\n",
    "                        frontier.append((new_state, new_path, new_history, new_cost))\n",
    "    \n",
    "    if optimal[2] == []:\n",
    "        return None\n",
    "    else:\n",
    "        return optimal\n",
    "    \n",
    "solution = play0p(initial_state)\n",
    "\n",
    "if solution == None:\n",
    "    print(\"no solution!\")\n",
    "else:\n",
    "    print(f'Goal {solution[0]} reached with cost {solution[3]}! Path taken is {solution[2]}!')"
   ]
  }
 ],
 "metadata": {
  "kernelspec": {
   "display_name": "Python 3 (ipykernel)",
   "language": "python",
   "name": "python3"
  },
  "language_info": {
   "codemirror_mode": {
    "name": "ipython",
    "version": 3
   },
   "file_extension": ".py",
   "mimetype": "text/x-python",
   "name": "python",
   "nbconvert_exporter": "python",
   "pygments_lexer": "ipython3",
   "version": "3.10.2"
  }
 },
 "nbformat": 4,
 "nbformat_minor": 5
}
