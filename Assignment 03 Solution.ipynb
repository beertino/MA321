{
 "cells": [
  {
   "cell_type": "markdown",
   "id": "6c8fcca7",
   "metadata": {},
   "source": [
    "**Question 3.1 (*compound interest*)**\n",
    "\n",
    "Shane wants to place `p` dollars (principal) in a bank as a fixed deposit for `n` years.\n",
    "\n",
    "The bank offers an interest rate of `r`% per annum *compounded* yearly.\n",
    "\n",
    "Find the total amount that Shane can receive at the end of `n` years, correct to the nearest cent.\n",
    "\n",
    "You may assume the data types for `p`, `n` and `r` are `int`, `int` and `float` respectively.\n",
    "\n",
    "*Sample input:*\n",
    "```\n",
    "Principal (in dollars): 10000\n",
    "Period (in years): 5\n",
    "\n",
    "Interest rate is r%, value of r: 2.5\n",
    "```\n",
    "*Sample output:*\n",
    "```\n",
    "Total amount at the end of 5 years is 11314.08 dollars.\n",
    "```"
   ]
  },
  {
   "cell_type": "code",
   "execution_count": 3,
   "id": "94c7e106",
   "metadata": {},
   "outputs": [
    {
     "name": "stdout",
     "output_type": "stream",
     "text": [
      "Principal (in dollars): 10000\n",
      "Period (in years): 5\n",
      "Interest rate is r%, value of r: 2.5\n",
      "Total amount at the end of 5 years is 11314.08 dollars.\n"
     ]
    }
   ],
   "source": [
    "# Code here\n",
    "p = int(input(\"Principal (in dollars): \"))\n",
    "n = int(input(\"Period (in years): \"))\n",
    "r = float(input(\"Interest rate is r%, value of r: \"))\n",
    "\n",
    "total = round(p * (1 + r / 100) ** n, 2)\n",
    "\n",
    "print(f\"Total amount at the end of {n} years is {total} dollars.\")"
   ]
  },
  {
   "cell_type": "markdown",
   "id": "87fee7ea",
   "metadata": {},
   "source": [
    "**Question 3.2 (*shoelace method*)**\n",
    "\n",
    "Prompt the user to input the values of `x1`, `y1`, `x2`, `y2`, `x3` and `y3` (assuming all to be integers). Calculate the area of the trianlge with vertices (`x1`, `y1`), (`x2`, `y2`), and (`x3`, `y3`).\n",
    "\n",
    "*Sample input:*\n",
    "```\n",
    "x1 = 0\n",
    "y1 = 0\n",
    "x2 = 1\n",
    "y2 = 4\n",
    "x3 = 5\n",
    "y3 = 2\n",
    "```\n",
    "*Sample output:*\n",
    "```\n",
    "Area of triangle = 9.0\n",
    "```"
   ]
  },
  {
   "cell_type": "code",
   "execution_count": 7,
   "id": "3f829537",
   "metadata": {},
   "outputs": [
    {
     "name": "stdout",
     "output_type": "stream",
     "text": [
      "x1 = 0\n",
      "y1 = 0\n",
      "x2 = 1\n",
      "y2 = 4\n",
      "x3 = 5\n",
      "y3 = 2\n",
      "Area of triangle = 9.0\n"
     ]
    }
   ],
   "source": [
    "x1 = int(input(\"x1 = \"))\n",
    "y1 = int(input(\"y1 = \"))\n",
    "x2 = int(input(\"x2 = \"))\n",
    "y2 = int(input(\"y2 = \"))\n",
    "x3 = int(input(\"x3 = \"))\n",
    "y3 = int(input(\"y3 = \"))\n",
    "\n",
    "area = abs((x1 * y2 + x2 * y3 + x3 * y1 - x2 * y1 - x3 * y2 - x1 * y3) / 2)\n",
    "\n",
    "print(\"Area of triangle =\", area)"
   ]
  },
  {
   "cell_type": "markdown",
   "id": "1df664e5",
   "metadata": {},
   "source": [
    "**Question 3.3 (*understand rounding*)**\n",
    "\n",
    "Find a `float` number `f` such that `int(f)`, `round(f)` and `f // 1` give different values."
   ]
  },
  {
   "cell_type": "code",
   "execution_count": 21,
   "id": "c754f320",
   "metadata": {},
   "outputs": [
    {
     "name": "stdout",
     "output_type": "stream",
     "text": [
      "1\n",
      "2\n",
      "1.0\n",
      "-1\n",
      "-2\n",
      "-2.0\n"
     ]
    }
   ],
   "source": [
    "f = 1.6\n",
    "print(int(f))\n",
    "print(round(f))\n",
    "print(f // 1)\n",
    "\n",
    "f = -1.6\n",
    "print(int(f))\n",
    "print(round(f))\n",
    "print(f // 1)"
   ]
  }
 ],
 "metadata": {
  "kernelspec": {
   "display_name": "Python 3 (ipykernel)",
   "language": "python",
   "name": "python3"
  },
  "language_info": {
   "codemirror_mode": {
    "name": "ipython",
    "version": 3
   },
   "file_extension": ".py",
   "mimetype": "text/x-python",
   "name": "python",
   "nbconvert_exporter": "python",
   "pygments_lexer": "ipython3",
   "version": "3.10.2"
  }
 },
 "nbformat": 4,
 "nbformat_minor": 5
}
