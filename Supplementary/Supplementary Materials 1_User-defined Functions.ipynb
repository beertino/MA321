{
 "cells": [
  {
   "cell_type": "markdown",
   "id": "7d6d2eb6",
   "metadata": {},
   "source": [
    "**Most of** the **user-defined functions**\n",
    "- take in **argument(s)**, and\n",
    "- have **return value(s)**.\n",
    "\n",
    "The **argument(s)** enable a function to work based for different sets of values upon being called; the **return value(s)** enable a function to pass the results to the main code body or other functions for further use."
   ]
  },
  {
   "cell_type": "markdown",
   "id": "9ca3cd01",
   "metadata": {},
   "source": [
    "For example, we can write a function `average()` which\n",
    "- takes in 3 float arguments `a`, `b` and `c`, then\n",
    "- **returns** the mean of these numbers."
   ]
  },
  {
   "cell_type": "code",
   "execution_count": 3,
   "id": "d9e5039f",
   "metadata": {},
   "outputs": [],
   "source": [
    "def average(a, b, c):\n",
    "    \n",
    "    return (a + b + c) / 3"
   ]
  },
  {
   "cell_type": "markdown",
   "id": "888a34b3",
   "metadata": {},
   "source": [
    "Run the code above. You will NOT see any output on the screen.\n",
    "\n",
    "Now let us call this function in different scenarios."
   ]
  },
  {
   "cell_type": "code",
   "execution_count": 8,
   "id": "f9489b24",
   "metadata": {},
   "outputs": [
    {
     "name": "stdout",
     "output_type": "stream",
     "text": [
      "3.0\n",
      "The mean of 1.2, 2.3 and 6.7 is 3.4\n"
     ]
    }
   ],
   "source": [
    "# Scenario 1 - to print the return value.\n",
    "print(average(1, 3, 5))\n",
    "\n",
    "x = 1.2\n",
    "y = 2.3\n",
    "z = 6.7\n",
    "\n",
    "print(f\"The mean of {x}, {y} and {z} is {average(x, y, z)}\")"
   ]
  },
  {
   "cell_type": "code",
   "execution_count": 10,
   "id": "6b8d4e0b",
   "metadata": {},
   "outputs": [],
   "source": [
    "# Scenario 2 - to assign the return value to another varable\n",
    "\n",
    "m = average(1, 10, 100)\n",
    "n = average(30, 35, 40)\n",
    "average6 = (m + n) / 2"
   ]
  },
  {
   "cell_type": "markdown",
   "id": "38bcb06e",
   "metadata": {},
   "source": [
    "The standard deviation $$ \\sigma = \\sqrt{\\frac{\\sum x^2}{n} - \\bar x ^ 2} $$"
   ]
  },
  {
   "cell_type": "code",
   "execution_count": 13,
   "id": "3f705fc9",
   "metadata": {},
   "outputs": [
    {
     "name": "stdout",
     "output_type": "stream",
     "text": [
      "The standard deviation of 1, 2 and 3 is 0.8164965809277263\n"
     ]
    }
   ],
   "source": [
    "# Scenario 3 - to call it in another function\n",
    "\n",
    "def standard_d(a, b, c):\n",
    "    \n",
    "    var = average(a ** 2, b ** 2, c ** 2) - (average(a, b, c)) ** 2\n",
    "    sd = var ** 0.5\n",
    "    return sd\n",
    "\n",
    "print(\"The standard deviation of 1, 2 and 3 is\", standard_d(1, 2, 3))"
   ]
  },
  {
   "cell_type": "markdown",
   "id": "c87f93ed",
   "metadata": {},
   "source": [
    "A function may also return multiple values as `tuple`, separated by `,`. For example,"
   ]
  },
  {
   "cell_type": "code",
   "execution_count": 14,
   "id": "07013cd7",
   "metadata": {},
   "outputs": [
    {
     "name": "stdout",
     "output_type": "stream",
     "text": [
      "The bigger value is 3.14 and the smaller value is 2.72.\n"
     ]
    }
   ],
   "source": [
    "def big_small(x, y):\n",
    "    \n",
    "    bigger = (x + y + abs(x - y)) / 2\n",
    "    smaller = (x + y - abs(x - y)) / 2\n",
    "    \n",
    "    return bigger, smaller\n",
    "\n",
    "p = 2.72\n",
    "q = 3.14\n",
    "\n",
    "b, s = big_small(p, q)\n",
    "print(f\"The bigger value is {b} and the smaller value is {s}.\")"
   ]
  }
 ],
 "metadata": {
  "kernelspec": {
   "display_name": "Python 3 (ipykernel)",
   "language": "python",
   "name": "python3"
  },
  "language_info": {
   "codemirror_mode": {
    "name": "ipython",
    "version": 3
   },
   "file_extension": ".py",
   "mimetype": "text/x-python",
   "name": "python",
   "nbconvert_exporter": "python",
   "pygments_lexer": "ipython3",
   "version": "3.10.2"
  }
 },
 "nbformat": 4,
 "nbformat_minor": 5
}
