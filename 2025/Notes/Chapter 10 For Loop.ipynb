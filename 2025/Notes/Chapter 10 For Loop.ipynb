{
 "cells": [
  {
   "cell_type": "markdown",
   "id": "31d750ce",
   "metadata": {},
   "source": [
    "# Learning Objectives\n",
    "\n",
    "- Use appropriate techniques or tools such as pseudo-code and flowchart to show program flow.\n",
    "- Use a combination of various control structures\n",
    "\n",
    "[![Open In Colab](https://colab.research.google.com/assets/colab-badge.svg)](https://colab.research.google.com/github/beertino/MA321/blob/main/2025/Notes/Chapter%2010%20For%20Loop.ipynb)"
   ]
  },
  {
   "cell_type": "markdown",
   "id": "5edcaa73",
   "metadata": {},
   "source": [
    "# 10 `for`-loop\n",
    "\n",
    "From what we have learned in the earlier chapters about string data type and `while` loop, we can access all the characters in a string with indexing and a `while`-loop.\n",
    "\n",
    "#### Example 10.1\n",
    "\n",
    "Suppose we want to print out all the characters in the string \"I love Python!\" from the start to the end, separated by \"|\". The code is given below.\n",
    "```Python\n",
    "s = \"I love Python!\"\n",
    "l = len(s)\n",
    "index = 1\n",
    "keepgoing = (index <= l)\n",
    "\n",
    "while keepgoing:\n",
    "    print(s[index], end = \"|\")\n",
    "    index = index + 1\n",
    "    keepgoing = (index <= l)\n",
    "```\n",
    "The code above has two critical errors. Copy-past the code below and recitify the errors. The expected output is:\n",
    "```\n",
    "I| |l|o|v|e| |P|y|t|h|o|n|!|\n",
    "```"
   ]
  },
  {
   "cell_type": "code",
   "execution_count": null,
   "id": "14fdd43f",
   "metadata": {},
   "outputs": [],
   "source": [
    "# code here"
   ]
  },
  {
   "cell_type": "markdown",
   "id": "f0f44090",
   "metadata": {},
   "source": [
    "We have a neater solution to the example above using a `for`-loop as string is an **iterable** data type. Try the code below."
   ]
  },
  {
   "cell_type": "code",
   "execution_count": null,
   "id": "7a094bee",
   "metadata": {},
   "outputs": [],
   "source": [
    "s = \"I love Python!\"\n",
    "\n",
    "for c in s:\n",
    "    print(c, end = \"|\")"
   ]
  },
  {
   "cell_type": "markdown",
   "id": "c863a757",
   "metadata": {},
   "source": [
    "## 10.1 What's a `for` loop?\n",
    "A `for` loop is a programming construct similar to the `while`-loop used to repeat a block of code. It is preferable to use `for` loop over `while` loop when we know the number of iterations needed beforehand. It can also be used in Python to iterating over an iterable data type. Some of the iterable data types in Python are\n",
    "- string\n",
    "- list\n",
    "- range\n",
    "- tuple\n",
    "- dictionary\n",
    "- set\n",
    "\n",
    "***Syntax***\n",
    "```text\n",
    "for an_iterating_variable in an_iterable :\n",
    "    \n",
    "    <statements in the body of the for-loop until the entire iterable is exhausted>\n",
    "    \n",
    "<statements after the loop>\n",
    "```\n",
    "\n",
    "Below is a visual representation of the `for`-loop in flowchart.\n",
    "\n",
    "<center>\n",
    "<img alt=\"Flowchart_FOR_Loop\" src=\"../src/for_loop.jpeg\" width = \"500\" align=\"centre\" vspace=\"0px\">\n",
    "</center>"
   ]
  },
  {
   "cell_type": "markdown",
   "id": "b98d3f6d",
   "metadata": {},
   "source": [
    "## 10.2 Sentry Variable in a `for`-loop\n",
    "A `for`-loop is also controllbed by a **sentry variable** (or a **loop variable**). The following steps are performed by Python automatically following the syntax.\n",
    "* Step 1: Initialise the sentry variable (the iterating variable used in the `for` statement, is initialised to be the first item in the iterable). \n",
    "* Step 2: Check the sentry variable (whether the iterable is exhausted).\n",
    "* Step 3: Update the sentry variable (the iterating variable is assigned with the next item in the iterable after every loop).\n",
    "\n",
    "#### Example 10.2\n",
    "\n",
    "Write a function `count_vowels()` which\n",
    "- takes in a string;\n",
    "- returns the total number of vowels in the string (including both upper and lower cases).\n",
    "\n",
    "Use a `for`-loop instead of other methods for this example.\n",
    "\n",
    "*Test cases:*\n",
    "- `count_vowels(\"Python\")` should return `1`\n",
    "- `count_vowels(\"I love Python!\")` should return `4`\n",
    "- `count_vowels(\"Computational Thinking is cool!\")` should return `11`\n"
   ]
  },
  {
   "cell_type": "code",
   "execution_count": null,
   "id": "6fa4ee83",
   "metadata": {},
   "outputs": [],
   "source": [
    "# code here"
   ]
  },
  {
   "cell_type": "markdown",
   "id": "7b7fd7eb",
   "metadata": {},
   "source": [
    "#### Example 10.3\n",
    "Write a function `reverse_string()` which\n",
    "- takes in a string;\n",
    "- returns its reversed string, e.g. the reversed string of \"abc\" is \"cba\".\n",
    "\n",
    "*Test cases:*\n",
    "- `reverse_string(\"abc\")` should return `\"cba\"`\n",
    "- `reverse_string(\"Python\")` should return `\"nohtyP\"`\n",
    "- `reverse_string(\"End of Term!\")` should return `\"!mreT fo dnE\"`\n"
   ]
  },
  {
   "cell_type": "code",
   "execution_count": null,
   "id": "5f57c408",
   "metadata": {},
   "outputs": [],
   "source": [
    "# code here"
   ]
  }
 ],
 "metadata": {
  "kernelspec": {
   "display_name": "Python 3 (ipykernel)",
   "language": "python",
   "name": "python3"
  },
  "language_info": {
   "codemirror_mode": {
    "name": "ipython",
    "version": 3
   },
   "file_extension": ".py",
   "mimetype": "text/x-python",
   "name": "python",
   "nbconvert_exporter": "python",
   "pygments_lexer": "ipython3",
   "version": "3.10.2"
  }
 },
 "nbformat": 4,
 "nbformat_minor": 5
}
