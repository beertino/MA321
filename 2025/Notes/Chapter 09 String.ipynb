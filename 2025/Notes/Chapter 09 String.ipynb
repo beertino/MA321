{
 "cells": [
  {
   "cell_type": "markdown",
   "id": "31d750ce",
   "metadata": {},
   "source": [
    "# Learning Objectives\n",
    "\n",
    "- Use appropriate techniques or tools such as pseudo-code and flowchart to show program flow.\n",
    "- Use a combination of various control structures\n",
    "\n",
    "[![Open In Colab](https://colab.research.google.com/assets/colab-badge.svg)](https://colab.research.google.com/github/beertino/MA321/blob/main/2025/Notes/Chapter%2009%20String.ipynb)"
   ]
  },
  {
   "cell_type": "markdown",
   "id": "9cde0274",
   "metadata": {},
   "source": [
    "# 9 String (`str`) as a Data Type\n",
    "String is one of the most commonly used data type in Python. Python has a built-in string class named `str` with many handy features (there is an older module named \"string\" which you should not use).\n",
    "\n",
    "Run the code cell below."
   ]
  },
  {
   "cell_type": "code",
   "execution_count": null,
   "id": "3f304f7a",
   "metadata": {},
   "outputs": [],
   "source": [
    "print(type(\"abc\"))\n",
    "\n",
    "s = '12.4'\n",
    "print(type(s))"
   ]
  },
  {
   "cell_type": "markdown",
   "id": "74742033",
   "metadata": {},
   "source": [
    "Strings in python are surrounded by either single quotation marks `''`, or double quotation marks `\"\"`.\n",
    "\n",
    "`'hello'` is the same as `\"hello\"`.\n",
    "\n",
    "Run the code cells below to understand why Python introduces two different quotation mark types for strings."
   ]
  },
  {
   "cell_type": "code",
   "execution_count": null,
   "id": "8b823e0b",
   "metadata": {},
   "outputs": [],
   "source": [
    "s1 = \"This string contains 'single' quotation marks.\"\n",
    "print(s1)\n",
    "\n",
    "s2 = 'This string contains \"double\" quotation marks.'\n",
    "print(s2)"
   ]
  },
  {
   "cell_type": "code",
   "execution_count": null,
   "id": "51c418a0",
   "metadata": {},
   "outputs": [],
   "source": [
    "s3 = \"This \"string\" cannot work.\"\n",
    "print(s3)"
   ]
  },
  {
   "cell_type": "markdown",
   "id": "de0b88de",
   "metadata": {},
   "source": [
    "We may cast an `int` variable or a `float` variable to a `str` variable using the function **`str()`**. Run the code below."
   ]
  },
  {
   "cell_type": "code",
   "execution_count": null,
   "id": "9bb4e9ed",
   "metadata": {},
   "outputs": [],
   "source": [
    "a = 3.14\n",
    "b = 16\n",
    "\n",
    "print(a + b)\n",
    "\n",
    "s_a = str(a)\n",
    "s_b = str(b)\n",
    "print(s_a + s_b)"
   ]
  },
  {
   "cell_type": "markdown",
   "id": "77d61996",
   "metadata": {},
   "source": [
    "It is common to concatenate two string values together with the `+` operator, but we can do much more than that. We can extract partial strings from string values, add or remove spacing, convert letters to lowercase or uppercase, and check that strings are formatted correctly. We can even write Python code to access the clipboard for copying and pasting text."
   ]
  },
  {
   "cell_type": "markdown",
   "id": "3852756e",
   "metadata": {},
   "source": [
    "## 9.1 String Methods\n",
    "Python has a set of **built-in methods** that you can use on strings. **All string methods returns new values. They do not change the original string because string is an IMMUTABLE data type.**\n",
    "\n",
    "For example, the method `upper()` converts a string to its upper case. Try the code below."
   ]
  },
  {
   "cell_type": "code",
   "execution_count": null,
   "id": "7acb3734",
   "metadata": {},
   "outputs": [],
   "source": [
    "sentence = \"I love Python!\"\n",
    "\n",
    "uppercase = sentence.upper()\n",
    "\n",
    "print(sentence)\n",
    "print(uppercase)"
   ]
  },
  {
   "cell_type": "markdown",
   "id": "d09f97da",
   "metadata": {},
   "source": [
    "The list of built-in methods for strings are as follows. To display this list in Python, simply run `help(str)`.\n",
    "\n",
    "**Method** | **Description**\n",
    ":------------- | :-\n",
    "`capitalize()`   | Converts the first character to upper case\n",
    "`casefold()`     | Converts string into lower case\n",
    "`center()`\t   | Returns a centered string\n",
    "`count()`        | Returns the number of times a specified value occurs in a string\n",
    "`encode()`\t   | Returns an encoded version of the string\n",
    "`endswith()`\t   | Returns true if the string ends with the specified value\n",
    "`expandtabs()`   | Sets the tab size of the string\n",
    "`find()`\t       | Searches the string for a specified value and returns the position of where it was found\n",
    "`format()`\t   | Formats specified values in a string\n",
    "`format_map()`   | Formats specified values in a string\n",
    "`index()`\t       | Searches the string for a specified value and returns the position of where it was found\n",
    "`isalnum()`\t   | Returns True if all characters in the string are alphanumeric\n",
    "`isalpha()`\t   | Returns True if all characters in the string are in the alphabet\n",
    "`isdecimal()`\t   | Returns True if all characters in the string are decimals\n",
    "`isdigit()`\t   | Returns True if all characters in the string are digits\n",
    "`isidentifier()` | Returns True if the string is an identifier\n",
    "`islower()`\t   | Returns True if all characters in the string are lower case\n",
    "`isnumeric()`\t   | Returns True if all characters in the string are numeric\n",
    "`isprintable()`  | Returns True if all characters in the string are printable\n",
    "`isspace()`\t   | Returns True if all characters in the string are whitespaces\n",
    "`istitle()`\t   | Returns True if the string follows the rules of a title\n",
    "`isupper()`\t   | Returns True if all characters in the string are upper case\n",
    "`join()`\t       | Joins the elements of an iterable to the end of the string\n",
    "`ljust()`\t       | Returns a left justified version of the string\n",
    "`lower()`\t       | Converts a string into lower case\n",
    "`lstrip()`\t   | Returns a left trim version of the string\n",
    "`maketrans()`\t   | Returns a translation table to be used in translations\n",
    "`partition()`\t   | Returns a tuple where the string is parted into three parts\n",
    "`replace()`\t   | Returns a string where a specified value is replaced with a specified value\n",
    "`rfind()`\t       | Searches the string for a specified value and returns the last position of where it was found\n",
    "`rindex()`\t   | Searches the string for a specified value and returns the last position of where it was found\n",
    "`rjust()`\t       | Returns a right justified version of the string\n",
    "`rpartition()`   | Returns a tuple where the string is parted into three parts\n",
    "`rsplit()`\t   | Splits the string at the specified separator, and returns a list\n",
    "`rstrip()`\t   | Returns a right trim version of the string\n",
    "`split()`\t       | Splits the string at the specified separator, and returns a list\n",
    "`splitlines()`   | Splits the string at line breaks and returns a list\n",
    "`startswith()`   | Returns true if the string starts with the specified value\n",
    "`strip()`\t       | Returns a trimmed version of the string\n",
    "`swapcase()`\t   | Swaps cases, lower case becomes upper case and vice versa\n",
    "`title()`\t       | Converts the first character of each word to upper case\n",
    "`translate()`\t   | Returns a translated string\n",
    "`upper()`\t       | Converts a string into upper case\n",
    "`zfill()`\t       | Fills the string with a specified number of 0 values at the beginning\n",
    "\n",
    "If you need to view the details of a particular method, for example `replace()`, you may simply run `help(str.replace)`."
   ]
  },
  {
   "cell_type": "code",
   "execution_count": null,
   "id": "eac7c1d2",
   "metadata": {},
   "outputs": [],
   "source": [
    "help(str.replace)"
   ]
  },
  {
   "cell_type": "code",
   "execution_count": null,
   "id": "d090be7c",
   "metadata": {},
   "outputs": [],
   "source": [
    "s = \"all strings are immutable!\"\n",
    "\n",
    "s1 = s.replace(\"a\", \"A\")\n",
    "s2 = s.replace(\"a\", \"A\", 1)\n",
    "s3 = s.replace(\"a\", \"A\", 2)\n",
    "\n",
    "print(\"The original string  :\", s)\n",
    "print(\"Replacing all a's    :\", s1)\n",
    "print(\"Replacing first a    :\", s2)\n",
    "print(\"Replacing first 2 a's:\", s3)\n",
    "      "
   ]
  },
  {
   "cell_type": "markdown",
   "id": "0e185e49",
   "metadata": {},
   "source": [
    "#### Example 9.1\n",
    "\n",
    "The strings below store *The Middle*, a poem by *Ogden Nash*. Learn and apply the list methods `center()` and `rjust()` to print the poems in\n",
    "\n",
    "- **(a)** a centralised format, and\n",
    "\n",
    "- **(b)** a right-justified format.\n",
    "\n",
    "```text\n",
    "title = \"The Middle\"\n",
    "s1 = \"When I remember bygone days\"\n",
    "s2 = \"I think how evening follows morn;\"\n",
    "s3 = \"So many I loved were not yet dead,\"\n",
    "s4 = \"So many I love were not yet born.\"\n",
    "author = \"- Ogden Nash\"\n",
    "```"
   ]
  },
  {
   "cell_type": "code",
   "execution_count": null,
   "id": "c4b955f3",
   "metadata": {},
   "outputs": [],
   "source": [
    "# code (a) here"
   ]
  },
  {
   "cell_type": "code",
   "execution_count": null,
   "id": "42ab6ef7",
   "metadata": {},
   "outputs": [],
   "source": [
    "# code (b) here"
   ]
  },
  {
   "cell_type": "markdown",
   "id": "8b2b3a06",
   "metadata": {},
   "source": [
    "## 9.2 Difference between `isdecimal()`, `isdigit()` and `isnumeric()`\n",
    "\n",
    "Apply these methods on the following strings, then print and observe whether there is any difference in the output.\n",
    "```python\n",
    "s1 = \"123\"\n",
    "s2 = \"-45\"\n",
    "s3 = \"0.75\"\n",
    "s4 = \"12a\"\n",
    "```"
   ]
  },
  {
   "cell_type": "code",
   "execution_count": null,
   "id": "be56ec51",
   "metadata": {},
   "outputs": [],
   "source": [
    "# test here\n",
    "s1 = \"123\"\n",
    "#test below\n",
    "print(s1.isdecimal())\n",
    "print(s1.isdigit())\n",
    "print(s1.isnumeric())"
   ]
  },
  {
   "cell_type": "code",
   "execution_count": null,
   "id": "886dec55",
   "metadata": {},
   "outputs": [],
   "source": [
    "s2 = \"-45\"\n",
    "#test below\n"
   ]
  },
  {
   "cell_type": "code",
   "execution_count": null,
   "id": "99bf9e7f",
   "metadata": {},
   "outputs": [],
   "source": [
    "s3 = \"0.75\"\n",
    "#test below\n"
   ]
  },
  {
   "cell_type": "code",
   "execution_count": null,
   "id": "220febe8",
   "metadata": {},
   "outputs": [],
   "source": [
    "s4 = \"12a\"\n",
    "#test below\n"
   ]
  },
  {
   "cell_type": "markdown",
   "id": "82ed876b",
   "metadata": {},
   "source": [
    "There is no difference between the three methods in the above examples. Now let's look at something differenet.\n",
    "```python\n",
    "s5 = \"⓪③⑧\"\n",
    "s6 = \"௦௧௨௩௪\"\n",
    "s7 = \"一二三四五\"\n",
    "```"
   ]
  },
  {
   "cell_type": "code",
   "execution_count": null,
   "id": "1995133e",
   "metadata": {},
   "outputs": [],
   "source": [
    "s5 = \"⓪③⑧\"\n",
    "#test below\n"
   ]
  },
  {
   "cell_type": "code",
   "execution_count": null,
   "id": "da866f70",
   "metadata": {},
   "outputs": [],
   "source": [
    "s6 = \"௦௧௨௩௪\"\n",
    "#test below\n"
   ]
  },
  {
   "cell_type": "code",
   "execution_count": null,
   "id": "fb74625b",
   "metadata": {},
   "outputs": [],
   "source": [
    "s7 = \"一二三四五\"\n",
    "#test below\n"
   ]
  },
  {
   "cell_type": "markdown",
   "id": "237dafab",
   "metadata": {},
   "source": [
    "By now you should have observed the differences between these 3 methods."
   ]
  },
  {
   "cell_type": "markdown",
   "id": "f865a081",
   "metadata": {},
   "source": [
    "#### Example 9.2\n",
    "\n",
    "Write a function `exist()` which\n",
    "- takes in two strings `s` and `c`, where `c` is a string with a single character;\n",
    "- returns `True` if `c` can be found in `s`; returns `False` otherwise.\n",
    "\n",
    "There are at least two ways to do it, using either string method `count()` or `find()`. You may use the `help()` function to explore how these methods work.\n",
    "\n",
    "*Test cases:*\n",
    "- `exist(\"ABCABC1\", \"A\")` should return `True`\n",
    "- `exist(\"ABCABC2\", \"b\")` should return `False`\n"
   ]
  },
  {
   "cell_type": "code",
   "execution_count": null,
   "id": "b5267cc8",
   "metadata": {},
   "outputs": [],
   "source": [
    "#Using count() method"
   ]
  },
  {
   "cell_type": "code",
   "execution_count": null,
   "id": "2ed05709",
   "metadata": {},
   "outputs": [],
   "source": [
    "#Using find() method"
   ]
  },
  {
   "cell_type": "markdown",
   "id": "fdf30461",
   "metadata": {},
   "source": [
    "Besides the method above, Python provides a keyword `in` which can give you the conclusion immediately. Try the code below:"
   ]
  },
  {
   "cell_type": "code",
   "execution_count": null,
   "id": "d9d36beb",
   "metadata": {},
   "outputs": [],
   "source": [
    "print(\"A\" in \"ABCAB1\")"
   ]
  },
  {
   "cell_type": "code",
   "execution_count": null,
   "id": "f33cbfc1",
   "metadata": {},
   "outputs": [],
   "source": [
    "if \"b\" in \"ABCABC2\":\n",
    "    print(\"'b' is found in the string!\")\n",
    "else:\n",
    "    print(\"'b' is not found in the string!\")"
   ]
  },
  {
   "cell_type": "markdown",
   "id": "453265ad",
   "metadata": {},
   "source": [
    "## 9.2 Length of a String, `len()`"
   ]
  },
  {
   "cell_type": "markdown",
   "id": "0dec10c1",
   "metadata": {},
   "source": [
    "The **build-in function (not a method) `len()`** returns the length of a string as an integer. Run the following test code."
   ]
  },
  {
   "cell_type": "code",
   "execution_count": null,
   "id": "671e9bf5",
   "metadata": {},
   "outputs": [],
   "source": [
    "print(len(\"007\"))\n",
    "\n",
    "s1 = \"Good job!\"\n",
    "print(len(s1))\n",
    "\n",
    "s2 = \"\"\n",
    "length = len(s2)\n",
    "print(length)"
   ]
  },
  {
   "cell_type": "markdown",
   "id": "135ce85b",
   "metadata": {},
   "source": [
    "#### Example 9.3\n",
    "\n",
    "Write a function `longerstring()` which\n",
    "- takes in two strings;\n",
    "- returns the longer string between the two (if the two strings have the same length, you may return either one).\n",
    "\n",
    "*Test cases:*\n",
    "- `longerstring(\"ABC\", \"1234\")` should return `\"1234\"`\n",
    "- `longerstring(\"abc\", \"90\")` should return `\"abc\"`"
   ]
  },
  {
   "cell_type": "markdown",
   "id": "ee92eeb8",
   "metadata": {},
   "source": [
    "## 9.3 Indexing and Slicing\n",
    "In Python, we can access individual characters in a string object by indexing. The index of the first character in a string is **`0`** (reading the usual left to right) as shown in the diagram below\n",
    "\n",
    "<center>\n",
    "<img alt=\"String Indexing\" src=\"../src/string_indexing.jpeg\" width = \"300\" align=\"center\" vspace=\"0px\">\n",
    "</center>\n",
    "\n",
    "Try the code below."
   ]
  },
  {
   "cell_type": "code",
   "execution_count": null,
   "id": "31924a95",
   "metadata": {
    "scrolled": true
   },
   "outputs": [],
   "source": [
    "string = \"PYTHON\"\n",
    "print(string[0])\n",
    "print(string[1])\n",
    "print(string[2])\n",
    "print(string[3])\n",
    "print(string[4])\n",
    "print(string[5])"
   ]
  },
  {
   "cell_type": "markdown",
   "id": "2a2a0c5a",
   "metadata": {},
   "source": [
    "Note that the index of the last character in a string is **its length - 1**. The code below will result in an error."
   ]
  },
  {
   "cell_type": "code",
   "execution_count": null,
   "id": "0d1e4cbc",
   "metadata": {},
   "outputs": [],
   "source": [
    "print(string[6])"
   ]
  },
  {
   "cell_type": "markdown",
   "id": "4e11e5c8",
   "metadata": {},
   "source": [
    "We may also access these characters in backward indexing. **`-1` is the index of the last character**. Try the code below."
   ]
  },
  {
   "cell_type": "code",
   "execution_count": null,
   "id": "c511677e",
   "metadata": {},
   "outputs": [],
   "source": [
    "print(string[-1])\n",
    "print(string[-2])\n",
    "print(string[-3])\n",
    "print(string[-4])\n",
    "print(string[-5])\n",
    "print(string[-6])"
   ]
  },
  {
   "cell_type": "markdown",
   "id": "2ca8d174",
   "metadata": {},
   "source": [
    "**Reminder:**\n",
    "\n",
    "String is an **IMMUTABLE** data type, thus you can only access its characters by indexing but cannot modify them. The code below will result in an error."
   ]
  },
  {
   "cell_type": "code",
   "execution_count": null,
   "id": "ce43f05f",
   "metadata": {},
   "outputs": [],
   "source": [
    "string[1] = \"y\""
   ]
  },
  {
   "cell_type": "markdown",
   "id": "39a83586",
   "metadata": {},
   "source": [
    "#### Example 9.4\n",
    "\n",
    "Write a function `same_start_end()` which\n",
    "- takes in a string;\n",
    "- returns `True` if its first and last characters are the identical; returns `False` otherwise.\n",
    "\n",
    "Test cases:\n",
    "- `same_start_end(\"aA12A\")` should return `False`\n",
    "- `same_start_end(\"aBcCbA3a\")` should return `True`\n",
    "- `same_start_end(\"1\")` should return `True`"
   ]
  },
  {
   "cell_type": "code",
   "execution_count": null,
   "id": "b53bfb87",
   "metadata": {},
   "outputs": [],
   "source": [
    "# code here"
   ]
  },
  {
   "cell_type": "markdown",
   "id": "40476c53",
   "metadata": {},
   "source": [
    "You can return a range of characters in a string by using the slice syntax. Specify the **start index (inclusive)** and the **end index (exclusive)**, separated by a colon, to return a part of the string**. Try the code below."
   ]
  },
  {
   "cell_type": "code",
   "execution_count": null,
   "id": "52a1a4be",
   "metadata": {},
   "outputs": [],
   "source": [
    "string = \"PYTHON\" # its length is 6, thus indices are from 0 to 5\n",
    "\n",
    "print(string[1:5]) # slicing from index 1 to index 4 (not including index 5)\n",
    "print(string[-3:-1]) # slicing from index -3 to index -2 (not including index -1)"
   ]
  },
  {
   "cell_type": "markdown",
   "id": "443a7cc8",
   "metadata": {},
   "source": [
    "In index slicing, you may omit the start index (which implies to start from the same character) or omit the end index (which implies to end at the last character). Try the code below."
   ]
  },
  {
   "cell_type": "code",
   "execution_count": null,
   "id": "df45b132",
   "metadata": {},
   "outputs": [],
   "source": [
    "first3 = string[:3] # slicing from the start to index 2 (not including index 3)\n",
    "print(first3)\n",
    "\n",
    "from4 = string[4:] # slicing from index 4 to the end\n",
    "print(from4)"
   ]
  },
  {
   "cell_type": "markdown",
   "id": "01f3361d",
   "metadata": {},
   "source": [
    "This implies to backward indexing too. Try the code below."
   ]
  },
  {
   "cell_type": "code",
   "execution_count": null,
   "id": "5a5bf3c5",
   "metadata": {},
   "outputs": [],
   "source": [
    "last3 = string[-3:] # slicing from index -3 to the end\n",
    "print(last3)\n",
    "\n",
    "exceptlast = string[:-1] # slicing from the start to index -2 (not including index -1)\n",
    "print(exceptlast)"
   ]
  },
  {
   "cell_type": "markdown",
   "id": "0a59d3f0",
   "metadata": {},
   "source": [
    "#### Example 9.5\n",
    "\n",
    "Write a function `digit_middle()` which\n",
    "- takes in a string (you may assume the length is at least 3)\n",
    "- returns `True` if its middle part (excluding its first and last characters) are all digits; return `False` otherwise."
   ]
  },
  {
   "cell_type": "code",
   "execution_count": null,
   "id": "d95e5138",
   "metadata": {},
   "outputs": [],
   "source": [
    "# code here"
   ]
  }
 ],
 "metadata": {
  "kernelspec": {
   "display_name": "a_level",
   "language": "python",
   "name": "a_level"
  },
  "language_info": {
   "codemirror_mode": {
    "name": "ipython",
    "version": 3
   },
   "file_extension": ".py",
   "mimetype": "text/x-python",
   "name": "python",
   "nbconvert_exporter": "python",
   "pygments_lexer": "ipython3",
   "version": "3.7.12"
  }
 },
 "nbformat": 4,
 "nbformat_minor": 5
}
