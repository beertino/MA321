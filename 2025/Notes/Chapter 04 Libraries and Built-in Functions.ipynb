{
 "cells": [
  {
   "cell_type": "markdown",
   "id": "f5333dfd",
   "metadata": {},
   "source": [
    "# Learning Objectives\n",
    "\n",
    "- declaring variable assignment\n",
    "- use `print()` statement for output\n",
    "\n",
    "[![Open In Colab](https://colab.research.google.com/assets/colab-badge.svg)](https://colab.research.google.com/github/beertino/MA321/blob/main/2025/Notes/Chapter%2004%20Libraries%20and%20Built-in%20Functions.ipynb)  \n",
    "\n"
   ]
  },
  {
   "cell_type": "markdown",
   "id": "b0ec315c",
   "metadata": {},
   "source": [
    "# 4 Built-in Functions\n",
    "In all programming and scripting language, a function is a block of program statements which can be used repetitively in a program. It saves the time of a developer. In Python concept of function is same as in other languages. There are some built-in (or pre-defined) functions which are part of Python.\n",
    "\n",
    "Here are some of the built-in functions used in the previous lessons: `help()`,`int()`, `float()`, `print()`, `input()`, `round()` and `abs()`. We will learn more built-in functions to deal with `str` and `list` variables later."
   ]
  },
  {
   "cell_type": "markdown",
   "id": "bd1b8994",
   "metadata": {},
   "source": [
    "# 4.1 Libraries"
   ]
  },
  {
   "cell_type": "markdown",
   "id": "d529c930",
   "metadata": {},
   "source": [
    "More built-in (pre-defined) methods are available in the **libraries** created by other programmers, we need to `import` the corresponding libraries first in order to **call** these methods.\n",
    "\n",
    "We won't go into the difference between functions and methods or between libraries, packages and modules in this elective.\n",
    "**Note that you may only import libraries that have been installed.**\n",
    "\n",
    "Run the following code **a few times**:"
   ]
  },
  {
   "cell_type": "code",
   "execution_count": null,
   "id": "387399d1",
   "metadata": {},
   "outputs": [],
   "source": [
    "# this code generates the outcome of rolling a dice.\n",
    "\n",
    "import random # We need to import the library 'random' before using the built-in functions in it\n",
    "\n",
    "dice_outcome = random.randint(1, 6) # We call the built-in function randint() in the 'random' library. \n",
    "# Are 1 and 6 included in the generation of the dice outcome?\n",
    "\n",
    "print(f\"The dice shows {dice_outcome}.\")"
   ]
  },
  {
   "cell_type": "code",
   "execution_count": null,
   "id": "9d606436",
   "metadata": {},
   "outputs": [],
   "source": [
    "help(random.randint)"
   ]
  },
  {
   "cell_type": "markdown",
   "id": "b9b5ac42",
   "metadata": {},
   "source": [
    "To view details about the `randint` method from the `random` module, use `help(random.randint)`. To view the complete list of built-in functions in the `random` libray, use `help(random)`."
   ]
  },
  {
   "cell_type": "markdown",
   "id": "458bd3b2",
   "metadata": {},
   "source": [
    "The following code randomly picks 30 numbers from 0 to 100 to simulate the test marks of a class. Run it.\n",
    "\n",
    "`sample()` is another method included in the `random` module.\n",
    "\n",
    "`range()` is a built-in function which we will explore in details later in this elective."
   ]
  },
  {
   "cell_type": "code",
   "execution_count": null,
   "id": "c07c1b10",
   "metadata": {},
   "outputs": [],
   "source": [
    "marks = random.sample(range(101), 30)\n",
    "\n",
    "print(\"The results are:\")\n",
    "print(marks)"
   ]
  },
  {
   "cell_type": "markdown",
   "id": "01d56701",
   "metadata": {},
   "source": [
    "We can make use of some built-in methods in another module `statistics` to do some statistical calculations on `marks`. Try the code below."
   ]
  },
  {
   "cell_type": "code",
   "execution_count": null,
   "id": "efcffeb9",
   "metadata": {},
   "outputs": [],
   "source": [
    "import statistics as stats # We shorten the name for easier use later\n",
    "\n",
    "mean_marks = stats.mean(marks)\n",
    "median_marks = stats.median(marks)\n",
    "stdev_marks = stats.stdev(marks)\n",
    "\n",
    "print(f\"Mean = {mean_marks}\")\n",
    "print(f\"Median = {median_marks}\")\n",
    "print(f\"S.D. = {stdev_marks}\")"
   ]
  },
  {
   "cell_type": "markdown",
   "id": "021c3c3e",
   "metadata": {},
   "source": [
    "The library `matplotlib` allows the user to have a pictural representation of the data. However, you may not have installed this library on your computer.\n",
    "\n",
    "Before running the code cells below, install this library by\n",
    "- Open Terminal/Command Prompt\n",
    "- Run `pip install matplotlib`\n",
    "\n",
    "If you're using Google Colab, run the following code in a code cell first\n",
    "\n",
    "```python\n",
    "!pip install matplotlib\n",
    "```"
   ]
  },
  {
   "cell_type": "code",
   "execution_count": null,
   "id": "e002eb37",
   "metadata": {},
   "outputs": [],
   "source": [
    "import matplotlib.pyplot as plt # again the library name is too long\n",
    "\n",
    "plt.hist(marks)\n",
    "plt.show()"
   ]
  },
  {
   "cell_type": "code",
   "execution_count": null,
   "id": "50209545",
   "metadata": {},
   "outputs": [],
   "source": [
    "# If you want a box-and-whisker plot, here you are.\n",
    "\n",
    "plt.boxplot(marks)\n",
    "plt.show()"
   ]
  },
  {
   "cell_type": "code",
   "execution_count": null,
   "id": "a3d84ec7",
   "metadata": {},
   "outputs": [],
   "source": [
    "# The plot should be horizontal, here you are.\n",
    "\n",
    "plt.boxplot(marks, vert = False)\n",
    "plt.show()"
   ]
  },
  {
   "cell_type": "markdown",
   "id": "03a75c4c",
   "metadata": {},
   "source": [
    "After importing a library, use \n",
    "\n",
    "```\n",
    "help(library or module name)\n",
    "```\n",
    "\n",
    "to view the methods pre-defined in the library. Run the code below."
   ]
  },
  {
   "cell_type": "code",
   "execution_count": null,
   "id": "00035a33",
   "metadata": {},
   "outputs": [],
   "source": [
    "import math\n",
    "\n",
    "help(math)"
   ]
  },
  {
   "cell_type": "markdown",
   "id": "ff7339e1",
   "metadata": {},
   "source": [
    "#### Example 4.1\n",
    "\n",
    "Prompt the user to key in the coordinates (assuming integers) of the points $O$ and $A$, output the area of circle with centre $O$ and passing through $A$.\n",
    "\n",
    "You are required to use the function `dist()` and the constant `pi` in the `math` module to solve this problem.\n",
    "\n",
    "The function `math.dist(p, q)` returns the Euclidean distance between two points `p` and `q`, each given as a sequence (or iterable) of coordinates. The two points must have the same dimension. Use `help()` or google how the points `p` and `q` should be represented before it can be used.\n",
    "\n",
    "Its roughly equivalent to:\n",
    "```python\n",
    "import math\n",
    "math.sqrt(sum((px - qx) ** 2.0 for px, qx in zip(p, q)))\n",
    "```\n",
    "You could use the equivalent code of `dist()` if the python version you have does not have the `dist()` method in the `math` module\n",
    "\n",
    "*Sample input:*\n",
    "```text\n",
    "x-coordinate of O: 3\n",
    "y-coordinate of O: 4\n",
    "x-coordinate of A: 6\n",
    "y-coordinate of A: 0\n",
    "```\n",
    "*Sample output:*\n",
    "```text\n",
    "Distance between (3,4) and (6,0) = 78.53981633974483\n",
    "```"
   ]
  },
  {
   "cell_type": "code",
   "execution_count": null,
   "id": "47c21f98",
   "metadata": {},
   "outputs": [],
   "source": [
    "# Code here"
   ]
  }
 ],
 "metadata": {
  "kernelspec": {
   "display_name": "Python 3 (ipykernel)",
   "language": "python",
   "name": "python3"
  },
  "language_info": {
   "codemirror_mode": {
    "name": "ipython",
    "version": 3
   },
   "file_extension": ".py",
   "mimetype": "text/x-python",
   "name": "python",
   "nbconvert_exporter": "python",
   "pygments_lexer": "ipython3",
   "version": "3.6.4"
  }
 },
 "nbformat": 4,
 "nbformat_minor": 5
}
