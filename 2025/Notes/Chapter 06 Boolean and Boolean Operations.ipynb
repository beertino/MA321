{
 "cells": [
  {
   "cell_type": "markdown",
   "id": "7fa93aa0",
   "metadata": {},
   "source": [
    "# Learning Objectives\n",
    "\n",
    "- Understand the different types: integer, real, char, string and Boolean and initialise arrays (1-\n",
    "dimensional and 2-dimensional).\n",
    "\n",
    "(FIX the link)\n",
    "[![Open In Colab](https://colab.research.google.com/assets/colab-badge.svg)](https://colab.research.google.com/github/njc-cz2-2021/Materials/blob/main/Notes/Chapter_02_Programming_Constructs.ipynb)  "
   ]
  },
  {
   "cell_type": "markdown",
   "id": "7770d8ed",
   "metadata": {},
   "source": [
    "# 6 Boolean Data Type"
   ]
  },
  {
   "cell_type": "markdown",
   "id": "33d07195",
   "metadata": {},
   "source": [
    "**Boolean** (`bool`) is a data type can be either `True` or `False`. Try the codes in the cell below."
   ]
  },
  {
   "cell_type": "code",
   "execution_count": 4,
   "id": "47aa6319",
   "metadata": {},
   "outputs": [
    {
     "name": "stdout",
     "output_type": "stream",
     "text": [
      "<class 'bool'>\n",
      "<class 'bool'>\n",
      "<class 'int'>\n",
      "<class 'float'>\n"
     ]
    }
   ],
   "source": [
    "print(type(False))\n",
    "\n",
    "t = True\n",
    "print(type(t))\n",
    "\n",
    "print(type(5))\n",
    "print(type(5.0))"
   ]
  },
  {
   "cell_type": "markdown",
   "id": "a9ffd2e6",
   "metadata": {},
   "source": [
    "`True` and `False` are case-sensitive.\n",
    "\n",
    "Try the codes in the cell below."
   ]
  },
  {
   "cell_type": "code",
   "execution_count": null,
   "id": "905482ef",
   "metadata": {},
   "outputs": [],
   "source": [
    "f = false\n",
    "print(type(f))"
   ]
  },
  {
   "cell_type": "markdown",
   "id": "cc126221",
   "metadata": {},
   "source": [
    "**Boolean expressions** are expressions which can be evaluated to be either True or False.\n",
    "Some of the common **comparison operators** used in boolean expressions can be found below.\n",
    "\n",
    "<center>\n",
    "\n",
    "|**Comparison operator** | **Operation** | **Example** | **Value of Example**\n",
    "| :-: | :-: | :-: | :-:\n",
    "| `>`| greater than | `5 > 4` | `True`\n",
    "| `<`| less than | `5 < 4` | `False`\n",
    "| `==` | equal to | `1 == 0` | `False`\n",
    "| `>=` | greater than or equal to |  `3 >= -3` | `True`\n",
    "| `<=` | less than or equal to | `3 <= 3` | `True`\n",
    "| `!=` | not equal to | `0.1 != 1/10` | `False`\n",
    "\n",
    "</center>"
   ]
  },
  {
   "cell_type": "markdown",
   "id": "09197351",
   "metadata": {},
   "source": [
    "#### Example 6.1\n",
    "\n",
    "Predict the output of the following codes.\n",
    "\n",
    "```python\n",
    "print(1.0000001 > 1)\n",
    "\n",
    "print(3 < round(3.14)) # is 3 == round(3.14)?\n",
    "\n",
    "print(5 / 2 == 5 // 2) # is 5/2 > 5//2?, is -5/2 > -5//2?\n",
    "\n",
    "print(abs(-1) >= -1)\n",
    "\n",
    "print(1 * 2 * 3 <= 1 + 2 + 3)\n",
    "\n",
    "b= (4 % 2 != 0)\n",
    "print(b)\n",
    "```\n",
    "Verify your prediction in the cell below.\n"
   ]
  },
  {
   "cell_type": "code",
   "execution_count": null,
   "id": "ff180056",
   "metadata": {},
   "outputs": [],
   "source": [
    "# verify here"
   ]
  },
  {
   "cell_type": "markdown",
   "id": "e431c476",
   "metadata": {},
   "source": [
    "#### Example 6.2\n",
    "\n",
    "Create a function `is_even()` which takes in one integer argument. This function should **return** `True` if the argument is an even number; `False` otherwise."
   ]
  },
  {
   "cell_type": "code",
   "execution_count": null,
   "id": "7abe0d31",
   "metadata": {},
   "outputs": [
    {
     "name": "stdout",
     "output_type": "stream",
     "text": [
      "True\n",
      "False\n"
     ]
    }
   ],
   "source": [
    "# define the function here\n",
    "\n",
    "# some test cases"
   ]
  },
  {
   "cell_type": "markdown",
   "id": "b8fe784f",
   "metadata": {},
   "source": [
    "#### Example 6.3\n",
    "\n",
    "It is given that the Body Mass Index (BMI) of a person is calculated as $$\\frac{w}{h^2}$$ where $w$ is the mass of the person in kilograms and $h$ is the height in metres.\n",
    "\n",
    "1. Write a function `calculate_bmi()` which takes in two `float` arguments for the mass (in kg) and height (in m) of a person. This function should **return** the BMI of this person.\n",
    "\n",
    "2. Write a function `overweight()` which takes in two `float` arguments for the mass (in kg) and height (in m) of a person. This function should **return** `True` if his BMI is 23 or above; `False` otherwise. You are **expected to call `calculate_bmi()` in defining this function**."
   ]
  },
  {
   "cell_type": "code",
   "execution_count": null,
   "id": "41038f53",
   "metadata": {},
   "outputs": [],
   "source": [
    "# define calculate_bmi()\n",
    "\n",
    "# define overweight()\n",
    "\n",
    "# main with some test cases\n",
    "# print(overweight(44.3, 1.52)) # False\n",
    "# print(overweight(85.5, 1.83)) # True\n",
    "# print(overweight(92.0, 2.0))  # True"
   ]
  },
  {
   "cell_type": "markdown",
   "id": "3177ec0b",
   "metadata": {},
   "source": [
    "# 6.1 Boolean Operators"
   ]
  },
  {
   "cell_type": "markdown",
   "id": "4153c073",
   "metadata": {},
   "source": [
    "Sometimes we need to make decisions based on multiple conditions. Boolean operators are used to combine conditional statements.\n",
    "\n",
    "**Operands shall be boolean values or statements which each can result in a boolean value**. The outcome of such an operation is either `True` or `False` too.\n",
    "\n",
    "Python has three logical operators: `and`, `or` and `not`."
   ]
  },
  {
   "cell_type": "markdown",
   "id": "84450932",
   "metadata": {},
   "source": [
    "| Operator   | Result                                          \n",
    "|:----------:|:-------------------------------------------------------------|\n",
    "| `and`      | `True` if and only if both statements are `True`              |\n",
    "| `or`       | `True` if and only if either (or both) statement(s) is `True` |\n",
    "| `not`      | `True` if and only if statement is `False`                    |"
   ]
  },
  {
   "cell_type": "markdown",
   "id": "73e6993d",
   "metadata": {},
   "source": [
    "Test the code below\n",
    "```python\n",
    "print(True and True)\n",
    "print(True and False)\n",
    "print(False and True)\n",
    "print(False and False)\n",
    "\n",
    "print(True or True)\n",
    "print(True or False)\n",
    "print(False or True)\n",
    "print(False or False)\n",
    "\n",
    "print(not(True))\n",
    "print(not(False))\n",
    "```"
   ]
  },
  {
   "cell_type": "code",
   "execution_count": null,
   "id": "17274343",
   "metadata": {},
   "outputs": [],
   "source": [
    "## test the code here"
   ]
  },
  {
   "cell_type": "markdown",
   "id": "a72e8bc1",
   "metadata": {},
   "source": [
    "#### Example 6.4\n",
    "\n",
    "Create a function `in_between()` which\n",
    "* takes in 3 positive integers `x`, `a`, `b` as parameters,\n",
    "* returns `True` if `x` is between `a` and `b` inclusive; otherwise `False`.\n",
    "\n",
    "*Sample test 1:*\n",
    "`in_between(1, 2, 3)` should return `False`.\n",
    "\n",
    "*Sample test 2:*\n",
    "`in_between(2, 2, 3)` should return `True`.\n",
    "\n",
    "*Sample test 3:*\n",
    "`in_between(2, 3, 2)` should return `True`.\n",
    "\n",
    "*Sample test 4:*\n",
    "`in_between(4, 3, 2)` should return `False`. "
   ]
  },
  {
   "cell_type": "code",
   "execution_count": null,
   "id": "d2d66b74",
   "metadata": {},
   "outputs": [],
   "source": [
    "#code here\n",
    "\n",
    "#sample test cases\n"
   ]
  },
  {
   "cell_type": "markdown",
   "id": "b30b2692",
   "metadata": {},
   "source": [
    "#### Example 6.5\n",
    "\n",
    "A primary student takes 4 core subjects: English, Maths, Science and Mother Tongue.\n",
    "\n",
    "To be considered as passing the year-end examinations, the student must\n",
    "* either passes (obtaining at least 60 marks) all the 4 subjects,\n",
    "* or passes English and score a total of at least 250 marks.\n",
    "\n",
    "Write a function `pass_exam()` which\n",
    "* takes in 4 positive integers as the marks for English, Maths, Science and Mother Tongue respectively as parameters,\n",
    "* returns `True` if the student passes the year-end examinations; `False` otherwise.\n",
    "\n",
    "*A better coding habit: how to make your code more versatile (e.g. in case there is a change in the passing mark for individual subject or total)?*\n",
    "\n",
    "*Sample test 1:*\n",
    "`pass_exam(60, 61, 62, 63)` should return `True`.\n",
    "\n",
    "*Sample test 2:*\n",
    "`pass_exam(50, 90, 90, 90)` should return `False`.\n",
    "\n",
    "*Sample test 3:*\n",
    "`pass_exam(60, 90, 80, 30)` should return `True`.\n",
    "\n",
    "*Sample test 4:*\n",
    "`pass_exam(70, 60, 55, 60)` should return `False`. "
   ]
  },
  {
   "cell_type": "code",
   "execution_count": null,
   "id": "c70e4f99",
   "metadata": {},
   "outputs": [
    {
     "data": {
      "text/plain": [
       "True"
      ]
     },
     "execution_count": 15,
     "metadata": {},
     "output_type": "execute_result"
    }
   ],
   "source": [
    "#code here\n",
    "# condition1: * either passes (obtaining at least 60 marks) all the 4 subjects,\n",
    "# condition2: * or passes English and score a total of at least 250 marks.\n",
    "\n",
    "#sample test case\n",
    "#print(pass_exam(60, 61, 62, 63))\n",
    "#print(pass_exam(50, 90, 90, 90))\n",
    "#print(pass_exam(60, 90, 80, 30))\n",
    "#print(pass_exam(70, 60, 55, 60))"
   ]
  },
  {
   "cell_type": "markdown",
   "id": "0bc37ca8",
   "metadata": {},
   "source": [
    "#### Example 6.6\n",
    "\n",
    "In mathematics, the triangle inequality states that for any triangle, the sum of the lengths of any two sides must be greater than the length of the remaining side.\n",
    "\n",
    "Write a function `is_triangle()` which\n",
    "* takes in 3 positive integers as parameters,\n",
    "* returns `True` if the integers can be used to form the side length of a triangle; `False` otherwise.\n",
    "\n",
    "*Sample test 1:*\n",
    "`is_triangle(2, 3, 4)` should return `True`.\n",
    "\n",
    "*Sample test 2:*\n",
    "`is_triangle(8, 5, 2)` should return `False`.\n",
    "\n",
    "*Sample test 3:*\n",
    "`is_triangle(1, 2, 1)` should return `False`."
   ]
  },
  {
   "cell_type": "code",
   "execution_count": null,
   "id": "6f5c4859",
   "metadata": {},
   "outputs": [],
   "source": [
    "# code here"
   ]
  },
  {
   "cell_type": "markdown",
   "id": "8292a778",
   "metadata": {},
   "source": [
    "#### Example 6.7 Real Roots of Quadratic Equation\n",
    "\n",
    "The equation $$ax^2 + bx + c = 0$$ may not always have real solution(s).\n",
    "\n",
    "Write a function `real_root_exist()` which\n",
    "* takes in three floats `a`, `b` and `c`,\n",
    "* returns `True` if the above equation has at least one real solution; otherwise `False`.\n",
    "\n",
    "*Warning: this problem is not as simple as you think!*\n",
    "\n",
    "*Some test cases:*\n",
    "```python\n",
    "print(real_root_exist(3, 4, 5))\n",
    "print(real_root_exist(1, -2, 1))\n",
    "print(real_root_exist(5, 3, -1))\n",
    "# some special cases\n",
    "print(real_root_exist(0, 1, 2))\n",
    "print(real_root_exist(0, 0, -1))\n",
    "print(real_root_exist(0, 0, 0))\n",
    "```"
   ]
  },
  {
   "cell_type": "code",
   "execution_count": null,
   "id": "3e2a0fe4",
   "metadata": {},
   "outputs": [],
   "source": [
    "# code here"
   ]
  }
 ],
 "metadata": {
  "kernelspec": {
   "display_name": "Python 3 (ipykernel)",
   "language": "python",
   "name": "python3"
  },
  "language_info": {
   "codemirror_mode": {
    "name": "ipython",
    "version": 3
   },
   "file_extension": ".py",
   "mimetype": "text/x-python",
   "name": "python",
   "nbconvert_exporter": "python",
   "pygments_lexer": "ipython3",
   "version": "3.6.4"
  }
 },
 "nbformat": 4,
 "nbformat_minor": 5
}
