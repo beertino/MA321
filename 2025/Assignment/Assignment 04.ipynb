{
 "cells": [
  {
   "cell_type": "markdown",
   "id": "702482aa",
   "metadata": {},
   "source": [
    "# Assignment 04\n",
    "\n",
    "[![Open In Colab](https://colab.research.google.com/assets/colab-badge.svg)](https://colab.research.google.com/github/beertino/MA321/blob/main/2025/Assignment/Assignment%2004.ipynb)  "
   ]
  },
  {
   "cell_type": "markdown",
   "id": "24cb3a62",
   "metadata": {},
   "source": [
    "## Question 4.1 (*adjusting the parameter values in a built-in functions*)\n",
    "\n",
    "Before working on the following problem, make sure you have installed the library `mathplotlib` on your computer.\n",
    "\n",
    "We are to use the `pie()` function in this library to draw a pie chart for the **percentage abundance of elements in Earth's crust**. Run the code cell below to see a *basic solution*.\n",
    "\n",
    "Data source website: https://www.worldatlas.com/articles/the-most-abundant-elements-in-the-earth-s-crust.html"
   ]
  },
  {
   "cell_type": "code",
   "execution_count": null,
   "id": "d6ad87d5",
   "metadata": {},
   "outputs": [],
   "source": [
    "import matplotlib.pyplot as plt\n",
    "# ignoring Titanium and Hydrogen\n",
    "\n",
    "elements = [\"Oxygen\", \"Silicon\", \"Aluminium\", \"Iron\", \"Calcium\",\n",
    "            \"Sodium\", \"Magnesium\", \"Potassium\", \"Others\"]\n",
    "\n",
    "percentages = [46.1/100, 28.2/100, 8.23/100, 5.63/100, \n",
    "               4.15/100, 2.36/100, 2.33/100, 2.09/100]\n",
    "\n",
    "# calculate and append the percentage of other elements\n",
    "p_others = 1 - sum(percentages)\n",
    "percentages.append(p_others)\n",
    "\n",
    "plt.pie(percentages)\n",
    "plt.show()"
   ]
  },
  {
   "cell_type": "markdown",
   "id": "a30dab6f",
   "metadata": {},
   "source": [
    "The pie chart used on the website is more presentable and reader friendly.\n",
    "\n",
    "<p><img alt=\"Elements in Earth's Crust\" src=\"https://www.worldatlas.com/r/w960-q80/upload/cd/35/be/abundance-of-element-in-earth-s-crust.png\" width = \"700\" align=\"left\" vspace=\"0px\"></p>"
   ]
  },
  {
   "cell_type": "markdown",
   "id": "bb23d1c3",
   "metadata": {},
   "source": [
    "Use `help()` to explore how the parameters of the pie chart function `pie()` work, then make some improvement on the *basic solution*. Your task to make the pie chart **as similar to the website pie chart as possible**. Here are a list of items to adjust:\n",
    "- size of the pie chart\n",
    "- labels on the pie chart\n",
    "- % values on the pie chart\n",
    "- colours used\n",
    "- *Optional challenge: use `plt.legend(title = \"\", loc = , bbox_to_anchor = , ncol = )` to include a legend for your pie chart.*"
   ]
  },
  {
   "cell_type": "code",
   "execution_count": null,
   "id": "6196dbd0",
   "metadata": {},
   "outputs": [],
   "source": [
    "# Code here, you may copy-paste the basic version then work on it\n",
    "plt.pie(percentages, radius = 1.5, labels = elements)\n",
    "plt.show()"
   ]
  },
  {
   "cell_type": "code",
   "execution_count": null,
   "id": "87594a71",
   "metadata": {},
   "outputs": [],
   "source": [
    "# Use this cell to explore how the parameters of the function pie() work\n",
    "help(plt.pie)"
   ]
  }
 ],
 "metadata": {
  "kernelspec": {
   "display_name": "Python 3 (ipykernel)",
   "language": "python",
   "name": "python3"
  },
  "language_info": {
   "codemirror_mode": {
    "name": "ipython",
    "version": 3
   },
   "file_extension": ".py",
   "mimetype": "text/x-python",
   "name": "python",
   "nbconvert_exporter": "python",
   "pygments_lexer": "ipython3",
   "version": "3.10.2"
  }
 },
 "nbformat": 4,
 "nbformat_minor": 5
}
