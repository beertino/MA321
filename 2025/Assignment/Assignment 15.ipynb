{
 "cells": [
  {
   "cell_type": "markdown",
   "id": "c87e0b81",
   "metadata": {},
   "source": [
    "# Question 1 Passcode\n",
    "Anne & Jay received a chest of gold that is locked with an electronic lock. The lock can be opened by entering a 9-digit combination code.\n",
    "\n",
    "They have received the following hints about the code:\n",
    "\n",
    "- The only digits in the code are 2, 6, 7 and 9.\n",
    "- The digit with the highest value is used the lowest number of times in the code.\n",
    "- The digit with the lowest value is used the highest number of times in the code.\n",
    "- The code is the same backwards and forwards.\n",
    "- All consecutive digits are different.\n",
    "- The last digit is odd.\n",
    "\n",
    "## Task 1\n",
    "\n",
    "Represent the all possible 9-digit combinations in the question above with an appropriate data type and store them in a Python list. \n",
    "\n",
    "<div style=\"text-align: right\">[3]</div>"
   ]
  },
  {
   "cell_type": "code",
   "execution_count": null,
   "id": "4fca4a86",
   "metadata": {},
   "outputs": [],
   "source": [
    "## YOUR CODE HERE"
   ]
  },
  {
   "cell_type": "markdown",
   "id": "9447ccf6",
   "metadata": {},
   "source": [
    "## Task 2\n",
    "\n",
    "Write a program `odd_last_digit()`  that:\n",
    "\n",
    "- takes in the representation of a 9-digit combination code,\n",
    "- returns the Boolean value `True` if the last digit of the code is odd,\n",
    "- returns the Boolean value `False` otherwise\n",
    "\n",
    "<div style=\"text-align: right\">[2]</div>"
   ]
  },
  {
   "cell_type": "code",
   "execution_count": null,
   "id": "a7181e4f",
   "metadata": {},
   "outputs": [],
   "source": [
    "## YOUR CODE HERE"
   ]
  },
  {
   "cell_type": "markdown",
   "id": "6b443501",
   "metadata": {},
   "source": [
    "## Task 3\n",
    "Write a program `is_palindrome()`  that:\n",
    "\n",
    "- takes in the representation of a 9-digit combination code,\n",
    "- returns the Boolean value `True` if the code is the same backwards and forwards, or\n",
    "- returns the Boolean value `False` otherwise\n",
    "\n",
    "<div style=\"text-align: right\">[3]</div>"
   ]
  },
  {
   "cell_type": "code",
   "execution_count": null,
   "id": "6258bf0f",
   "metadata": {},
   "outputs": [],
   "source": [
    "## YOUR CODE HERE"
   ]
  },
  {
   "cell_type": "markdown",
   "id": "51d5e86d",
   "metadata": {},
   "source": [
    "## Task 4\n",
    "\n",
    "Write a program `is_different_consecutively()`  that:\n",
    "\n",
    "- takes in the representation of a 9-digit combination code,\n",
    "- returns the Boolean value `True` if all consecutive digits in the code are different,\n",
    "- returns the Boolean value `False` otherwise\n",
    "\n",
    "<div style=\"text-align: right\">[3]</div>"
   ]
  },
  {
   "cell_type": "code",
   "execution_count": null,
   "id": "43ebd917",
   "metadata": {},
   "outputs": [],
   "source": [
    "## YOUR CODE HERE"
   ]
  },
  {
   "cell_type": "markdown",
   "id": "20b24bb4",
   "metadata": {},
   "source": [
    "## Task 5\n",
    "\n",
    "Write a program `low_digit_highest_freq()`  that:\n",
    "\n",
    "- takes in the representation of a 9-digit combination code,\n",
    "- returns the Boolean value `True` if digit with the lowest value in the code is used the highest number of times.\n",
    "- returns the Boolean value `False` otherwise\n",
    "\n",
    "<div style=\"text-align: right\">[3]</div>"
   ]
  },
  {
   "cell_type": "code",
   "execution_count": null,
   "id": "726da23b",
   "metadata": {},
   "outputs": [],
   "source": [
    "## YOUR CODE HERE"
   ]
  },
  {
   "cell_type": "markdown",
   "id": "2b47a540",
   "metadata": {},
   "source": [
    "## Task 6\n",
    "\n",
    "Write a program `high_digit_lowest_freq()`  that:\n",
    "\n",
    "- takes in the representation of a 9-digit combination code,\n",
    "- returns the Boolean value `True` if digit with the highest value in the code is used the lowest number of times.\n",
    "- returns the Boolean value `False` otherwise\n",
    "\n",
    "<div style=\"text-align: right\">[3]</div>"
   ]
  },
  {
   "cell_type": "code",
   "execution_count": null,
   "id": "c5bd6a62",
   "metadata": {},
   "outputs": [],
   "source": [
    "## YOUR CODE HERE"
   ]
  },
  {
   "cell_type": "markdown",
   "id": "587a770a",
   "metadata": {},
   "source": [
    "## Task 7\n",
    "\n",
    "Write a program `solve_code()`  that:\n",
    "\n",
    "- takes in no parameter\n",
    "- returns the representation of the lock’s combination code based on the hints given in the question.\n",
    "\n",
    "<div style=\"text-align: right\">[2]</div>"
   ]
  },
  {
   "cell_type": "code",
   "execution_count": null,
   "id": "5c923164",
   "metadata": {},
   "outputs": [],
   "source": [
    "## YOUR CODE HERE"
   ]
  },
  {
   "cell_type": "markdown",
   "id": "be1f1fe8",
   "metadata": {},
   "source": [
    "# Question 2 Playing With Hats\n",
    "A game is played by placing circular pebbles on square paving stones.\n",
    "\n",
    "The player moves from left to right, one square at a time (↷) .\n",
    "\n",
    "The player has a hat and behaves differently depending on whether they have the hat in their hand or on their head.\n",
    "\n",
    "The rules that the player follows are listed below:\n",
    "\n",
    "- If the player has the **hat in their hand** and steps on a square with **no pebble**, they continue on with no change.\n",
    "- If the player has the **hat in their hand** and steps on a square with **a pebble**, they take the pebble and put the hat on their head before moving to the next square.\n",
    "- If the player has the **hat on their head** and steps on a square with **no pebble**, they place a pebble on the square and take the hat off before moving to the next square.\n",
    "- If the player has the **hat on their head** and steps on a square with **a pebble**, they continue to the next square with no change.\n",
    "\n",
    "The pictures in the table below show the rules of the game. The changes for each situation are shown “before → after”\n",
    "\n",
    "<center>\n",
    "\n",
    "<img src=\"https://github.com/beertino/MA321/blob/main/2025/Assignment/img/beb_2022_playing_with_hats_1.png\" width=\"600\" align=\"center\"/>\n",
    "\n",
    "</center>\n",
    "\n",
    "At the beginning, the player has the hat in their hand and three pebbles are on the squares in the positions shown below.\n",
    "\n",
    "<center>\n",
    "\n",
    "<img src=\"https://github.com/beertino/MA321/blob/main/2025/Assignment/img/beb_2022_playing_with_hats_2.png\" width=\"600\" align=\"center\"/>\n",
    "\n",
    "</center>\n",
    "\n",
    "## Task 1\n",
    "Represent the pebbles and the squares in the question above with an appropriate data type. \n",
    "\n",
    "<div style=\"text-align: right\">[1]</div>"
   ]
  },
  {
   "cell_type": "code",
   "execution_count": null,
   "id": "1897ba5b",
   "metadata": {},
   "outputs": [],
   "source": [
    "## YOUR CODE HERE"
   ]
  },
  {
   "cell_type": "markdown",
   "id": "06289f50",
   "metadata": {},
   "source": [
    "## Task 2\n",
    "Write a program `player_hop()`  that:\n",
    "- takes in the representation of squares with pebbles on them, in the data type you specified in task 1,\n",
    "- takes in a Boolean parameter `player_head` to represent whether the player has the hat on his head at the beginning of the hop,\n",
    "- returns the representation, in the data type you specified, of the squares with pebbles on them after the player has moved over all of them and left the last square.\n",
    "\n",
    "<div style=\"text-align: right\">[4]</div>"
   ]
  },
  {
   "cell_type": "code",
   "execution_count": null,
   "id": "3499af41",
   "metadata": {},
   "outputs": [],
   "source": [
    "## YOUR CODE HERE"
   ]
  },
  {
   "cell_type": "markdown",
   "id": "af2732c8",
   "metadata": {},
   "source": [
    "## Task 3\n",
    "Test your program for the following examples, where `P` represents a pebble in the square and `N` represents the absence of a pebble\n",
    "- `NNPPNPNN` , player starts with hat in hand\n",
    "- `NNPPNPNN` , player starts with hat in head\n",
    "\n",
    "<div style=\"text-align: right\">[2]</div>"
   ]
  },
  {
   "cell_type": "code",
   "execution_count": null,
   "id": "c21826f2",
   "metadata": {},
   "outputs": [],
   "source": [
    "## YOUR CODE HERE"
   ]
  },
  {
   "cell_type": "markdown",
   "id": "8dc07255",
   "metadata": {},
   "source": [
    "# Question 3 K-Pop Contest\n",
    "A singing contest was held in Annjay Village with six singers in the final round.\n",
    "\n",
    "Four experts, Jin, Hope, Rose and Jungkook, were invited to judge them. Each expert gave points according to their own criteria. The score table looks as follows:\n",
    "\n",
    "<center>\n",
    "\n",
    "|  | Jin | Hope | Rose | Jungkook |\n",
    "|---|---|---|---|---|\n",
    "| Anna | 80 | 8 | 60 | 0 |\n",
    "| Betty | 90 | 10 | 80 | 50 |\n",
    "| Carrie | 85 | 7 | 90 | 100 |\n",
    "| Dennis | 100 | 9 | 100 | 30 |\n",
    "| Elin | 95 | 6 | 70 | 10 |\n",
    "| Frank | 75 | 5 | 50 | 20 |\n",
    "\n",
    "</center>\n",
    "\n",
    "\n",
    "## Task 1\n",
    "Represent the score tables in the question above with a nested list. \n",
    "\n",
    "<div style=\"text-align: right\">[1]</div>"
   ]
  },
  {
   "cell_type": "code",
   "execution_count": null,
   "id": "e6deafa3",
   "metadata": {},
   "outputs": [],
   "source": [
    "## YOUR CODE HERE"
   ]
  },
  {
   "cell_type": "markdown",
   "id": "cfd66b05",
   "metadata": {},
   "source": [
    "## Task 2\n",
    "The organisation decided to rank the singers in each of the judge's lists according to the given scores as 1st, 2nd, 3rd, etc. For example, if a singer finished 4th, 2nd, 3rd and 6th on the judges' lists respectively, they would score a total of 4+2+3+6=15.\n",
    "\n",
    "The winner of the contest is then determined by the smallest sum of all the rankings. \n",
    "\n",
    "Write a program `winner()` that:\n",
    "- implements the scoring criteria as described in the question\n",
    "- returns a string that represents the winning singer for the above contest.\n",
    "\n",
    "<div style=\"text-align: right\">[5]</div>"
   ]
  },
  {
   "cell_type": "code",
   "execution_count": null,
   "id": "2302c8e8",
   "metadata": {},
   "outputs": [],
   "source": [
    "## YOUR CODE HERE"
   ]
  },
  {
   "cell_type": "markdown",
   "id": "35b72f26",
   "metadata": {},
   "source": [
    "## Task 3\n",
    "The organisation decided to host another competition with 26 competitors while keeping the same judges. However, due to the different popularity of the judges, they decided to give a weight to the judges scores.\n",
    "- The scores that Jin gives to a singer will be multiplied with a factor of 0.3\n",
    "- The scores that Hope gives to a singer will be multiplied with a factor of 0.2\n",
    "- The scores that Rose gives to a singer will be multiplied with a factor of 0.4\n",
    "- The scores that JungKook gives to a singer will be multiplied with a factor of 0.1\n",
    "\n",
    "The new score table is given in the file `new_singers.csv` under the folder `resources` in the MA321 repo.\n",
    "\n",
    "Write a program `new_winner()` that:\n",
    "- takes in the nested list representation of the new score table,\n",
    "- implements the new scoring criteria as described in Task 3,\n",
    "- returns a string that represents the winning singer for the new contest.\n",
    "\n",
    "<div style=\"text-align: right\">[5]</div>"
   ]
  },
  {
   "cell_type": "code",
   "execution_count": null,
   "id": "ffe557f1",
   "metadata": {},
   "outputs": [],
   "source": [
    "## YOUR CODE HERE"
   ]
  },
  {
   "cell_type": "markdown",
   "id": "aae08961",
   "metadata": {},
   "source": [
    "# Question 4 Flag Semaphore\n",
    "Beavers in a town communicate by holding flags.\n",
    "\n",
    "They either hold the flags horizontally or vertically.\n",
    "\n",
    "Position 1: Horizontal\n",
    "\n",
    "<center>\n",
    "\n",
    "<img src=\"https://github.com/beertino/MA321/blob/main/2025/Assignment/img/beb_2018_flag_semaphore_1.png\" width=\"100\" align=\"center\"/>\n",
    "\n",
    "</center>\n",
    "\n",
    "Position 2: Vertical\n",
    "\n",
    "<center>\n",
    "\n",
    "<img src=\"https://github.com/beertino/MA321/blob/main/2025/Assignment/img/beb_2018_flag_semaphore_2.png\" width=\"100\" align=\"center\"/>\n",
    "\n",
    "</center>\n",
    "\n",
    "The beavers use this system to send five different letters, P, Q, R, S and T to their friends.\n",
    "\n",
    "They send each letter by holding the flags in different positions one after another in the following way:\n",
    "\n",
    "<center>\n",
    "\n",
    "<img src=\"https://github.com/beertino/MA321/blob/main/2025/Assignment/img/beb_2018_flag_semaphore_3.png\" width=\"600\" align=\"center\"/>\n",
    "\n",
    "</center>\n",
    "\n",
    "Beaver Adanma shows their friend the following combination of flag positions:\n",
    "\n",
    "## Task 1\n",
    "Represent the 2 possible flag position in the question above with an appropriate data type and value.\n",
    "\n",
    "<div style=\"text-align: right\">[2]</div>"
   ]
  },
  {
   "cell_type": "code",
   "execution_count": null,
   "id": "67a5e85a",
   "metadata": {},
   "outputs": [],
   "source": [
    "## YOUR CODE HERE"
   ]
  },
  {
   "cell_type": "markdown",
   "id": "98083ad5",
   "metadata": {},
   "source": [
    "## Task 2\n",
    "\n",
    "Write a program `beaver_message()`  that:\n",
    "\n",
    "- takes in a letter combination consisting of a combination of letters of `PQRST`, and\n",
    "- returns the representation, in the data type and value you specified, of the combination of flag positions.\n",
    "\n",
    "<div style=\"text-align: right\">[2]</div>"
   ]
  },
  {
   "cell_type": "code",
   "execution_count": null,
   "id": "7f2cc4c5",
   "metadata": {},
   "outputs": [],
   "source": [
    "## YOUR CODE HERE"
   ]
  },
  {
   "cell_type": "markdown",
   "id": "43df13cb",
   "metadata": {},
   "source": [
    "## Task 3\n",
    "\n",
    "Test your program for the following combination of letters:\n",
    "\n",
    "- `TSQ`\n",
    "- `RPQSR`\n",
    "- `RPSP`\n",
    "- `QPPTP`\n",
    "\n",
    "<div style=\"text-align: right\">[2]</div>"
   ]
  },
  {
   "cell_type": "code",
   "execution_count": null,
   "id": "c9eb95a7",
   "metadata": {},
   "outputs": [],
   "source": [
    "## YOUR CODE HERE"
   ]
  },
  {
   "cell_type": "markdown",
   "id": "22b1aba5",
   "metadata": {},
   "source": [
    "## Task 4\n",
    "\n",
    "Write a program `check_message()` that:\n",
    "\n",
    "- takes in a letter combination and a combination of flag positions, and\n",
    "- returns Boolean value `True` if the letter combination and the combination of flag positions matches and Boolean `False` otherwise.\n",
    "\n",
    "<div style=\"text-align: right\">[2]</div>"
   ]
  },
  {
   "cell_type": "code",
   "execution_count": null,
   "id": "b2920f13",
   "metadata": {},
   "outputs": [],
   "source": [
    "## YOUR CODE HERE"
   ]
  },
  {
   "cell_type": "markdown",
   "id": "2e5437ff",
   "metadata": {},
   "source": [
    "## Programming Task 5\n",
    "\n",
    "Write a program `identify_letter_combination()` that:\n",
    "\n",
    "- takes in\n",
    "    - a list consisting of different letter combinations e.g `[TSQ, RPQSR, RPSP, QPPTP]` and\n",
    "    - a combination of flag positions\n",
    "- returns the first letter combination represented by the combination of flag positions.\n",
    "\n",
    "Your program should make use of `beaver_message()` and `check_message()` that you wrote above.\n",
    "\n",
    "<center>\n",
    "\n",
    "<img src=\"https://github.com/beertino/MA321/blob/main/2025/Assignment/img/beb_2018_flag_semaphore_4.png\" width=\"600\" align=\"center\"/>\n",
    "\n",
    "</center>\n",
    "\n",
    "<div style=\"text-align: right\">[3]</div>"
   ]
  },
  {
   "cell_type": "code",
   "execution_count": null,
   "id": "18bee4af",
   "metadata": {},
   "outputs": [],
   "source": [
    "## YOUR CODE HERE"
   ]
  }
 ],
 "metadata": {
  "language_info": {
   "name": "python"
  }
 },
 "nbformat": 4,
 "nbformat_minor": 5
}
