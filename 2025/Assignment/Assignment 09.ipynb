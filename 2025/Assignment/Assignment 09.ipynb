{
 "cells": [
  {
   "cell_type": "markdown",
   "id": "eb994f12",
   "metadata": {},
   "source": [
    "# Assignment 09"
   ]
  },
  {
   "cell_type": "markdown",
   "id": "f50cba70",
   "metadata": {},
   "source": [
    "#### Question 9.1 Single Alphabet Test\n",
    "\n",
    "Write a function `single_alphabet()` which\n",
    "- takes in a string;\n",
    "- returns `True` if it is a single alphebet (from \"A\" to \"Z\" or from \"a\" to \"z\"); returns `False` otherwise."
   ]
  },
  {
   "cell_type": "code",
   "execution_count": 1,
   "id": "02c10308",
   "metadata": {},
   "outputs": [],
   "source": [
    "# code here"
   ]
  },
  {
   "cell_type": "markdown",
   "id": "a9c12c56",
   "metadata": {},
   "source": [
    "#### Question 9.2 NRIC Math\n",
    "\n",
    "The last letter in a NRIC is called a *checksum*. This is to help check whether the actual IC numbers are valid and not just random numbers.\n",
    "\n",
    "The math goes like this:\n",
    "\n",
    "1. Take for example I want to test the NRIC number S1234567. The first digit you multiply by 2, second multiply by 7, third by 6, fourth by 5, fifth by 4, sixth by 3, seventh by 2. Then you add the totals together. So $1×2+2×7+3×6+4×5+5×4+6×3+7×2=106$.\n",
    "\n",
    "\n",
    "2. If the first letter of the NRIC starts with T or G, add 4 to the total.\n",
    "\n",
    "\n",
    "3. Then you divide the number by 11 and get the remainder. When 106 is divided by 11, the remainder is 7.\n",
    "\n",
    "\n",
    "4. You can get the alphabet depending on the IC type (the first letter in the IC) using the code below:\n",
    "- If the IC starts with `S` or `T`: `0=J, 1=Z, 2=I, 3=H, 4=G, 5=F, 6=E, 7=D, 8=C, 9=B, 10=A`\n",
    "- If the IC starts with `F` or `G`: `0=X, 1=W, 2=U, 3=T, 4=R, 5=Q, 6=P, 7=N, 8=M, 9=L, 10=K`\n",
    "\n",
    "5. Thus its `checksum` should be \"D\"\n",
    "\n",
    "Write a function `valid_NRIC()` which\n",
    "- takes in a string `nric`;\n",
    "- returns `True` if `nric` satisfies all the following conditions; returns `False` otherwise.\n",
    "- a. Its length is 9.\n",
    "- b. Its first character is `\"S\"`, `\"T\"`, `\"F\"`, `\"G\"`, accepting lower case. \n",
    "- c. Its next 7 characters are all digits from 0 to 9.\n",
    "- d. Its last character, *checksum*, is correct, accepting lower case.\n",
    "\n",
    "*Test cases:*\n",
    "- `valid_NRIC(\"A3512356X\")` should return `False`\n",
    "- `valid_NRIC(\"S123456D\")` should return `False`\n",
    "- `valid_NRIC(\"T1a34672E\")` should return `False`\n",
    "- `valid_NRIC(\"S1234567D\")` should return `True`\n",
    "- `valid_NRIC(\"g8212567t\")` should return `True`\n",
    "- `valid_NRIC(\"F8182603M\")` should return `False`\n",
    "- `valid_NRIC(<your_NRIC>)` should return `True`"
   ]
  },
  {
   "cell_type": "code",
   "execution_count": 2,
   "id": "83dbf9d3",
   "metadata": {
    "scrolled": true
   },
   "outputs": [],
   "source": [
    "# code here"
   ]
  }
 ],
 "metadata": {
  "kernelspec": {
   "display_name": "Python 3 (ipykernel)",
   "language": "python",
   "name": "python3"
  },
  "language_info": {
   "codemirror_mode": {
    "name": "ipython",
    "version": 3
   },
   "file_extension": ".py",
   "mimetype": "text/x-python",
   "name": "python",
   "nbconvert_exporter": "python",
   "pygments_lexer": "ipython3",
   "version": "3.10.2"
  }
 },
 "nbformat": 4,
 "nbformat_minor": 5
}
