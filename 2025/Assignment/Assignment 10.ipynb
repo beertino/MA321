{
 "cells": [
  {
   "cell_type": "markdown",
   "id": "2112d04e",
   "metadata": {},
   "source": [
    "# Assignment 10"
   ]
  },
  {
   "cell_type": "markdown",
   "id": "f50cba70",
   "metadata": {},
   "source": [
    "#### Question 10.1 Greatest Digit\n",
    "\n",
    "Write a function `greatest_digit()` which\n",
    "- takes in a string;\n",
    "- returns the greatest digit as an **integer** in the string, or -1 if there is no digit found in the string.\n",
    "\n",
    "*Test cases:*\n",
    "- `greatest_digit(\"1 + 2 = 3\")` should return `3`\n",
    "- `greatest_digit(\"Dial 995 for emergency medical services\")` should return `9`\n",
    "- `greatest_digit(\"0 is an even number\")` should return `0`\n",
    "- `greatest_digit(\"I love Python!\")` should return `-1`"
   ]
  },
  {
   "cell_type": "code",
   "execution_count": null,
   "id": "47ca8282",
   "metadata": {
    "vscode": {
     "languageId": "plaintext"
    }
   },
   "outputs": [],
   "source": [
    "# YOUR CODE HERE"
   ]
  }
 ],
 "metadata": {
  "kernelspec": {
   "display_name": "Python 3 (ipykernel)",
   "language": "python",
   "name": "python3"
  },
  "language_info": {
   "codemirror_mode": {
    "name": "ipython",
    "version": 3
   },
   "file_extension": ".py",
   "mimetype": "text/x-python",
   "name": "python",
   "nbconvert_exporter": "python",
   "pygments_lexer": "ipython3",
   "version": "3.10.2"
  }
 },
 "nbformat": 4,
 "nbformat_minor": 5
}
