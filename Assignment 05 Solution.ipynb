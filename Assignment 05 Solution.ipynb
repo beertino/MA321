{
 "cells": [
  {
   "cell_type": "markdown",
   "id": "0eebee9b",
   "metadata": {},
   "source": [
    "**Question 5.1 (*Heron's formula*)**\n",
    "\n",
    "Heron's Formula states that the area of triangle with side lengths $a$, $b$ and $c$ is\n",
    "\n",
    "$$\\sqrt{s(s-a)(s-b)(s-c)},$$ where $s=\\frac{a+b+c}{2}$.\n",
    "\n",
    "Write a function `heron_triangle()` which takes 3 **integer** arguments as the side lengths of a triangle. The function is to **return (not print)** the area of triangle.\n",
    "\n",
    "*Sample test 1:*\n",
    "`heron_triangle(3, 4, 5)` should return `6.0`.\n",
    "\n",
    "*Sample test 2:*\n",
    "`heron_triangle(4, 5, 6)` should return `9.9215674164922`.\n",
    "\n",
    "*Sample test 3:*\n",
    "`heron_triangle(6, 5, 5)` should return `12.0`.\n"
   ]
  },
  {
   "cell_type": "code",
   "execution_count": 6,
   "id": "43054842",
   "metadata": {},
   "outputs": [],
   "source": [
    "# code here\n",
    "\n",
    "def heron_triangle(a, b, c):\n",
    "    \n",
    "    s = (a + b + c) / 2\n",
    "    \n",
    "    return (s * (s - a) * (s - b) * (s - c)) ** 0.5"
   ]
  },
  {
   "cell_type": "markdown",
   "id": "78a2d38f",
   "metadata": {},
   "source": [
    "**Question 5.2 (*Create an empty chessboard*)**"
   ]
  },
  {
   "cell_type": "markdown",
   "id": "820a9a8d",
   "metadata": {},
   "source": [
    "A good visual effect usually makes a game more attractive to the players. In this task, you will be guided to create a function `initial_board(n)` that returns a string which displays a n-by-n chessboard when being printed. Let us start with exploring some useful **ASCII** characters for drawing a chessboard.\n",
    "\n",
    "Run the following code to visualise how each of the special characters look like.\n",
    "\n",
    "*Reference: https://en.wikipedia.org/wiki/Box-drawing_character*"
   ]
  },
  {
   "cell_type": "code",
   "execution_count": 7,
   "id": "93a013ba",
   "metadata": {},
   "outputs": [
    {
     "name": "stdout",
     "output_type": "stream",
     "text": [
      "┃ ━ ┏ ┳ ┓ ┣ ╋ ┫ ┗ ┻ ┛\n"
     ]
    }
   ],
   "source": [
    "top_left = \"\\u250f\"\n",
    "top_cross = \"\\u2533\"\n",
    "top_right = \"\\u2513\"\n",
    "\n",
    "left_cross = \"\\u2523\"\n",
    "cross = \"\\u254b\"\n",
    "right_cross = \"\\u252b\"\n",
    "\n",
    "bottom_left = \"\\u2517\"\n",
    "bottom_cross =\"\\u253b\"\n",
    "bottom_right =\"\\u251b\"\n",
    "\n",
    "vertical = \"\\u2503\"\n",
    "horizontal = \"\\u2501\"\n",
    "newline = \"\\n\"\n",
    "\n",
    "print(vertical, horizontal, \n",
    "      top_left, top_cross, top_right,\n",
    "      left_cross, cross, right_cross,\n",
    "      bottom_left, bottom_cross, bottom_right)"
   ]
  },
  {
   "cell_type": "markdown",
   "id": "388c3229",
   "metadata": {},
   "source": [
    "The following code assembles a string `chessboard_11`, which displays a 1-by-1 chessboard when being printed. The space \" \" may be replaced with some other characters in an ongoing game. "
   ]
  },
  {
   "cell_type": "code",
   "execution_count": 8,
   "id": "adaff908",
   "metadata": {},
   "outputs": [
    {
     "name": "stdout",
     "output_type": "stream",
     "text": [
      "┏━┓\n",
      "┃ ┃\n",
      "┗━┛\n",
      "\n"
     ]
    }
   ],
   "source": [
    "chessboard_11 = top_left    + horizontal + top_right    + newline + \\\n",
    "                vertical    + \" \"        + vertical     + newline + \\\n",
    "                bottom_left + horizontal + bottom_right + newline\n",
    "\n",
    "print(chessboard_11)"
   ]
  },
  {
   "cell_type": "markdown",
   "id": "e3b9ba81",
   "metadata": {},
   "source": [
    "The following code assembles a string `chessboard_22`, which displays a 2-by-2 chessboard when being printed."
   ]
  },
  {
   "cell_type": "code",
   "execution_count": null,
   "id": "3115a62b",
   "metadata": {},
   "outputs": [],
   "source": [
    "chessboard_22 = top_left    + horizontal + top_cross    + horizontal + top_right    + newline + \\\n",
    "                vertical    + \" \"        + vertical     + \" \"        + vertical     + newline + \\\n",
    "                left_cross  + horizontal + cross        + horizontal + right_cross  + newline + \\\n",
    "                vertical    + \" \"        + vertical     + \" \"        + vertical     + newline + \\\n",
    "                bottom_left + horizontal + bottom_cross + horizontal + bottom_right + newline\n",
    "\n",
    "print(chessboard_22)"
   ]
  },
  {
   "cell_type": "markdown",
   "id": "8e5bbfa0",
   "metadata": {},
   "source": [
    "**Part (i)**\n",
    "\n",
    "It can be quite challenging to create the function `initial_board(n)` directly, let us **decompose** the task into several parts. \n",
    "\n",
    "First, create a function `top_row(n)` which **returns** the string storing the top row of a n-by-n chessboard.\n",
    "\n",
    "Hint: **generalise** a pattern for a few values of n, then make use of the operations \"`*`\" and \"`+`\" to assemble this string. "
   ]
  },
  {
   "cell_type": "code",
   "execution_count": 16,
   "id": "fd8b94e2",
   "metadata": {},
   "outputs": [
    {
     "name": "stdout",
     "output_type": "stream",
     "text": [
      "┏━┓\n",
      "\n",
      "┏━┳━┳━┓\n",
      "\n"
     ]
    }
   ],
   "source": [
    "def top_row(n):\n",
    "    \n",
    "    s = top_left + horizontal + (top_cross + horizontal) * (n - 1) + top_right + newline\n",
    "    return s\n",
    "\n",
    "#some testing\n",
    "print(top_row(1))\n",
    "print(top_row(3))"
   ]
  },
  {
   "cell_type": "markdown",
   "id": "a27ee35b",
   "metadata": {},
   "source": [
    "**Part (ii)**\n",
    "\n",
    "Similarly, create a function `bottom_row(n)` which **returns** the string storing the bottom row."
   ]
  },
  {
   "cell_type": "code",
   "execution_count": 17,
   "id": "d7056db5",
   "metadata": {},
   "outputs": [
    {
     "name": "stdout",
     "output_type": "stream",
     "text": [
      "┗━┛\n",
      "\n",
      "┗━┻━┻━┛\n",
      "\n"
     ]
    }
   ],
   "source": [
    "def bottom_row(n):\n",
    "    \n",
    "    s = bottom_left + horizontal + (bottom_cross + horizontal) * (n - 1) + bottom_right + newline\n",
    "    return s\n",
    "\n",
    "#some testing\n",
    "print(bottom_row(1))\n",
    "print(bottom_row(3))"
   ]
  },
  {
   "cell_type": "markdown",
   "id": "5d48ab30",
   "metadata": {},
   "source": [
    "**Part (iii)**\n",
    "\n",
    "There are two different types of rows between the top and bottom rows. Next, we need to create two functions `mid_row_A(n)` and `mid_row_B(n)` which **return** the repective strings."
   ]
  },
  {
   "cell_type": "code",
   "execution_count": 18,
   "id": "e54adcfd",
   "metadata": {},
   "outputs": [
    {
     "name": "stdout",
     "output_type": "stream",
     "text": [
      "┃ ┃\n",
      "\n",
      "┃ ┃ ┃ ┃\n",
      "\n",
      "┣━╋━╋━┫\n",
      "\n"
     ]
    }
   ],
   "source": [
    "def mid_row_A(n): # for rows including \" \"\n",
    "    \n",
    "    s = vertical + \" \" + (vertical + \" \") * (n - 1) + vertical + newline\n",
    "    return s\n",
    "\n",
    "def mid_row_B(n): # for rows including crosses\n",
    "    \n",
    "    s = left_cross + horizontal + (cross + horizontal) * (n - 1) + right_cross + newline\n",
    "    return s\n",
    "\n",
    "#some testing\n",
    "print(mid_row_A(1))\n",
    "print(mid_row_A(3))\n",
    "print(mid_row_B(3))"
   ]
  },
  {
   "cell_type": "markdown",
   "id": "06e1bc51",
   "metadata": {},
   "source": [
    "**Part (iv)**\n",
    "\n",
    "Finally we are ready to assemble the return strings from those functions to create the string for the whole board in `initial_board(n)`."
   ]
  },
  {
   "cell_type": "code",
   "execution_count": 21,
   "id": "21ae9a67",
   "metadata": {},
   "outputs": [
    {
     "name": "stdout",
     "output_type": "stream",
     "text": [
      "┏━┳━┳━┳━┳━┳━┳━┳━┳━┳━┓\n",
      "┃ ┃ ┃ ┃ ┃ ┃ ┃ ┃ ┃ ┃ ┃\n",
      "┣━╋━╋━╋━╋━╋━╋━╋━╋━╋━┫\n",
      "┃ ┃ ┃ ┃ ┃ ┃ ┃ ┃ ┃ ┃ ┃\n",
      "┣━╋━╋━╋━╋━╋━╋━╋━╋━╋━┫\n",
      "┃ ┃ ┃ ┃ ┃ ┃ ┃ ┃ ┃ ┃ ┃\n",
      "┣━╋━╋━╋━╋━╋━╋━╋━╋━╋━┫\n",
      "┃ ┃ ┃ ┃ ┃ ┃ ┃ ┃ ┃ ┃ ┃\n",
      "┣━╋━╋━╋━╋━╋━╋━╋━╋━╋━┫\n",
      "┃ ┃ ┃ ┃ ┃ ┃ ┃ ┃ ┃ ┃ ┃\n",
      "┣━╋━╋━╋━╋━╋━╋━╋━╋━╋━┫\n",
      "┃ ┃ ┃ ┃ ┃ ┃ ┃ ┃ ┃ ┃ ┃\n",
      "┣━╋━╋━╋━╋━╋━╋━╋━╋━╋━┫\n",
      "┃ ┃ ┃ ┃ ┃ ┃ ┃ ┃ ┃ ┃ ┃\n",
      "┣━╋━╋━╋━╋━╋━╋━╋━╋━╋━┫\n",
      "┃ ┃ ┃ ┃ ┃ ┃ ┃ ┃ ┃ ┃ ┃\n",
      "┣━╋━╋━╋━╋━╋━╋━╋━╋━╋━┫\n",
      "┃ ┃ ┃ ┃ ┃ ┃ ┃ ┃ ┃ ┃ ┃\n",
      "┣━╋━╋━╋━╋━╋━╋━╋━╋━╋━┫\n",
      "┃ ┃ ┃ ┃ ┃ ┃ ┃ ┃ ┃ ┃ ┃\n",
      "┗━┻━┻━┻━┻━┻━┻━┻━┻━┻━┛\n",
      "\n",
      "┏━┓\n",
      "┃ ┃\n",
      "┗━┛\n",
      "\n"
     ]
    }
   ],
   "source": [
    "def initial_board(n):\n",
    "    \n",
    "    s = top_row(n) + mid_row_A(n) + (mid_row_B(n) + mid_row_A(n)) * (n - 1) + bottom_row(n) \n",
    "    return s\n",
    "\n",
    "#some testing\n",
    "print(initial_board(10))\n",
    "print(initial_board(1))"
   ]
  }
 ],
 "metadata": {
  "kernelspec": {
   "display_name": "Python 3 (ipykernel)",
   "language": "python",
   "name": "python3"
  },
  "language_info": {
   "codemirror_mode": {
    "name": "ipython",
    "version": 3
   },
   "file_extension": ".py",
   "mimetype": "text/x-python",
   "name": "python",
   "nbconvert_exporter": "python",
   "pygments_lexer": "ipython3",
   "version": "3.10.2"
  }
 },
 "nbformat": 4,
 "nbformat_minor": 5
}
