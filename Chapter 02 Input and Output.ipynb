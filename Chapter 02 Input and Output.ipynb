{
 "cells": [
  {
   "cell_type": "markdown",
   "metadata": {},
   "source": [
    "# Input from Keyboard"
   ]
  },
  {
   "cell_type": "markdown",
   "metadata": {},
   "source": [
    "The built-in function `input()` function allows user input."
   ]
  },
  {
   "cell_type": "markdown",
   "metadata": {},
   "source": [
    "***Syntax***\n",
    "\n",
    "> `input(prompt)`\n",
    "\n",
    "**Paremeters**   | **Required/Optional** | **Description** \n",
    ":-               | :-                    | :-\n",
    "`prompt`         | Optional, default = \"\"| A String, representing a default message before the input.\n",
    "\n",
    "**Return value**: `str`, the string which captures user's input before Enter."
   ]
  },
  {
   "cell_type": "markdown",
   "metadata": {},
   "source": [
    "Run the code cell below."
   ]
  },
  {
   "cell_type": "code",
   "execution_count": null,
   "metadata": {},
   "outputs": [],
   "source": [
    "user_input = input()\n",
    "print(\"You just typed\", user_input)"
   ]
  },
  {
   "cell_type": "markdown",
   "metadata": {},
   "source": [
    "**Example 2.1**\n",
    "\n",
    "Copy-paste the code to the cell below and run it.\n",
    "\n",
    "```python\n",
    "birth_year = input(\"Which year were you born in? \")\n",
    "print(\"You were born in\", birth_year)\n",
    "\n",
    "favourite_song = input(\"What is the name of your favourite song?\")\n",
    "print(\"Your favourite song is\", favourite_song)\n",
    "```"
   ]
  },
  {
   "cell_type": "code",
   "execution_count": null,
   "metadata": {},
   "outputs": [],
   "source": [
    "# test the code here"
   ]
  },
  {
   "cell_type": "markdown",
   "metadata": {},
   "source": [
    "## Data Type Casting"
   ]
  },
  {
   "cell_type": "markdown",
   "metadata": {},
   "source": [
    "Read the code below. Guess what it does and test your guess by running it."
   ]
  },
  {
   "cell_type": "code",
   "execution_count": null,
   "metadata": {},
   "outputs": [],
   "source": [
    "number1 = input(\"Input the first number: \")\n",
    "number2 = input(\"Input the second number: \")\n",
    "\n",
    "their_sum = number1 + number2\n",
    "print(\"The sum of the two numbers is\", their_sum)"
   ]
  },
  {
   "cell_type": "markdown",
   "metadata": {},
   "source": [
    "To investigate the issue, run the code cell below."
   ]
  },
  {
   "cell_type": "code",
   "execution_count": null,
   "metadata": {},
   "outputs": [],
   "source": [
    "type(number1)"
   ]
  },
  {
   "cell_type": "markdown",
   "metadata": {},
   "source": [
    "To resolve the issue, we need to firstly **cast** the string received to an integer by using `int()`. Run the modified code in the cell below."
   ]
  },
  {
   "cell_type": "code",
   "execution_count": null,
   "metadata": {},
   "outputs": [],
   "source": [
    "number1 = input(\"Input the first number: \")\n",
    "number2 = int(input(\"Input the second number: \"))\n",
    "\n",
    "number1 = int(number1)\n",
    "\n",
    "their_sum = number1 + number2\n",
    "print(\"The sum of the two numbers is\", their_sum)"
   ]
  },
  {
   "cell_type": "markdown",
   "metadata": {},
   "source": [
    "**Example 2.2**\n",
    "\n",
    "Prompt the user to key in the `length` and `breadth` of a rectangle, then find its `perimeter` and `area`. You may work on the following code:\n",
    "\n",
    "```python\n",
    "# prompt the user to input\n",
    "\n",
    "# calculations\n",
    "\n",
    "print(\"Perimeter of rectangle:\", perimeter)\n",
    "print(\"Area of rectangle:\", area)\n",
    "```"
   ]
  },
  {
   "cell_type": "code",
   "execution_count": null,
   "metadata": {},
   "outputs": [],
   "source": [
    "# Code here"
   ]
  },
  {
   "cell_type": "markdown",
   "metadata": {},
   "source": [
    "In **Example 2.2**, what will happen if the user key in something not integer (e.g. a123)?"
   ]
  },
  {
   "cell_type": "markdown",
   "metadata": {},
   "source": [
    "## Handling Exceptions"
   ]
  },
  {
   "cell_type": "markdown",
   "metadata": {},
   "source": [
    "*Error handling* refers to the anticipation, detection, and resolution of programming.\n",
    "\n",
    "In Python, *syntax errors* are perhaps the most common kind of complaint you get. But even if a statement or expression is syntactically correct, it may cause an error when an attempt is made to execute it. Errors detected during execution are called *exceptions*. Most exceptions are not handled by programs, thus we need to learn how to deal with these *exceptions*."
   ]
  },
  {
   "cell_type": "markdown",
   "metadata": {},
   "source": [
    "A simple way to handle such *exceptions* is to use `try` and `except` statements as shown in example below. "
   ]
  },
  {
   "cell_type": "code",
   "execution_count": null,
   "metadata": {},
   "outputs": [],
   "source": [
    "# Find the cube of an integer\n",
    "\n",
    "try:\n",
    "    x = int(input(\"Key in an integer x: \"))\n",
    "\n",
    "except:\n",
    "    print(\"The input is not an integer! Try again.\")\n",
    "    x = int(input(\"Key in an integer x: \"))\n",
    "\n",
    "print(\"The value of\", x, \"cube is\", x ** 3)"
   ]
  },
  {
   "cell_type": "markdown",
   "metadata": {},
   "source": [
    "The `try`-`except` statement works as follows.\n",
    "\n",
    "1. The `try` clause (the statement(s) between the try and except keywords) is executed.\n",
    "2. If no exception occurs, the except clause is skipped and execution of the try statement is finished.\n",
    "3. If an exception occurs during execution of the `try` clause, the **rest of the clause** is skipped. Then the `except` clause is executed.\n",
    "4. If an exception occurs which does not match the exception named in the `except` clause, it is passed on to outer `try` statements; if no handler is found, it is an unhandled exception and execution stops with a message as shown above."
   ]
  },
  {
   "cell_type": "markdown",
   "metadata": {},
   "source": [
    "What is a disadvantage of method above? To resolve this issue, we can use a `while` loop to allow multiple mistakes from the user. Do not worry too much about code yet, we will come back to this again when we formally learn while loop. Meanwhile, just run and test the code below."
   ]
  },
  {
   "cell_type": "code",
   "execution_count": null,
   "metadata": {},
   "outputs": [],
   "source": [
    "# Find the cube of an integer, improved version\n",
    "\n",
    "while True:\n",
    "\n",
    "    try:\n",
    "        x = int(input(\"Key in an integer x: \"))\n",
    "        break\n",
    "    \n",
    "    except:\n",
    "        print(\"The input is not an integer! Try again.\")\n",
    "        \n",
    "print(\"The value of\", x, \"cube is\", x ** 3)"
   ]
  },
  {
   "cell_type": "markdown",
   "metadata": {},
   "source": [
    "To learn more about error handling in python, you may refer to Errors and Exceptions[https://docs.python.org/3/tutorial/errors.html].\n",
    "\n",
    "For the purpose of this module, you need not handle exceptions unless specified in the question."
   ]
  },
  {
   "cell_type": "markdown",
   "metadata": {},
   "source": [
    "# Indentation"
   ]
  },
  {
   "cell_type": "markdown",
   "metadata": {},
   "source": [
    "Python indentation is the **only way** of telling a Python interpreter that the group of statements belongs to a particular block of code. A block is a combination of all these statements. Block can be regarded as the grouping of statements for a specific purpose. Python uses indentation to highlight the blocks of code. Whitespace is used for indentation in Python. All statements with the same distance to the right belong to the same block of code. If a block has to be more deeply nested, it is simply indented further to the right.\n",
    "\n",
    "Common indentation options are 4 spaces and 1 tab. We will see more examples in the later chapters."
   ]
  },
  {
   "cell_type": "markdown",
   "metadata": {},
   "source": [
    "# Output"
   ]
  },
  {
   "cell_type": "markdown",
   "metadata": {},
   "source": [
    "The `print()` function prints the given object to the standard output device (screen) or to the text stream file."
   ]
  },
  {
   "cell_type": "markdown",
   "metadata": {},
   "source": [
    "***Syntax***\n",
    "\n",
    ">`print(*objects, sep=' ', end='\\n')`\n",
    "\n",
    "**Paremeters**     | **Required/Optional**   | **Description** \n",
    ":-                 | :-                      | :-\n",
    "`*objects`         | Optional, default = \"\"  |  Object to the printed. * indicates that there may be more than one object.\n",
    "`sep`              | Optional, default = \" \" |  Objects are separated by `sep`.\n",
    "`end`              | Optional, default = \"\\n\"|  `end` is printed at last.\n",
    "\n",
    "There are two more parameters, `file` and `flush`, which are not used in this module."
   ]
  },
  {
   "cell_type": "markdown",
   "metadata": {},
   "source": [
    "Run the code cell below to observe the output."
   ]
  },
  {
   "cell_type": "code",
   "execution_count": null,
   "metadata": {},
   "outputs": [],
   "source": [
    "# Run this cell.\n",
    "\n",
    "subject = \"Python\"\n",
    "verb = \"is\"\n",
    "adjective = \"cool\"\n",
    "punctuation = \"!\"\n",
    "\n",
    "print(subject, verb, adjective, punctuation)\n",
    "print(subject, verb, adjective, punctuation, sep = \"\")\n",
    "\n",
    "print(subject, verb, adjective, punctuation, end = \"\\t\")\n",
    "print(subject, verb, adjective, punctuation, sep = \",\")"
   ]
  },
  {
   "cell_type": "markdown",
   "metadata": {},
   "source": [
    "**Example 2.3**\n",
    "\n",
    "Then use the `print()` function and the variables `subject`, `verb`, `adjective` and `puntuation` to output\n",
    "\n",
    "`Python is cool!`"
   ]
  },
  {
   "cell_type": "code",
   "execution_count": null,
   "metadata": {},
   "outputs": [],
   "source": [
    "subject = \"Python\"\n",
    "verb = \"is\"\n",
    "adjective = \"cool\"\n",
    "punctuation = \"!\"\n",
    "\n",
    "# Code here"
   ]
  },
  {
   "cell_type": "markdown",
   "metadata": {},
   "source": [
    "## Improve Output Formatting"
   ]
  },
  {
   "cell_type": "markdown",
   "metadata": {},
   "source": [
    "There are two main ways to improve the output format. The \"old-school\" way is to use `string.format()`. You may refer to https://www.w3schools.com/python/ref_string_format.asp for more details.\n",
    "\n",
    "\n",
    "We will focus on the more \"trendy\" way, **f-string**, in this course."
   ]
  },
  {
   "cell_type": "markdown",
   "metadata": {},
   "source": [
    "Run the code cell below."
   ]
  },
  {
   "cell_type": "code",
   "execution_count": null,
   "metadata": {},
   "outputs": [],
   "source": [
    "name = \"Mr Wang\"\n",
    "age = 40\n",
    "school = \"National Junior College\""
   ]
  },
  {
   "cell_type": "markdown",
   "metadata": {},
   "source": [
    "For example, I want to make use the variables `name`, `age` and `school` to print out\n",
    "\n",
    "`Hello. I am Mr Wang. I am 40 years old. I am teaching in National Junior College.`\n",
    "\n",
    "The code cell below is the traditional method. (Run it)"
   ]
  },
  {
   "cell_type": "code",
   "execution_count": null,
   "metadata": {},
   "outputs": [],
   "source": [
    "print(\"Hello. I am \", name, \". I am \", age, \" years old. I am teaching in \", school, \".\", sep = \"\")"
   ]
  },
  {
   "cell_type": "markdown",
   "metadata": {},
   "source": [
    "**f-string** allows user to do the following to see the same output. Run the code cell below."
   ]
  },
  {
   "cell_type": "code",
   "execution_count": null,
   "metadata": {},
   "outputs": [],
   "source": [
    "print(f\"Hello. I am {name}. I am {age} years old. I am teaching in {school}.\")"
   ]
  },
  {
   "cell_type": "markdown",
   "metadata": {},
   "source": [
    "**Example 2.4**\n",
    "\n",
    "Prompt the user to input his/her name, class and number of students in the class. Then print information in the following format:\n",
    "\n",
    "*Sample input:*\n",
    "\n",
    "```\n",
    "Name: Alice\n",
    "Class: JH308\n",
    "Number of students in class: 30\n",
    "```\n",
    "\n",
    "*Sample output:*\n",
    "```\n",
    "Alice is from JH308. Alice has 29 classmates.\n",
    "```"
   ]
  },
  {
   "cell_type": "code",
   "execution_count": null,
   "metadata": {},
   "outputs": [],
   "source": [
    "# code here"
   ]
  },
  {
   "cell_type": "markdown",
   "metadata": {},
   "source": [
    "We will learn how to use **f-string** to improve the output formatting of a `float` variable in a later lesson."
   ]
  },
  {
   "cell_type": "markdown",
   "metadata": {},
   "source": [
    "<p><img alt=\"Python Cartoon\" src=\"https://drive.google.com/uc?id=17qx7WNiRa-JOtgCgHWPtDZ7RkmwaaUDu\" width = \"100\" align=\"left\" vspace=\"0px\"></p>\n",
    "\n",
    "# *Go to Assignment 02*"
   ]
  },
  {
   "cell_type": "markdown",
   "metadata": {},
   "source": [
    "# Solutions to Examples"
   ]
  },
  {
   "cell_type": "markdown",
   "metadata": {},
   "source": [
    "**Example 2.1**"
   ]
  },
  {
   "cell_type": "code",
   "execution_count": null,
   "metadata": {},
   "outputs": [],
   "source": [
    "birth_year = input(\"Which year were you born in? \")\n",
    "print(\"You were born in\", birth_year)\n",
    "\n",
    "favourite_song = input(\"What is the name of your favourite song? \")\n",
    "print(\"Your favourite song is\", favourite_song)"
   ]
  },
  {
   "cell_type": "markdown",
   "metadata": {},
   "source": [
    "**Example 2.2**"
   ]
  },
  {
   "cell_type": "code",
   "execution_count": null,
   "metadata": {},
   "outputs": [],
   "source": [
    "length = int(input(\"Input the length: \"))\n",
    "breadth = int(input(\"Input the breadth: \"))\n",
    "\n",
    "perimeter = (length + breadth) * 2\n",
    "area = length * breadth\n",
    "\n",
    "print(\"Perimeter of rectangle:\", perimeter)\n",
    "print(\"Area of rectange:\", rectangle_area)"
   ]
  },
  {
   "cell_type": "markdown",
   "metadata": {},
   "source": [
    "**Example 2.3**"
   ]
  },
  {
   "cell_type": "code",
   "execution_count": null,
   "metadata": {},
   "outputs": [],
   "source": [
    "subject = \"Python\"\n",
    "verb = \"is\"\n",
    "adjective = \"cool\"\n",
    "punctuation = \"!\"\n",
    "\n",
    "print(subject, verb, adjective, end =\"\")\n",
    "print(punctuation)\n",
    "\n",
    "#alternatively,\n",
    "print(subject, verb, end = \" \")\n",
    "print(adjective, punctuation, sep = \"\")"
   ]
  },
  {
   "cell_type": "markdown",
   "metadata": {},
   "source": [
    "**Example 2.4**"
   ]
  },
  {
   "cell_type": "code",
   "execution_count": null,
   "metadata": {},
   "outputs": [],
   "source": [
    "user_name = input(\"Name: \")\n",
    "form_class = input(\"Class: \")\n",
    "no_students = int(input(\"Number of students in class: \"))\n",
    "\n",
    "no_classmates = no_students - 1\n",
    "\n",
    "print(f\"{user_name} is from {form_class}. {user_name} has {no_classmates} classmates.\")"
   ]
  },
  {
   "cell_type": "code",
   "execution_count": null,
   "metadata": {},
   "outputs": [],
   "source": []
  }
 ],
 "metadata": {
  "kernelspec": {
   "display_name": "Python 3",
   "language": "python",
   "name": "python3"
  },
  "language_info": {
   "codemirror_mode": {
    "name": "ipython",
    "version": 3
   },
   "file_extension": ".py",
   "mimetype": "text/x-python",
   "name": "python",
   "nbconvert_exporter": "python",
   "pygments_lexer": "ipython3",
   "version": "3.6.4"
  }
 },
 "nbformat": 4,
 "nbformat_minor": 5
}
